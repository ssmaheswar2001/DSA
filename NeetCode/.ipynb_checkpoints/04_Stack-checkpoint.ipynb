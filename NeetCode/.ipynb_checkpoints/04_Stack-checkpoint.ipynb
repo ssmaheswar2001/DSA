{
 "cells": [
  {
   "cell_type": "markdown",
   "id": "c9af0bf3-4e9d-43a4-bf69-a973ee7aa919",
   "metadata": {},
   "source": [
    "# Baseball Game"
   ]
  },
  {
   "cell_type": "code",
   "execution_count": 11,
   "id": "2420b6e6-416c-4b4b-93cf-92f56f956046",
   "metadata": {},
   "outputs": [
    {
     "data": {
      "text/plain": [
       "27"
      ]
     },
     "execution_count": 11,
     "metadata": {},
     "output_type": "execute_result"
    }
   ],
   "source": [
    "def calPoints(operations):\n",
    "        \n",
    "    stack = []\n",
    "\n",
    "    for op in operations:\n",
    "        if op[0] == '-' or op.isnumeric():\n",
    "            stack.append(int(op))\n",
    "        elif op == 'C':\n",
    "            stack.pop()\n",
    "        elif op == 'D':\n",
    "            stack.append(2*stack[-1])\n",
    "        else:\n",
    "            stack.append(stack[-2] + stack[-1])\n",
    "    return sum(stack)\n",
    "\n",
    "ops = [\"5\",\"-2\",\"4\",\"C\",\"D\",\"9\",\"+\",\"+\"]\n",
    "calPoints(ops)"
   ]
  },
  {
   "cell_type": "code",
   "execution_count": null,
   "id": "2797427d-c7e7-49db-886b-5184945cecce",
   "metadata": {},
   "outputs": [],
   "source": []
  },
  {
   "cell_type": "markdown",
   "id": "beab94f3-5944-4ea6-ba81-bbaf1562c06c",
   "metadata": {},
   "source": [
    "# Valid Parentheses"
   ]
  },
  {
   "cell_type": "code",
   "execution_count": 2,
   "id": "57ab6597-9b00-4966-8e34-57b9c7c16142",
   "metadata": {},
   "outputs": [
    {
     "data": {
      "text/plain": [
       "True"
      ]
     },
     "execution_count": 2,
     "metadata": {},
     "output_type": "execute_result"
    }
   ],
   "source": [
    "def isValid(s):\n",
    "    stack = []\n",
    "    for op in s:\n",
    "        if op == '(' or op == '[' or op == '{':\n",
    "            stack.append(op)\n",
    "        else:\n",
    "            if len(stack) == 0:\n",
    "                return False\n",
    "            open = stack.pop()\n",
    "            if (open == '(' and op == ')') or  (open == '[' and op == ']') or (open == '{' and op == '}'):\n",
    "                continue\n",
    "            else:\n",
    "                return False\n",
    "    return len(stack) == 0 \n",
    "\n",
    "s = '[()[()]{()}()]'\n",
    "isValid(s)"
   ]
  },
  {
   "cell_type": "code",
   "execution_count": null,
   "id": "4957f8d4-546c-41ff-b396-c6c063c57459",
   "metadata": {},
   "outputs": [],
   "source": []
  },
  {
   "cell_type": "code",
   "execution_count": null,
   "id": "4c02d753-2da9-485e-a3db-dc156d2f8177",
   "metadata": {},
   "outputs": [],
   "source": []
  },
  {
   "cell_type": "code",
   "execution_count": null,
   "id": "10531ebb-af71-4fc4-b60b-329663620246",
   "metadata": {},
   "outputs": [],
   "source": []
  },
  {
   "cell_type": "code",
   "execution_count": null,
   "id": "2be3f09a-be8a-4868-b6cf-d21b634a5c13",
   "metadata": {},
   "outputs": [],
   "source": []
  },
  {
   "cell_type": "markdown",
   "id": "cb5544f3-b4b2-449a-9125-28388e994f0b",
   "metadata": {},
   "source": [
    "# Evaluate Reverse Polish Notation"
   ]
  },
  {
   "cell_type": "code",
   "execution_count": 6,
   "id": "d6000b69-7977-48a7-a66f-5e418ee62493",
   "metadata": {},
   "outputs": [
    {
     "data": {
      "text/plain": [
       "22"
      ]
     },
     "execution_count": 6,
     "metadata": {},
     "output_type": "execute_result"
    }
   ],
   "source": [
    "def evalRPN(tokens):\n",
    "    stack = []\n",
    "\n",
    "    for op in tokens:\n",
    "        if op == '+':\n",
    "            op1 = stack.pop()\n",
    "            op2 = stack.pop()\n",
    "            stack.append(op1+op2)\n",
    "        elif op == '-':\n",
    "            op1 = stack.pop()\n",
    "            op2 = stack.pop()\n",
    "            stack.append(op2-op1)\n",
    "        elif op == '*':\n",
    "            op1 = stack.pop()\n",
    "            op2 = stack.pop()\n",
    "            stack.append(op1*op2)\n",
    "        elif op == '/':\n",
    "            op1 = stack.pop()\n",
    "            op2 = stack.pop()\n",
    "            stack.append(int(op2/op1))\n",
    "        else:\n",
    "            stack.append(int(op))\n",
    "    return stack[0]\n",
    "\n",
    "tokens = [\"10\",\"6\",\"9\",\"3\",\"+\",\"-11\",\"*\",\"/\",\"*\",\"17\",\"+\",\"5\",\"+\"]\n",
    "evalRPN(tokens)"
   ]
  },
  {
   "cell_type": "code",
   "execution_count": null,
   "id": "13480ce4-ea02-4385-b382-ff42bb5b9e75",
   "metadata": {},
   "outputs": [],
   "source": []
  },
  {
   "cell_type": "markdown",
   "id": "a618a441-0521-41d7-b2bc-39567e2dfe0f",
   "metadata": {},
   "source": [
    "# Generate Parentheses"
   ]
  },
  {
   "cell_type": "code",
   "execution_count": 1,
   "id": "e3712a67-6d32-49b0-aa81-e4f06f2153cf",
   "metadata": {},
   "outputs": [
    {
     "data": {
      "text/plain": [
       "['()()()', '()(())', '(())()', '(()())', '((()))']"
      ]
     },
     "execution_count": 1,
     "metadata": {},
     "output_type": "execute_result"
    }
   ],
   "source": [
    "def generateParenthesis(n):\n",
    "    stack = []\n",
    "    stack.append(('', 0, 0))\n",
    "    res = []\n",
    "    while len(stack) > 0:\n",
    "        pair, open, close = stack.pop()\n",
    "        if close == n:\n",
    "            res.append(pair)\n",
    "\n",
    "        if open < n:\n",
    "            stack.append((pair+'(', open+1, close))\n",
    "        if close < open:\n",
    "            stack.append((pair+')', open, close+1))\n",
    "    return res\n",
    "\n",
    "n = 3\n",
    "generateParenthesis(n)"
   ]
  },
  {
   "cell_type": "code",
   "execution_count": null,
   "id": "52180d55-db2d-4c6c-9ef2-cbc8dd1b9d33",
   "metadata": {},
   "outputs": [],
   "source": []
  },
  {
   "cell_type": "markdown",
   "id": "eb3d0e6b-b1e5-40fe-8ee3-1e58c9c20447",
   "metadata": {},
   "source": [
    "# Asteroid Collision"
   ]
  },
  {
   "cell_type": "code",
   "execution_count": 2,
   "id": "7d8f63a5-5b0f-4e02-89e2-d00b3988f67b",
   "metadata": {},
   "outputs": [
    {
     "data": {
      "text/plain": [
       "[-2, 10]"
      ]
     },
     "execution_count": 2,
     "metadata": {},
     "output_type": "execute_result"
    }
   ],
   "source": [
    "def asteroidCollision(asteroids):\n",
    "    n = len(asteroids)\n",
    "    stack = []\n",
    "    for i in range(n):\n",
    "        if asteroids[i] > 0:\n",
    "            stack.append(asteroids[i])\n",
    "        else:\n",
    "            while len(stack) > 0 and stack[-1] > 0 and stack[-1] < -1*asteroids[i]:\n",
    "                    stack.pop()\n",
    "            if len(stack) > 0 and stack[-1] > 0 and stack[-1] == -1*asteroids[i]:\n",
    "                stack.pop()\n",
    "            elif len(stack) == 0 or (len(stack) > 0 and stack[-1] < 0):\n",
    "                stack.append(asteroids[i])\n",
    "    return stack\n",
    "\n",
    "asteroids = [-2, 10, 2, -5, -5, 5, -5, 2, -5]\n",
    "asteroidCollision(asteroids)"
   ]
  },
  {
   "cell_type": "code",
   "execution_count": null,
   "id": "5055478e-2520-44e6-901b-4aa774e2be00",
   "metadata": {},
   "outputs": [],
   "source": []
  },
  {
   "cell_type": "markdown",
   "id": "d2fbb8d4-cb56-4d93-bc74-be1d4c5bfd88",
   "metadata": {},
   "source": [
    "# Daily Temperatures"
   ]
  },
  {
   "cell_type": "code",
   "execution_count": 8,
   "id": "6087e4c5-8abf-497d-bb27-cd9455f0a81e",
   "metadata": {},
   "outputs": [
    {
     "data": {
      "text/plain": [
       "[1, 1, 4, 2, 1, 1, 0, 0]"
      ]
     },
     "execution_count": 8,
     "metadata": {},
     "output_type": "execute_result"
    }
   ],
   "source": [
    "def dailyTemperatures(temperatures):\n",
    "    n = len(temperatures)\n",
    "    nge = [0 for i in range(n)]\n",
    "    stack = []\n",
    "    i = n-1\n",
    "    while i >= 0:\n",
    "        while len(stack) > 0 and temperatures[stack[-1]] <= temperatures[i]:\n",
    "            stack.pop()\n",
    "        if len(stack) > 0:\n",
    "            nge[i] = stack[-1]-i\n",
    "        stack.append(i)\n",
    "        i -= 1\n",
    "    return nge\n",
    "\n",
    "temperatures = [73,74,75,71,69,72,76,73]\n",
    "dailyTemperatures(temperatures)"
   ]
  },
  {
   "cell_type": "code",
   "execution_count": null,
   "id": "3cefb696-0165-4fe4-8e7d-1e9ad0604df1",
   "metadata": {},
   "outputs": [],
   "source": []
  },
  {
   "cell_type": "markdown",
   "id": "f5e3f4b0-5abb-494a-9131-4047dcf75f1b",
   "metadata": {},
   "source": [
    "# Car Fleet"
   ]
  },
  {
   "cell_type": "code",
   "execution_count": 2,
   "id": "b2ec2c9b-3455-4a61-8853-cce9829837b6",
   "metadata": {},
   "outputs": [
    {
     "name": "stdout",
     "output_type": "stream",
     "text": [
      "[12.0, 3.0, 7.0, 6.0, 1.0, 1.0]\n"
     ]
    },
    {
     "data": {
      "text/plain": [
       "4"
      ]
     },
     "execution_count": 2,
     "metadata": {},
     "output_type": "execute_result"
    }
   ],
   "source": [
    " def carFleet(target, position, speed):\n",
    "    n = len(position)\n",
    "    sorted_index = sorted(range(len(position)), key = lambda i : position[i])\n",
    "    times = [(target-position[i])/speed[i] for i in sorted_index]\n",
    "    print(times)\n",
    "    count = 1\n",
    "\n",
    "    while len(times) > 1:\n",
    "        lead = times.pop()\n",
    "        if times[-1] > lead:\n",
    "            count += 1\n",
    "        else:\n",
    "            times[-1] = lead\n",
    "    return count\n",
    "target = 12\n",
    "position = [10,8,0,5,3,6]\n",
    "speed = [2,4,1,1,3, 1]\n",
    "carFleet(target, position, speed)"
   ]
  },
  {
   "cell_type": "code",
   "execution_count": null,
   "id": "c3c13e84-e74c-4bdf-89c2-f7732e61c4bd",
   "metadata": {},
   "outputs": [],
   "source": []
  },
  {
   "cell_type": "code",
   "execution_count": null,
   "id": "10ccb0c4-61f5-473e-a3bd-49087f751c8a",
   "metadata": {},
   "outputs": [],
   "source": []
  },
  {
   "cell_type": "code",
   "execution_count": null,
   "id": "0666150b-3e6f-4c9a-b9e1-6f4d843d65ff",
   "metadata": {},
   "outputs": [],
   "source": []
  },
  {
   "cell_type": "code",
   "execution_count": null,
   "id": "ee7be587-3503-47e8-9038-864aaa957b1e",
   "metadata": {},
   "outputs": [],
   "source": []
  },
  {
   "cell_type": "code",
   "execution_count": null,
   "id": "7aff39d0-cdd2-4863-a18b-27168310f1db",
   "metadata": {},
   "outputs": [],
   "source": []
  },
  {
   "cell_type": "code",
   "execution_count": null,
   "id": "6ac9a1c0-4e81-4841-9ea5-4dd45dad8df9",
   "metadata": {},
   "outputs": [],
   "source": []
  },
  {
   "cell_type": "code",
   "execution_count": null,
   "id": "fee576c1-02f7-4be3-9206-1edb14fec924",
   "metadata": {},
   "outputs": [],
   "source": []
  },
  {
   "cell_type": "code",
   "execution_count": null,
   "id": "1386caca-7894-47a9-b9ab-da412b9a5dd6",
   "metadata": {},
   "outputs": [],
   "source": []
  },
  {
   "cell_type": "code",
   "execution_count": null,
   "id": "d21c261a-715b-4ab7-8f45-0a80a19891b6",
   "metadata": {},
   "outputs": [],
   "source": []
  },
  {
   "cell_type": "code",
   "execution_count": null,
   "id": "cbd95d74-97e5-40e7-8314-27c970438645",
   "metadata": {},
   "outputs": [],
   "source": []
  },
  {
   "cell_type": "code",
   "execution_count": null,
   "id": "3139fc59-10a6-46f7-a840-89ecad1300ca",
   "metadata": {},
   "outputs": [],
   "source": []
  },
  {
   "cell_type": "markdown",
   "id": "40e6af90-7f56-446b-b0ad-a6c4e7b50b94",
   "metadata": {},
   "source": [
    "# Largest Rectangle In Histogram"
   ]
  },
  {
   "cell_type": "code",
   "execution_count": 3,
   "id": "907fbee6-124f-4884-b19a-ad85016b1a49",
   "metadata": {},
   "outputs": [
    {
     "data": {
      "text/plain": [
       "10"
      ]
     },
     "execution_count": 3,
     "metadata": {},
     "output_type": "execute_result"
    }
   ],
   "source": [
    "def largestRectangleArea(heights):\n",
    "    n = len(heights)\n",
    "    pse = [-1 for i in range(n)]\n",
    "    nse = [n for i in range(n)]\n",
    "\n",
    "    p_stack = []\n",
    "    n_stack = []\n",
    "    for i in range(n):\n",
    "        while len(p_stack) > 0 and heights[p_stack[-1]] >= heights[i]:\n",
    "            p_stack.pop()\n",
    "        if len(p_stack) > 0:\n",
    "            pse[i] = p_stack[-1]\n",
    "        p_stack.append(i)\n",
    "\n",
    "        j = n-i-1\n",
    "        while len(n_stack) > 0 and heights[n_stack[-1]] >= heights[j]:\n",
    "            n_stack.pop()\n",
    "        if len(n_stack) > 0:\n",
    "            nse[j] = n_stack[-1]\n",
    "        n_stack.append(j)\n",
    "    \n",
    "    largestRec = 0\n",
    "\n",
    "    for i in range(n):\n",
    "        area = heights[i] * (nse[i]-pse[i]-1)\n",
    "        largestRec = max(largestRec, area)\n",
    "\n",
    "    return largestRec\n",
    "\n",
    "heights = [2,1,5,6,2,3]\n",
    "largestRectangleArea(heights)"
   ]
  },
  {
   "cell_type": "code",
   "execution_count": null,
   "id": "68437a2e-ed9d-4a50-a682-b9d04acd4a22",
   "metadata": {},
   "outputs": [],
   "source": []
  },
  {
   "cell_type": "markdown",
   "id": "a1936481-7811-4f67-9f3e-983627e2aaf1",
   "metadata": {},
   "source": [
    "# Simplify Path"
   ]
  },
  {
   "cell_type": "code",
   "execution_count": 12,
   "id": "3e015517-d055-4660-beeb-5d57a7e332cd",
   "metadata": {},
   "outputs": [
    {
     "data": {
      "text/plain": [
       "'/.../b/d'"
      ]
     },
     "execution_count": 12,
     "metadata": {},
     "output_type": "execute_result"
    }
   ],
   "source": [
    "def simplifyPath(path):\n",
    "        \n",
    "    dirs = path.split('/')\n",
    "    n = len(dirs)\n",
    "    stack = []\n",
    "    \n",
    "    for i in range(n):\n",
    "        if dirs[i] == '' or dirs[i] == '.':\n",
    "            continue\n",
    "        if dirs[i] == '..':\n",
    "            if len(stack) > 0:\n",
    "                stack.pop()\n",
    "        else:\n",
    "            stack.append(dirs[i])\n",
    "\n",
    "    if len(stack) == 0:\n",
    "        return '/'\n",
    "\n",
    "    abs_path = ''\n",
    "    for d in stack:\n",
    "        abs_path += '/' + d\n",
    "    return abs_path\n",
    "\n",
    "path = \"/.../a/../b/c/../d/./\"\n",
    "simplifyPath(path)"
   ]
  },
  {
   "cell_type": "code",
   "execution_count": null,
   "id": "8ad468a8-30f2-42d2-8ca6-2df8ca88cdb9",
   "metadata": {},
   "outputs": [],
   "source": []
  },
  {
   "cell_type": "markdown",
   "id": "9bfc2494-d3f9-440d-967a-387a1f999f7b",
   "metadata": {},
   "source": [
    "# Decode String "
   ]
  },
  {
   "cell_type": "code",
   "execution_count": 8,
   "id": "4c4c8f34-20a2-4351-9552-7a405a034cdb",
   "metadata": {},
   "outputs": [
    {
     "data": {
      "text/plain": [
       "'accaccacc'"
      ]
     },
     "execution_count": 8,
     "metadata": {},
     "output_type": "execute_result"
    }
   ],
   "source": [
    "def decodeString(s):\n",
    "    s = '[' + s + ']'\n",
    "    n = len(s)\n",
    "    stack = []\n",
    "    i = 0\n",
    "    while i < n:\n",
    "        if s[i] == '[':\n",
    "            stack.append(s[i])\n",
    "            i += 1\n",
    "        elif s[i].isnumeric():\n",
    "            num = ''\n",
    "            while s[i].isnumeric():\n",
    "                num += s[i]\n",
    "                i += 1\n",
    "            stack.append(num)\n",
    "        elif s[i].isalpha():\n",
    "            word = ''\n",
    "            while s[i].isalpha():\n",
    "                word += s[i]\n",
    "                i += 1\n",
    "            stack.append(word)\n",
    "        elif s[i] == ']':\n",
    "            word = ''\n",
    "            while stack[-1] != '[':\n",
    "                word = stack.pop() + word\n",
    "            stack.pop()\n",
    "            if len(stack) > 0 and stack[-1].isnumeric():\n",
    "                word = int(stack.pop())*word\n",
    "            stack.append(word)\n",
    "            i += 1\n",
    "\n",
    "    return stack[0]\n",
    "\n",
    "s = \"3[a2[c]]\"\n",
    "decodeString(s)"
   ]
  },
  {
   "cell_type": "code",
   "execution_count": null,
   "id": "d63c22cc-0e3c-40b5-87c3-0af128c511b1",
   "metadata": {},
   "outputs": [],
   "source": []
  },
  {
   "cell_type": "code",
   "execution_count": null,
   "id": "95af7c9b-dcda-42f4-874b-86f549dd5e44",
   "metadata": {},
   "outputs": [],
   "source": []
  },
  {
   "cell_type": "code",
   "execution_count": 11,
   "id": "cebee674-7a65-4947-91b0-3bde52dbee3b",
   "metadata": {},
   "outputs": [
    {
     "data": {
      "text/plain": [
       "['', 'home', '', 'foo', '']"
      ]
     },
     "execution_count": 11,
     "metadata": {},
     "output_type": "execute_result"
    }
   ],
   "source": [
    "path = \"/home//foo/\"\n",
    "dirs = path.split(\"/\")\n",
    "dirs"
   ]
  },
  {
   "cell_type": "code",
   "execution_count": null,
   "id": "20bd4e49-8cfd-45e8-83f7-f1fcf055b449",
   "metadata": {},
   "outputs": [],
   "source": []
  }
 ],
 "metadata": {
  "kernelspec": {
   "display_name": "Python 3 (ipykernel)",
   "language": "python",
   "name": "python3"
  },
  "language_info": {
   "codemirror_mode": {
    "name": "ipython",
    "version": 3
   },
   "file_extension": ".py",
   "mimetype": "text/x-python",
   "name": "python",
   "nbconvert_exporter": "python",
   "pygments_lexer": "ipython3",
   "version": "3.12.7"
  }
 },
 "nbformat": 4,
 "nbformat_minor": 5
}
