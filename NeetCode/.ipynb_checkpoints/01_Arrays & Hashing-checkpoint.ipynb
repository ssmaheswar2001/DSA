{
 "cells": [
  {
   "cell_type": "markdown",
   "id": "22e7a49a-e07a-45f1-b055-e205e070fa80",
   "metadata": {},
   "source": [
    "# Concatenation of Array"
   ]
  },
  {
   "cell_type": "code",
   "execution_count": 1,
   "id": "1d330a59-d9f3-4acb-9401-59190d6bfe44",
   "metadata": {},
   "outputs": [
    {
     "data": {
      "text/plain": [
       "[1, 3, 2, 1, 1, 3, 2, 1]"
      ]
     },
     "execution_count": 1,
     "metadata": {},
     "output_type": "execute_result"
    }
   ],
   "source": [
    "def getConcatenation(nums):\n",
    "    n = len(nums)\n",
    "    res = []\n",
    "    for i in range(2*n):\n",
    "        res.append(nums[i%n])\n",
    "\n",
    "    return res\n",
    "\n",
    "nums = [1,3,2,1]\n",
    "getConcatenation(nums)"
   ]
  },
  {
   "cell_type": "code",
   "execution_count": null,
   "id": "8ca85a70-61ba-4cf9-b5fc-fdb0ea3d63f2",
   "metadata": {},
   "outputs": [],
   "source": []
  },
  {
   "cell_type": "markdown",
   "id": "0ef6177a-0565-432b-9f66-bc4288b96906",
   "metadata": {},
   "source": [
    "# Contains Duplicate"
   ]
  },
  {
   "cell_type": "code",
   "execution_count": 2,
   "id": "dcb75392-4f5f-46af-a8fc-3711b4d042e2",
   "metadata": {},
   "outputs": [
    {
     "data": {
      "text/plain": [
       "True"
      ]
     },
     "execution_count": 2,
     "metadata": {},
     "output_type": "execute_result"
    }
   ],
   "source": [
    "def containsDuplicate(nums):\n",
    "    n = len(nums)\n",
    "    _hash = {}\n",
    "    for i in range(n):\n",
    "        if nums[i] in _hash:\n",
    "            return True\n",
    "        _hash[nums[i]] = 1\n",
    "    return False\n",
    "nums = [1,1,1,3,3,4,3,2,4,2]\n",
    "containsDuplicate(nums)"
   ]
  },
  {
   "cell_type": "code",
   "execution_count": null,
   "id": "5c77112c-0fe6-47ef-8f44-297948849784",
   "metadata": {},
   "outputs": [],
   "source": []
  },
  {
   "cell_type": "markdown",
   "id": "2b9bc3d3-9ca6-4a31-a002-db0cc4515ba0",
   "metadata": {},
   "source": [
    "# Valid Anagram\n",
    "- An anagram is a word or phrase formed by rearranging the letters of a different word or phrase, using all the original letters exactly once."
   ]
  },
  {
   "cell_type": "code",
   "execution_count": 4,
   "id": "08705212-0dad-47de-bebb-5daf1b84bb7d",
   "metadata": {},
   "outputs": [
    {
     "data": {
      "text/plain": [
       "False"
      ]
     },
     "execution_count": 4,
     "metadata": {},
     "output_type": "execute_result"
    }
   ],
   "source": [
    "def isAnagram(s, t):\n",
    "    n = len(s)\n",
    "    m = len(t)\n",
    "\n",
    "    if n != m:\n",
    "        return False\n",
    "\n",
    "    hash_s = {}\n",
    "    hash_t = {}\n",
    "\n",
    "    for i in range(n):\n",
    "        if s[i] in hash_s:\n",
    "            hash_s[s[i]] += 1\n",
    "        else:\n",
    "            hash_s[s[i]] = 1\n",
    "        if t[i]  in hash_t:\n",
    "            hash_t[t[i]] += 1\n",
    "        else:\n",
    "            hash_t[t[i]] = 1\n",
    "\n",
    "    for i in range(n):\n",
    "        if t[i] not in hash_s or s[i] not in hash_t or hash_s[s[i]] != hash_t[s[i]]:\n",
    "            return False\n",
    "    return True\n",
    "\n",
    "s = \"rat\"\n",
    "t = \"car\"\n",
    "isAnagram(s, t)"
   ]
  },
  {
   "cell_type": "code",
   "execution_count": null,
   "id": "6dcfce96-9f9b-4a01-b8ec-a7f948bd47d9",
   "metadata": {},
   "outputs": [],
   "source": []
  },
  {
   "cell_type": "markdown",
   "id": "b806b073-010c-49c4-b3d2-8dc42fba8581",
   "metadata": {},
   "source": [
    "# Two Sum"
   ]
  },
  {
   "cell_type": "code",
   "execution_count": 5,
   "id": "9c190507-d247-4fe1-bca9-a35a3de3deac",
   "metadata": {},
   "outputs": [
    {
     "data": {
      "text/plain": [
       "[0, 1]"
      ]
     },
     "execution_count": 5,
     "metadata": {},
     "output_type": "execute_result"
    }
   ],
   "source": [
    "def twoSum(nums, target):\n",
    "    n = len(nums)\n",
    "    _hash = {}\n",
    "\n",
    "    for i in range(n):\n",
    "        rem = target-nums[i]\n",
    "        if rem in _hash:\n",
    "            return [_hash[rem], i]\n",
    "        _hash[nums[i]] = i\n",
    "        \n",
    "nums = [2,7,11,15]\n",
    "target = 9\n",
    "twoSum(nums, target)"
   ]
  },
  {
   "cell_type": "code",
   "execution_count": null,
   "id": "bbe0a84c-8467-4db6-999f-4acab2d71c1b",
   "metadata": {},
   "outputs": [],
   "source": []
  },
  {
   "cell_type": "markdown",
   "id": "96e2ee52-8439-4891-bed3-5898aee513ce",
   "metadata": {},
   "source": [
    "# Longest Common Prefix"
   ]
  },
  {
   "cell_type": "code",
   "execution_count": 6,
   "id": "2de6984b-3282-4629-af3b-532fa7d1cb48",
   "metadata": {},
   "outputs": [
    {
     "data": {
      "text/plain": [
       "'fl'"
      ]
     },
     "execution_count": 6,
     "metadata": {},
     "output_type": "execute_result"
    }
   ],
   "source": [
    "def commonString(s1, s2):\n",
    "    n = len(s1)\n",
    "    m = len(s2)\n",
    "    i = 0\n",
    "    j = 0\n",
    "    res = ''\n",
    "    while i<n and j < m:\n",
    "        if s1[i] != s2[j]:\n",
    "            return res\n",
    "        res += s1[i]\n",
    "        i += 1\n",
    "        j += 1\n",
    "    return res\n",
    "\n",
    "def longestCommonPrefix(strs):\n",
    "    n = len(strs)\n",
    "    common = strs[0]\n",
    "\n",
    "    for i in range(1, n):\n",
    "        common = commonString(common, strs[i])\n",
    "\n",
    "    return common\n",
    "\n",
    "strs = [\"flower\",\"flow\",\"flight\"]\n",
    "longestCommonPrefix(strs)"
   ]
  },
  {
   "cell_type": "code",
   "execution_count": 7,
   "id": "baaa6487-6793-43f8-9c6e-18cf516c2b00",
   "metadata": {},
   "outputs": [
    {
     "data": {
      "text/plain": [
       "'fl'"
      ]
     },
     "execution_count": 7,
     "metadata": {},
     "output_type": "execute_result"
    }
   ],
   "source": [
    "def longestCommonPrefix(strs):\n",
    "    n = len(strs)\n",
    "    if n == 0:\n",
    "        return ''\n",
    "    if n == 1:\n",
    "        return strs[0]\n",
    "\n",
    "    strs.sort()\n",
    "\n",
    "    minVal = min(len(strs[0]), len(strs[n-1]))\n",
    "\n",
    "    res = ''\n",
    "    for i in range(minVal):\n",
    "        if strs[0][i] != strs[n-1][i]:\n",
    "            return res\n",
    "        res += strs[0][i]\n",
    "    return res\n",
    "\n",
    "strs = [\"flower\",\"flow\",\"flight\"]\n",
    "longestCommonPrefix(strs)"
   ]
  },
  {
   "cell_type": "code",
   "execution_count": null,
   "id": "efdfae28-7e13-4804-8378-0f287072119f",
   "metadata": {},
   "outputs": [],
   "source": []
  },
  {
   "cell_type": "markdown",
   "id": "2fbf9ca4-99cf-4f67-9a61-cf6720a41b6c",
   "metadata": {},
   "source": [
    "# Group Anagrams"
   ]
  },
  {
   "cell_type": "code",
   "execution_count": 13,
   "id": "ef4798f2-9b72-4133-8f85-77d4dd56de5a",
   "metadata": {},
   "outputs": [
    {
     "data": {
      "text/plain": [
       "[['eat', 'tea', 'ate'], ['tan', 'nat'], ['bat']]"
      ]
     },
     "execution_count": 13,
     "metadata": {},
     "output_type": "execute_result"
    }
   ],
   "source": [
    " def appendAnagaram(strs, i, sorted_strs, visited, n):\n",
    "    ana = [strs[i]]\n",
    "    visited[i] = 1\n",
    "    for j in range(i+1, n):\n",
    "        if visited[j] == 0 and sorted_strs[i] == sorted_strs[j]:\n",
    "            ana.append(strs[j])\n",
    "            visited[j] = 1\n",
    "    return ana\n",
    "\n",
    "def groupAnagrams(strs):\n",
    "    n = len(strs)\n",
    "    visited = [0 for i in range(n)]\n",
    "    sorted_strs = [sorted(s) for s in strs]\n",
    "    res = []\n",
    "    for i in range(n):\n",
    "        if visited[i] == 0:\n",
    "            ans = appendAnagaram(strs, i, sorted_strs, visited, n)\n",
    "            res.append(ans)\n",
    "\n",
    "    return res\n",
    "\n",
    "strs = [\"eat\",\"tea\",\"tan\",\"ate\",\"nat\",\"bat\"]\n",
    "groupAnagrams(strs)"
   ]
  },
  {
   "cell_type": "code",
   "execution_count": 14,
   "id": "afb499d5-18d0-40e8-b000-4aceea1724c0",
   "metadata": {},
   "outputs": [
    {
     "data": {
      "text/plain": [
       "[['eat', 'tea', 'ate'], ['tan', 'nat'], ['bat']]"
      ]
     },
     "execution_count": 14,
     "metadata": {},
     "output_type": "execute_result"
    }
   ],
   "source": [
    "def groupAnagrams(strs):\n",
    "    n = len(strs)\n",
    "\n",
    "    _hash = {}\n",
    "\n",
    "    for i in range(n):\n",
    "        temp = ''.join(sorted(strs[i]))\n",
    "        if temp in _hash:\n",
    "            _hash[temp].append(strs[i])\n",
    "        else:\n",
    "            _hash[temp] = [strs[i]]\n",
    "\n",
    "\n",
    "    res = []\n",
    "    for k, v in _hash.items():\n",
    "        res.append(v)\n",
    "    return res\n",
    "\n",
    "strs = [\"eat\",\"tea\",\"tan\",\"ate\",\"nat\",\"bat\"]\n",
    "groupAnagrams(strs)"
   ]
  },
  {
   "cell_type": "code",
   "execution_count": null,
   "id": "da411e56-860f-45a1-98ce-9d58625425cf",
   "metadata": {},
   "outputs": [],
   "source": []
  },
  {
   "cell_type": "markdown",
   "id": "c42a32af-17f3-4348-9fef-9fec68c7619f",
   "metadata": {},
   "source": [
    "# Remove Element"
   ]
  },
  {
   "cell_type": "code",
   "execution_count": 15,
   "id": "bf14ccd2-ce2e-49be-9c26-794240be0641",
   "metadata": {},
   "outputs": [
    {
     "data": {
      "text/plain": [
       "5"
      ]
     },
     "execution_count": 15,
     "metadata": {},
     "output_type": "execute_result"
    }
   ],
   "source": [
    "def removeElement(nums, val):\n",
    "    n = len(nums)\n",
    "    j = 0\n",
    "    for i in range(n):\n",
    "        if nums[i] != val:\n",
    "            nums[j] = nums[i]\n",
    "            j += 1\n",
    "\n",
    "    return j\n",
    "\n",
    "nums = [0,1,2,2,3,0,4,2]\n",
    "val = 2\n",
    "removeElement(nums, val)"
   ]
  },
  {
   "cell_type": "code",
   "execution_count": null,
   "id": "c2fe63f2-a7e0-4f49-a3bf-8cd027470e95",
   "metadata": {},
   "outputs": [],
   "source": []
  },
  {
   "cell_type": "markdown",
   "id": "3aed9f0e-f05e-4b0d-b23b-fac839ef0514",
   "metadata": {},
   "source": [
    "# Majority Element"
   ]
  },
  {
   "cell_type": "code",
   "execution_count": 7,
   "id": "1d07b893-fd3f-4062-9f0e-9fb6fc44e965",
   "metadata": {},
   "outputs": [
    {
     "data": {
      "text/plain": [
       "4"
      ]
     },
     "execution_count": 7,
     "metadata": {},
     "output_type": "execute_result"
    }
   ],
   "source": [
    "def majorityElement(nums):\n",
    "    n = len(nums)\n",
    "    freq = {}\n",
    "    for i in range(n):\n",
    "        if nums[i] in freq:\n",
    "            freq[nums[i]] += 1\n",
    "        else:\n",
    "            freq[nums[i]] = 1\n",
    "        if freq[nums[i]] > n/2:\n",
    "            return nums[i]\n",
    "\n",
    "nums = [2,2,1,1,1,2,2]\n",
    "nums = [4,4,2,4,3,4,4,3,2,4]\n",
    "majorityElement(nums)"
   ]
  },
  {
   "cell_type": "code",
   "execution_count": 9,
   "id": "d7615f67-f5e0-43f9-897a-994c1cbf432d",
   "metadata": {},
   "outputs": [
    {
     "data": {
      "text/plain": [
       "4"
      ]
     },
     "execution_count": 9,
     "metadata": {},
     "output_type": "execute_result"
    }
   ],
   "source": [
    "def majorityElement(nums):\n",
    "    n = len(nums)\n",
    "    majority = n//2\n",
    "    i = 0\n",
    "    count = 0\n",
    "    while i < n:\n",
    "        if count == 0:\n",
    "            element = nums[i]\n",
    "        if element == nums[i]:\n",
    "            count += 1\n",
    "        else:\n",
    "            count -= 1\n",
    "        i += 1\n",
    "    return element\n",
    "    \n",
    "\n",
    "nums = [2,2,1,1,1,2,2]\n",
    "nums = [4,4,2,4,3,4,4,3,2,4]\n",
    "majorityElement(nums)"
   ]
  },
  {
   "cell_type": "code",
   "execution_count": null,
   "id": "a5d7ce75-a63a-4f58-a3b3-3300aac3f857",
   "metadata": {},
   "outputs": [],
   "source": []
  },
  {
   "cell_type": "markdown",
   "id": "b9e1d147-321e-4f99-84a1-6dd4279bd1b0",
   "metadata": {},
   "source": [
    "# Sort an Array"
   ]
  },
  {
   "cell_type": "code",
   "execution_count": 13,
   "id": "cf03744e-abcc-4f6a-99e2-c0c547c65ef0",
   "metadata": {},
   "outputs": [
    {
     "data": {
      "text/plain": [
       "[0, 0, 1, 1, 2, 5]"
      ]
     },
     "execution_count": 13,
     "metadata": {},
     "output_type": "execute_result"
    }
   ],
   "source": [
    "def merge(nums, low, mid, high):\n",
    "    temp = []\n",
    "    i = low\n",
    "    j = mid + 1\n",
    "    while i <= mid and j <= high:\n",
    "        if nums[i] < nums[j]:\n",
    "            temp.append(nums[i])\n",
    "            i += 1\n",
    "        else:\n",
    "            temp.append(nums[j])  \n",
    "            j += 1\n",
    "    while i <= mid:\n",
    "        temp.append(nums[i])\n",
    "        i += 1\n",
    "    while j <= high:\n",
    "        temp.append(nums[j])\n",
    "        j += 1\n",
    "    nums[low:high+1] = temp[:]\n",
    "\n",
    "def mergeSort(nums, low, high):\n",
    "    if low >= high:\n",
    "        return \n",
    "    mid = low + (high-low)//2\n",
    "    mergeSort(nums, low, mid)\n",
    "    mergeSort(nums, mid+1, high)\n",
    "    merge(nums, low, mid, high)\n",
    "\n",
    "def sortArray(nums):\n",
    "    n = len(nums)\n",
    "    mergeSort(nums, 0, n-1)\n",
    "    return nums\n",
    "\n",
    "nums = [5,1,1,2,0,0]\n",
    "sortArray(nums)"
   ]
  },
  {
   "cell_type": "code",
   "execution_count": 14,
   "id": "475dd103-c9f0-4aea-b721-9a6d2f63e4a5",
   "metadata": {},
   "outputs": [
    {
     "data": {
      "text/plain": [
       "[0, 0, 1, 1, 2, 5]"
      ]
     },
     "execution_count": 14,
     "metadata": {},
     "output_type": "execute_result"
    }
   ],
   "source": [
    "def partition(nums, low, high):\n",
    "    pivot = high\n",
    "\n",
    "    i = low\n",
    "    for j in range(low, high):\n",
    "        if nums[j] <= nums[pivot]:\n",
    "            nums[i], nums[j] = nums[j], nums[i]\n",
    "            i += 1\n",
    "    nums[i], nums[pivot] = nums[pivot], nums[i]\n",
    "    return i\n",
    "\n",
    "\n",
    "def quickSort(nums, low, high):\n",
    "    if low >= high:\n",
    "        return\n",
    "        \n",
    "    pi = partition(nums, low, high)\n",
    "    quickSort(nums, low, pi-1)\n",
    "    quickSort(nums, pi+1, high)\n",
    "\n",
    "def sortArray(nums):\n",
    "    n = len(nums)\n",
    "    quickSort(nums, 0, n-1)\n",
    "    return nums\n",
    "\n",
    "nums = [5,1,1,2,0,0]\n",
    "sortArray(nums)"
   ]
  },
  {
   "cell_type": "code",
   "execution_count": null,
   "id": "49bf4f85-791e-4c1a-9245-9f9f8f117a0c",
   "metadata": {},
   "outputs": [],
   "source": []
  },
  {
   "cell_type": "markdown",
   "id": "159b7b7d-13ca-4130-a701-9e5029f6a108",
   "metadata": {},
   "source": [
    "# Top K Frequent Elements"
   ]
  },
  {
   "cell_type": "code",
   "execution_count": 2,
   "id": "2d123299-a85d-48ec-8bc5-62e37669407a",
   "metadata": {},
   "outputs": [
    {
     "data": {
      "text/plain": [
       "[2, 1]"
      ]
     },
     "execution_count": 2,
     "metadata": {},
     "output_type": "execute_result"
    }
   ],
   "source": [
    "import heapq\n",
    "def topKFrequent(nums, k):\n",
    "    n = len(nums)\n",
    "    d = {}\n",
    "    for i in range(n):\n",
    "        if nums[i] in d:\n",
    "            d[nums[i]] += 1\n",
    "        else:\n",
    "            d[nums[i]] = 1\n",
    "    pq = []\n",
    "    for key, val in d.items():\n",
    "        heapq.heappush(pq, (val, key))\n",
    "        if len(pq) > k:\n",
    "            heapq.heappop(pq)\n",
    "        \n",
    "    res = []\n",
    "    while len(pq):\n",
    "        val, key = heapq.heappop(pq)\n",
    "        res.append(key)\n",
    "    return res\n",
    "\n",
    "nums = [1,1,1,2,2,3]\n",
    "k = 2\n",
    "topKFrequent(nums, k)"
   ]
  },
  {
   "cell_type": "code",
   "execution_count": null,
   "id": "1f4c0b5f-5b2f-4ac3-b06a-4f8bbd5f3e74",
   "metadata": {},
   "outputs": [],
   "source": []
  },
  {
   "cell_type": "markdown",
   "id": "c74d6414-9fc2-4ab5-9179-372a7fba8478",
   "metadata": {},
   "source": [
    "# Encode and Decode Strings"
   ]
  },
  {
   "cell_type": "code",
   "execution_count": 3,
   "id": "43839328-4aee-4144-8e71-25461e62500d",
   "metadata": {},
   "outputs": [
    {
     "data": {
      "text/plain": [
       "('abc,!@,', ['abc', '!@'])"
      ]
     },
     "execution_count": 3,
     "metadata": {},
     "output_type": "execute_result"
    }
   ],
   "source": [
    "def encode(s):\n",
    "    n = len(s)\n",
    "    en = ''\n",
    "    for sub in s:\n",
    "        en += sub\n",
    "        en += ','\n",
    "    return en\n",
    "            \n",
    "def decode(s):\n",
    "    n = len(s)\n",
    "    i = 0\n",
    "    de = []\n",
    "    sub = ''\n",
    "    while i < n:\n",
    "        if s[i] == ',':\n",
    "            de.append(sub)\n",
    "            sub = ''\n",
    "        else:\n",
    "            sub += s[i]\n",
    "        i += 1\n",
    "    return de\n",
    "\n",
    "s = [\"abc\",\"!@\"]\n",
    "en = encode(s)\n",
    "de = decode(en)\n",
    "en, de"
   ]
  },
  {
   "cell_type": "code",
   "execution_count": null,
   "id": "7691f88c-b489-4c0c-bb9d-5fec2d05562d",
   "metadata": {},
   "outputs": [],
   "source": []
  },
  {
   "cell_type": "markdown",
   "id": "33ebed99-0d22-4c0c-8467-558ac79b27c7",
   "metadata": {},
   "source": [
    "# Range Sum Query 2D Immutable"
   ]
  },
  {
   "cell_type": "code",
   "execution_count": 7,
   "id": "c75c3eb9-8702-44a2-9de2-d7b3afb09ea7",
   "metadata": {},
   "outputs": [
    {
     "data": {
      "text/plain": [
       "8"
      ]
     },
     "execution_count": 7,
     "metadata": {},
     "output_type": "execute_result"
    }
   ],
   "source": [
    "\n",
    "class NumMatrix:\n",
    "\n",
    "    def __init__(self, matrix):\n",
    "        n = len(matrix)\n",
    "        m = len(matrix[0])\n",
    "        self.sum_dp = [[0 for j in range(m)] for i in range(n)]\n",
    "\n",
    "        for i in range(n):\n",
    "            for j in range(m):\n",
    "                lbox = 0\n",
    "                if j-1 >= 0:\n",
    "                    lbox = self.sum_dp[i][j-1]\n",
    "                ubox = 0\n",
    "                if i-1 >= 0:\n",
    "                    ubox = self.sum_dp[i-1][j]\n",
    "                cbox = 0\n",
    "                if i-1 >=0 and j-1 >= 0:\n",
    "                    cbox = self.sum_dp[i-1][j-1]\n",
    "                self.sum_dp[i][j] = lbox + ubox - cbox + matrix[i][j]\n",
    "        \n",
    "\n",
    "    def sumRegion(self, row1, col1, row2, col2) -> int:\n",
    "        sum = self.sum_dp[row2][col2]\n",
    "        if col1-1 >= 0:\n",
    "            sum -= self.sum_dp[row2][col1-1]\n",
    "        if row1-1 >= 0:\n",
    "            sum -= self.sum_dp[row1-1][col2]\n",
    "        if row1-1 >= 0 and col1-1 >= 0:\n",
    "            sum += self.sum_dp[row1-1][col1-1]\n",
    "        return sum \n",
    "\n",
    "matrix = [[3, 0, 1, 4, 2], [5, 6, 3, 2, 1], [1, 2, 0, 1, 5], [4, 1, 0, 1, 7], [1, 0, 3, 0, 5]]\n",
    "o = NumMatrix(matrix)\n",
    "o.sumRegion(2,1,4,3)"
   ]
  },
  {
   "cell_type": "code",
   "execution_count": null,
   "id": "d1672efd-b871-4ed6-bfd1-8f4190aef0d7",
   "metadata": {},
   "outputs": [],
   "source": []
  },
  {
   "cell_type": "markdown",
   "id": "a2e4342c-e9f2-4ace-bdf2-f5a7ffd031df",
   "metadata": {},
   "source": [
    "# Product of Array Except self"
   ]
  },
  {
   "cell_type": "code",
   "execution_count": 9,
   "id": "16f253a5-7754-4d18-b3af-7d42825c8b43",
   "metadata": {},
   "outputs": [
    {
     "data": {
      "text/plain": [
       "[24, 12, 8, 6]"
      ]
     },
     "execution_count": 9,
     "metadata": {},
     "output_type": "execute_result"
    }
   ],
   "source": [
    "def productExceptSelf(nums):\n",
    "    n = len(nums)\n",
    "    product = [1 for i in range(n)]\n",
    "\n",
    "    leftProduct = 1\n",
    "    rightProduct = 1\n",
    "    i = 0\n",
    "    while i < n:\n",
    "        j = n-1-i\n",
    "        if i-1 >= 0:\n",
    "            leftProduct = leftProduct * nums[i-1]\n",
    "        if j+1 < n:\n",
    "            rightProduct = rightProduct * nums[j+1]\n",
    "        product[i] = product[i]*leftProduct\n",
    "        product[j] = product[j]*rightProduct\n",
    "        i += 1\n",
    "    return product\n",
    "nums = [1,2,3,4]\n",
    "productExceptSelf(nums)"
   ]
  },
  {
   "cell_type": "code",
   "execution_count": null,
   "id": "06d1b9ff-94eb-45a2-84e2-e926577b4756",
   "metadata": {},
   "outputs": [],
   "source": []
  },
  {
   "cell_type": "markdown",
   "id": "f8b0e717-4ac0-49de-99ac-5dc4261fd313",
   "metadata": {},
   "source": [
    "# Valid Sudoku"
   ]
  },
  {
   "cell_type": "code",
   "execution_count": 10,
   "id": "4b9033cf-ada5-4604-a549-de0c8fa8161c",
   "metadata": {},
   "outputs": [],
   "source": [
    "def isPossible(board, row, col):\n",
    "    digit = board[row][col]\n",
    "    for i in range(9):\n",
    "        if board[i][col] == digit and i != row:\n",
    "            return 0\n",
    "        if board[row][i] == digit and i != col:\n",
    "            return 0\n",
    "        rbox = 3*(row//3) + i%3\n",
    "        cbox = 3*(col//3) + i//3\n",
    "        if rbox != row and cbox != col and board[rbox][cbox] == digit:\n",
    "            return 0\n",
    "    return 1\n",
    "            \n",
    "def isValidSudoku(board):\n",
    "    n = len(board)\n",
    "    for i in range(9):\n",
    "        for j in range(9):\n",
    "            if board[i][j] != '.' and self.isPossible(board, i, j) == 0:\n",
    "                return False\n",
    "    return True\n"
   ]
  },
  {
   "cell_type": "code",
   "execution_count": null,
   "id": "a6fd0d35-5a2d-4373-adc6-68745ee13502",
   "metadata": {},
   "outputs": [],
   "source": [
    "  "
   ]
  },
  {
   "cell_type": "markdown",
   "id": "adb62b07-aa43-4dec-a11b-38a9b4c9a78a",
   "metadata": {},
   "source": [
    "# Longest Consecutive Sequence"
   ]
  },
  {
   "cell_type": "code",
   "execution_count": 11,
   "id": "198e4af3-39d6-46da-a95f-fc34c06f2f1d",
   "metadata": {},
   "outputs": [
    {
     "data": {
      "text/plain": [
       "9"
      ]
     },
     "execution_count": 11,
     "metadata": {},
     "output_type": "execute_result"
    }
   ],
   "source": [
    "def longestConsecutive(nums):\n",
    "    nums = list(set(nums))\n",
    "    n = len(nums)\n",
    "    if n == 0:\n",
    "        return 0\n",
    "    nums.sort()\n",
    "    i = 0\n",
    "    j = 0\n",
    "    maxLen = 1\n",
    "    while i < n:\n",
    "        if i > 0 and nums[i-1]+1 == nums[i]:\n",
    "            maxLen = max(maxLen, i-j+1)\n",
    "        else:\n",
    "            j = i\n",
    "        i += 1\n",
    "    return maxLen  \n",
    "\n",
    "nums = [0,3,7,2,5,8,4,6,0,1]\n",
    "longestConsecutive(nums)"
   ]
  },
  {
   "cell_type": "code",
   "execution_count": null,
   "id": "1f539f38-abf0-470c-b4ed-46de5d27f4b4",
   "metadata": {},
   "outputs": [],
   "source": []
  },
  {
   "cell_type": "markdown",
   "id": "39a96006-58b1-40db-baf0-7f524f399d37",
   "metadata": {},
   "source": [
    "# Best Time to Buy and Sell Stock II"
   ]
  },
  {
   "cell_type": "code",
   "execution_count": 13,
   "id": "c9f6bf16-d91b-4bfa-984e-c8bcde2ea8ce",
   "metadata": {},
   "outputs": [
    {
     "data": {
      "text/plain": [
       "7"
      ]
     },
     "execution_count": 13,
     "metadata": {},
     "output_type": "execute_result"
    }
   ],
   "source": [
    "def BuySell(prices, index, buy, n, dp):\n",
    "    if index == n:\n",
    "        return 0\n",
    "        \n",
    "    if dp[index][buy] != -1:\n",
    "        return dp[index][buy]\n",
    "\n",
    "    if buy == 1:\n",
    "        include = -prices[index] + BuySell(prices, index+1, 0, n, dp)\n",
    "        notinclude = BuySell(prices, index+1, buy, n, dp)\n",
    "    else:\n",
    "        include = prices[index] + BuySell(prices, index+1, 1, n, dp)\n",
    "        notinclude = BuySell(prices, index+1, buy, n, dp)\n",
    "    dp[index][buy] = max(include, notinclude)\n",
    "    return dp[index][buy]\n",
    "    \n",
    "def maxProfit(prices):\n",
    "    n = len(prices)\n",
    "    dp = [[-1 for i in range(2)] for i in range(n)]\n",
    "    return BuySell(prices, 0, 1, n, dp)\n",
    "\n",
    "prices = [7,1,5,3,6,4]\n",
    "maxProfit(prices)"
   ]
  },
  {
   "cell_type": "code",
   "execution_count": null,
   "id": "2201f82c-b18d-468e-bd47-2b32b1516de0",
   "metadata": {},
   "outputs": [],
   "source": []
  },
  {
   "cell_type": "markdown",
   "id": "28eac145-ae2a-4d5f-b7a3-7961af8370ae",
   "metadata": {},
   "source": [
    "# Subarray Sum Equals K"
   ]
  },
  {
   "cell_type": "code",
   "execution_count": 17,
   "id": "e125a005-18fe-44b9-a5c5-4bea31155fce",
   "metadata": {},
   "outputs": [
    {
     "data": {
      "text/plain": [
       "2"
      ]
     },
     "execution_count": 17,
     "metadata": {},
     "output_type": "execute_result"
    }
   ],
   "source": [
    "def subarraySum(um, k):\n",
    "    n = len(nums)\n",
    "\n",
    "    prefixSum = {}\n",
    "\n",
    "    sum = 0\n",
    "    count = 0\n",
    "    prefixSum[0] = 1\n",
    "\n",
    "    for i in range(n):\n",
    "        sum += nums[i]\n",
    "\n",
    "        if sum-k in prefixSum:\n",
    "            count += prefixSum[sum-k]\n",
    "        if sum in prefixSum:\n",
    "            prefixSum[sum] += 1\n",
    "        else:\n",
    "            prefixSum[sum] = 1\n",
    "    return count\n",
    "\n",
    "arr = [1, 2, 3, -3, 1, 1, 1, 4, 2, -3]\n",
    "k = 3\n",
    "subarraySum(arr, k)"
   ]
  },
  {
   "cell_type": "code",
   "execution_count": null,
   "id": "a0305e9e-0eed-4d87-bc37-b02b967341a1",
   "metadata": {},
   "outputs": [],
   "source": []
  },
  {
   "cell_type": "markdown",
   "id": "cf8fd13b-521f-4f53-97f6-e9cad1588ff7",
   "metadata": {},
   "source": [
    "# First Missing Positive"
   ]
  },
  {
   "cell_type": "code",
   "execution_count": 14,
   "id": "a317ddfb-9173-4be2-80d2-83623003a841",
   "metadata": {},
   "outputs": [
    {
     "data": {
      "text/plain": [
       "2"
      ]
     },
     "execution_count": 14,
     "metadata": {},
     "output_type": "execute_result"
    }
   ],
   "source": [
    "def firstMissingPositive(nums):\n",
    "    nums = list(set(nums))\n",
    "    nums.sort()\n",
    "\n",
    "    n = len(nums)\n",
    "    i = 0\n",
    "    while i < n and nums[i] <= 0:\n",
    "        i += 1\n",
    "        \n",
    "    val = 1\n",
    "    while i < n:\n",
    "        if nums[i] != val:\n",
    "            return val\n",
    "        val += 1\n",
    "        i += 1\n",
    "    return val\n",
    "\n",
    "nums = [3,4,-1,1]\n",
    "firstMissingPositive(nums)"
   ]
  },
  {
   "cell_type": "code",
   "execution_count": null,
   "id": "18b78509-28e8-4597-ad02-a806bd57c7fc",
   "metadata": {},
   "outputs": [],
   "source": []
  }
 ],
 "metadata": {
  "kernelspec": {
   "display_name": "Python 3 (ipykernel)",
   "language": "python",
   "name": "python3"
  },
  "language_info": {
   "codemirror_mode": {
    "name": "ipython",
    "version": 3
   },
   "file_extension": ".py",
   "mimetype": "text/x-python",
   "name": "python",
   "nbconvert_exporter": "python",
   "pygments_lexer": "ipython3",
   "version": "3.12.7"
  }
 },
 "nbformat": 4,
 "nbformat_minor": 5
}
