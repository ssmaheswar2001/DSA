{
 "cells": [
  {
   "cell_type": "markdown",
   "id": "6e6a0c42-a5b6-4538-b046-dc8d7dac0f2a",
   "metadata": {},
   "source": [
    "# Contains Duplicare II"
   ]
  },
  {
   "cell_type": "code",
   "execution_count": 2,
   "id": "1bab1291-0fdd-4262-8468-318e50268d3c",
   "metadata": {},
   "outputs": [
    {
     "data": {
      "text/plain": [
       "False"
      ]
     },
     "execution_count": 2,
     "metadata": {},
     "output_type": "execute_result"
    }
   ],
   "source": [
    "def containsNearbyDuplicate(nums, k):\n",
    "    n = len(nums)\n",
    "    _hash = {}\n",
    "\n",
    "    for i in range(n):\n",
    "        if nums[i] in _hash and i - _hash[nums[i]] <= k:\n",
    "            return True\n",
    "        _hash[nums[i]] = i\n",
    "    return False\n",
    "\n",
    "nums = [1,2,3,1,2,3]\n",
    "k = 2\n",
    "containsNearbyDuplicate(nums, k)"
   ]
  },
  {
   "cell_type": "code",
   "execution_count": null,
   "id": "0de63713-9e1d-4419-bd64-389da3f0efca",
   "metadata": {},
   "outputs": [],
   "source": []
  },
  {
   "cell_type": "markdown",
   "id": "e360a5fb-6f55-4704-947a-229537b6cb27",
   "metadata": {},
   "source": [
    "# Best Time to Buy And Sell Stock"
   ]
  },
  {
   "cell_type": "code",
   "execution_count": 3,
   "id": "4dc7c299-e222-404b-8a15-a7abed1ce973",
   "metadata": {},
   "outputs": [
    {
     "data": {
      "text/plain": [
       "5"
      ]
     },
     "execution_count": 3,
     "metadata": {},
     "output_type": "execute_result"
    }
   ],
   "source": [
    "def maxProfit(prices):\n",
    "    n = len(prices)\n",
    "    buy = prices[0]\n",
    "    maxProfit = 0 \n",
    "    i = 1  \n",
    "    while i < n:\n",
    "        profit = prices[i] - buy\n",
    "        buy = min(buy, prices[i])\n",
    "        maxProfit = max(profit, maxProfit)\n",
    "        i += 1\n",
    "    return maxProfit\n",
    "\n",
    "prices = [7,1,5,3,6,4]\n",
    "maxProfit(prices)"
   ]
  },
  {
   "cell_type": "code",
   "execution_count": null,
   "id": "4792dece-1b3f-4c8e-8af1-70d2425ecd10",
   "metadata": {},
   "outputs": [],
   "source": []
  },
  {
   "cell_type": "markdown",
   "id": "c5aad1d9-2613-4993-9ead-d0a579f37ac6",
   "metadata": {},
   "source": [
    "# Longest Substring Without Repeating Characters   "
   ]
  },
  {
   "cell_type": "code",
   "execution_count": 6,
   "id": "f7001dc8-5693-4aad-9cac-bfc610944464",
   "metadata": {},
   "outputs": [
    {
     "data": {
      "text/plain": [
       "4"
      ]
     },
     "execution_count": 6,
     "metadata": {},
     "output_type": "execute_result"
    }
   ],
   "source": [
    "def lengthOfLongestSubstring(s):\n",
    "    n = len(s)\n",
    "    longest = 0\n",
    "    stack = []\n",
    "    i = 0\n",
    "    j = 0\n",
    "    while i < n:\n",
    "        if s[i] in stack:\n",
    "            while len(stack) > 0:\n",
    "                j += 1\n",
    "                if stack.pop(0) == s[i]:\n",
    "                    break\n",
    "        stack.append(s[i])\n",
    "        longest = max(longest, i-j+1)\n",
    "        i += 1\n",
    "    return longest\n",
    "\n",
    "s = 'abcbadbd'\n",
    "lengthOfLongestSubstring(s)"
   ]
  },
  {
   "cell_type": "code",
   "execution_count": 7,
   "id": "58c07f82-cb3a-4b19-b35f-99ae38ed5027",
   "metadata": {},
   "outputs": [
    {
     "data": {
      "text/plain": [
       "4"
      ]
     },
     "execution_count": 7,
     "metadata": {},
     "output_type": "execute_result"
    }
   ],
   "source": [
    "def lengthOfLongestSubstring(s) :\n",
    "    n = len(s)\n",
    "    longest = 0\n",
    "    _hash = {}\n",
    "    j = 0\n",
    "    i = 0\n",
    "    while i < n:\n",
    "        if s[i] in _hash:\n",
    "            j = max(j, _hash[s[i]] + 1)\n",
    "        longest = max(longest, i-j+1)\n",
    "        _hash[s[i]] = i\n",
    "        i += 1\n",
    "    return longest\n",
    "\n",
    "\n",
    "s = 'abcbadbd'\n",
    "lengthOfLongestSubstring(s)"
   ]
  },
  {
   "cell_type": "code",
   "execution_count": null,
   "id": "47ecbf61-1c4f-48dd-9083-7dac0ec63ee2",
   "metadata": {},
   "outputs": [],
   "source": []
  },
  {
   "cell_type": "markdown",
   "id": "cd9e367e-6338-436a-8f0e-94693120aaf4",
   "metadata": {},
   "source": [
    "# Longest Repeating Character Replacement "
   ]
  },
  {
   "cell_type": "code",
   "execution_count": 1,
   "id": "a7b0e877-67cd-4fe2-920a-499db697dd44",
   "metadata": {},
   "outputs": [
    {
     "data": {
      "text/plain": [
       "5"
      ]
     },
     "execution_count": 1,
     "metadata": {},
     "output_type": "execute_result"
    }
   ],
   "source": [
    "def characterReplacement(s, k):\n",
    "    n = len(s)\n",
    "    _hash = {}\n",
    "    r = 0\n",
    "    l = 0\n",
    "    maxLen = 0\n",
    "    maxFreq = 0\n",
    "    while r < n:\n",
    "        if s[r] in _hash:\n",
    "            _hash[s[r]] += 1\n",
    "        else:\n",
    "            _hash[s[r]] = 1\n",
    "        maxFreq = max(maxFreq, _hash[s[r]])\n",
    "\n",
    "        if r-l+1 -maxFreq <= k:\n",
    "            maxLen = max(maxLen, r-l+1)\n",
    "        else:\n",
    "            _hash[s[l]] -= 1\n",
    "            l += 1\n",
    "            # maxFreq = max(v for k, v in _hash.items())\n",
    "\n",
    "        r += 1\n",
    "    return maxLen\n",
    "\n",
    "s = 'AAABBCCD'\n",
    "k = 2\n",
    "characterReplacement(s, k)"
   ]
  },
  {
   "cell_type": "code",
   "execution_count": null,
   "id": "5cf57818-71e7-4985-8d43-7bf45a0d643a",
   "metadata": {},
   "outputs": [],
   "source": []
  },
  {
   "cell_type": "markdown",
   "id": "58951b6c-d99c-4a08-bb37-8f2efe1a221e",
   "metadata": {},
   "source": [
    "# Permutation In String"
   ]
  },
  {
   "cell_type": "code",
   "execution_count": 4,
   "id": "736546d5-3884-4249-869a-d311b258f941",
   "metadata": {},
   "outputs": [
    {
     "data": {
      "text/plain": [
       "True"
      ]
     },
     "execution_count": 4,
     "metadata": {},
     "output_type": "execute_result"
    }
   ],
   "source": [
    "def checkInclusion(s1, s2):\n",
    "    n = len(s1)\n",
    "    m = len(s2)\n",
    "    if n > m:\n",
    "        return False\n",
    "\n",
    "    s1_hash = [0]*26\n",
    "    s2_hash = [0]*26\n",
    "\n",
    "    for i in range(n):\n",
    "        s1_hash[ord(s1[i]) - ord('a')] += 1\n",
    "        s2_hash[ord(s2[i]) - ord('a')] += 1\n",
    "    if s1_hash == s2_hash:\n",
    "        return True\n",
    "\n",
    "    left = 0\n",
    "    right = n\n",
    "    while right < m:\n",
    "        s2_hash[ord(s2[right]) - ord('a')] += 1\n",
    "        s2_hash[ord(s2[left])- ord('a')] -= 1\n",
    "        if s1_hash == s2_hash:\n",
    "            return True\n",
    "        right += 1\n",
    "        left += 1\n",
    "\n",
    "    return False\n",
    "\n",
    "s1 = \"abc\"\n",
    "s2 = \"cbaebabacd\"\n",
    "checkInclusion(s1, s2)"
   ]
  },
  {
   "cell_type": "code",
   "execution_count": null,
   "id": "9ee84523-1c81-4286-a440-38acc4c75a82",
   "metadata": {},
   "outputs": [],
   "source": []
  },
  {
   "cell_type": "markdown",
   "id": "d13aeffa-d9ca-4bf3-8f36-a3afb3e8c159",
   "metadata": {},
   "source": [
    "# Minimum Size Subarray Sum"
   ]
  },
  {
   "cell_type": "code",
   "execution_count": 2,
   "id": "c560dcc7-9e66-48a1-b42c-851d45a78957",
   "metadata": {},
   "outputs": [
    {
     "data": {
      "text/plain": [
       "2"
      ]
     },
     "execution_count": 2,
     "metadata": {},
     "output_type": "execute_result"
    }
   ],
   "source": [
    "def minSubArrayLen(target, nums):\n",
    "    n = len(nums)\n",
    "    minLen = float('inf')\n",
    "    windowsum = 0\n",
    "    l = 0\n",
    "    r = 0\n",
    "    while r < n:\n",
    "        windowsum += nums[r]\n",
    "        while windowsum >= target:\n",
    "            minLen = min(minLen, r-l+1)\n",
    "            windowsum -= nums[l]\n",
    "            l += 1\n",
    "        r += 1\n",
    "    return 0 if minLen == float('inf') else minLen\n",
    "\n",
    "nums = [2,3,1,2,4,3]\n",
    "target = 7\n",
    "minSubArrayLen(target, nums)"
   ]
  },
  {
   "cell_type": "code",
   "execution_count": null,
   "id": "55984a60-397e-4932-88e2-01a454617260",
   "metadata": {},
   "outputs": [],
   "source": []
  },
  {
   "cell_type": "markdown",
   "id": "f62c8545-6223-489c-a476-8b35e3268bd9",
   "metadata": {},
   "source": [
    "# Find K Closest Elements"
   ]
  },
  {
   "cell_type": "code",
   "execution_count": 3,
   "id": "bccb44bc-b55e-4d0a-b84f-8baae919f8e4",
   "metadata": {},
   "outputs": [
    {
     "data": {
      "text/plain": [
       "[1, 1, 2, 3]"
      ]
     },
     "execution_count": 3,
     "metadata": {},
     "output_type": "execute_result"
    }
   ],
   "source": [
    "def findClosestElements(arr, k, x):\n",
    "    n = len(arr)\n",
    "        \n",
    "    i = 0\n",
    "    j = n-1\n",
    "    while i <= j:\n",
    "        if j-i+1 == k:\n",
    "            break\n",
    "        elif abs(arr[i] - x) <= abs(arr[j]-x):\n",
    "            j -= 1\n",
    "        else:\n",
    "            i += 1\n",
    "\n",
    "    return arr[i:j+1]\n",
    "\n",
    "\n",
    "arr = [1,1,2,3,4,5]\n",
    "k = 4\n",
    "x = -1\n",
    "findClosestElements(arr, k, x)"
   ]
  },
  {
   "cell_type": "code",
   "execution_count": null,
   "id": "d8aa6801-a2b7-4ba2-9b3d-56a049a00003",
   "metadata": {},
   "outputs": [],
   "source": []
  },
  {
   "cell_type": "code",
   "execution_count": null,
   "id": "fedc1b94-4e25-4b10-968b-27d0f71dd9b8",
   "metadata": {},
   "outputs": [],
   "source": []
  },
  {
   "cell_type": "code",
   "execution_count": null,
   "id": "cc7e5fa5-f0c6-482e-b881-a39ae9863546",
   "metadata": {},
   "outputs": [],
   "source": []
  },
  {
   "cell_type": "markdown",
   "id": "cc4330e4-1b65-48bc-950e-fbc7854e535d",
   "metadata": {},
   "source": [
    "# Sliding Window Maximum"
   ]
  },
  {
   "cell_type": "code",
   "execution_count": 1,
   "id": "0c216056-777d-4fd9-bea3-ed801a73b3e8",
   "metadata": {},
   "outputs": [
    {
     "data": {
      "text/plain": [
       "[3, 3, 5, 5, 6, 7]"
      ]
     },
     "execution_count": 1,
     "metadata": {},
     "output_type": "execute_result"
    }
   ],
   "source": [
    "def maxSlidingWindow(nums, k):\n",
    "    n = len(nums)\n",
    "    stack = []\n",
    "    res = []\n",
    "    i = 0\n",
    "    while i < n:\n",
    "        if len(stack) > 0 and stack[0] == i-k:\n",
    "            stack.pop(0)\n",
    "        while len(stack) >0 and nums[stack[-1]] <= nums[i]:\n",
    "            stack.pop()\n",
    "        stack.append(i)\n",
    "        if i >= k-1:\n",
    "            res.append(nums[stack[0]])\n",
    "        i += 1\n",
    "    return res\n",
    "\n",
    "nums = [1,3,-1,-3,5,3,6,7]\n",
    "k = 3\n",
    "maxSlidingWindow(nums, k)"
   ]
  },
  {
   "cell_type": "code",
   "execution_count": null,
   "id": "4fecc702-3a21-4a00-9d6c-65dcda77a311",
   "metadata": {},
   "outputs": [],
   "source": []
  }
 ],
 "metadata": {
  "kernelspec": {
   "display_name": "Python 3 (ipykernel)",
   "language": "python",
   "name": "python3"
  },
  "language_info": {
   "codemirror_mode": {
    "name": "ipython",
    "version": 3
   },
   "file_extension": ".py",
   "mimetype": "text/x-python",
   "name": "python",
   "nbconvert_exporter": "python",
   "pygments_lexer": "ipython3",
   "version": "3.12.7"
  }
 },
 "nbformat": 4,
 "nbformat_minor": 5
}
