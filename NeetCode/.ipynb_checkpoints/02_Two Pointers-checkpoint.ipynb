{
 "cells": [
  {
   "cell_type": "markdown",
   "id": "2e559605-4cb4-4176-be61-acbcaf9806d1",
   "metadata": {},
   "source": [
    "# Reverse String"
   ]
  },
  {
   "cell_type": "code",
   "execution_count": 3,
   "id": "676178dd-e96d-4059-92ea-1798981bb68f",
   "metadata": {},
   "outputs": [
    {
     "data": {
      "text/plain": [
       "['h', 'a', 'n', 'n', 'a', 'H']"
      ]
     },
     "execution_count": 3,
     "metadata": {},
     "output_type": "execute_result"
    }
   ],
   "source": [
    "def reverseString(s):\n",
    "    n = len(s)\n",
    "    i = 0 \n",
    "    j = n-1\n",
    "    while i < j:\n",
    "        s[i], s[j] = s[j], s[i]\n",
    "        i += 1\n",
    "        j -= 1\n",
    "\n",
    "s = [\"H\",\"a\",\"n\",\"n\",\"a\",\"h\"]\n",
    "reverseString(s)\n",
    "s"
   ]
  },
  {
   "cell_type": "code",
   "execution_count": null,
   "id": "eabb8045-3d30-4ed6-9cb4-b7a0cbac1d61",
   "metadata": {},
   "outputs": [],
   "source": []
  },
  {
   "cell_type": "markdown",
   "id": "8ad97c07-066f-45a0-af5f-bbfb43f660bd",
   "metadata": {},
   "source": [
    "# Valid Palindrome"
   ]
  },
  {
   "cell_type": "code",
   "execution_count": 9,
   "id": "992997a9-3cea-4d1c-92c6-25e1902ada03",
   "metadata": {},
   "outputs": [
    {
     "data": {
      "text/plain": [
       "True"
      ]
     },
     "execution_count": 9,
     "metadata": {},
     "output_type": "execute_result"
    }
   ],
   "source": [
    "def isPalindrome(s):\n",
    "    n = len(s)\n",
    "    left = 0\n",
    "    right = n-1\n",
    "\n",
    "    while left < right:\n",
    "        while left < right and not s[left].isalnum():\n",
    "            left += 1\n",
    "        while left < right and not s[right].isalnum():\n",
    "            right -= 1\n",
    "        if s[left].lower() != s[right].lower():\n",
    "            return False\n",
    "        left += 1\n",
    "        right -= 1\n",
    "    return True\n",
    "\n",
    "s = \"A man, a plan, a canal: Panama\"\n",
    "isPalindrome(s)"
   ]
  },
  {
   "cell_type": "code",
   "execution_count": null,
   "id": "2cb04234-ce0c-436f-a637-ab48736c7bf9",
   "metadata": {},
   "outputs": [],
   "source": []
  },
  {
   "cell_type": "markdown",
   "id": "44da14af-b5a5-4041-aeeb-7c5234d00a47",
   "metadata": {},
   "source": [
    "# Valid Palindrome - II"
   ]
  },
  {
   "cell_type": "code",
   "execution_count": 11,
   "id": "24a1f81f-fc2d-41ed-9a4a-380e6bcea241",
   "metadata": {},
   "outputs": [
    {
     "data": {
      "text/plain": [
       "True"
      ]
     },
     "execution_count": 11,
     "metadata": {},
     "output_type": "execute_result"
    }
   ],
   "source": [
    "def isPalindrome(s, left, right):\n",
    "    while left < right:\n",
    "        if s[left] != s[right]:\n",
    "            return False\n",
    "        left += 1\n",
    "        right -= 1\n",
    "    return True\n",
    "\n",
    "def validPalindrome(s):\n",
    "    n = len(s)\n",
    "\n",
    "    left = 0\n",
    "    right = n-1\n",
    "\n",
    "    while left < right:\n",
    "        if s[left] != s[right]:\n",
    "            return isPalindrome(s, left+1, right) or isPalindrome(s, left, right-1)\n",
    "        left += 1\n",
    "        right -= 1\n",
    "    return True\n",
    "\n",
    "s = \"maheselham\"\n",
    "validPalindrome(s)"
   ]
  },
  {
   "cell_type": "code",
   "execution_count": null,
   "id": "59dbfdab-874c-4f30-a902-85901469bc9b",
   "metadata": {},
   "outputs": [],
   "source": []
  },
  {
   "cell_type": "markdown",
   "id": "1d07c4b3-1da4-422b-b265-f221b29f6833",
   "metadata": {},
   "source": [
    "# Merge Strings Alternately"
   ]
  },
  {
   "cell_type": "code",
   "execution_count": 12,
   "id": "2895a11f-05bc-4a09-852e-8cc85fa7a599",
   "metadata": {},
   "outputs": [
    {
     "data": {
      "text/plain": [
       "'apbqcd'"
      ]
     },
     "execution_count": 12,
     "metadata": {},
     "output_type": "execute_result"
    }
   ],
   "source": [
    "def mergeAlternately(word1, word2):\n",
    "    n = len(word1)\n",
    "    m = len(word2)\n",
    "    res = ''\n",
    "    i = 0\n",
    "    j = 0\n",
    "    while i < n and j < m:\n",
    "        res += word1[i] + word2[j]\n",
    "        i += 1\n",
    "        j += 1\n",
    "\n",
    "    if i < n:\n",
    "        res += word1[i:]\n",
    "    if j < m:\n",
    "        res += word2[j:]\n",
    "    return res\n",
    "\n",
    "word1 = \"abcd\"\n",
    "word2 = \"pq\"\n",
    "mergeAlternately(word1, word2)"
   ]
  },
  {
   "cell_type": "code",
   "execution_count": null,
   "id": "0021da7c-7e3f-472c-acbc-833b3aab6006",
   "metadata": {},
   "outputs": [],
   "source": []
  },
  {
   "cell_type": "markdown",
   "id": "a77d6f12-963a-4bf0-a487-fb00769f7e86",
   "metadata": {},
   "source": [
    "# Merge Sorted Array"
   ]
  },
  {
   "cell_type": "code",
   "execution_count": 14,
   "id": "01cfc00f-ad2c-4363-b9dc-bc69be6aebb1",
   "metadata": {},
   "outputs": [
    {
     "data": {
      "text/plain": [
       "[1, 2, 2, 3, 5, 6]"
      ]
     },
     "execution_count": 14,
     "metadata": {},
     "output_type": "execute_result"
    }
   ],
   "source": [
    "def merge(nums1, m, nums2, n):\n",
    "    \"\"\"\n",
    "    Do not return anything, modify nums1 in-place instead.\n",
    "    \"\"\"\n",
    "    i = m-1\n",
    "    j = n-1\n",
    "    index = n+m-1\n",
    "\n",
    "    while i >=0 and j >=0:\n",
    "        if nums1[i] >= nums2[j]:\n",
    "            nums1[index] = nums1[i]\n",
    "            i -= 1\n",
    "        else:\n",
    "            nums1[index] = nums2[j]\n",
    "            j -= 1\n",
    "        index -= 1\n",
    "        \n",
    "    while i >= 0:\n",
    "        nums1[index] = nums1[i]\n",
    "        i -= 1\n",
    "        index -= 1\n",
    "    while j >= 0:\n",
    "        nums1[index] =  nums2[j]\n",
    "        j -= 1\n",
    "        index -= 1\n",
    "\n",
    "nums1 = [1,2,3,0,0,0]\n",
    "m = 3\n",
    "nums2 = [2,5,6]\n",
    "n = 3\n",
    "merge(nums1, m, nums2, n)\n",
    "nums1"
   ]
  },
  {
   "cell_type": "code",
   "execution_count": null,
   "id": "fcc9ea2b-7d24-4d54-bf55-ccacea1a239f",
   "metadata": {},
   "outputs": [],
   "source": []
  },
  {
   "cell_type": "markdown",
   "id": "435bd6f7-2757-4d05-8fff-38d41f1abee5",
   "metadata": {},
   "source": [
    "# Remove Duplicates From Sorted Array"
   ]
  },
  {
   "cell_type": "code",
   "execution_count": 15,
   "id": "c45e63dc-37d7-48fd-bcee-86eff19b19ef",
   "metadata": {},
   "outputs": [
    {
     "data": {
      "text/plain": [
       "5"
      ]
     },
     "execution_count": 15,
     "metadata": {},
     "output_type": "execute_result"
    }
   ],
   "source": [
    "\n",
    "def removeDuplicates(nums):\n",
    "    n = len(nums) \n",
    "    i = 0\n",
    "    j = 0\n",
    "    k = 0\n",
    "    while i < n:\n",
    "        if i == 0 or nums[i-1] != nums[i]:\n",
    "            nums[j] = nums[i]\n",
    "            j += 1\n",
    "            k += 1\n",
    "        i += 1\n",
    "    \n",
    "    return k\n",
    "\n",
    "nums = [0,0,1,1,1,2,2,3,3,4]\n",
    "removeDuplicates(nums)"
   ]
  },
  {
   "cell_type": "code",
   "execution_count": null,
   "id": "2728e0e6-54d3-4943-a561-22d2ba06b9cb",
   "metadata": {},
   "outputs": [],
   "source": []
  },
  {
   "cell_type": "markdown",
   "id": "a771a729-793a-451a-a585-e9a5b9030469",
   "metadata": {},
   "source": [
    "# Two Sum II Input Array is Sorted"
   ]
  },
  {
   "cell_type": "code",
   "execution_count": 17,
   "id": "d9d36cf5-53c1-4f4c-906f-3968fd41fa35",
   "metadata": {},
   "outputs": [
    {
     "data": {
      "text/plain": [
       "[1, 2]"
      ]
     },
     "execution_count": 17,
     "metadata": {},
     "output_type": "execute_result"
    }
   ],
   "source": [
    "def twoSum(numbers, target):\n",
    "    left = 0\n",
    "    right = len(numbers) - 1\n",
    "    while (left < right):\n",
    "        if (numbers[left] + numbers[right] < target):\n",
    "            left+=1\n",
    "        elif (numbers[left] + numbers[right] > target):\n",
    "            right-=1\n",
    "        else: \n",
    "            return [left+1, right+1]\n",
    "\n",
    "numbers = [2,7,11,15]\n",
    "target = 9\n",
    "twoSum(numbers, target)"
   ]
  },
  {
   "cell_type": "code",
   "execution_count": null,
   "id": "db2ee82b-f4e6-4802-9e1e-06f495fd1964",
   "metadata": {},
   "outputs": [],
   "source": []
  },
  {
   "cell_type": "markdown",
   "id": "efde0b13-152c-4fad-b363-6e1a3f403dd5",
   "metadata": {},
   "source": [
    "# 3Sum"
   ]
  },
  {
   "cell_type": "code",
   "execution_count": 1,
   "id": "4b7022c8-ead1-4402-b725-1c3f86fd5a39",
   "metadata": {},
   "outputs": [
    {
     "data": {
      "text/plain": [
       "[[-1, -1, 2], [-1, 0, 1]]"
      ]
     },
     "execution_count": 1,
     "metadata": {},
     "output_type": "execute_result"
    }
   ],
   "source": [
    "def threeSum(nums):\n",
    "    nums.sort()\n",
    "    n = len(nums)\n",
    "    res = []\n",
    "    for i in range(n-2):\n",
    "        if i != 0 and nums[i-1] == nums[i]:\n",
    "            continue\n",
    "        j = i+1\n",
    "        k = n-1\n",
    "        while j < k:\n",
    "            sum = nums[i] + nums[j] + nums[k] \n",
    "            if sum == 0:\n",
    "                res.append([nums[i], nums[j], nums[k]])\n",
    "                j += 1\n",
    "                k -= 1\n",
    "                while j < k and nums[j-1] == nums[j]:\n",
    "                    j += 1\n",
    "                while j < k and nums[k] == nums[k+1]:\n",
    "                    k -= 1\n",
    "                \n",
    "            elif sum < 0:\n",
    "                j += 1\n",
    "            else:\n",
    "                k -= 1\n",
    "\n",
    "    return res\n",
    "\n",
    "nums = [-1,0,1,2,-1,-4]\n",
    "threeSum(nums)"
   ]
  },
  {
   "cell_type": "code",
   "execution_count": null,
   "id": "b0f7d7e4-9531-493f-8ca9-df403d4a6350",
   "metadata": {},
   "outputs": [],
   "source": []
  },
  {
   "cell_type": "markdown",
   "id": "a1346774-7361-4488-bf69-202c704ffe3d",
   "metadata": {},
   "source": [
    "# 4Sum"
   ]
  },
  {
   "cell_type": "code",
   "execution_count": 3,
   "id": "420783e9-ea16-42d4-b200-e1877c13938f",
   "metadata": {},
   "outputs": [
    {
     "data": {
      "text/plain": [
       "[[-2, -1, 1, 2], [-2, 0, 0, 2], [-1, 0, 0, 1]]"
      ]
     },
     "execution_count": 3,
     "metadata": {},
     "output_type": "execute_result"
    }
   ],
   "source": [
    "def fourSum(nums, target):\n",
    "    nums.sort()\n",
    "    n = len(nums)\n",
    "    res = []\n",
    "    for i in range(n):\n",
    "        if i > 0 and nums[i-1] == nums[i]:\n",
    "            continue\n",
    "            \n",
    "        for j in range(i+1, n):\n",
    "            if j > i+1 and nums[j-1] == nums[j]:\n",
    "                continue\n",
    "\n",
    "            left = j+1\n",
    "            right = n-1\n",
    "            while left < right:\n",
    "                sum = nums[i] + nums[j] + nums[left] + nums[right]\n",
    "                if sum == target:\n",
    "                    res.append([nums[i], nums[j], nums[left], nums[right]])\n",
    "                    left += 1\n",
    "                    right -= 1\n",
    "                    while left < right and nums[left-1] == nums[left]:\n",
    "                        left += 1\n",
    "                    while left < right and nums[right] == nums[right+1]:\n",
    "                        right -= 1\n",
    "                elif sum < target:\n",
    "                    left += 1\n",
    "                else:\n",
    "                    right -= 1\n",
    "\n",
    "    return res\n",
    "\n",
    "nums = [1,0,-1,0,-2,2]\n",
    "target = 0\n",
    "fourSum(nums, target)"
   ]
  },
  {
   "cell_type": "code",
   "execution_count": null,
   "id": "6a1fa8f5-5504-442c-8fc1-05bb66309df6",
   "metadata": {},
   "outputs": [],
   "source": []
  },
  {
   "cell_type": "markdown",
   "id": "4ede92ae-1187-47c5-8e8b-47e1b47e15e8",
   "metadata": {},
   "source": [
    "# Rotate Array"
   ]
  },
  {
   "cell_type": "code",
   "execution_count": 7,
   "id": "4df32af1-4bc6-49c4-b6a4-163c7507254d",
   "metadata": {},
   "outputs": [
    {
     "data": {
      "text/plain": [
       "[6, 7, 1, 2, 3, 4, 5]"
      ]
     },
     "execution_count": 7,
     "metadata": {},
     "output_type": "execute_result"
    }
   ],
   "source": [
    "def reverse(nums, left, right):\n",
    "    while left < right:\n",
    "        nums[left], nums[right] = nums[right], nums[left]\n",
    "        left += 1\n",
    "        right -= 1\n",
    "\n",
    "def rotate(nums, k):\n",
    "    n = len(nums)\n",
    "    k = k%n\n",
    "\n",
    "    reverse(nums, 0, n-k-1)\n",
    "    reverse(nums, n-k, n-1)\n",
    "    reverse(nums, 0, n-1)\n",
    "\n",
    "nums = [1,2,3,4,5,6,7]\n",
    "k = 2\n",
    "rotate(nums, k)\n",
    "nums"
   ]
  },
  {
   "cell_type": "code",
   "execution_count": null,
   "id": "2fbce45a-a5f7-473e-b7c1-9e04dfdebc5b",
   "metadata": {},
   "outputs": [],
   "source": []
  },
  {
   "cell_type": "markdown",
   "id": "fc3554f2-3ebd-43d5-870f-3b89701e541e",
   "metadata": {},
   "source": [
    "# Container With Most Water"
   ]
  },
  {
   "cell_type": "code",
   "execution_count": 8,
   "id": "7c76b639-232d-4965-af54-287e492f15bc",
   "metadata": {},
   "outputs": [
    {
     "data": {
      "text/plain": [
       "49"
      ]
     },
     "execution_count": 8,
     "metadata": {},
     "output_type": "execute_result"
    }
   ],
   "source": [
    "def maxArea(height):\n",
    "    n = len(height)\n",
    "    maxWater = 0\n",
    "\n",
    "    l = 0\n",
    "    r = n-1\n",
    "    while l < r:\n",
    "        water = (r-l)*min(height[l], height[r])\n",
    "        maxWater = max(maxWater, water)\n",
    "        if height[l] < height[r]:\n",
    "            l += 1\n",
    "        else:\n",
    "            r -= 1\n",
    "    return maxWater\n",
    "height = [1,8,6,2,5,4,8,3,7]\n",
    "maxArea(height)"
   ]
  },
  {
   "cell_type": "code",
   "execution_count": null,
   "id": "b7acc8d2-8e53-47b4-80ed-2fe238fd51dd",
   "metadata": {},
   "outputs": [],
   "source": []
  },
  {
   "cell_type": "markdown",
   "id": "1a2e3430-6799-41f7-bd36-a6509713ea91",
   "metadata": {},
   "source": [
    "# Boats to Save People"
   ]
  },
  {
   "cell_type": "code",
   "execution_count": 10,
   "id": "f6a45d54-9e40-4413-a9b1-d3fa39b216b0",
   "metadata": {},
   "outputs": [
    {
     "data": {
      "text/plain": [
       "5"
      ]
     },
     "execution_count": 10,
     "metadata": {},
     "output_type": "execute_result"
    }
   ],
   "source": [
    "def numRescueBoats(people, limit):\n",
    "    n = len(people)\n",
    "    people.sort()\n",
    "    count = 0\n",
    "    left = 0\n",
    "    right = n-1\n",
    "    while left < right:\n",
    "        if people[left] + people[right] <= limit:\n",
    "            count += 1\n",
    "            left += 1\n",
    "            right -= 1\n",
    "        elif people[left] + people[right] > limit:\n",
    "            count += 1\n",
    "            right -= 1\n",
    "    if left == right:\n",
    "        count += 1\n",
    "    return count\n",
    "\n",
    "people = [1, 1, 2, 2, 2, 2, 2, 3, 3]\n",
    "limit = 6\n",
    "numRescueBoats(people, limit)"
   ]
  },
  {
   "cell_type": "code",
   "execution_count": null,
   "id": "55b62f08-7908-4e43-b11a-573b19cbe39f",
   "metadata": {},
   "outputs": [],
   "source": []
  },
  {
   "cell_type": "markdown",
   "id": "3274fba5-c75a-4bd0-8a98-cb413f5960d1",
   "metadata": {},
   "source": [
    "# Trapping Rain Water"
   ]
  },
  {
   "cell_type": "code",
   "execution_count": 11,
   "id": "08565216-5f27-4bc7-8e83-81b3bb238d79",
   "metadata": {},
   "outputs": [
    {
     "data": {
      "text/plain": [
       "6"
      ]
     },
     "execution_count": 11,
     "metadata": {},
     "output_type": "execute_result"
    }
   ],
   "source": [
    "def trap(height):\n",
    "    n = len(height)\n",
    "    leftMax = [0 for i in range(n)]\n",
    "    leftMax[0] = height[0]\n",
    "    for i in range(1, n):\n",
    "        leftMax[i] = max(height[i], leftMax[i-1])\n",
    "    rightMax = [0 for i in range(n)]\n",
    "    rightMax[n-1] = height[n-1]\n",
    "    for i in range(n-2, -1, -1):\n",
    "        rightMax[i] = max(height[i], rightMax[i+1])\n",
    "\n",
    "    water = 0\n",
    "    for i in range(n):\n",
    "        if height[i] < leftMax[i] and height[i] < rightMax[i]:\n",
    "            water += min(leftMax[i], rightMax[i]) - height[i]\n",
    "    return water\n",
    "\n",
    "height = [0,1,0,2,1,0,1,3,2,1,2,1]\n",
    "trap(height)"
   ]
  },
  {
   "cell_type": "code",
   "execution_count": null,
   "id": "dd866244-6a10-4f65-a8cc-c7d80be17f71",
   "metadata": {},
   "outputs": [],
   "source": []
  }
 ],
 "metadata": {
  "kernelspec": {
   "display_name": "Python 3 (ipykernel)",
   "language": "python",
   "name": "python3"
  },
  "language_info": {
   "codemirror_mode": {
    "name": "ipython",
    "version": 3
   },
   "file_extension": ".py",
   "mimetype": "text/x-python",
   "name": "python",
   "nbconvert_exporter": "python",
   "pygments_lexer": "ipython3",
   "version": "3.12.7"
  }
 },
 "nbformat": 4,
 "nbformat_minor": 5
}
