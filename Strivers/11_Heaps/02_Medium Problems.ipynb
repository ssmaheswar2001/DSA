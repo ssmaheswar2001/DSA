{
 "cells": [
  {
   "cell_type": "markdown",
   "id": "c4554898-7036-4108-a191-d60a995d8e0c",
   "metadata": {},
   "source": [
    "# Kth largest element in an array"
   ]
  },
  {
   "cell_type": "code",
   "execution_count": 4,
   "id": "84b281cc-692f-4d25-8c18-4e9e97f94725",
   "metadata": {},
   "outputs": [
    {
     "data": {
      "text/plain": [
       "(2, 5)"
      ]
     },
     "execution_count": 4,
     "metadata": {},
     "output_type": "execute_result"
    }
   ],
   "source": [
    "import heapq\n",
    "def kth_largest_smallest_element(arr, k):\n",
    "    n = len(arr)\n",
    "    pq_s = []\n",
    "    pq_l = []\n",
    "\n",
    "    for i in range(n):\n",
    "        heapq.heappush(pq_s, arr[i])\n",
    "        heapq.heappush(pq_l, -arr[i])\n",
    "    smallest = -1\n",
    "    largest = -1\n",
    "    for i in range(k):\n",
    "        smallest = heapq.heappop(pq_s)\n",
    "        largest = heapq.heappop(pq_l)\n",
    "    return smallest, -largest\n",
    "\n",
    "arr = [1, 2, 6, 4, 5, 3]\n",
    "k = 2\n",
    "kth_largest_smallest_element(arr, k)"
   ]
  },
  {
   "cell_type": "code",
   "execution_count": null,
   "id": "f8016ca4-86f1-4646-988a-ea9351728897",
   "metadata": {},
   "outputs": [],
   "source": []
  },
  {
   "cell_type": "markdown",
   "id": "7bfbd72e-9b5f-46ba-b8be-e0847555ae59",
   "metadata": {},
   "source": [
    "# Sort K sorted array"
   ]
  },
  {
   "cell_type": "code",
   "execution_count": 10,
   "id": "a2cbd20d-5a9e-43d2-9eb8-e924d7a0c301",
   "metadata": {},
   "outputs": [
    {
     "data": {
      "text/plain": [
       "[1, 2, 3, 4, 5, 6, 7, 8, 9, 10]"
      ]
     },
     "execution_count": 10,
     "metadata": {},
     "output_type": "execute_result"
    }
   ],
   "source": [
    "import heapq\n",
    "def nearlySorted(arr, k):\n",
    "    n = len(arr)\n",
    "    pq = []\n",
    "    for i in range(k):\n",
    "        heapq.heappush(pq, arr[i])\n",
    "            \n",
    "    index = 0\n",
    "    i = k\n",
    "    while i < n:\n",
    "        heapq.heappush(pq, arr[i])\n",
    "        arr[index] = heapq.heappop(pq)\n",
    "        index += 1\n",
    "        i += 1\n",
    "    while len(pq) > 0:\n",
    "        arr[index] = heapq.heappop(pq)\n",
    "        index += 1\n",
    "\n",
    "arr = [6, 5, 3, 2, 8, 10, 9]\n",
    "k = 3\n",
    "arr = [1, 4, 5, 2, 3, 6, 10, 7, 9, 8]\n",
    "# k = 2\n",
    "nearlySorted(arr, k)\n",
    "arr"
   ]
  },
  {
   "cell_type": "code",
   "execution_count": null,
   "id": "69c189f9-3c1f-4664-8f88-237d90b3b2cd",
   "metadata": {},
   "outputs": [],
   "source": []
  },
  {
   "cell_type": "markdown",
   "id": "0c47a1fa-b832-4cb3-b2e2-0a97e4de3972",
   "metadata": {},
   "source": [
    "# Merge M sorted Lists"
   ]
  },
  {
   "cell_type": "code",
   "execution_count": 11,
   "id": "53347ff6-8ffb-4860-8810-1a113a318b13",
   "metadata": {},
   "outputs": [],
   "source": [
    "def mergeKLists(lists):\n",
    "        \n",
    "    n = len(lists)\n",
    "    pq = []\n",
    "    for i in range(n):\n",
    "        cur = lists[i]\n",
    "        while cur != None:\n",
    "            heapq.heappush(pq, cur.val)\n",
    "            nextNode = cur.next\n",
    "            # cur.next = None\n",
    "            cur = nextNode\n",
    "        \n",
    "    dummy = ListNode(-1)\n",
    "    cur = dummy\n",
    "    while len(pq) > 0:\n",
    "        data = heapq.heappop(pq)\n",
    "        cur.next = ListNode(data)\n",
    "        cur = cur.next\n",
    "    head = dummy.next\n",
    "    dummy.next = None\n",
    "    return head"
   ]
  },
  {
   "cell_type": "code",
   "execution_count": null,
   "id": "c4875dc5-ac75-4cfd-839d-9be38ceb6bfd",
   "metadata": {},
   "outputs": [],
   "source": []
  },
  {
   "cell_type": "markdown",
   "id": "6ef40b44-3526-4424-8178-c64530f2f8ab",
   "metadata": {},
   "source": [
    "# Replace each array element by its corresponding rank"
   ]
  },
  {
   "cell_type": "code",
   "execution_count": 13,
   "id": "506aa422-59c7-40a6-a201-b618140a9a06",
   "metadata": {},
   "outputs": [
    {
     "name": "stdout",
     "output_type": "stream",
     "text": [
      "{1: 1, 5: 2, 8: 3, 9: 5, 15: 6, 25: 7}\n"
     ]
    },
    {
     "data": {
      "text/plain": [
       "[1, 2, 3, 6, 3, 7, 5]"
      ]
     },
     "execution_count": 13,
     "metadata": {},
     "output_type": "execute_result"
    }
   ],
   "source": [
    "\n",
    "import heapq\n",
    "\n",
    "def replaceRank(arr):\n",
    "    n = len(arr)\n",
    "    d = {}\n",
    "    pq = []\n",
    "\n",
    "    for i in range(n):\n",
    "        heapq.heappush(pq, arr[i])\n",
    "    rank = 1\n",
    "    while len(pq) > 0:\n",
    "        val = heapq.heappop(pq)\n",
    "        if val not in d:\n",
    "            d[val] = rank\n",
    "        rank += 1\n",
    "    print(d)\n",
    "    res = []\n",
    "    for i in range(n):\n",
    "        res.append(d[arr[i]])\n",
    "    return res\n",
    "    \n",
    "\n",
    "arr = [1, 5, 8, 15, 8, 25, 9]\n",
    "replaceRank(arr)"
   ]
  },
  {
   "cell_type": "code",
   "execution_count": null,
   "id": "5a8e63d8-b155-4c23-95ff-f79094081bba",
   "metadata": {},
   "outputs": [],
   "source": []
  },
  {
   "cell_type": "markdown",
   "id": "43be07b1-2027-4151-b99f-8de2ac7287ee",
   "metadata": {},
   "source": [
    "# Hand of Straights"
   ]
  },
  {
   "cell_type": "code",
   "execution_count": 8,
   "id": "d937d474-4044-4b76-bde1-40f2416a0493",
   "metadata": {},
   "outputs": [
    {
     "data": {
      "text/plain": [
       "True"
      ]
     },
     "execution_count": 8,
     "metadata": {},
     "output_type": "execute_result"
    }
   ],
   "source": [
    "def findSucessors(hand, index, visited, groupSize, n):\n",
    "    visited[index] = 1\n",
    "    count = 1\n",
    "    i = index + 1\n",
    "    nextValue = hand[index]+1\n",
    "    while i < n and count < groupSize:\n",
    "        if visited[i] == -1 and nextValue == hand[i]:\n",
    "            count += 1\n",
    "            nextValue = hand[i] + 1\n",
    "            visited[i] = 1\n",
    "        i += 1\n",
    "    return count == groupSize\n",
    "\n",
    "def isNStraightHand(hand, groupSize):\n",
    "    n = len(hand)\n",
    "    if n % groupSize != 0:\n",
    "        return False\n",
    "\n",
    "    hand.sort()\n",
    "    visited = [-1 for i in range(n)]\n",
    "\n",
    "    for i in range(n):\n",
    "        if visited[i] == -1 and findSucessors(hand, i, visited, groupSize, n) == False:\n",
    "            return False\n",
    "    return True\n",
    "\n",
    "hand = [1,2,3,6,2,3,4,7,8]\n",
    "groupSize = 3\n",
    "isNStraightHand(hand, groupSize)"
   ]
  },
  {
   "cell_type": "code",
   "execution_count": null,
   "id": "4685dfc7-83c6-44a6-b70a-a32642cab41f",
   "metadata": {},
   "outputs": [],
   "source": []
  },
  {
   "cell_type": "markdown",
   "id": "450dc42e-605a-49e8-9a76-49bce3f64ccd",
   "metadata": {},
   "source": [
    "# Top K Frequent Elements"
   ]
  },
  {
   "cell_type": "code",
   "execution_count": 2,
   "id": "3ab29cc7-c899-4d37-9157-15a173ec8378",
   "metadata": {},
   "outputs": [
    {
     "data": {
      "text/plain": [
       "[2, 1]"
      ]
     },
     "execution_count": 2,
     "metadata": {},
     "output_type": "execute_result"
    }
   ],
   "source": [
    "import heapq\n",
    "def topKFrequent(nums, k):\n",
    "    n = len(nums)\n",
    "    d = {}\n",
    "    for i in range(n):\n",
    "        if nums[i] in d:\n",
    "            d[nums[i]] += 1\n",
    "        else:\n",
    "            d[nums[i]] = 1\n",
    "    pq = []\n",
    "    for key, val in d.items():\n",
    "        heapq.heappush(pq, (val, key))\n",
    "        if len(pq) > k:\n",
    "            heapq.heappop(pq)\n",
    "        \n",
    "    res = []\n",
    "    while len(pq) > 0:\n",
    "        val, key = heapq.heappop(pq)\n",
    "        res.append(key)\n",
    "    return res\n",
    "\n",
    "nums = [1,1,1,2,2,3]\n",
    "k = 2\n",
    "topKFrequent(nums, k)"
   ]
  },
  {
   "cell_type": "code",
   "execution_count": null,
   "id": "63c642a6-dc17-4612-a2fd-c4cb09f648d2",
   "metadata": {},
   "outputs": [],
   "source": []
  },
  {
   "cell_type": "markdown",
   "id": "eae9fe02-c091-4b55-b676-71d627651c49",
   "metadata": {},
   "source": [
    "# Find Median from Data Stream"
   ]
  },
  {
   "cell_type": "code",
   "execution_count": 7,
   "id": "5bf462fc-f4dc-4512-95d5-f9708c3ab7c0",
   "metadata": {},
   "outputs": [
    {
     "name": "stdout",
     "output_type": "stream",
     "text": [
      "4\n",
      "2.5\n",
      "2\n",
      "3.0\n",
      "3\n",
      "3.5\n",
      "4\n",
      "4.0\n"
     ]
    }
   ],
   "source": [
    "import heapq\n",
    "class MedianFinder:\n",
    "    def __init__(self):\n",
    "        self.minHeap = []\n",
    "        self.maxHeap = []\n",
    "\n",
    "    def addNum(self, num):\n",
    "        heapq.heappush(self.maxHeap, -num)\n",
    "        heapq.heappush(self.minHeap, -heapq.heappop(self.maxHeap))\n",
    "        if len(self.minHeap) > len(self.maxHeap):\n",
    "            heapq.heappush(self.maxHeap, -heapq.heappop(self.minHeap))\n",
    "        \n",
    "    def findMedian(self):\n",
    "        if len(self.maxHeap) == len(self.minHeap):\n",
    "            m1 = -self.maxHeap[0]\n",
    "            m2 = self.minHeap[0]\n",
    "            return (m1+m2)/2\n",
    "        return -self.maxHeap[0]\n",
    "        \n",
    "m = MedianFinder()\n",
    "m.addNum(4)\n",
    "print(m.findMedian())\n",
    "m.addNum(1)\n",
    "print(m.findMedian())\n",
    "m.addNum(2)\n",
    "print(m.findMedian())\n",
    "m.addNum(4)\n",
    "print(m.findMedian())\n",
    "m.addNum(3)\n",
    "print(m.findMedian())\n",
    "m.addNum(8)\n",
    "print(m.findMedian())\n",
    "m.addNum(5)\n",
    "print(m.findMedian())\n",
    "m.addNum(7)\n",
    "print(m.findMedian())"
   ]
  },
  {
   "cell_type": "code",
   "execution_count": null,
   "id": "9f163171-4c18-4fa6-b7ce-7c220d477775",
   "metadata": {},
   "outputs": [],
   "source": []
  },
  {
   "cell_type": "markdown",
   "id": "ee6c1ba9-e9b7-45ce-a580-876ca2114e5d",
   "metadata": {},
   "source": [
    "# Maximum Sum Combination"
   ]
  },
  {
   "cell_type": "code",
   "execution_count": 4,
   "id": "8ecb4c07-37c2-4bb3-9588-545cd78e9329",
   "metadata": {},
   "outputs": [
    {
     "data": {
      "text/plain": [
       "[8, 9, 9, 10]"
      ]
     },
     "execution_count": 4,
     "metadata": {},
     "output_type": "execute_result"
    }
   ],
   "source": [
    "import heapq\n",
    "def maxSum(A, B, C):\n",
    "    n = len(A)\n",
    "    m = len(B)\n",
    "    pq = []\n",
    "    for i in range(n):\n",
    "        for j in range(m):\n",
    "            heapq.heappush(pq, A[i]+B[j])\n",
    "            if len(pq) > C:\n",
    "                heapq.heappop(pq)\n",
    "    return pq\n",
    "\n",
    "A = [1, 4, 2, 3]\n",
    "B = [2, 5, 1, 6]\n",
    "C = 4\n",
    "maxSum(A, B, C)"
   ]
  },
  {
   "cell_type": "code",
   "execution_count": null,
   "id": "1111425b-33fb-481a-b491-216d0fab7953",
   "metadata": {},
   "outputs": [],
   "source": []
  }
 ],
 "metadata": {
  "kernelspec": {
   "display_name": "Python 3 (ipykernel)",
   "language": "python",
   "name": "python3"
  },
  "language_info": {
   "codemirror_mode": {
    "name": "ipython",
    "version": 3
   },
   "file_extension": ".py",
   "mimetype": "text/x-python",
   "name": "python",
   "nbconvert_exporter": "python",
   "pygments_lexer": "ipython3",
   "version": "3.12.7"
  }
 },
 "nbformat": 4,
 "nbformat_minor": 5
}
