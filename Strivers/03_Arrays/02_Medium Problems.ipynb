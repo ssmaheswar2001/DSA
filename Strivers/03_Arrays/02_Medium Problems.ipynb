{
 "cells": [
  {
   "cell_type": "markdown",
   "id": "5c74a6ff",
   "metadata": {},
   "source": [
    "# 2 Sum  Problem"
   ]
  },
  {
   "cell_type": "code",
   "execution_count": 1,
   "id": "c1b6bedf",
   "metadata": {},
   "outputs": [
    {
     "data": {
      "text/plain": [
       "[1, 3]"
      ]
     },
     "execution_count": 1,
     "metadata": {},
     "output_type": "execute_result"
    }
   ],
   "source": [
    "# Brute Force Appraoch : Iterating all possible elements\n",
    "# Time Complexity : O(N)\n",
    "# Space Complexity : O(1)\n",
    "\n",
    "def _2Sum(arr, target):\n",
    "    n = len(arr)\n",
    "    \n",
    "    for i in range(n):\n",
    "        for j in range(i+1, n):\n",
    "            if arr[i]+arr[j] == target:\n",
    "                return [i, j]\n",
    "    return -1\n",
    "\n",
    "arr = [2, 6, 5, 8, 11]\n",
    "target = 14\n",
    "_2Sum(arr, target)"
   ]
  },
  {
   "cell_type": "code",
   "execution_count": 2,
   "id": "e1d344d4",
   "metadata": {},
   "outputs": [
    {
     "data": {
      "text/plain": [
       "[1, 3]"
      ]
     },
     "execution_count": 2,
     "metadata": {},
     "output_type": "execute_result"
    }
   ],
   "source": [
    "# Better Approach : Hashing\n",
    "# Time Complexity : O(N)\n",
    "# Space Complexity : O(N)\n",
    "\n",
    "def _2Sum(arr, target):\n",
    "    n = len(arr)\n",
    "    _hash = dict()\n",
    "    \n",
    "    i = 0\n",
    "    # O(N)\n",
    "    while i < n:\n",
    "        rem = target-arr[i]\n",
    "        # O(1)\n",
    "        if rem in _hash:\n",
    "            return [_hash[rem], i]\n",
    "        _hash[arr[i]] = i\n",
    "        i += 1\n",
    "    return -1\n",
    "    \n",
    "\n",
    "arr = [2, 6, 5, 8, 11]\n",
    "target = 14\n",
    "_2Sum(arr, target)"
   ]
  },
  {
   "cell_type": "code",
   "execution_count": 7,
   "id": "c1648a59",
   "metadata": {},
   "outputs": [
    {
     "data": {
      "text/plain": [
       "True"
      ]
     },
     "execution_count": 7,
     "metadata": {},
     "output_type": "execute_result"
    }
   ],
   "source": [
    "# Better Approach : Sorting & 2 Pointer Approach\n",
    "# This gives only wether the 2 sum is present or not\n",
    "# Time Complexity : O(N)\n",
    "# Space Complexity : O(1)\n",
    "\n",
    "def _2Sum(arr, target):\n",
    "    n = len(arr)\n",
    "    left = 0\n",
    "    right = n-1\n",
    "    \n",
    "    arr.sort()\n",
    "    \n",
    "    while left < right:\n",
    "        if target == (arr[left] + arr[right]):\n",
    "            return True\n",
    "        elif target > (arr[left] + arr[right]):\n",
    "            left+=1\n",
    "        elif target < (arr[left] + arr[right]):\n",
    "            right -= 1\n",
    "    return False\n",
    "        \n",
    "arr = [2, 6, 5, 8, 11]\n",
    "target = 14\n",
    "_2Sum(arr, target)"
   ]
  },
  {
   "cell_type": "code",
   "execution_count": null,
   "id": "fb49881f",
   "metadata": {},
   "outputs": [],
   "source": []
  },
  {
   "cell_type": "markdown",
   "id": "5a630012",
   "metadata": {},
   "source": [
    "# Sorting an array of 0's, 1's and 2's"
   ]
  },
  {
   "cell_type": "code",
   "execution_count": 9,
   "id": "a29c280c",
   "metadata": {},
   "outputs": [],
   "source": [
    "# Brute Force Approach : Using Quick Sort\n",
    "# Time Complexity : O(NLogN)\n",
    "# space Complexity : O(N)"
   ]
  },
  {
   "cell_type": "code",
   "execution_count": 13,
   "id": "b471528a",
   "metadata": {},
   "outputs": [
    {
     "data": {
      "text/plain": [
       "[0, 0, 1, 1, 2, 2]"
      ]
     },
     "execution_count": 13,
     "metadata": {},
     "output_type": "execute_result"
    }
   ],
   "source": [
    "# Better Appraoch\n",
    "# Time Complexity : O(N)\n",
    "# Space Complexity : O(1)\n",
    "\n",
    "def Sorting012(arr):\n",
    "    n = len(arr)\n",
    "    zeros = 0\n",
    "    ones = 0\n",
    "    twos = 0\n",
    "    \n",
    "    for i in range(n):\n",
    "        if arr[i] == 0:\n",
    "            zeros += 1\n",
    "        elif arr[i] == 1:\n",
    "            ones += 1\n",
    "        elif arr[i] == 2:\n",
    "            twos += 1\n",
    "    \n",
    "    i = 0\n",
    "    while i < zeros:\n",
    "        arr[i] = 0\n",
    "        i += 1\n",
    "    while i < (zeros+ones):\n",
    "        arr[i] = 1\n",
    "        i += 1\n",
    "    while i < n:\n",
    "        arr[i] = 2\n",
    "        i += 1\n",
    "        \n",
    "    return arr\n",
    "        \n",
    "arr = [2, 0, 2, 1, 1, 0]\n",
    "Sorting012(arr)"
   ]
  },
  {
   "cell_type": "code",
   "execution_count": 23,
   "id": "d27a66d5",
   "metadata": {},
   "outputs": [
    {
     "data": {
      "text/plain": [
       "[0, 1, 2]"
      ]
     },
     "execution_count": 23,
     "metadata": {},
     "output_type": "execute_result"
    }
   ],
   "source": [
    "# Optimal Approach : Using Detuch National Flag Algorithm - using 3 pointers\n",
    "# Time Complexity : O(N)\n",
    "# Time Complexity : O(1)\n",
    "\n",
    "def Sorting012(arr):\n",
    "    n = len(arr)\n",
    "    \n",
    "    low = 0\n",
    "    mid = 0\n",
    "    high = n-1\n",
    "    \n",
    "    while mid <= high:\n",
    "        if arr[mid] == 0:\n",
    "            arr[mid], arr[low] = arr[low], arr[mid]\n",
    "            low += 1\n",
    "            mid += 1\n",
    "        elif arr[mid] == 1:\n",
    "            mid += 1\n",
    "        elif arr[mid] == 2:\n",
    "            arr[mid], arr[high] = arr[high], arr[mid]\n",
    "            high -= 1\n",
    "    return arr\n",
    "\n",
    "arr = [2, 2, 2, 1, 1, 0]\n",
    "arr = [2, 0, 1]\n",
    "Sorting012(arr)"
   ]
  },
  {
   "cell_type": "code",
   "execution_count": null,
   "id": "7474d8ff",
   "metadata": {},
   "outputs": [],
   "source": []
  },
  {
   "cell_type": "markdown",
   "id": "c5e491df",
   "metadata": {},
   "source": [
    "# Majority Element (>n/2 times)"
   ]
  },
  {
   "cell_type": "code",
   "execution_count": 29,
   "id": "d9fd24ed",
   "metadata": {},
   "outputs": [
    {
     "data": {
      "text/plain": [
       "2"
      ]
     },
     "execution_count": 29,
     "metadata": {},
     "output_type": "execute_result"
    }
   ],
   "source": [
    "# Brute Force Approach - iterate through all possibilities\n",
    "# Time Complexity : O(N^2)\n",
    "# Space Complexity : O(1)\n",
    "\n",
    "def majorityElement(arr):\n",
    "    n = len(arr)\n",
    "    majority = n//2\n",
    "    \n",
    "    for i in range(n):\n",
    "        count = 0\n",
    "        for j in range(i, n):\n",
    "            if arr[i] == arr[j]:\n",
    "                count += 1\n",
    "            if count > majority:\n",
    "                return arr[i]\n",
    "\n",
    "arr = [2,2,1,1,1,2,2]\n",
    "majorityElement(arr)"
   ]
  },
  {
   "cell_type": "code",
   "execution_count": 28,
   "id": "a4d2f616",
   "metadata": {},
   "outputs": [
    {
     "data": {
      "text/plain": [
       "2"
      ]
     },
     "execution_count": 28,
     "metadata": {},
     "output_type": "execute_result"
    }
   ],
   "source": [
    "# Better Approach - Using Hashing\n",
    "# Time Complexity : O(N)\n",
    "# Space Complexity : O(LogN) or O(1)\n",
    "\n",
    "def majorityElement(arr):\n",
    "    n = len(arr)\n",
    "    majority = n//2\n",
    "    \n",
    "    hashDict = dict()\n",
    "    \n",
    "    # O(N)\n",
    "    for i in range(n):\n",
    "        # O(LogN) or (N) - Depends on the map we are using\n",
    "        if arr[i] in hashDict:\n",
    "            hashDict[arr[i]] += 1\n",
    "            if hashDict[arr[i]] > majority:\n",
    "                return arr[i]\n",
    "        else:\n",
    "            hashDict[arr[i]] = 1\n",
    "            \n",
    "    return -1\n",
    "        \n",
    "\n",
    "arr = [2,2,1,1,1,2,2]\n",
    "majorityElement(arr)"
   ]
  },
  {
   "cell_type": "code",
   "execution_count": 40,
   "id": "cd860e29",
   "metadata": {},
   "outputs": [
    {
     "data": {
      "text/plain": [
       "2"
      ]
     },
     "execution_count": 40,
     "metadata": {},
     "output_type": "execute_result"
    }
   ],
   "source": [
    "# Optimal approach - Using Moore's voting algorithm\n",
    "# Time Complexity : O(N)\n",
    "# Space Complexity : O(1)\n",
    "\n",
    "def majorityElement(arr):\n",
    "    n = len(arr)\n",
    "    majority = n//2\n",
    "    \n",
    "    count = 0\n",
    "    i = 0\n",
    "    while i < n:\n",
    "        if count == 0:\n",
    "            element = arr[i]\n",
    "        if arr[i] == element:\n",
    "            count += 1\n",
    "        else:\n",
    "            count -= 1\n",
    "        i += 1\n",
    "    \n",
    "    count = 0\n",
    "    for i in range(n):\n",
    "        if arr[i] == element:\n",
    "            count += 1\n",
    "        if count > majority:\n",
    "            return element\n",
    "    return -1\n",
    "        \n",
    "arr = [2,2,1,1,2,1]\n",
    "arr = [2,2,1,1,1,2,2]\n",
    "majorityElement(arr)"
   ]
  },
  {
   "cell_type": "code",
   "execution_count": null,
   "id": "dbfb9281",
   "metadata": {},
   "outputs": [],
   "source": []
  },
  {
   "cell_type": "markdown",
   "id": "7e4b8081",
   "metadata": {},
   "source": [
    "# Kadane's Algorithm - Max subarray sum"
   ]
  },
  {
   "cell_type": "code",
   "execution_count": 41,
   "id": "a2ea9e8e",
   "metadata": {},
   "outputs": [
    {
     "data": {
      "text/plain": [
       "23"
      ]
     },
     "execution_count": 41,
     "metadata": {},
     "output_type": "execute_result"
    }
   ],
   "source": [
    "# Brute Force Approach : Using Iteration\n",
    "# Time Complexity : O(N^3)\n",
    "# Space Complexity : O(1)\n",
    "\n",
    "\n",
    "def maxSubSum(arr):\n",
    "    n = len(arr)\n",
    "    maxSum = -9999999\n",
    "    \n",
    "    for i in range(n):\n",
    "        for j in range(i, n):\n",
    "            sum = 0\n",
    "            for k in range(i, j+1):\n",
    "                sum += arr[k]\n",
    "            maxSum = max(maxSum, sum)\n",
    "            \n",
    "    return maxSum\n",
    "\n",
    "arr =[-2,1,-3,4,-1,2,1,-5,4]\n",
    "arr = [5,4,-1,7,8]\n",
    "maxSubSum(arr)"
   ]
  },
  {
   "cell_type": "code",
   "execution_count": 42,
   "id": "0bb6f51d",
   "metadata": {},
   "outputs": [
    {
     "data": {
      "text/plain": [
       "6"
      ]
     },
     "execution_count": 42,
     "metadata": {},
     "output_type": "execute_result"
    }
   ],
   "source": [
    "# Brute Force Appraoch\n",
    "# Time Complexity : O(N^2)\n",
    "# Space Complexity : O(1)\n",
    "\n",
    "def maxSubSum(arr):\n",
    "    \n",
    "    n = len(arr)\n",
    "    maxSum = -9999999\n",
    "\n",
    "    for i in range(n):\n",
    "        sum = 0\n",
    "        for j in range(i, n):\n",
    "            sum += arr[j]\n",
    "            maxSum = max(maxSum, sum)\n",
    "            \n",
    "    return maxSum\n",
    "\n",
    "arr =[-2,1,-3,4,-1,2,1,-5,4]\n",
    "# arr = [5,4,-1,7,8]\n",
    "maxSubSum(arr)"
   ]
  },
  {
   "cell_type": "code",
   "execution_count": 6,
   "id": "902dc1eb",
   "metadata": {},
   "outputs": [
    {
     "data": {
      "text/plain": [
       "-1"
      ]
     },
     "execution_count": 6,
     "metadata": {},
     "output_type": "execute_result"
    }
   ],
   "source": [
    "# Optimal Approach - Kadane's Algorithm\n",
    "# Time Complexity : O(N)\n",
    "# Space Complexity : O(1)\n",
    "\n",
    "def maxSubSum(arr):\n",
    "    \n",
    "    n = len(arr)\n",
    "    sum = 0\n",
    "    maxSum = -9999999\n",
    "    \n",
    "    i = 0\n",
    "    while i<n:\n",
    "        sum += arr[i]\n",
    "        maxSum = max(maxSum, sum)\n",
    "        if sum<0:\n",
    "            sum = 0\n",
    "        i += 1\n",
    "\n",
    "            \n",
    "    return maxSum\n",
    "\n",
    "arr =[-2,1,-3,4,-1,2,1,-5,4]\n",
    "# arr = [5,4,-1,7,8]\n",
    "arr = [-2, -3, 4, -1, -2, 1, 5, -3]\n",
    "arr = [-5, -2, -4, -1, -3]\n",
    "maxSubSum(arr)"
   ]
  },
  {
   "cell_type": "code",
   "execution_count": null,
   "id": "8cd94dc2",
   "metadata": {},
   "outputs": [],
   "source": []
  },
  {
   "cell_type": "markdown",
   "id": "aa7648cd",
   "metadata": {},
   "source": [
    "# Print Subarray with maximum subarray sum"
   ]
  },
  {
   "cell_type": "code",
   "execution_count": 44,
   "id": "03e41644",
   "metadata": {},
   "outputs": [
    {
     "data": {
      "text/plain": [
       "[4, -1, -2, 1, 5]"
      ]
     },
     "execution_count": 44,
     "metadata": {},
     "output_type": "execute_result"
    }
   ],
   "source": [
    "# Brute Force Approach - Trying out all subarrays\n",
    "# Time Complexity : O(N^2)\n",
    "# Space Complexity : O(1)\n",
    "\n",
    "def printmaxSum(arr):\n",
    "    n = len(arr)\n",
    "    maxSum = -99999\n",
    "    start = 0\n",
    "    end = 0\n",
    "    \n",
    "    for i in range(n):\n",
    "        sum = 0\n",
    "        for j in range(i, n):\n",
    "            sum += arr[j]\n",
    "            if maxSum < sum:\n",
    "                maxSum = sum\n",
    "                start, end = i, j\n",
    "    return arr[start:end+1]\n",
    "            \n",
    "    \n",
    "arr = [-2, -3, 4, -1, -2, 1, 5, -3]\n",
    "printmaxSum(arr)"
   ]
  },
  {
   "cell_type": "code",
   "execution_count": 45,
   "id": "a1f03f87",
   "metadata": {},
   "outputs": [
    {
     "data": {
      "text/plain": [
       "[4, 3, 1, 5, 6]"
      ]
     },
     "execution_count": 45,
     "metadata": {},
     "output_type": "execute_result"
    }
   ],
   "source": [
    "# Optimal approach - Kadane's Algorithm\n",
    "# Time Complexity : O(N)\n",
    "# Space Complexity : O(1)\n",
    "\n",
    "def printmaxSum(arr):\n",
    "    n = len(arr)\n",
    "    maxSum = -99999\n",
    "    sum = 0\n",
    "    start = 0\n",
    "    ansStart = 0\n",
    "    ansEnd = 0\n",
    "    \n",
    "    i = 0\n",
    "    while i < n:\n",
    "        if sum == 0:\n",
    "            start = i\n",
    "        sum += arr[i]\n",
    "        if maxSum < sum:\n",
    "            maxSum = sum\n",
    "            ansStart = start\n",
    "            ansEnd = i\n",
    "        if sum < 0:\n",
    "            sum = 0\n",
    "        i += 1\n",
    "    \n",
    "    return arr[ansStart:ansEnd+1]\n",
    "\n",
    "arr = [-2, -3, 4, -1, -2, 1, 5, -3]\n",
    "# arr = [-2, -3, 4, -6, -1, -2, 3, -1, -5]\n",
    "arr = [4, 3, 1, 5, 6]\n",
    "printmaxSum(arr)"
   ]
  },
  {
   "cell_type": "code",
   "execution_count": null,
   "id": "b57d5cef",
   "metadata": {},
   "outputs": [],
   "source": []
  },
  {
   "cell_type": "markdown",
   "id": "f151172e",
   "metadata": {},
   "source": [
    "# Stock Buy and Sell"
   ]
  },
  {
   "cell_type": "code",
   "execution_count": 47,
   "id": "f78fce4f",
   "metadata": {},
   "outputs": [
    {
     "data": {
      "text/plain": [
       "0"
      ]
     },
     "execution_count": 47,
     "metadata": {},
     "output_type": "execute_result"
    }
   ],
   "source": [
    "# Brute Force Appraoch - Iterate through all possibilities\n",
    "# Time Complexity : O(N^2)\n",
    "# Space Complexity : O(1)\n",
    "\n",
    "def maxProfit(arr):\n",
    "    n = len(arr)\n",
    "    \n",
    "    maxProfit = 0\n",
    "    for i in range(n-1):\n",
    "        profit = 0\n",
    "        for j in range(i+1, n):\n",
    "            profit = arr[j] - arr[i]\n",
    "            maxProfit = max(maxProfit, profit)\n",
    "\n",
    "    return maxProfit\n",
    "\n",
    "arr = [7, 1, 5, 3, 6, 4]\n",
    "arr = [7,6,4,3,1]\n",
    "maxProfit(arr)"
   ]
  },
  {
   "cell_type": "code",
   "execution_count": 50,
   "id": "52ea5d10",
   "metadata": {},
   "outputs": [
    {
     "data": {
      "text/plain": [
       "5"
      ]
     },
     "execution_count": 50,
     "metadata": {},
     "output_type": "execute_result"
    }
   ],
   "source": [
    "# Optimal approach\n",
    "# Time complexity : O(N)\n",
    "# Space Complexity : O(1)\n",
    "\n",
    "def maxProfit(arr):\n",
    "    n = len(arr)\n",
    "    \n",
    "    profit = 0\n",
    "    _min = arr[0]\n",
    "    \n",
    "    i = 1\n",
    "    while i<n:\n",
    "        cost = arr[i] - _min\n",
    "        profit = max(profit, cost )\n",
    "        _min = min(_min, arr[i])\n",
    "        i += 1\n",
    "        \n",
    "    return profit\n",
    "\n",
    "arr = [7, 1, 5, 3, 6, 4]\n",
    "# arr = [7,6,4,3,1]\n",
    "maxProfit(arr)"
   ]
  },
  {
   "cell_type": "code",
   "execution_count": null,
   "id": "af91cfd7",
   "metadata": {},
   "outputs": [],
   "source": []
  },
  {
   "cell_type": "markdown",
   "id": "1592fa86",
   "metadata": {},
   "source": [
    "# Rearrange the array in alternative positive and negative items - No of +ve's and -ve's are equal."
   ]
  },
  {
   "cell_type": "code",
   "execution_count": 5,
   "id": "3a61f24a",
   "metadata": {},
   "outputs": [
    {
     "data": {
      "text/plain": [
       "[3, -2, 1, -5, 2, -4]"
      ]
     },
     "execution_count": 5,
     "metadata": {},
     "output_type": "execute_result"
    }
   ],
   "source": [
    "# Better force Appraoch\n",
    "# Time complexity : O(N) + O(N/2)\n",
    "# Space Complexity : O(N)\n",
    "\n",
    "def rearrange(arr):\n",
    "    n = len(arr)\n",
    "    pos = []\n",
    "    neg = []\n",
    "    \n",
    "    O(N)\n",
    "    for i in range(n):\n",
    "        if arr[i] > 0:\n",
    "            pos.append(arr[i])\n",
    "        elif arr[i] < 0:\n",
    "            neg.append(arr[i])\n",
    "    \n",
    "    # O(N/2)\n",
    "    for i in range(n//2):\n",
    "        arr[2*i] = pos[i]\n",
    "        arr[2*i+1] = neg[i]\n",
    "    return arr\n",
    "    \n",
    "arr = [3,1,-2,-5,2,-4]\n",
    "rearrange(arr)"
   ]
  },
  {
   "cell_type": "code",
   "execution_count": 10,
   "id": "2ef4f75d",
   "metadata": {},
   "outputs": [
    {
     "data": {
      "text/plain": [
       "[3, -2, 1, -5, 2, -4]"
      ]
     },
     "execution_count": 10,
     "metadata": {},
     "output_type": "execute_result"
    }
   ],
   "source": [
    "# Optimal appraoch\n",
    "# Time Complexity : O(N)\n",
    "# Space Complexity : O(N)\n",
    "\n",
    "def rearrange(arr):\n",
    "    n = len(arr)\n",
    "    res = [0]*n\n",
    "    \n",
    "    posIndex = 0\n",
    "    negIndex = 1\n",
    "    for i in range(n):\n",
    "        if arr[i] > 0:\n",
    "            res[posIndex] = arr[i]\n",
    "            posIndex += 2\n",
    "        else:\n",
    "            res[negIndex] = arr[i]\n",
    "            negIndex += 2\n",
    "    return res\n",
    "    \n",
    "arr = [3, 1, -2, -5, 2, -4]\n",
    "rearrange(arr)"
   ]
  },
  {
   "cell_type": "code",
   "execution_count": null,
   "id": "c5356c52",
   "metadata": {},
   "outputs": [],
   "source": []
  },
  {
   "cell_type": "markdown",
   "id": "f5d2dbfc",
   "metadata": {},
   "source": [
    "# Rearrange the array in alternative positive and negative items - No of +ve's and -ve's are not equal."
   ]
  },
  {
   "cell_type": "code",
   "execution_count": 13,
   "id": "ff41c36b",
   "metadata": {},
   "outputs": [
    {
     "data": {
      "text/plain": [
       "[1, -4, 2, -5, 3, 6]"
      ]
     },
     "execution_count": 13,
     "metadata": {},
     "output_type": "execute_result"
    }
   ],
   "source": [
    "# Better Approach : \n",
    "# Time complexity : O(N) + O(N)\n",
    "# Space Complexity : O(N)\n",
    "\n",
    "def rearrange(arr):\n",
    "    n = len(arr)\n",
    "#     res = []\n",
    "    pos = []\n",
    "    neg = []\n",
    "    \n",
    "    # O(N)\n",
    "    for i in range(n):\n",
    "        if arr[i] > 0:\n",
    "            pos.append(arr[i])\n",
    "        else:\n",
    "            neg.append(arr[i])\n",
    "    \n",
    "    l = len(pos)\n",
    "    m = len(neg)\n",
    "    i = 0\n",
    "    pIndex = 0\n",
    "    nIndex = 0\n",
    "    # O(min(pos, neg))\n",
    "    while pIndex < l and nIndex < m:\n",
    "        arr[i] = pos[pIndex]\n",
    "        i += 1\n",
    "        arr[i] = neg[nIndex]\n",
    "        i += 1\n",
    "        pIndex += 1\n",
    "        nIndex += 1\n",
    "    \n",
    "    # O(leftovers)\n",
    "    while pIndex < l:\n",
    "        arr[i] = pos[pIndex]\n",
    "        i += 1\n",
    "        pIndex += 1\n",
    "    while nIndex < m:\n",
    "        arr[i] = neg[nIndex]\n",
    "        nIndex += 1\n",
    "        i += 1\n",
    "    return arr\n",
    "    \n",
    "arr = [1, 2, -4, -5, 3, 6]\n",
    "rearrange(arr)"
   ]
  },
  {
   "cell_type": "code",
   "execution_count": null,
   "id": "934ad674",
   "metadata": {},
   "outputs": [],
   "source": []
  },
  {
   "cell_type": "markdown",
   "id": "c316ebd6",
   "metadata": {},
   "source": [
    "# Next Permutation"
   ]
  },
  {
   "cell_type": "code",
   "execution_count": 27,
   "id": "5eb49986",
   "metadata": {},
   "outputs": [],
   "source": [
    "# Brute Force Approach - All possible permutations; Generate all permutations, linear search.\n",
    "# Time complexity : O(N!xN)\n",
    "# \n"
   ]
  },
  {
   "cell_type": "code",
   "execution_count": 78,
   "id": "b0b209d4",
   "metadata": {},
   "outputs": [
    {
     "data": {
      "text/plain": [
       "[1, 2, 3]"
      ]
     },
     "execution_count": 78,
     "metadata": {},
     "output_type": "execute_result"
    }
   ],
   "source": [
    "# Optimal Appraoch\n",
    "# Time Complexity : O(3N)\n",
    "# Space Complexity : O(1)\n",
    "\n",
    "def nextPermutation(arr):\n",
    "    \n",
    "    n = len(arr)\n",
    "    position = -1\n",
    "    i = n-1\n",
    "    # O(N)\n",
    "    while i>0:\n",
    "        if arr[i] > arr[i-1]:\n",
    "            position = i-1\n",
    "            break\n",
    "        i -=1\n",
    "    \n",
    "    if position == -1:\n",
    "        return arr[::-1]\n",
    "    \n",
    "    O(N)\n",
    "    for i in range(n-1, position, -1):\n",
    "        if arr[i] > arr[position]:\n",
    "            arr[i], arr[position] = arr[position], arr[i]\n",
    "            break           \n",
    "    \n",
    "    l = position +1\n",
    "    r = n-1\n",
    "    # O(N)\n",
    "    while l<r:\n",
    "        arr[l], arr[r] = arr[r], arr[l]\n",
    "        l += 1\n",
    "        r -= 1\n",
    "    return arr\n",
    "\n",
    "arr = [2, 1, 5, 4, 3, 0, 0]\n",
    "arr = [1, 3, 2]\n",
    "arr = [3, 2, 1]\n",
    "nextPermutation(arr)"
   ]
  },
  {
   "cell_type": "code",
   "execution_count": null,
   "id": "393df584",
   "metadata": {},
   "outputs": [],
   "source": []
  },
  {
   "cell_type": "markdown",
   "id": "d92bbcc6",
   "metadata": {},
   "source": [
    "# Leaders in an Array"
   ]
  },
  {
   "cell_type": "code",
   "execution_count": 82,
   "id": "e32ad7a9",
   "metadata": {},
   "outputs": [
    {
     "data": {
      "text/plain": [
       "[22, 12, 6]"
      ]
     },
     "execution_count": 82,
     "metadata": {},
     "output_type": "execute_result"
    }
   ],
   "source": [
    "# Brute force Approach\n",
    "# Time Complexity : O(N^2)\n",
    "# Space Complexity : O(N)\n",
    "\n",
    "def leaders(arr):\n",
    "    n = len(arr)\n",
    "    res = []\n",
    "    for i in range(n):\n",
    "        leader = True\n",
    "        for j in range(i, n):\n",
    "            if arr[i] < arr[j]:\n",
    "                leader = False\n",
    "                break\n",
    "        if leader == True:\n",
    "            res.append(arr[i])\n",
    "            \n",
    "    return res\n",
    "    \n",
    "arr = [10, 22, 12, 3, 0, 6]\n",
    "leaders(arr)"
   ]
  },
  {
   "cell_type": "code",
   "execution_count": 85,
   "id": "ee6a590a",
   "metadata": {},
   "outputs": [
    {
     "data": {
      "text/plain": [
       "[22, 12, 6]"
      ]
     },
     "execution_count": 85,
     "metadata": {},
     "output_type": "execute_result"
    }
   ],
   "source": [
    "# Optimal Approach\n",
    "# Time complexity : O(N)\n",
    "\n",
    "def leaders(arr):\n",
    "    n = len(arr)\n",
    "    res = []\n",
    "    i = n-1\n",
    "    _max = arr[i]\n",
    "    while i >= 0:\n",
    "        if arr[i] >= _max:\n",
    "            res.append(arr[i])\n",
    "            _max = arr[i]\n",
    "        i -= 1\n",
    "    return res[::-1]\n",
    "    \n",
    "arr = [10, 22, 12, 3, 0, 6]\n",
    "leaders(arr)"
   ]
  },
  {
   "cell_type": "code",
   "execution_count": null,
   "id": "c0e2bf92",
   "metadata": {},
   "outputs": [],
   "source": []
  },
  {
   "cell_type": "markdown",
   "id": "532d61bc",
   "metadata": {},
   "source": [
    "# Longest Consecutive Sequence in an Array"
   ]
  },
  {
   "cell_type": "code",
   "execution_count": 88,
   "id": "b4a28b29",
   "metadata": {},
   "outputs": [
    {
     "data": {
      "text/plain": [
       "4"
      ]
     },
     "execution_count": 88,
     "metadata": {},
     "output_type": "execute_result"
    }
   ],
   "source": [
    "# Brute force\n",
    "# Time Complexity : O(N^3)\n",
    "# Space Complexity : O(1)\n",
    "\n",
    "def linearSearch(arr, key):\n",
    "    for i in range(len(arr)):\n",
    "        if arr[i] == key:\n",
    "            return True\n",
    "    return False\n",
    "\n",
    "def longSequence(arr):\n",
    "    n = len(arr)\n",
    "    longest = 1\n",
    "    \n",
    "    # O(N)\n",
    "    for i in range(n):\n",
    "        x = arr[i]\n",
    "        count = 1\n",
    "        # O(N^2)\n",
    "        while(linearSearch(arr, x+1) == True):\n",
    "            x += 1\n",
    "            count += 1\n",
    "        longest = max(longest, count)\n",
    "        \n",
    "    return longest\n",
    "\n",
    "arr = [102, 4, 100, 1, 101, 3, 2, 1 , 1]\n",
    "longSequence(arr)"
   ]
  },
  {
   "cell_type": "code",
   "execution_count": 15,
   "id": "318ef310",
   "metadata": {},
   "outputs": [
    {
     "data": {
      "text/plain": [
       "9"
      ]
     },
     "execution_count": 15,
     "metadata": {},
     "output_type": "execute_result"
    }
   ],
   "source": [
    "# Better Approach\n",
    "# Time Complexity : O(NLogN)\n",
    "# space Complexity : O(1)\n",
    "\n",
    "def longSequence(arr):\n",
    "    n = len(arr)\n",
    "    if n <= 1:\n",
    "        return n\n",
    "    \n",
    "    # O(NLogN)\n",
    "    arr.sort()\n",
    "    \n",
    "    longest = 1\n",
    "    temp = arr[0]\n",
    "    count = 1\n",
    "    for i in range(1, n):\n",
    "        if arr[i] == temp:\n",
    "            temp = arr[i]\n",
    "        elif arr[i]-1 == temp:\n",
    "            count += 1\n",
    "            temp = arr[i]\n",
    "        elif arr[i] != temp:\n",
    "            temp = arr[i]\n",
    "            count = 1\n",
    "        longest = max(longest, count)\n",
    "        \n",
    "    return longest\n",
    "        \n",
    "\n",
    "arr = [100, 102, 100, 101, 101, 4, 3, 2, 3, 2, 1, 1, 1, 2]\n",
    "# arr = [102, 4, 100, 1, 101, 3, 2, 1 , 1]\n",
    "# arr = [100,4,200,1,3,2]\n",
    "arr = [0,3,7,2,5,8,4,6,0,1]\n",
    "# arr = [36, 41, 56, 35, 44, 33, 34, 92, 43, 32, 42]\n",
    "longSequence(arr)"
   ]
  },
  {
   "cell_type": "code",
   "execution_count": 16,
   "id": "d13fd1b3",
   "metadata": {},
   "outputs": [
    {
     "data": {
      "text/plain": [
       "9"
      ]
     },
     "execution_count": 16,
     "metadata": {},
     "output_type": "execute_result"
    }
   ],
   "source": [
    "# Optimal Approach\n",
    "# Time Complexity : O(3N)\n",
    "# Space Complexity : O(N)\n",
    "\n",
    "def longSequence(arr):\n",
    "    n = len(arr)\n",
    "    if n <=1:\n",
    "        return n\n",
    "    \n",
    "    longest = 1;\n",
    "    _setArr = set()\n",
    "    # O(N)\n",
    "    for i in range(n):\n",
    "        _setArr.add(arr[i])\n",
    "     \n",
    "    # O(2N)\n",
    "    for i in _setArr:\n",
    "        if (i-1) not in _setArr:\n",
    "            count = 1\n",
    "            x = i\n",
    "            while ((x+1) in _setArr):\n",
    "                count += 1\n",
    "                x += 1\n",
    "            longest = max(longest, count)\n",
    "    return longest\n",
    "        \n",
    "    \n",
    "\n",
    "arr = [100, 102, 100, 101, 101, 4, 3, 2, 3, 2, 1, 1, 1, 2]\n",
    "arr = [36, 41, 56, 35, 44, 33, 34, 92, 43, 32, 42]\n",
    "arr = [0,3,7,2,5,8,4,6,0,1]\n",
    "longSequence(arr)"
   ]
  },
  {
   "cell_type": "code",
   "execution_count": null,
   "id": "d7f509f4",
   "metadata": {},
   "outputs": [],
   "source": []
  },
  {
   "cell_type": "markdown",
   "id": "a239e686",
   "metadata": {},
   "source": [
    "# Set  Matrix Zeros"
   ]
  },
  {
   "cell_type": "code",
   "execution_count": 23,
   "id": "d2294d25",
   "metadata": {},
   "outputs": [
    {
     "data": {
      "text/plain": [
       "[[1, 0, 1], [0, 0, 0], [1, 0, 1]]"
      ]
     },
     "execution_count": 23,
     "metadata": {},
     "output_type": "execute_result"
    }
   ],
   "source": [
    "# Brute Force Approach\n",
    "# Time Complexity : O((N*M)+(N+M)) + O(N*M) = O(N^3)\n",
    "# space Complexity : O(1)\n",
    "\n",
    "def markRow(i):\n",
    "    for j in range(len(matrix[i])):\n",
    "        if matrix[i][j] != 0:\n",
    "            matrix[i][j] = -1\n",
    "            \n",
    "def markCol(j):\n",
    "    for i in range(len(matrix)):\n",
    "        if  matrix[i][j] != 0:\n",
    "            matrix[i][j] = -1\n",
    "        \n",
    "\n",
    "def setZeros(matrix):\n",
    "    n = len(matrix)\n",
    "    \n",
    "    # N*M\n",
    "    for i in range(n):\n",
    "        for j in range(len(matrix[i])):\n",
    "            if matrix[i][j] == 0:\n",
    "                # N\n",
    "                markRow(i)\n",
    "                # M\n",
    "                markCol(j)\n",
    "    \n",
    "    # N*M\n",
    "    for i in range(n):\n",
    "        for j in range(len(matrix[i])):\n",
    "            if matrix[i][j] == -1:\n",
    "                matrix[i][j] = 0\n",
    "    return matrix\n",
    "    \n",
    "matrix = [[1,1,1],[1,0,1],[1,1,1]]\n",
    "setZeros(matrix)"
   ]
  },
  {
   "cell_type": "code",
   "execution_count": 25,
   "id": "d79827f2",
   "metadata": {},
   "outputs": [
    {
     "data": {
      "text/plain": [
       "[[1, 0, 1], [0, 0, 0], [1, 0, 1]]"
      ]
     },
     "execution_count": 25,
     "metadata": {},
     "output_type": "execute_result"
    }
   ],
   "source": [
    "# Better Approach\n",
    "# Time Complexity : O(3N^2)\n",
    "# Space Complexity : O(N+M)\n",
    "\n",
    "def setZeros(matrix):\n",
    "    rows = set()\n",
    "    columns = set()\n",
    "    n = len(matrix)\n",
    "    # O(N^2)\n",
    "    for i in range(n):\n",
    "        for j in range(len(matrix[i])):\n",
    "            if matrix[i][j] == 0:\n",
    "                rows.add(i)\n",
    "                columns.add(j)\n",
    "    \n",
    "    # O(N^2)\n",
    "    for i in rows:\n",
    "        for j in range(len(matrix[i])):\n",
    "            matrix[i][j] = 0\n",
    "\n",
    "    # O(N^2)\n",
    "    for j in columns:\n",
    "        for i in range(n):\n",
    "            matrix[i][j] = 0\n",
    "        \n",
    "    return matrix\n",
    "\n",
    "\n",
    "matrix = [[1,1,1],[1,0,1],[1,1,1]]\n",
    "setZeros(matrix)"
   ]
  },
  {
   "cell_type": "code",
   "execution_count": 27,
   "id": "2d15a688",
   "metadata": {},
   "outputs": [
    {
     "data": {
      "text/plain": [
       "[[1, 0, 1], [0, 0, 0], [1, 0, 1]]"
      ]
     },
     "execution_count": 27,
     "metadata": {},
     "output_type": "execute_result"
    }
   ],
   "source": [
    "# Optimal Approach\n",
    "# Time Complexity : O(2*MN)\n",
    "# Space Complexity : O(1)\n",
    "\n",
    "def setZeros(matrix):\n",
    "    \n",
    "    # Column = matrix[0][...]\n",
    "    # Row = matrix[...][0]\n",
    "    col0 = 1\n",
    "    n = len(matrix)\n",
    "    for i in range(n):\n",
    "        for j in range(len(matrix[i])):\n",
    "            if matrix[i][j] == 0:\n",
    "                # Row\n",
    "                matrix[i][0] = 0\n",
    "                # Column\n",
    "                if j!=0:\n",
    "                    matrix[0][j] = 0\n",
    "                else:\n",
    "                    col0 = 0\n",
    "    for i in range(1, n):\n",
    "        for j in range(1, len(matrix[i])):\n",
    "            if matrix[i][j] != 0:\n",
    "                if matrix[0][j] == 0 or matrix[i][0] == 0:\n",
    "                    matrix[i][j] = 0\n",
    "                    \n",
    "    if(matrix[0][0] == 0):\n",
    "        for j in range(len(matrix[0])):\n",
    "            matrix[0][j] = 0\n",
    "    if col0 == 0:\n",
    "        for i in range(n):\n",
    "            matrix[i][0] = 0\n",
    "    return matrix\n",
    "                \n",
    "\n",
    "matrix = [[1,1,1],[1,0,1],[1,1,1]]\n",
    "setZeros(matrix)"
   ]
  },
  {
   "cell_type": "code",
   "execution_count": null,
   "id": "e8549374",
   "metadata": {},
   "outputs": [],
   "source": []
  },
  {
   "cell_type": "markdown",
   "id": "203bc5a4",
   "metadata": {},
   "source": [
    "# Rotate Matrix By 90 degrees"
   ]
  },
  {
   "cell_type": "code",
   "execution_count": 52,
   "id": "2005478e",
   "metadata": {},
   "outputs": [
    {
     "data": {
      "text/plain": [
       "[[15, 13, 2, 5], [14, 3, 4, 1], [12, 6, 8, 9], [16, 7, 10, 11]]"
      ]
     },
     "execution_count": 52,
     "metadata": {},
     "output_type": "execute_result"
    }
   ],
   "source": [
    "# Brute force - Using Additional matrix\n",
    "# Time Complexity : O(N^2)\n",
    "# Space Complexity : O(N^2)\n",
    "\n",
    "def rotate90(matrix):\n",
    "    n = len(matrix)\n",
    "    # O(N^2)\n",
    "    temp = [[-1 for i in range(n)] for j in range(n)]\n",
    "\n",
    "    # O(N^2)\n",
    "    for i in range(n):\n",
    "        for j in range(n):\n",
    "            temp[j][n-1-i] = matrix[i][j]\n",
    "            \n",
    "    return temp\n",
    "            \n",
    "matrix = [[1,2,3],[4,5,6],[7,8,9]]\n",
    "matrix = [[5,1,9,11],[2,4,8,10],[13,3,6,7],[15,14,12,16]]\n",
    "# matrix = [[1, 2, 3, 4], [5, 6, 7, 8], [9, 10, 11, 12], [13, 14, 15, 16]]\n",
    "rotate90(matrix)"
   ]
  },
  {
   "cell_type": "code",
   "execution_count": 63,
   "id": "a6783fcb",
   "metadata": {},
   "outputs": [
    {
     "data": {
      "text/plain": [
       "[[7, 4, 1], [8, 5, 2], [9, 6, 3]]"
      ]
     },
     "execution_count": 63,
     "metadata": {},
     "output_type": "execute_result"
    }
   ],
   "source": [
    "# Better Appraoch - Inplace matrix using Transpose and reverse\n",
    "# Time Complexity :O(N^2)\n",
    "# Space Complexity : O(1)\n",
    "\n",
    "def reverse(arr):\n",
    "    i = 0\n",
    "    j = len(arr)-1\n",
    "    # O(N/2)\n",
    "    while i<j:\n",
    "        arr[i], arr[j] = arr[j], arr[i]\n",
    "        i += 1\n",
    "        j -= 1\n",
    "    return arr\n",
    "    \n",
    "\n",
    "def rotate90(matrix):\n",
    "    n = len(matrix)\n",
    "    \n",
    "    # O(N/2 * N/2)\n",
    "    for i in range(n):\n",
    "        for j in range(i+1, n):\n",
    "#             print(i, j)\n",
    "            matrix[i][j], matrix[j][i] = matrix[j][i], matrix[i][j]\n",
    "            \n",
    "    # O(N * N/2)\n",
    "    for i in range(n):\n",
    "        matrix[i] = reverse(matrix[i])\n",
    "        \n",
    "    return matrix\n",
    "\n",
    "matrix = [[1,2,3],[4,5,6],[7,8,9]]\n",
    "# matrix = [[5,1,9,11],[2,4,8,10],[13,3,6,7],[15,14,12,16]]\n",
    "# matrix = [[1, 2, 3, 4], [5, 6, 7, 8], [9, 10, 11, 12], [13, 14, 15, 16]]\n",
    "rotate90(matrix)"
   ]
  },
  {
   "cell_type": "code",
   "execution_count": null,
   "id": "8b6579ea",
   "metadata": {},
   "outputs": [],
   "source": []
  },
  {
   "cell_type": "markdown",
   "id": "8e22e0b5",
   "metadata": {},
   "source": [
    "# Spiral Matrix"
   ]
  },
  {
   "cell_type": "code",
   "execution_count": 3,
   "id": "ca4769ca",
   "metadata": {},
   "outputs": [
    {
     "data": {
      "text/plain": [
       "[1, 2, 3, 4, 8, 12, 11, 10, 9, 2, 6, 7]"
      ]
     },
     "execution_count": 3,
     "metadata": {},
     "output_type": "execute_result"
    }
   ],
   "source": [
    "# Optimal approach\n",
    "# Time Complexity : O(N x M)\n",
    "# Space Complexity : O(N x M)\n",
    "\n",
    "def spiralOrder(matrix):\n",
    "    n = len(matrix)\n",
    "    m = len(matrix[0])\n",
    "    \n",
    "    left, right = 0, m-1\n",
    "    top, bottom = 0, n-1\n",
    "    res = []\n",
    "    while left<=right and top <= bottom:\n",
    "        for t in range(left, right+1):\n",
    "            res.append(matrix[top][t])\n",
    "        top += 1\n",
    "        for r in range(top, bottom+1):\n",
    "            res.append(matrix[r][right])\n",
    "        right -= 1\n",
    "        if top <= bottom:\n",
    "            for b in range(right, left-1, -1):\n",
    "                res.append(matrix[bottom][b])\n",
    "            bottom -= 1\n",
    "        if left <= right:\n",
    "            for l in range(bottom, top-1, -1):\n",
    "                res.append(matrix[left][l])\n",
    "            left += 1\n",
    "    return res\n",
    "\n",
    "matrix = [[1,2,3,4],[5,6,7,8],[9,10,11,12]]\n",
    "matrix = [[1,2,3,4],[5,6,7,8],[9,10,11,12]]\n",
    "spiralOrder(matrix)"
   ]
  },
  {
   "cell_type": "code",
   "execution_count": null,
   "id": "16f72e3d",
   "metadata": {},
   "outputs": [],
   "source": []
  },
  {
   "cell_type": "markdown",
   "id": "96e94f03",
   "metadata": {},
   "source": [
    "# Count of subarrays with given sum (positives + negatives)"
   ]
  },
  {
   "cell_type": "code",
   "execution_count": 5,
   "id": "48d5851f",
   "metadata": {},
   "outputs": [
    {
     "data": {
      "text/plain": [
       "8"
      ]
     },
     "execution_count": 5,
     "metadata": {},
     "output_type": "execute_result"
    }
   ],
   "source": [
    "# Brute force\n",
    "# Time complexity : O(N^2)\n",
    "# Space Complexity : O(1)\n",
    "\n",
    "def subarraySum(arr, k):\n",
    "    n = len(arr)\n",
    "    count = 0\n",
    "    for i in range(n):\n",
    "        sum = 0\n",
    "        for j in range(i, n):\n",
    "            sum += arr[j]\n",
    "            if sum == k:\n",
    "                count += 1\n",
    "        \n",
    "    return count\n",
    "\n",
    "arr = [1, 2, 3, -3, 1, 1, 1, 1, 4, 2, -3]\n",
    "k = 3\n",
    "subarraySum(arr, k)"
   ]
  },
  {
   "cell_type": "code",
   "execution_count": 11,
   "id": "1d43967a",
   "metadata": {},
   "outputs": [
    {
     "data": {
      "text/plain": [
       "8"
      ]
     },
     "execution_count": 11,
     "metadata": {},
     "output_type": "execute_result"
    }
   ],
   "source": [
    "# Better Approach - Using hash list\n",
    "# Time Complexity : O(N^2)\n",
    "# Space Complexity : O(N)\n",
    "\n",
    "def subarraySum(arr, k):\n",
    "    n = len(arr)\n",
    "    count = 0\n",
    "    sum = 0\n",
    "    hashList = []\n",
    "    \n",
    "    # O(N)\n",
    "    for i in range(n):\n",
    "        sum += arr[i]\n",
    "        if sum == k:\n",
    "            count += 1\n",
    "        j = 0\n",
    "        # O(N)\n",
    "        while j < i:\n",
    "            if sum-k == hashList[j]:\n",
    "                count += 1\n",
    "            j += 1\n",
    "        hashList.append(sum)\n",
    "    return count\n",
    "\n",
    "arr = [1, 2, 3, -3, 1, 1, 1, 1, 4, 2, -3]\n",
    "k = 3\n",
    "subarraySum(arr, k)"
   ]
  },
  {
   "cell_type": "code",
   "execution_count": 14,
   "id": "df493d88",
   "metadata": {},
   "outputs": [
    {
     "data": {
      "text/plain": [
       "8"
      ]
     },
     "execution_count": 14,
     "metadata": {},
     "output_type": "execute_result"
    }
   ],
   "source": [
    "# Optimal Appraoch - Using map \n",
    "# Time complexity : O(N)\n",
    "# Space Complexity : O(1)\n",
    "\n",
    "def subarraySum(arr, k):\n",
    "    n = len(arr)\n",
    "    count = 0\n",
    "    sum = 0\n",
    "    hashDict = dict()\n",
    "    hashDict[0] = 1\n",
    "    \n",
    "    # O(N)\n",
    "    for i in range(n):\n",
    "        sum += arr[i]\n",
    "        \n",
    "        # O(1)\n",
    "        if (sum-k) in hashDict:\n",
    "            count += hashDict[sum-k]\n",
    "        \n",
    "        # O(1)\n",
    "        if sum in hashDict:\n",
    "            hashDict[sum] += 1\n",
    "        else:\n",
    "            hashDict[sum] = 1\n",
    "            \n",
    "    return count\n",
    "\n",
    "arr = [1, 2, 3, -3, 1, 1, 1, 1, 4, 2, -3]\n",
    "k = 3\n",
    "subarraySum(arr, k)"
   ]
  },
  {
   "cell_type": "code",
   "execution_count": null,
   "id": "9a1f8500",
   "metadata": {},
   "outputs": [],
   "source": []
  }
 ],
 "metadata": {
  "kernelspec": {
   "display_name": "Python 3 (ipykernel)",
   "language": "python",
   "name": "python3"
  },
  "language_info": {
   "codemirror_mode": {
    "name": "ipython",
    "version": 3
   },
   "file_extension": ".py",
   "mimetype": "text/x-python",
   "name": "python",
   "nbconvert_exporter": "python",
   "pygments_lexer": "ipython3",
   "version": "3.12.7"
  }
 },
 "nbformat": 4,
 "nbformat_minor": 5
}
