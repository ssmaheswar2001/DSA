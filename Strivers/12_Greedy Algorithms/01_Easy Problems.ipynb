{
 "cells": [
  {
   "cell_type": "markdown",
   "id": "e923974d-fdf6-476e-94db-5b8c8efde4bd",
   "metadata": {},
   "source": [
    "# Assign Cookies"
   ]
  },
  {
   "cell_type": "code",
   "execution_count": 3,
   "id": "1fe6d095-36c7-4df7-b315-c8fbf2d1942f",
   "metadata": {},
   "outputs": [
    {
     "data": {
      "text/plain": [
       "3"
      ]
     },
     "execution_count": 3,
     "metadata": {},
     "output_type": "execute_result"
    }
   ],
   "source": [
    "def findContentChildren(g, s) -> int:\n",
    "    g.sort()\n",
    "    s.sort()\n",
    "\n",
    "    n = len(g)\n",
    "    m = len(s)\n",
    "\n",
    "    i = 0\n",
    "    j = 0\n",
    "    count = 0\n",
    "    while i < n and j < m:\n",
    "        if g[i] <= s[j]:\n",
    "            count += 1\n",
    "            i += 1\n",
    "            j += 1\n",
    "        else:\n",
    "            j += 1\n",
    "    return count\n",
    "\n",
    "g = [1, 5, 3, 3, 4]\n",
    "s = [4, 2, 1, 2, 1, 3]\n",
    "findContentChildren(g, s)"
   ]
  },
  {
   "cell_type": "code",
   "execution_count": null,
   "id": "04bd6e33-603d-41e0-bdc1-3b5a1ce47f97",
   "metadata": {},
   "outputs": [],
   "source": []
  },
  {
   "cell_type": "markdown",
   "id": "666234f2-50bd-46e3-8b90-7cbe92ec1bf1",
   "metadata": {},
   "source": [
    "# Fractional Knapsack Problem"
   ]
  },
  {
   "cell_type": "code",
   "execution_count": 4,
   "id": "dc0c6e74-bc8c-4ef8-8e32-2df118a51491",
   "metadata": {},
   "outputs": [
    {
     "data": {
      "text/plain": [
       "380.0"
      ]
     },
     "execution_count": 4,
     "metadata": {},
     "output_type": "execute_result"
    }
   ],
   "source": [
    "def fractionalknapsack(val, wt, capacity):\n",
    "    n = len(wt)\n",
    "    items= [(val[i], wt[i]) for i in range(n)]\n",
    "        \n",
    "    items.sort(key = lambda x : x[0]/ x[1], reverse = True)\n",
    "\n",
    "    currentWt = 0.0\n",
    "    profit = 0.0\n",
    "    for v, w in items:\n",
    "        if currentWt + w < capacity:\n",
    "            profit += v\n",
    "            currentWt += w\n",
    "        else:\n",
    "            remaining = capacity - currentWt\n",
    "            profit += (v * remaining)/w\n",
    "            break\n",
    "        \n",
    "    return profit\n",
    "\n",
    "val = [100, 60, 100, 200]\n",
    "wt = [20, 10, 50, 50]\n",
    "capacity = 90\n",
    "fractionalknapsack(val, wt, capacity)"
   ]
  },
  {
   "cell_type": "code",
   "execution_count": null,
   "id": "8a02f275-61ad-4f32-a1a3-01da5eff2477",
   "metadata": {},
   "outputs": [],
   "source": []
  },
  {
   "cell_type": "markdown",
   "id": "e2d99498-1313-4d1a-b334-f440a65f2aa6",
   "metadata": {},
   "source": [
    "# Min Coins "
   ]
  },
  {
   "cell_type": "code",
   "execution_count": 14,
   "id": "66cf6a05-970f-41e9-aade-643beb0f9666",
   "metadata": {},
   "outputs": [
    {
     "data": {
      "text/plain": [
       "5"
      ]
     },
     "execution_count": 14,
     "metadata": {},
     "output_type": "execute_result"
    }
   ],
   "source": [
    "\n",
    "def getFloor(coins, low, high, key):\n",
    "    floor = -1\n",
    "    \n",
    "    while low <= high:\n",
    "        mid = low + (high-low)//2\n",
    "        if coins[mid] <= key:\n",
    "            floor = mid\n",
    "            low = mid +1\n",
    "        else:\n",
    "            high = mid - 1\n",
    "    return floor\n",
    "    \n",
    "def minCoins(coins, val, high):\n",
    "    if val == 0:\n",
    "        return 0\n",
    "    floor = getFloor(coins, 0, high, val)\n",
    "    count = val // coins[floor]\n",
    "    return count + minCoins(coins, val % coins[floor], floor-1)\n",
    "\n",
    "    \n",
    "coins = [1, 2, 5, 10, 20, 50, 100, 500, 1000]\n",
    "val = 49\n",
    "val = 87\n",
    "n = len(coins)\n",
    "getFloor(coins, 0, n-1, val)\n",
    "# minCoins(coins, val, n-1)"
   ]
  },
  {
   "cell_type": "code",
   "execution_count": null,
   "id": "305533c6-e2e6-4438-9542-e29fd1db5959",
   "metadata": {},
   "outputs": [],
   "source": []
  },
  {
   "cell_type": "markdown",
   "id": "2d2ca23f-7f9d-4ad6-bea0-9a4cf041e352",
   "metadata": {},
   "source": [
    "# Lemonade Change"
   ]
  },
  {
   "cell_type": "code",
   "execution_count": 1,
   "id": "57b5c35e-1379-4d2d-afc1-039a7ffc4283",
   "metadata": {},
   "outputs": [
    {
     "data": {
      "text/plain": [
       "False"
      ]
     },
     "execution_count": 1,
     "metadata": {},
     "output_type": "execute_result"
    }
   ],
   "source": [
    "def lemonadeChange(bills):\n",
    "    n = len(bills)\n",
    "\n",
    "    coin5 = 0\n",
    "    coin10 = 0\n",
    "\n",
    "    for i in range(n):\n",
    "        if bills[i] == 5:\n",
    "            coin5 += 1\n",
    "        elif bills[i] == 10:\n",
    "            if coin5 > 0:\n",
    "                coin5-=1\n",
    "                coin10 += 1\n",
    "            else:\n",
    "                return False\n",
    "        else:\n",
    "            if coin10 >0 and coin5 > 0:\n",
    "                coin10 -= 1\n",
    "                coin5 -= 1\n",
    "            elif coin5 >= 3:\n",
    "                coin5 -= 3\n",
    "            else:\n",
    "                return False\n",
    "\n",
    "    return True\n",
    "\n",
    "bills = [5,5,10,10,20]\n",
    "lemonadeChange(bills)"
   ]
  },
  {
   "cell_type": "code",
   "execution_count": null,
   "id": "c1e4ba66-fa09-4c1b-bb7c-bbe0c5a794b4",
   "metadata": {},
   "outputs": [],
   "source": []
  },
  {
   "cell_type": "markdown",
   "id": "47d037e8-cfb4-4501-ab55-8610e3ce9d3a",
   "metadata": {},
   "source": [
    "# Valid Parenthesis String"
   ]
  },
  {
   "cell_type": "code",
   "execution_count": 3,
   "id": "c3643824-c99e-4ad7-922e-f0f0e562013e",
   "metadata": {},
   "outputs": [
    {
     "data": {
      "text/plain": [
       "True"
      ]
     },
     "execution_count": 3,
     "metadata": {},
     "output_type": "execute_result"
    }
   ],
   "source": [
    "def balanceParenthesis(s, i, balance, dp):\n",
    "    if balance < 0:\n",
    "        return 0\n",
    "\n",
    "    if i == len(s):\n",
    "        return balance == 0\n",
    "\n",
    "    if dp[i][balance] != -1:\n",
    "        return dp[i][balance]\n",
    "\n",
    "    if s[i] == '(':\n",
    "        dp[i][balance] = balanceParenthesis(s, i+1, balance+1, dp)\n",
    "        return dp[i][balance]\n",
    "        \n",
    "    if s[i] == ')':\n",
    "        dp[i][balance] =  balanceParenthesis(s, i+1, balance-1, dp) \n",
    "        return dp[i][balance]\n",
    "        \n",
    "    dp[i][balance] =  balanceParenthesis(s, i+1, balance+1, dp) or balanceParenthesis(s, i+1, balance-1, dp) or balanceParenthesis(s, i+1, balance, dp)\n",
    "    return dp[i][balance]\n",
    "\n",
    "def checkValidString(s):\n",
    "    n = len(s)\n",
    "    dp = [[-1 for i in range(n)] for i in range(n) ]\n",
    "    if balanceParenthesis(s, 0, 0, dp) == 0:\n",
    "        return False\n",
    "\n",
    "    return True\n",
    "\n",
    "s = '()*)*()'\n",
    "checkValidString(s)"
   ]
  },
  {
   "cell_type": "code",
   "execution_count": 4,
   "id": "a5f31b60-96ba-43f9-866d-a92e6c4da566",
   "metadata": {},
   "outputs": [
    {
     "data": {
      "text/plain": [
       "True"
      ]
     },
     "execution_count": 4,
     "metadata": {},
     "output_type": "execute_result"
    }
   ],
   "source": [
    "def checkValidString(s):\n",
    "        \n",
    "    n = len(s)\n",
    "\n",
    "    min = 0\n",
    "    max = 0\n",
    "\n",
    "    for i in range(n):\n",
    "        if s[i] == '(':\n",
    "            min += 1\n",
    "            max += 1\n",
    "        elif s[i] == ')':\n",
    "            min -= 1\n",
    "            max -= 1\n",
    "        else:\n",
    "            min -= 1\n",
    "            max += 1\n",
    "        if min < 0:\n",
    "            min = 0\n",
    "        if max < 0:\n",
    "            return False\n",
    "    return min == 0 or max == 0 \n",
    "\n",
    "s = '()*)*()'\n",
    "checkValidString(s)"
   ]
  },
  {
   "cell_type": "code",
   "execution_count": null,
   "id": "d2d02716-53fe-49b8-bd50-bad98f8945d0",
   "metadata": {},
   "outputs": [],
   "source": []
  }
 ],
 "metadata": {
  "kernelspec": {
   "display_name": "Python 3 (ipykernel)",
   "language": "python",
   "name": "python3"
  },
  "language_info": {
   "codemirror_mode": {
    "name": "ipython",
    "version": 3
   },
   "file_extension": ".py",
   "mimetype": "text/x-python",
   "name": "python",
   "nbconvert_exporter": "python",
   "pygments_lexer": "ipython3",
   "version": "3.12.7"
  }
 },
 "nbformat": 4,
 "nbformat_minor": 5
}
