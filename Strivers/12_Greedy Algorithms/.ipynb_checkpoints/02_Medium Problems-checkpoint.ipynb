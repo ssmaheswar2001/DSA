{
 "cells": [
  {
   "cell_type": "markdown",
   "id": "fa01bf7e-9a1b-4555-aa76-2b36cffd99d9",
   "metadata": {},
   "source": [
    "# N meetings in one room"
   ]
  },
  {
   "cell_type": "code",
   "execution_count": 2,
   "id": "af351489-4771-4d55-8a6d-1533d789cea4",
   "metadata": {},
   "outputs": [
    {
     "data": {
      "text/plain": [
       "4"
      ]
     },
     "execution_count": 2,
     "metadata": {},
     "output_type": "execute_result"
    }
   ],
   "source": [
    "import heapq\n",
    "def maximumMeetings(start,end):\n",
    "    n = len(start)\n",
    "    meetings = []\n",
    "        \n",
    "    for i in range(n):\n",
    "        heapq.heappush(meetings, (end[i], i, start[i]))\n",
    "        \n",
    "    count = 1\n",
    "    e, i, s = heapq.heappop(meetings)\n",
    "    freetime = e\n",
    "        \n",
    "    while len(meetings) > 0:\n",
    "        e, i, s = heapq.heappop(meetings)\n",
    "            \n",
    "        if s > freetime:\n",
    "            count += 1\n",
    "            freetime = e\n",
    "        \n",
    "    return count\n",
    "\n",
    "s = [1, 3, 0, 5, 8, 5]\n",
    "e = [2, 4, 6, 7, 9, 9]\n",
    "maximumMeetings(s, e)"
   ]
  },
  {
   "cell_type": "code",
   "execution_count": 5,
   "id": "ceb69817-357c-484b-8380-eed10f1652e6",
   "metadata": {},
   "outputs": [
    {
     "data": {
      "text/plain": [
       "4"
      ]
     },
     "execution_count": 5,
     "metadata": {},
     "output_type": "execute_result"
    }
   ],
   "source": [
    "def maximumMeetings(start,end):\n",
    "    n = len(start)\n",
    "    meetings = [ (start[i], end[i], i) for i in range(n)]\n",
    "        \n",
    "    meetings = sorted(meetings, key=lambda x : x[1])\n",
    "        \n",
    "    count = 1\n",
    "    freetime = meetings[0][1]\n",
    "        \n",
    "    for i in range(1, n):\n",
    "        s, e, index = meetings[i]\n",
    "        if s > freetime:\n",
    "            count += 1\n",
    "            freetime = e\n",
    "                \n",
    "    return count\n",
    "\n",
    "s = [1, 3, 0, 5, 8, 5]\n",
    "e = [2, 4, 6, 7, 9, 9]\n",
    "maximumMeetings(s, e)"
   ]
  },
  {
   "cell_type": "code",
   "execution_count": null,
   "id": "74c291bf-4833-40d2-be89-ec5af461c20b",
   "metadata": {},
   "outputs": [],
   "source": []
  },
  {
   "cell_type": "markdown",
   "id": "c19ade93-dbbc-4dc9-8e64-78b8ce34bae9",
   "metadata": {},
   "source": [
    "# Jump Game"
   ]
  },
  {
   "cell_type": "code",
   "execution_count": 1,
   "id": "3ff1e706-72cb-4c9e-855c-313a4b14513e",
   "metadata": {},
   "outputs": [
    {
     "data": {
      "text/plain": [
       "True"
      ]
     },
     "execution_count": 1,
     "metadata": {},
     "output_type": "execute_result"
    }
   ],
   "source": [
    "def canJump(nums):\n",
    "    n = len(nums)\n",
    "    dp = [False for i in range(n)]\n",
    "    dp[n-1] = True\n",
    "\n",
    "    i = n-2\n",
    "    while i >= 0:\n",
    "        j = 1\n",
    "        while j <= nums[i] and i+j < n:\n",
    "            if dp[i+j] == True:\n",
    "                dp[i] = True\n",
    "                break\n",
    "            j += 1            \n",
    "        i -= 1\n",
    "\n",
    "    return dp[0]\n",
    "\n",
    "nums = [2,3,1,1,4]\n",
    "canJump(nums)"
   ]
  },
  {
   "cell_type": "code",
   "execution_count": 3,
   "id": "4695108c-13db-4717-89e2-67e78c36224c",
   "metadata": {},
   "outputs": [
    {
     "data": {
      "text/plain": [
       "True"
      ]
     },
     "execution_count": 3,
     "metadata": {},
     "output_type": "execute_result"
    }
   ],
   "source": [
    "def canJump(nums):\n",
    "    n = len(nums)\n",
    "    maxJump = 0\n",
    "\n",
    "    for i in range(n):\n",
    "        if maxJump < i:\n",
    "            return False\n",
    "        maxJump = max(maxJump,i+nums[i])\n",
    "    return True\n",
    "\n",
    "nums = [2,3,1,1,4]\n",
    "canJump(nums)"
   ]
  },
  {
   "cell_type": "code",
   "execution_count": null,
   "id": "6e08d397-2f51-404a-8f54-b2713257923d",
   "metadata": {},
   "outputs": [],
   "source": []
  },
  {
   "cell_type": "markdown",
   "id": "004f317e-40cc-400c-aec9-35db11548d76",
   "metadata": {},
   "source": [
    "# Jump Game II"
   ]
  },
  {
   "cell_type": "code",
   "execution_count": 2,
   "id": "642edf14-8662-4463-a22a-f2053d8ceaef",
   "metadata": {},
   "outputs": [
    {
     "data": {
      "text/plain": [
       "2"
      ]
     },
     "execution_count": 2,
     "metadata": {},
     "output_type": "execute_result"
    }
   ],
   "source": [
    "def jump(nums):\n",
    "    n  = len(nums)\n",
    "\n",
    "    dp = [float('inf') for i in range(n)]\n",
    "    dp[n-1] = 0\n",
    "\n",
    "    i = n-2\n",
    "    while i >= 0:\n",
    "        j = 1\n",
    "        while j <= nums[i] and i+j < n:\n",
    "            dp[i] = min(dp[i],1+dp[i+j])\n",
    "            j += 1\n",
    "        i -= 1\n",
    "\n",
    "    return dp[0]\n",
    "\n",
    "\n",
    "nums = [2,3,1,1,4]\n",
    "jump(nums)"
   ]
  },
  {
   "cell_type": "code",
   "execution_count": null,
   "id": "fce8b7b0-ed12-480f-b8a0-966c542e6240",
   "metadata": {},
   "outputs": [],
   "source": []
  },
  {
   "cell_type": "markdown",
   "id": "9c765023-49c1-41af-a267-8bc8453fd9d8",
   "metadata": {},
   "source": [
    "# Minimum number of platforms required for a railway"
   ]
  },
  {
   "cell_type": "code",
   "execution_count": 3,
   "id": "98baeeaa-bea5-489b-90cf-27bc0fef1751",
   "metadata": {},
   "outputs": [
    {
     "data": {
      "text/plain": [
       "3"
      ]
     },
     "execution_count": 3,
     "metadata": {},
     "output_type": "execute_result"
    }
   ],
   "source": [
    "\n",
    "def minimumPlatform(arr,dep):\n",
    "    n = len(arr)\n",
    "    arr.sort()\n",
    "    dep.sort()\n",
    "\n",
    "    i = 0\n",
    "    j = 0\n",
    "    count = 0\n",
    "    totalStations = 0\n",
    "    while i < n and j < n:\n",
    "        if arr[i] <= dep[j]:\n",
    "            count += 1\n",
    "            i += 1\n",
    "        else:\n",
    "            count -= 1\n",
    "            j += 1\n",
    "        totalStations = max(totalStations, count)\n",
    "    return totalStations\n",
    "\n",
    "arr = [900, 940, 950, 1100, 1500, 1800]\n",
    "dep = [910, 1200, 1120, 1130, 1900, 2000]\n",
    "\n",
    "minimumPlatform(arr, dep)"
   ]
  },
  {
   "cell_type": "code",
   "execution_count": null,
   "id": "8234eacb-a35d-408d-b095-f286a2a90136",
   "metadata": {},
   "outputs": [],
   "source": []
  },
  {
   "cell_type": "markdown",
   "id": "dcc90b99-eb3c-42ad-affa-5de381b9f1fb",
   "metadata": {},
   "source": [
    "# Job sequencing Problem"
   ]
  },
  {
   "cell_type": "code",
   "execution_count": 16,
   "id": "d8b7f9da-b5b8-44e0-a834-4e80fe16bca2",
   "metadata": {},
   "outputs": [
    {
     "name": "stdout",
     "output_type": "stream",
     "text": [
      "40 1\n",
      "30 1\n",
      "20 4\n",
      "10 1\n"
     ]
    },
    {
     "data": {
      "text/plain": [
       "[2, 60]"
      ]
     },
     "execution_count": 16,
     "metadata": {},
     "output_type": "execute_result"
    }
   ],
   "source": [
    "\n",
    "def jobSequencing(deadline, profit):\n",
    "    n = len(deadline)\n",
    "\n",
    "    jobs = [(profit[i], deadline[i]) for i in range(n)]\n",
    "    jobs = sorted(jobs, key = lambda x : x[0])\n",
    "    days = [-1 for i in range(max(deadline)+1)]\n",
    "\n",
    "    maxProfit = 0\n",
    "    totalJobs = 0\n",
    "    i = n-1\n",
    "    while i >= 0:\n",
    "        profit, deadline = jobs[i]\n",
    "        print(profit, deadline)\n",
    "        j = deadline\n",
    "        while j > 0:\n",
    "            if days[j] == -1:\n",
    "                days[j] = 1\n",
    "                maxProfit += profit\n",
    "                totalJobs += 1\n",
    "                break\n",
    "            j -= 1\n",
    "        i -= 1\n",
    "    return [totalJobs, maxProfit]\n",
    "\n",
    "deadline = [3, 1, 2, 2]\n",
    "profit = [50, 10, 20, 30]\n",
    "deadline = [2, 1, 2, 1, 1]\n",
    "profit = [100, 19, 27, 25, 15]\n",
    "deadline = [4, 1, 1, 1]\n",
    "profit = [20, 10, 40, 30]\n",
    "jobSequencing(deadline, profit)"
   ]
  },
  {
   "cell_type": "code",
   "execution_count": null,
   "id": "ce754dc9-112f-4af3-87a1-4ff2601272e1",
   "metadata": {},
   "outputs": [],
   "source": []
  },
  {
   "cell_type": "markdown",
   "id": "f52fa91b-e8ef-4f5c-9658-6857aaf1b72d",
   "metadata": {},
   "source": [
    "# Candy"
   ]
  },
  {
   "cell_type": "code",
   "execution_count": 7,
   "id": "8346cae2-42e8-4d01-8e72-ec28883a54d6",
   "metadata": {},
   "outputs": [
    {
     "data": {
      "text/plain": [
       "27"
      ]
     },
     "execution_count": 7,
     "metadata": {},
     "output_type": "execute_result"
    }
   ],
   "source": [
    "\n",
    "def candy(ratings):\n",
    "    n = len(ratings)\n",
    "    candies = [1 for j in range(n)]\n",
    "\n",
    "    for i in range(n):\n",
    "        if i != 0 and ratings[i-1] < ratings[i]:\n",
    "            candies[i] = max(candies[i], 1+candies[i-1])\n",
    "        j = n-i-1\n",
    "        if j != n-1 and ratings[j] > ratings[j+1]:\n",
    "            candies[j] = max(candies[j], 1+candies[j+1])\n",
    "        \n",
    "    return sum(candies)    \n",
    "\n",
    "ratings = [0, 2, 4, 3, 2, 1, 1, 3, 5, 6, 4, 0, 0]\n",
    "candy(ratings)"
   ]
  },
  {
   "cell_type": "code",
   "execution_count": 6,
   "id": "ae2f01bd-84ef-4b38-b88c-582e2e0a6081",
   "metadata": {},
   "outputs": [
    {
     "data": {
      "text/plain": [
       "27"
      ]
     },
     "execution_count": 6,
     "metadata": {},
     "output_type": "execute_result"
    }
   ],
   "source": [
    "def candy(ratings):\n",
    "    n = len(ratings)\n",
    "    sum = 1\n",
    "    i = 1\n",
    "\n",
    "    while i < n:\n",
    "        if ratings[i-1] == ratings[i]:\n",
    "            sum += 1\n",
    "            i += 1\n",
    "            continue\n",
    "        peak = 1\n",
    "        while i < n and ratings[i-1] < ratings[i]:\n",
    "            peak += 1\n",
    "            sum += peak\n",
    "            i += 1\n",
    "        down = 1\n",
    "        while i < n and ratings[i-1] > ratings[i]:\n",
    "            sum += down\n",
    "            down += 1\n",
    "            i += 1\n",
    "        if down > peak:\n",
    "            sum += down-peak\n",
    "    return sum\n",
    "\n",
    "ratings = [0, 2, 4, 3, 2, 1, 1, 3, 5, 6, 4, 0, 0]\n",
    "candy(ratings)"
   ]
  },
  {
   "cell_type": "code",
   "execution_count": null,
   "id": "1f0460bf-cfba-48a5-9977-96fefe08b366",
   "metadata": {},
   "outputs": [],
   "source": []
  },
  {
   "cell_type": "markdown",
   "id": "91d11137-871a-41f0-9c55-31ea5cd1c900",
   "metadata": {},
   "source": [
    "# Shortest Job First CPU Scheduling"
   ]
  },
  {
   "cell_type": "code",
   "execution_count": 7,
   "id": "63d2a3e7-24f0-470a-b1af-a695bea904a3",
   "metadata": {},
   "outputs": [
    {
     "data": {
      "text/plain": [
       "4"
      ]
     },
     "execution_count": 7,
     "metadata": {},
     "output_type": "execute_result"
    }
   ],
   "source": [
    "def solve(bt):\n",
    "    n = len(bt)\n",
    "    bt.sort()\n",
    "    waitTime = 0\n",
    "    sum = 0\n",
    "    for i in range(n):\n",
    "        sum += waitTime\n",
    "        waitTime += bt[i]\n",
    "        \n",
    "    return sum//n\n",
    "\n",
    "bt = [4,3,7,1,2]\n",
    "solve(bt)"
   ]
  },
  {
   "cell_type": "code",
   "execution_count": null,
   "id": "4d216c9e-da69-4d0d-bad8-ac8d69ba55d6",
   "metadata": {},
   "outputs": [],
   "source": []
  },
  {
   "cell_type": "markdown",
   "id": "2f862711-4b15-4108-9972-74fb3303470b",
   "metadata": {},
   "source": [
    "# Program for Least Recently Used (LRU) Page Replacement Algorithm"
   ]
  },
  {
   "cell_type": "code",
   "execution_count": 1,
   "id": "c55e06b9-44cd-4fe7-910b-02f2e7e8d71e",
   "metadata": {},
   "outputs": [
    {
     "data": {
      "text/plain": [
       "8"
      ]
     },
     "execution_count": 1,
     "metadata": {},
     "output_type": "execute_result"
    }
   ],
   "source": [
    "def pageFaults(N, C, pages):\n",
    "    stack = []\n",
    "    fault = 0\n",
    "    for i in range(N):\n",
    "        if pages[i] in stack:\n",
    "            for j in range(C):\n",
    "                if stack[j] == pages[i]:\n",
    "                    break\n",
    "            stack[:] = stack[:j] + stack[j+1:]\n",
    "            stack.append(pages[i])\n",
    "        else:\n",
    "            if len(stack) == C:\n",
    "                stack.pop(0)\n",
    "            stack.append(pages[i])\n",
    "            fault += 1\n",
    "    return fault\n",
    "N = 9 \n",
    "C = 4\n",
    "pages = [5, 0, 1, 3, 2, 4, 1, 0, 5]\n",
    "pageFaults(N, C, pages)"
   ]
  },
  {
   "cell_type": "code",
   "execution_count": null,
   "id": "6d61cd3f-1afa-4007-9435-84bc8d169a17",
   "metadata": {},
   "outputs": [],
   "source": []
  },
  {
   "cell_type": "markdown",
   "id": "403aeead-1861-4f06-a1c8-f7d9c78aaa14",
   "metadata": {},
   "source": [
    "# Insert Interval"
   ]
  },
  {
   "cell_type": "code",
   "execution_count": 4,
   "id": "0c776afb-3582-434e-98d6-3827d7b963b4",
   "metadata": {},
   "outputs": [
    {
     "data": {
      "text/plain": [
       "[[1, 2], [3, 10], [12, 16]]"
      ]
     },
     "execution_count": 4,
     "metadata": {},
     "output_type": "execute_result"
    }
   ],
   "source": [
    "def insert(intervals, newInterval):\n",
    "    intervals.append(newInterval)\n",
    "    intervals = sorted(intervals, key = lambda x : x[0])\n",
    "    n = len(intervals)\n",
    "\n",
    "    res = [intervals[0]]\n",
    "\n",
    "    for i in range(1, n):\n",
    "        s1, e1 = res[-1]\n",
    "        s2, e2 = intervals[i]\n",
    "        if e1 < s2:\n",
    "            res.append([s2, e2])\n",
    "        else:\n",
    "            if s1 < s2:\n",
    "                s = s1\n",
    "            else:\n",
    "                s = s2\n",
    "            if e1 < e2:\n",
    "                e = e2\n",
    "            else:\n",
    "                e = e1\n",
    "            res[-1][0] = s\n",
    "            res[-1][1] = e\n",
    "    return res  \n",
    "\n",
    "intervals = [[1,2],[3,5],[6,7],[8,10],[12,16]]\n",
    "newInterval = [4,8]\n",
    "insert(intervals, newInterval)"
   ]
  },
  {
   "cell_type": "code",
   "execution_count": null,
   "id": "a2e774db-6d40-4bc1-87bd-f225910d289b",
   "metadata": {},
   "outputs": [],
   "source": []
  },
  {
   "cell_type": "markdown",
   "id": "747dfe1a-dc12-4f05-8766-52b91a93a8ec",
   "metadata": {},
   "source": [
    "# Merge Intervals"
   ]
  },
  {
   "cell_type": "code",
   "execution_count": 1,
   "id": "a05aa0ee-80af-4202-a3e3-4baa95b4a632",
   "metadata": {},
   "outputs": [
    {
     "data": {
      "text/plain": [
       "[[1, 6], [8, 10], [15, 18]]"
      ]
     },
     "execution_count": 1,
     "metadata": {},
     "output_type": "execute_result"
    }
   ],
   "source": [
    "\n",
    "def merge(intervals):\n",
    "    n = len(intervals)\n",
    "    intervals = sorted(intervals, key = lambda x : x[0])\n",
    "    res = [intervals[0]]\n",
    "\n",
    "    for i in range(1, n):\n",
    "        s1, e1 = res[-1]\n",
    "        s2, e2 = intervals[i]\n",
    "\n",
    "        if e1 < s2:\n",
    "            res.append([s2, e2])\n",
    "        else:\n",
    "            if s1 < s2:\n",
    "                s = s1\n",
    "            else:\n",
    "                s = s2\n",
    "\n",
    "            if e1 < e2:\n",
    "                    e = e2\n",
    "            else:\n",
    "                e = e1\n",
    "\n",
    "            res[-1][0] = s\n",
    "            res[-1][1] = e\n",
    "\n",
    "    return res\n",
    "\n",
    "intervals = [[1,3],[2,6],[8,10],[15,18]]\n",
    "merge(intervals)"
   ]
  },
  {
   "cell_type": "code",
   "execution_count": null,
   "id": "82e528ae-0324-4f95-a287-116cb0c230cc",
   "metadata": {},
   "outputs": [],
   "source": []
  },
  {
   "cell_type": "markdown",
   "id": "5c5930fb-c66b-4a76-98d1-7704ffe1b7fd",
   "metadata": {},
   "source": [
    "# Non-overlapping Intervals"
   ]
  },
  {
   "cell_type": "code",
   "execution_count": 6,
   "id": "fae58408-544e-4cf0-ac7e-862f3b4a7d06",
   "metadata": {},
   "outputs": [
    {
     "data": {
      "text/plain": [
       "2"
      ]
     },
     "execution_count": 6,
     "metadata": {},
     "output_type": "execute_result"
    }
   ],
   "source": [
    "def eraseOverlapIntervals(intervals):\n",
    "    n = len(intervals)\n",
    "    intervals = sorted(intervals, key = lambda x : x[1])\n",
    "        \n",
    "    freetime = intervals[0][1]\n",
    "    count = 1\n",
    "    \n",
    "    for i in range(1, n):\n",
    "        s, e = intervals[i]\n",
    "        if freetime <= s:\n",
    "            freetime = e\n",
    "            count += 1\n",
    "    return n - count\n",
    "\n",
    "intervals = [[1, 2], [3, 4], [0, 5], [5, 7], [7, 9], [5, 9]]\n",
    "eraseOverlapIntervals(intervals)"
   ]
  },
  {
   "cell_type": "code",
   "execution_count": null,
   "id": "c8171164-2014-4d57-b5b8-6321e35665ad",
   "metadata": {},
   "outputs": [],
   "source": []
  }
 ],
 "metadata": {
  "kernelspec": {
   "display_name": "Python 3 (ipykernel)",
   "language": "python",
   "name": "python3"
  },
  "language_info": {
   "codemirror_mode": {
    "name": "ipython",
    "version": 3
   },
   "file_extension": ".py",
   "mimetype": "text/x-python",
   "name": "python",
   "nbconvert_exporter": "python",
   "pygments_lexer": "ipython3",
   "version": "3.12.7"
  }
 },
 "nbformat": 4,
 "nbformat_minor": 5
}
