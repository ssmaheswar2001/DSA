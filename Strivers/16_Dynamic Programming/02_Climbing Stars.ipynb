{
 "cells": [
  {
   "cell_type": "markdown",
   "id": "123339ad-891c-4b63-a5ee-af55d5a1c24f",
   "metadata": {},
   "source": [
    "- Understand DP problems\n",
    "1. Count the total no of ways\n",
    "2. Min / max\n",
    "\n",
    "- Try all possible ways\n",
    "1. Count\n",
    "2. Figure our the best way"
   ]
  },
  {
   "cell_type": "markdown",
   "id": "a50617a8-6498-4b31-8ff6-d67e740a52f8",
   "metadata": {},
   "source": [
    "# Climibing Stairs"
   ]
  },
  {
   "cell_type": "code",
   "execution_count": 3,
   "id": "25d625dc-b1c9-4e81-bf2e-830aadfe1831",
   "metadata": {},
   "outputs": [
    {
     "data": {
      "text/plain": [
       "8"
      ]
     },
     "execution_count": 3,
     "metadata": {},
     "output_type": "execute_result"
    }
   ],
   "source": [
    "# Recursion\n",
    "\n",
    "def climbStairs(n):\n",
    "    if n <= 2:\n",
    "        return n\n",
    "\n",
    "    return climbStairs(n-1) + climbStairs(n-2)\n",
    "\n",
    "climbStairs(5)"
   ]
  },
  {
   "cell_type": "code",
   "execution_count": 6,
   "id": "2d731396-561f-4086-a568-d6df84f33206",
   "metadata": {},
   "outputs": [
    {
     "data": {
      "text/plain": [
       "8"
      ]
     },
     "execution_count": 6,
     "metadata": {},
     "output_type": "execute_result"
    }
   ],
   "source": [
    "# Recursion\n",
    "\n",
    "def climbStairs(n, dp):\n",
    "    if n <= 2:\n",
    "        dp[n] = n\n",
    "        return n\n",
    "\n",
    "    if dp[n] != -1:\n",
    "        return dp[n]\n",
    "    dp[n] = climbStairs(n-1, dp) + climbStairs(n-2, dp)\n",
    "    return dp[n]\n",
    "\n",
    "n = 5\n",
    "dp = [-1 for i in range(n+1)]\n",
    "dp[0] = 0\n",
    "climbStairs(n, dp)"
   ]
  },
  {
   "cell_type": "code",
   "execution_count": 10,
   "id": "d6531603-245a-49d3-bdae-0b11f6bec15b",
   "metadata": {},
   "outputs": [
    {
     "data": {
      "text/plain": [
       "8"
      ]
     },
     "execution_count": 10,
     "metadata": {},
     "output_type": "execute_result"
    }
   ],
   "source": [
    "def climbStairs(n):\n",
    "    if n <= 2:\n",
    "        return n \n",
    "\n",
    "    dp = [0 for i in range(n+1)]\n",
    "    dp[1] = 1\n",
    "    dp[2] = 2\n",
    "\n",
    "    for i in range(3, n+1):\n",
    "        dp[i] = dp[i-1] + dp[i-2]\n",
    "\n",
    "    return dp[n]\n",
    "\n",
    "climbStairs(5)"
   ]
  },
  {
   "cell_type": "code",
   "execution_count": null,
   "id": "dd2f5a2a-0036-4fa0-be4a-127324fb2e01",
   "metadata": {},
   "outputs": [],
   "source": []
  },
  {
   "cell_type": "markdown",
   "id": "381eec84-a301-4083-b6ac-f1a8ab03e620",
   "metadata": {},
   "source": [
    "# Frog Jump"
   ]
  },
  {
   "cell_type": "code",
   "execution_count": 5,
   "id": "6c7aa6c1-7978-43bc-96df-ce66f22100c4",
   "metadata": {},
   "outputs": [
    {
     "data": {
      "text/plain": [
       "30"
      ]
     },
     "execution_count": 5,
     "metadata": {},
     "output_type": "execute_result"
    }
   ],
   "source": [
    "# Recursion\n",
    "# Time Complexity : O(N)\n",
    "# Space Complexity : O(NLogN)\n",
    "\n",
    "def frogJump(height, i):\n",
    "    if i <= 0:\n",
    "        return 0\n",
    "            \n",
    "    step1 = frogJump(height, i-1) +abs(height[i]-height[i-1]) \n",
    "    if i > 1:\n",
    "        step2 = frogJump(height, i-2) + abs(height[i]-height[i-2])\n",
    "    cost = min(step1, step2)    \n",
    "        \n",
    "    return cost \n",
    "\n",
    "heights = [30, 20, 50, 10, 40]\n",
    "n = len(heights)\n",
    "frogJump(heights, n-1)"
   ]
  },
  {
   "cell_type": "code",
   "execution_count": 11,
   "id": "11853368-1aa6-45bc-b371-c55f71b3753f",
   "metadata": {},
   "outputs": [
    {
     "data": {
      "text/plain": [
       "30"
      ]
     },
     "execution_count": 11,
     "metadata": {},
     "output_type": "execute_result"
    }
   ],
   "source": [
    "# Memorization\n",
    "# Time Complexity : O(N)\n",
    "# Space Complexity : O(N)\n",
    "\n",
    "def frogJump(height, i, dp):\n",
    "    if i <= 0:\n",
    "        dp[0] = 0\n",
    "        return 0\n",
    "        \n",
    "    if dp[i] != -1:\n",
    "        return dp[i]\n",
    " \n",
    "    step1 = frogJump(height, i-1, dp) +abs(height[i]-height[i-1]) \n",
    "    step2 = float('inf')\n",
    "    if i > 1:\n",
    "        step2 = frogJump(height, i-2, dp) + abs(height[i]-height[i-2])\n",
    "    dp[i] = min(step1, step2)    \n",
    "        \n",
    "    return dp[i] \n",
    "\n",
    "heights = [30, 20, 50, 10, 40]\n",
    "n = len(heights)\n",
    "dp = [-1 for i in range(n)]\n",
    "frogJump(heights, n-1, dp)"
   ]
  },
  {
   "cell_type": "code",
   "execution_count": 14,
   "id": "f4029f65-649c-430e-bff5-69664c09f2a4",
   "metadata": {},
   "outputs": [
    {
     "data": {
      "text/plain": [
       "30"
      ]
     },
     "execution_count": 14,
     "metadata": {},
     "output_type": "execute_result"
    }
   ],
   "source": [
    "# Tabulation\n",
    "# Time Complexity : O(N)\n",
    "# Space Complexity : O(n)\n",
    "\n",
    "def minCost(height):\n",
    "    n = len(height)\n",
    "\n",
    "    dp = [0 for i in range(n)]\n",
    "        \n",
    "    for i in range(1, n):\n",
    "        step1 = dp[i-1] + abs(height[i]-height[i-1])\n",
    "        step2 = float('inf')\n",
    "        if i > 1:\n",
    "            step2 = dp[i-2] + abs(height[i]-height[i-2]) \n",
    "        dp[i] = min(step1, step2)\n",
    "            \n",
    "    return dp[n-1]\n",
    "\n",
    "heights = [30, 20, 50, 10, 40]\n",
    "minCost(heights)"
   ]
  },
  {
   "cell_type": "code",
   "execution_count": null,
   "id": "80bb426a-3c65-4f43-a0f0-02ffb2ca1c03",
   "metadata": {},
   "outputs": [],
   "source": []
  },
  {
   "cell_type": "markdown",
   "id": "284dbf25-9c74-4101-a8e8-4e266dc21bb2",
   "metadata": {},
   "source": [
    "# Frog Jump with k distances"
   ]
  },
  {
   "cell_type": "code",
   "execution_count": 18,
   "id": "272d11dd-5f52-4db4-9660-5b25298c3e5a",
   "metadata": {},
   "outputs": [
    {
     "data": {
      "text/plain": [
       "30"
      ]
     },
     "execution_count": 18,
     "metadata": {},
     "output_type": "execute_result"
    }
   ],
   "source": [
    "# Recursion\n",
    "# Time Complexity : O(NLogNK)\n",
    "# Space Complexity : O(N)\n",
    "\n",
    "def minimizeCost(arr, k, index):\n",
    "    if index <= 0:\n",
    "        return 0\n",
    "        \n",
    "        \n",
    "    i = 1\n",
    "    _minCost = float('inf')\n",
    "    while i <= k and index-i >=0:\n",
    "        jump = minimizeCost(arr, k, index-i) + abs(arr[index] - arr[index-i])\n",
    "        _minCost = min(_minCost, jump)\n",
    "        i += 1\n",
    "    return _minCost\n",
    "\n",
    "\n",
    "k = 3\n",
    "arr = [10, 30, 40, 50, 20]\n",
    "n = len(arr)\n",
    "minimizeCost(arr, k, n-1)"
   ]
  },
  {
   "cell_type": "code",
   "execution_count": 16,
   "id": "9bb02549-b2ec-4605-bddf-ebb81c9c91d6",
   "metadata": {},
   "outputs": [
    {
     "data": {
      "text/plain": [
       "30"
      ]
     },
     "execution_count": 16,
     "metadata": {},
     "output_type": "execute_result"
    }
   ],
   "source": [
    "\n",
    "# Memorization\n",
    "# Time Complexity : O(NxK)\n",
    "# Space Complexity : O(N)\n",
    "\n",
    "def minimizeCost(arr, k, dp, index):\n",
    "    if index <= 0:\n",
    "        dp[0] = 0\n",
    "        return 0\n",
    "        \n",
    "    if dp[index] != -1:\n",
    "        return dp[index]\n",
    "        \n",
    "    i = 1\n",
    "    _minCost = float('inf')\n",
    "    while i <= k and index-i >=0:\n",
    "        jump = minimizeCost(arr, k, dp, index-i) + abs(arr[index] - arr[index-i])\n",
    "        _minCost = min(_minCost, jump)\n",
    "        i += 1\n",
    "    dp[index] = _minCost\n",
    "    return dp[index]\n",
    "\n",
    "k = 3\n",
    "arr = [10, 30, 40, 50, 20]\n",
    "n = len(arr)\n",
    "dp = [-1 for i in range(n)]\n",
    "minimizeCost(arr, k, dp, n-1)"
   ]
  },
  {
   "cell_type": "code",
   "execution_count": 17,
   "id": "a6227627-2650-4fbe-961f-53d4c5d5114a",
   "metadata": {},
   "outputs": [
    {
     "data": {
      "text/plain": [
       "30"
      ]
     },
     "execution_count": 17,
     "metadata": {},
     "output_type": "execute_result"
    }
   ],
   "source": [
    "\n",
    "\n",
    "def minimizeCost(k, arr):\n",
    "\n",
    "    n = len(arr)\n",
    "    \n",
    "    dp = [-1 for i in range(n)]\n",
    "    dp[0] = 0\n",
    "        \n",
    "    for i in range(1, n):\n",
    "        _minCost = float('inf')\n",
    "        j = 1\n",
    "        while j <= k and i-j >= 0:\n",
    "            jump = dp[i-j] + abs(arr[i]-arr[i-j]) \n",
    "            _minCost = min(_minCost, jump)\n",
    "            j += 1\n",
    "            \n",
    "        dp[i] = _minCost\n",
    "    return dp[n-1]\n",
    "\n",
    "k = 3\n",
    "arr = [10, 30, 40, 50, 20]\n",
    "minimizeCost(k, arr)"
   ]
  },
  {
   "cell_type": "code",
   "execution_count": null,
   "id": "00bfe92a-7ce0-4131-8645-c38323d0c5de",
   "metadata": {},
   "outputs": [],
   "source": []
  },
  {
   "cell_type": "markdown",
   "id": "d3d2a847-bafb-4a9e-8f2f-b9abbd6fdc92",
   "metadata": {},
   "source": [
    "# Maximum sum of non-adjacent elements"
   ]
  },
  {
   "cell_type": "code",
   "execution_count": 28,
   "id": "c1e5f3b1-8375-4a65-94a6-8a7e8d8a814b",
   "metadata": {},
   "outputs": [
    {
     "data": {
      "text/plain": [
       "12"
      ]
     },
     "execution_count": 28,
     "metadata": {},
     "output_type": "execute_result"
    }
   ],
   "source": [
    "# Recursion\n",
    "\n",
    "def maxProfit(nums, index):\n",
    "    if index < 0:\n",
    "        return 0\n",
    "\n",
    "    if index == 0:\n",
    "        return nums[index] \n",
    "\n",
    "    pick = nums[index] + maxProfit(nums, index-2)\n",
    "    nonPick = maxProfit(nums, index-1)\n",
    "\n",
    "    return max(pick, nonPick)\n",
    "\n",
    "nums = [2,7,9,3,1]\n",
    "n = len(nums)\n",
    "maxProfit(nums, n-1)"
   ]
  },
  {
   "cell_type": "code",
   "execution_count": 26,
   "id": "d141d8bd-ed05-4999-9557-25da2e4b27e5",
   "metadata": {},
   "outputs": [
    {
     "data": {
      "text/plain": [
       "12"
      ]
     },
     "execution_count": 26,
     "metadata": {},
     "output_type": "execute_result"
    }
   ],
   "source": [
    "# Memorization\n",
    "\n",
    "def maxProfit(nums, index, dp):\n",
    "    if index < 0:\n",
    "        return 0\n",
    "\n",
    "    if index == 0:\n",
    "        return nums[index] \n",
    "        \n",
    "    if dp[index] != -1:\n",
    "        return dp[index]\n",
    "\n",
    "    pick = nums[index] + maxProfit(nums, index-2, dp)\n",
    "    nonPick = maxProfit(nums, index-1, dp)\n",
    "\n",
    "    dp[index] = max(pick, nonPick)\n",
    "    return dp[index]\n",
    "\n",
    "nums = [2,7,9,3,1]\n",
    "n = len(nums)\n",
    "dp = [-1 for i in range(n)]\n",
    "maxProfit(nums, n-1, dp)"
   ]
  },
  {
   "cell_type": "code",
   "execution_count": 27,
   "id": "ad5e6b77-a98e-4361-80c0-ed0f0fe2ec68",
   "metadata": {},
   "outputs": [
    {
     "data": {
      "text/plain": [
       "12"
      ]
     },
     "execution_count": 27,
     "metadata": {},
     "output_type": "execute_result"
    }
   ],
   "source": [
    "# Tabulation\n",
    "\n",
    "def rob(nums):\n",
    "    n = len(nums)\n",
    "        \n",
    "    dp = [-1 for i in range(n)]\n",
    "\n",
    "    for i in range(n):\n",
    "        pick = nums[i]\n",
    "        if i-2 >= 0:\n",
    "            pick = nums[i] + dp[i-2]\n",
    "        nonPick = 0\n",
    "        if i-1 >= 0:\n",
    "            nonPick = dp[i-1]\n",
    "        dp[i] = max(pick, nonPick)\n",
    "\n",
    "    return dp[n-1]\n",
    "\n",
    "nums = [2,7,9,3,1]\n",
    "rob(nums)"
   ]
  },
  {
   "cell_type": "code",
   "execution_count": null,
   "id": "dd4420d0-e544-4939-b572-7c5b51d62600",
   "metadata": {},
   "outputs": [],
   "source": []
  },
  {
   "cell_type": "markdown",
   "id": "0a290adf-dd18-4bd5-a0a8-8ee7c36568f8",
   "metadata": {},
   "source": [
    "# House Robber"
   ]
  },
  {
   "cell_type": "code",
   "execution_count": 31,
   "id": "15720f29-eb00-4f9d-ad57-2b4a86e79806",
   "metadata": {},
   "outputs": [
    {
     "data": {
      "text/plain": [
       "4"
      ]
     },
     "execution_count": 31,
     "metadata": {},
     "output_type": "execute_result"
    }
   ],
   "source": [
    "\n",
    "def maxProfit(arr):\n",
    "\n",
    "    n = len(arr)\n",
    "    dp = [-1 for i in range(n)]\n",
    "    for i in range(n):\n",
    "        include = arr[i]\n",
    "        if i-2 >= 0:\n",
    "            include += dp[i-2]\n",
    "        notInclude = 0\n",
    "        if i-1 >=0:\n",
    "            notInclude = dp[i-1]\n",
    "        dp[i] = max(include, notInclude)\n",
    "    return dp[n-1]\n",
    "        \n",
    "\n",
    "def rob(nums):\n",
    "    n = len(nums)\n",
    "    if n == 0:\n",
    "        return 0\n",
    "\n",
    "    if n == 1:\n",
    "        return nums[0]\n",
    "   \n",
    "    firstInclude = maxProfit(nums[:n-1])\n",
    "    lastInclude = maxProfit(nums[1:n])\n",
    "\n",
    "    return max(firstInclude, lastInclude)\n",
    "\n",
    "nums = [1,2,3,1]\n",
    "rob(nums)"
   ]
  },
  {
   "cell_type": "code",
   "execution_count": null,
   "id": "8aae78cb-fbae-4fc3-82c3-61e0e1d6632f",
   "metadata": {},
   "outputs": [],
   "source": []
  },
  {
   "cell_type": "code",
   "execution_count": null,
   "id": "7c85a21b-48ed-43c0-a61f-70cb96b634cf",
   "metadata": {},
   "outputs": [],
   "source": []
  }
 ],
 "metadata": {
  "kernelspec": {
   "display_name": "Python 3 (ipykernel)",
   "language": "python",
   "name": "python3"
  },
  "language_info": {
   "codemirror_mode": {
    "name": "ipython",
    "version": 3
   },
   "file_extension": ".py",
   "mimetype": "text/x-python",
   "name": "python",
   "nbconvert_exporter": "python",
   "pygments_lexer": "ipython3",
   "version": "3.12.7"
  }
 },
 "nbformat": 4,
 "nbformat_minor": 5
}
