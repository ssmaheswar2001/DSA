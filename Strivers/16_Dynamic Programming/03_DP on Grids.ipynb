{
 "cells": [
  {
   "cell_type": "markdown",
   "id": "7e403c51-f79b-408c-90ba-1faaab9a0314",
   "metadata": {},
   "source": [
    "# Geek's Training"
   ]
  },
  {
   "cell_type": "code",
   "execution_count": null,
   "id": "e04b2f9a-703c-4c8c-ab79-7ff0e2063284",
   "metadata": {},
   "outputs": [],
   "source": []
  },
  {
   "cell_type": "code",
   "execution_count": 3,
   "id": "141653e9-5117-4840-bcb5-79202f8de3ed",
   "metadata": {},
   "outputs": [
    {
     "data": {
      "text/plain": [
       "11"
      ]
     },
     "execution_count": 3,
     "metadata": {},
     "output_type": "execute_result"
    }
   ],
   "source": [
    "# Memrorization\n",
    "\n",
    "def maximumPoints(arr, dp, day, last):\n",
    "    if day == 0:\n",
    "        return 0\n",
    "            \n",
    "    if dp[day][last] != -1:\n",
    "        return dp[day][last]\n",
    "            \n",
    "    for i in range(3):\n",
    "        if last != i:\n",
    "            dp[day][last] = max(dp[day][last], arr[day-1][i]+maximumPoints(arr, dp, day-1, i))\n",
    "                \n",
    "    return dp[day][last]\n",
    "\n",
    "arr = [[1, 2, 5], [3, 1, 1], [3, 3, 3]]\n",
    "n = len(arr)\n",
    "m = len(arr[0])\n",
    "dp = [[-1 for j in range(m+1)] for i in range(n+1)]    \n",
    "maximumPoints(arr, dp, n, m)"
   ]
  },
  {
   "cell_type": "code",
   "execution_count": 4,
   "id": "984a1ef0-61d1-40f6-87fe-c9904bd7f4d8",
   "metadata": {},
   "outputs": [
    {
     "data": {
      "text/plain": [
       "11"
      ]
     },
     "execution_count": 4,
     "metadata": {},
     "output_type": "execute_result"
    }
   ],
   "source": [
    "# Tabulation\n",
    " \n",
    "def maximumPoints(arr):\n",
    "    n = len(arr)\n",
    "    m = len(arr[0])\n",
    "        \n",
    "    dp = [[0 for j in range(m)] for i in range(n)]\n",
    "        \n",
    "    for i in range(n):\n",
    "        for j in range(m):\n",
    "            dp[i][j] = arr[i][j]\n",
    "            if i > 0:\n",
    "                for k in range(3):\n",
    "                    if j != k:\n",
    "                        dp[i][j] = max(dp[i][j], arr[i][j]+dp[i-1][k])\n",
    "                                \n",
    "    return max(dp[n-1])\n",
    "\n",
    "arr = [[1, 2, 5], [3, 1, 1], [3, 3, 3]]\n",
    "maximumPoints(arr)"
   ]
  },
  {
   "cell_type": "code",
   "execution_count": null,
   "id": "c7ead954-ead4-4cf7-ab54-8ac3627ca5d6",
   "metadata": {},
   "outputs": [],
   "source": []
  },
  {
   "attachments": {
    "13243957-d663-402c-94a5-b4ebc9d6aac8.png": {
     "image/png": "[encoded data removed]"
    }
   },
   "cell_type": "markdown",
   "id": "1cab0220-5b7d-40a1-83f7-d546dee0bff5",
   "metadata": {},
   "source": [
    "# Grid Unique Paths : DP on Grids\n",
    "- ![image.png](attachment:13243957-d663-402c-94a5-b4ebc9d6aac8.png)"
   ]
  },
  {
   "cell_type": "code",
   "execution_count": 5,
   "id": "36bc918e-7912-4d27-9f6c-c8bffb63e10f",
   "metadata": {},
   "outputs": [
    {
     "data": {
      "text/plain": [
       "28"
      ]
     },
     "execution_count": 5,
     "metadata": {},
     "output_type": "execute_result"
    }
   ],
   "source": [
    "# Recursion\n",
    "# Time Complexity : 2**(N x M)\n",
    "\n",
    "def uniquePaths(i, j):\n",
    "    if i ==0 and j == 0:\n",
    "        return 1\n",
    "\n",
    "    sum = 0\n",
    "    if i-1 >= 0:\n",
    "        sum += uniquePaths(i-1, j)\n",
    "    if j-1 >= 0:\n",
    "        sum += uniquePaths(i, j-1)\n",
    "    return sum\n",
    "\n",
    "m = 3\n",
    "n = 7\n",
    "uniquePaths(m-1, n-1)\n"
   ]
  },
  {
   "cell_type": "code",
   "execution_count": 4,
   "id": "4e65c872-f5ea-4339-9302-4f5f2965051e",
   "metadata": {},
   "outputs": [
    {
     "data": {
      "text/plain": [
       "28"
      ]
     },
     "execution_count": 4,
     "metadata": {},
     "output_type": "execute_result"
    }
   ],
   "source": [
    "# Memroization\n",
    "\n",
    "def uniquePaths(i, j, dp):\n",
    "    if i ==0 and j == 0:\n",
    "        dp[i][j] = 1\n",
    "        return 1\n",
    "    \n",
    "    if dp[i][j] != -1:\n",
    "        return dp[i][j]\n",
    "\n",
    "    sum = 0\n",
    "    if i-1 >= 0:\n",
    "        sum += uniquePaths(i-1, j, dp)\n",
    "    if j-1 >= 0:\n",
    "        sum += uniquePaths(i, j-1, dp)\n",
    "    dp[i][j] = sum\n",
    "    return dp[i][j]\n",
    "\n",
    "m = 3\n",
    "n = 7\n",
    "dp = [[-1 for j in range(n)] for i in range(m)]\n",
    "uniquePaths(m-1, n-1, dp)"
   ]
  },
  {
   "cell_type": "code",
   "execution_count": 2,
   "id": "ee2870e4-330e-4e95-b164-ba976a8454d9",
   "metadata": {},
   "outputs": [
    {
     "data": {
      "text/plain": [
       "28"
      ]
     },
     "execution_count": 2,
     "metadata": {},
     "output_type": "execute_result"
    }
   ],
   "source": [
    "# Tabulation\n",
    "\n",
    "def uniquePaths(m, n):\n",
    "    dp = [[0 for j in range(n)] for i in range(m)]\n",
    "    dp[0][0] = 1\n",
    "    for i in range(m):\n",
    "        for j in range(n):\n",
    "            if i-1 >= 0:\n",
    "                dp[i][j] += dp[i-1][j]\n",
    "            if j-1 >= 0:\n",
    "                dp[i][j] += dp[i][j-1]\n",
    "\n",
    "    return dp[m-1][n-1]\n",
    "\n",
    "m = 3\n",
    "n = 7\n",
    "uniquePaths(m, n)"
   ]
  },
  {
   "cell_type": "code",
   "execution_count": null,
   "id": "dc63eecd-2492-4070-a416-17583ee171cf",
   "metadata": {},
   "outputs": [],
   "source": []
  },
  {
   "attachments": {
    "09618594-8e59-452f-b090-2901c57f74cc.png": {
     "image/png": "[encoded data removed]"
    }
   },
   "cell_type": "markdown",
   "id": "d1497424-71c8-4ba4-9bee-dd67afd192f5",
   "metadata": {},
   "source": [
    "# Grid Unique Paths 2\n",
    "- ![image.png](attachment:09618594-8e59-452f-b090-2901c57f74cc.png)"
   ]
  },
  {
   "cell_type": "code",
   "execution_count": 10,
   "id": "d0c82a50-adac-4193-9de2-8be942819b0b",
   "metadata": {},
   "outputs": [
    {
     "data": {
      "text/plain": [
       "2"
      ]
     },
     "execution_count": 10,
     "metadata": {},
     "output_type": "execute_result"
    }
   ],
   "source": [
    "def uniquePathsWithObstacles(obstacleGrid, i, j):\n",
    "    if obstacleGrid[i][j] == 1:\n",
    "        return 0\n",
    "    if i == 0 and j == 0:\n",
    "        return 1\n",
    "\n",
    "    path = 0\n",
    "    if j-1 >= 0:\n",
    "        path += uniquePathsWithObstacles(obstacleGrid, i, j-1)\n",
    "    if i-1 >= 0:\n",
    "        path += uniquePathsWithObstacles(obstacleGrid, i-1, j)\n",
    "    \n",
    "    return path\n",
    "\n",
    "obstacleGrid = [[0,0,0],[0,1,0],[0,0,0]]\n",
    "n = len(obstacleGrid)\n",
    "m = len(obstacleGrid)\n",
    "uniquePathsWithObstacles(obstacleGrid, n-1, m-1)"
   ]
  },
  {
   "cell_type": "code",
   "execution_count": 9,
   "id": "c666840f-2dba-4b2e-a05d-1c203f2ca42b",
   "metadata": {},
   "outputs": [
    {
     "data": {
      "text/plain": [
       "2"
      ]
     },
     "execution_count": 9,
     "metadata": {},
     "output_type": "execute_result"
    }
   ],
   "source": [
    "def uniquePathsWithObstacles(obstacleGrid, dp, i, j):\n",
    "    if obstacleGrid[i][j] == 1:\n",
    "        return 0\n",
    "    if i == 0 and j == 0:\n",
    "        return 1\n",
    "        \n",
    "    if dp[i][j] != -1:\n",
    "        return dp[i][j]\n",
    "\n",
    "    path = 0\n",
    "    if j-1 >= 0:\n",
    "        path += uniquePathsWithObstacles(obstacleGrid, dp, i, j-1)\n",
    "    if i-1 >= 0:\n",
    "        path += uniquePathsWithObstacles(obstacleGrid, dp, i-1, j)\n",
    "    dp[i][j] = path\n",
    "    return dp[i][j]\n",
    "\n",
    "obstacleGrid = [[0,0,0],[0,1,0],[0,0,0]]\n",
    "n = len(obstacleGrid)\n",
    "m = len(obstacleGrid)\n",
    "dp = [[-1 for j in range(m)] for i in range(n)]\n",
    "uniquePathsWithObstacles(obstacleGrid, dp, n-1, m-1)"
   ]
  },
  {
   "cell_type": "code",
   "execution_count": 7,
   "id": "6fb4061b-c473-4b4b-8203-87c7917aacad",
   "metadata": {},
   "outputs": [
    {
     "data": {
      "text/plain": [
       "2"
      ]
     },
     "execution_count": 7,
     "metadata": {},
     "output_type": "execute_result"
    }
   ],
   "source": [
    "def uniquePathsWithObstacles(obstacleGrid):\n",
    "    n = len(obstacleGrid)\n",
    "    m = len(obstacleGrid[0])\n",
    "\n",
    "    dp = [[0 for j in range(m)] for i in range(n)]\n",
    "    dp[0][0] = 1\n",
    "\n",
    "    for i in range(n):\n",
    "        for j in range(m):\n",
    "            if obstacleGrid[i][j] == 1:\n",
    "                dp[i][j] = 0\n",
    "            else:\n",
    "                if j-1 >= 0:\n",
    "                    dp[i][j] += dp[i][j-1]\n",
    "                if i-1 >= 0:\n",
    "                    dp[i][j] += dp[i-1][j]\n",
    "\n",
    "    return dp[n-1][m-1]\n",
    "\n",
    "obstacleGrid = [[0,0,0],[0,1,0],[0,0,0]]\n",
    "uniquePathsWithObstacles(obstacleGrid)"
   ]
  },
  {
   "cell_type": "code",
   "execution_count": null,
   "id": "5ce32887-593a-4673-840e-c68100ecc597",
   "metadata": {},
   "outputs": [],
   "source": []
  },
  {
   "attachments": {
    "35b7d151-0326-4ff7-b1cf-ddb20796f33e.png": {
     "image/png": "[encoded data removed]"
    }
   },
   "cell_type": "markdown",
   "id": "7bb818e6-418f-457d-a279-dcc8cfea49c0",
   "metadata": {},
   "source": [
    "# Minimum Path Sum\n",
    "- ![image.png](attachment:35b7d151-0326-4ff7-b1cf-ddb20796f33e.png)"
   ]
  },
  {
   "cell_type": "code",
   "execution_count": 15,
   "id": "2c1c31cf-3368-48c1-9cae-8ce339626a21",
   "metadata": {},
   "outputs": [
    {
     "data": {
      "text/plain": [
       "7"
      ]
     },
     "execution_count": 15,
     "metadata": {},
     "output_type": "execute_result"
    }
   ],
   "source": [
    "def minPathSum(grid, i, j):\n",
    "    if i == 0 and j == 0:\n",
    "        return grid[i][j]\n",
    "\n",
    "    up = float('inf')\n",
    "    if i-1 >= 0:\n",
    "        up = minPathSum(grid, i-1, j)\n",
    "    left = float('inf')\n",
    "    if j-1 >= 0:\n",
    "        left = minPathSum(grid, i, j-1)\n",
    "    grid[i][j] = grid[i][j] + min(up, left)\n",
    "    return grid[i][j]\n",
    "\n",
    "grid = [[1,3,1],[1,5,1],[4,2,1]]\n",
    "n = len(grid)\n",
    "m = len(grid[0])\n",
    "dp = [[-1 for j in range(m)] for i in range(n)]\n",
    "minPathSum(grid, n-1, m-1)"
   ]
  },
  {
   "cell_type": "code",
   "execution_count": 14,
   "id": "233d9c34-2011-400b-b3e9-dfe80dc73379",
   "metadata": {},
   "outputs": [
    {
     "data": {
      "text/plain": [
       "7"
      ]
     },
     "execution_count": 14,
     "metadata": {},
     "output_type": "execute_result"
    }
   ],
   "source": [
    "def minPathSum(grid, dp, i, j):\n",
    "    if i == 0 and j == 0:\n",
    "        dp[i][j] = grid[i][j]\n",
    "        return grid[i][j]\n",
    "\n",
    "    if dp[i][j] != -1:\n",
    "        return dp[i][j]\n",
    "\n",
    "    up = float('inf')\n",
    "    if i-1 >= 0:\n",
    "        up = minPathSum(grid, dp, i-1, j)\n",
    "    left = float('inf')\n",
    "    if j-1 >= 0:\n",
    "        left = minPathSum(grid, dp, i, j-1)\n",
    "    dp[i][j] = grid[i][j] + min(up, left)\n",
    "    return dp[i][j]\n",
    "\n",
    "grid = [[1,3,1],[1,5,1],[4,2,1]]\n",
    "n = len(grid)\n",
    "m = len(grid[0])\n",
    "dp = [[-1 for j in range(m)] for i in range(n)]\n",
    "minPathSum(grid, dp, n-1, m-1)"
   ]
  },
  {
   "cell_type": "code",
   "execution_count": 11,
   "id": "122646d1-c1b1-46f6-af54-c4462ea27ac3",
   "metadata": {},
   "outputs": [
    {
     "data": {
      "text/plain": [
       "7"
      ]
     },
     "execution_count": 11,
     "metadata": {},
     "output_type": "execute_result"
    }
   ],
   "source": [
    "def minPathSum(grid):\n",
    "    n = len(grid)\n",
    "    m = len(grid[0])\n",
    "\n",
    "    dp = [[0 for j in range(m)] for i in range(n)]\n",
    "\n",
    "    for i in range(n):\n",
    "        for j in range(m):\n",
    "            if i == 0 and j == 0:\n",
    "                dp[i][j] = grid[i][j]\n",
    "            else:\n",
    "                top = float('inf')\n",
    "                if i-1 >= 0:\n",
    "                    top = dp[i-1][j] \n",
    "                left = float('inf')\n",
    "                if j-1 >= 0 :\n",
    "                    left = dp[i][j-1]\n",
    "                dp[i][j] = grid[i][j] + min(top, left)\n",
    "\n",
    "    return dp[n-1][m-1]\n",
    "    \n",
    "grid = [[1,3,1],[1,5,1],[4,2,1]]\n",
    "minPathSum(grid)"
   ]
  },
  {
   "cell_type": "code",
   "execution_count": null,
   "id": "9290983e-7b7f-46b9-9eb2-5e7c1d5e07b1",
   "metadata": {},
   "outputs": [],
   "source": []
  },
  {
   "cell_type": "code",
   "execution_count": null,
   "id": "34b87fff-69fb-4412-9539-470cb3e0f006",
   "metadata": {},
   "outputs": [],
   "source": []
  },
  {
   "cell_type": "code",
   "execution_count": 18,
   "id": "b21b425c-1f1b-43ce-b863-e9de43b2b0ee",
   "metadata": {},
   "outputs": [
    {
     "data": {
      "text/plain": [
       "11"
      ]
     },
     "execution_count": 18,
     "metadata": {},
     "output_type": "execute_result"
    }
   ],
   "source": [
    "def minimumTotal(triangle, i, j, n):\n",
    "    if i == n-1:\n",
    "        return triangle[i][j]\n",
    "\n",
    "    downLeft = minimumTotal(triangle, i+1, j, n)\n",
    "    downRight = minimumTotal(triangle, i+1, j+1, n)\n",
    "    return triangle[i][j] + min(downLeft, downRight)\n",
    "\n",
    "triangle = [[2],[3,4],[6,5,7],[4,1,8,3]]\n",
    "n = len(triangle)\n",
    "        \n",
    "minimumTotal(triangle, 0, 0, n)"
   ]
  },
  {
   "cell_type": "code",
   "execution_count": 17,
   "id": "66f8036f-e783-4867-984b-4b6bcbb25ad8",
   "metadata": {},
   "outputs": [
    {
     "data": {
      "text/plain": [
       "11"
      ]
     },
     "execution_count": 17,
     "metadata": {},
     "output_type": "execute_result"
    }
   ],
   "source": [
    "def minimumTotal(triangle, dp, i, j, n):\n",
    "    if i == n-1:\n",
    "        dp[i][j] = triangle[i][j]\n",
    "        return dp[i][j]\n",
    "        \n",
    "    if dp[i][j] != -1:\n",
    "        return dp[i][j]\n",
    "\n",
    "\n",
    "    downLeft = minimumTotal(triangle, dp, i+1, j, n)\n",
    "    downRight = minimumTotal(triangle, dp, i+1, j+1, n)\n",
    "    dp[i][j] = triangle[i][j] + min(downLeft, downRight)\n",
    "    return dp[i][j]\n",
    "\n",
    "triangle = [[2],[3,4],[6,5,7],[4,1,8,3]]\n",
    "n = len(triangle)\n",
    "dp = []\n",
    "for i in range(n):\n",
    "    m = len(triangle[i])\n",
    "    temp = [-1 for i in range(m)]\n",
    "    dp.append(temp)\n",
    "        \n",
    "minimumTotal(triangle, dp, 0, 0, n)"
   ]
  },
  {
   "cell_type": "code",
   "execution_count": 19,
   "id": "df91b55c-c7d3-417a-8450-8bd55416b53d",
   "metadata": {},
   "outputs": [
    {
     "data": {
      "text/plain": [
       "11"
      ]
     },
     "execution_count": 19,
     "metadata": {},
     "output_type": "execute_result"
    }
   ],
   "source": [
    "def minimumTotal(triangle):\n",
    "    n = len(triangle)\n",
    "    dp = []\n",
    "    for i in range(n):\n",
    "        m = len(triangle[i])\n",
    "        temp = [0 for i in range(m)]\n",
    "        dp.append(temp)\n",
    "        \n",
    "    for i in range(n-1, -1, -1):\n",
    "        m = len(triangle[i])\n",
    "        for j in range(m):\n",
    "            if i == n-1:\n",
    "                dp[i][j] = triangle[i][j]\n",
    "            else:\n",
    "                dp[i][j] = triangle[i][j] + min(dp[i+1][j], dp[i+1][j+1])\n",
    "\n",
    "    return dp[0][0]\n",
    "\n",
    "triangle = [[2],[3,4],[6,5,7],[4,1,8,3]]\n",
    "minimumTotal(triangle)"
   ]
  },
  {
   "cell_type": "code",
   "execution_count": 16,
   "id": "4b07ab4b-9433-47a2-a857-3c5ad6c5b42b",
   "metadata": {},
   "outputs": [
    {
     "data": {
      "text/plain": [
       "11"
      ]
     },
     "execution_count": 16,
     "metadata": {},
     "output_type": "execute_result"
    }
   ],
   "source": [
    "def minimumTotal(triangle):\n",
    "    n = len(triangle)\n",
    "    dp = []\n",
    "    for i in range(n):\n",
    "        m = len(triangle[i])\n",
    "        temp = [0 for i in range(m)]\n",
    "        dp.append(temp)\n",
    "        \n",
    "    for i in range(n):\n",
    "        m = len(triangle[i])\n",
    "        for j in range(m):\n",
    "            if i == 0 and j == 0:\n",
    "                dp[i][j] = triangle[i][j]\n",
    "            else:\n",
    "                upLeft = float('inf')\n",
    "                if j-1 >=0:\n",
    "                    upLeft = dp[i-1][j-1]\n",
    "                upRight = float('inf')\n",
    "                if j < m-1:\n",
    "                    upRight = dp[i-1][j]\n",
    "                dp[i][j] = triangle[i][j] + min(upLeft, upRight)\n",
    "\n",
    "    return min(dp[n-1])\n",
    "\n",
    "triangle = [[2],[3,4],[6,5,7],[4,1,8,3]]\n",
    "minimumTotal(triangle)"
   ]
  },
  {
   "attachments": {
    "83a4302d-648f-4482-a520-16516e88b9fb.png": {
     "image/png": "[encoded data removed]"
    }
   },
   "cell_type": "markdown",
   "id": "e4db9092-2ef7-4351-86d1-43f9e23be6a6",
   "metadata": {},
   "source": [
    "# Minimum/Maximum Falling Path Sum\n",
    "- ![image.png](attachment:83a4302d-648f-4482-a520-16516e88b9fb.png)"
   ]
  },
  {
   "cell_type": "code",
   "execution_count": null,
   "id": "09a3cce0-d06b-45cd-8b27-f443e09e9933",
   "metadata": {},
   "outputs": [],
   "source": []
  },
  {
   "cell_type": "code",
   "execution_count": 22,
   "id": "f1eb82d0-9d61-4631-8f00-060c59d460eb",
   "metadata": {},
   "outputs": [
    {
     "data": {
      "text/plain": [
       "13"
      ]
     },
     "execution_count": 22,
     "metadata": {},
     "output_type": "execute_result"
    }
   ],
   "source": [
    "def pathSum(matrix, dp, i, j, m):\n",
    "    if i == 0:\n",
    "        dp[i][j] = matrix[i][j]\n",
    "        return matrix[i][j]\n",
    "        \n",
    "    if dp[i][j] != -1:\n",
    "        return dp[i][j]\n",
    "\n",
    "    leftD = float('inf')\n",
    "    if j-1 >= 0:\n",
    "        leftD = pathSum(matrix, dp, i-1, j-1, m)\n",
    "    up = pathSum(matrix, dp, i-1, j, m)\n",
    "    rightD = float('inf')\n",
    "    if j+1 < m:\n",
    "        rightD = pathSum(matrix, dp, i-1, j+1, m)\n",
    "    dp[i][j] = matrix[i][j] + min(leftD, up, rightD)\n",
    "    return dp[i][j]\n",
    "        \n",
    "def minFallingPathSum(matrix):\n",
    "    n = len(matrix)\n",
    "    m = len(matrix)\n",
    "\n",
    "    dp = [[-1 for j in range(m)] for i in range(m)]\n",
    "    _minSum = float('inf')\n",
    "    for j in range(m):\n",
    "        _minSum = min(_minSum, pathSum(matrix, dp, n-1, j, m))\n",
    "\n",
    "    return _minSum\n",
    "\n",
    "\n",
    "matrix = [[2,1,3],[6,5,4],[7,8,9]]\n",
    "minFallingPathSum(matrix)"
   ]
  },
  {
   "cell_type": "code",
   "execution_count": 23,
   "id": "4848e533-d1b3-4519-a6f2-86c987a8bb84",
   "metadata": {},
   "outputs": [
    {
     "data": {
      "text/plain": [
       "13"
      ]
     },
     "execution_count": 23,
     "metadata": {},
     "output_type": "execute_result"
    }
   ],
   "source": [
    "def minFallingPathSum(matrix):\n",
    "    n = len(matrix)\n",
    "    m = len(matrix)\n",
    "\n",
    "    dp = [[0 for j in range(m)] for i in range(n)]\n",
    "\n",
    "    for i in range(n):\n",
    "        for j in range(m):\n",
    "            if i == 0:\n",
    "                dp[i][j] = matrix[i][j]\n",
    "            else:\n",
    "                upLeft = float('inf')\n",
    "                if j-1 >= 0:\n",
    "                    upLeft = dp[i-1][j-1]\n",
    "                up = dp[i-1][j]\n",
    "                upRight = float('inf')\n",
    "                if j+1 < m:\n",
    "                    upRight = dp[i-1][j+1]\n",
    "                dp[i][j] = matrix[i][j] + min(upLeft, up, upRight)\n",
    "\n",
    "    return min(dp[n-1])\n",
    "\n",
    "matrix = [[2,1,3],[6,5,4],[7,8,9]]\n",
    "minFallingPathSum(matrix)"
   ]
  },
  {
   "cell_type": "code",
   "execution_count": null,
   "id": "adb25404-2a40-45d8-9efa-0a616dc7a65a",
   "metadata": {},
   "outputs": [],
   "source": []
  },
  {
   "cell_type": "markdown",
   "id": "c2e1bd4d-b273-4308-a4ee-391357cdc0ab",
   "metadata": {},
   "source": [
    "# 3-d DP : Ninja and his friends"
   ]
  },
  {
   "cell_type": "code",
   "execution_count": null,
   "id": "9e6d9a3f-3e5b-4c71-9c43-88760bc98a0b",
   "metadata": {},
   "outputs": [],
   "source": []
  },
  {
   "cell_type": "code",
   "execution_count": 26,
   "id": "0f85988d-1798-4fbc-9f49-a10bfc0d02e8",
   "metadata": {},
   "outputs": [
    {
     "data": {
      "text/plain": [
       "24"
      ]
     },
     "execution_count": 26,
     "metadata": {},
     "output_type": "execute_result"
    }
   ],
   "source": [
    "\n",
    "def robotsFlow(grid, dp, i, j1, j2, n, m):\n",
    "    if j1 <0 or j1 >= m or j2 < 0 or j2 >= m:\n",
    "        return int(-1e9)\n",
    "        \n",
    "    if i == n-1:\n",
    "        if j1 == j2:\n",
    "            return grid[i][j1]\n",
    "        return grid[i][j1] + grid[i][j2]\n",
    "            \n",
    "    if dp[i][j1][j2] != -1:\n",
    "        return dp[i][j1][j2]\n",
    "            \n",
    "    maxi = -1e9\n",
    "    for di in range(-1, 2):\n",
    "        for dj in range(-1, 2):\n",
    "            temp = grid[i][j1]\n",
    "            if j1 != j2:\n",
    "                temp += grid[i][j2]\n",
    "            temp += robotsFlow(grid, dp, i+1, j1+di, j2+dj, n, m)\n",
    "            maxi = max(maxi, temp)\n",
    "    dp[i][j1][j2] = maxi\n",
    "    return dp[i][j1][j2]\n",
    "\n",
    "grid = [[3,1,1],[2,5,1],[1,5,5],[2,1,1]]\n",
    "n = len(grid)\n",
    "m = len(grid[0])\n",
    "dp = [[[-1 for k in range(m)] for j in range(m)] for i in range(n)]\n",
    "robotsFlow(grid, dp, 0, 0, m-1, n, m)"
   ]
  },
  {
   "cell_type": "code",
   "execution_count": null,
   "id": "aed5c988-f8cb-4f03-bc59-7b235dbcf551",
   "metadata": {},
   "outputs": [],
   "source": []
  }
 ],
 "metadata": {
  "kernelspec": {
   "display_name": "Python 3 (ipykernel)",
   "language": "python",
   "name": "python3"
  },
  "language_info": {
   "codemirror_mode": {
    "name": "ipython",
    "version": 3
   },
   "file_extension": ".py",
   "mimetype": "text/x-python",
   "name": "python",
   "nbconvert_exporter": "python",
   "pygments_lexer": "ipython3",
   "version": "3.12.7"
  }
 },
 "nbformat": 4,
 "nbformat_minor": 5
}
