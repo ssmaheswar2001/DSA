{
 "cells": [
  {
   "cell_type": "markdown",
   "id": "f688e680-a72c-4cb9-95fa-950260a14515",
   "metadata": {},
   "source": [
    "# Longest Increasing Subsequence"
   ]
  },
  {
   "cell_type": "code",
   "execution_count": 2,
   "id": "ed6586d5-270b-4e77-9539-679f682464e7",
   "metadata": {},
   "outputs": [
    {
     "data": {
      "text/plain": [
       "4"
      ]
     },
     "execution_count": 2,
     "metadata": {},
     "output_type": "execute_result"
    }
   ],
   "source": [
    "def LIS(nums, n, index, prevIndex, dp):\n",
    "    if index == n:\n",
    "        return 0\n",
    "        \n",
    "    if dp[index][prevIndex+1] != -1:\n",
    "        return dp[index][prevIndex+1]\n",
    "\n",
    "    notinclude = LIS(nums, n, index+1, prevIndex, dp)\n",
    "    include = 0\n",
    "    if prevIndex == -1 or nums[prevIndex] < nums[index]:\n",
    "        include = 1+ LIS(nums, n, index+1, index, dp)\n",
    "    dp[index][prevIndex+1] = max(include, notinclude)\n",
    "    return dp[index][prevIndex+1]\n",
    "\n",
    "nums = [0,1,0,3,2,3]\n",
    "n = len(nums)\n",
    "dp = [[-1 for j in range(n+1)] for i in range(n)]\n",
    "LIS(nums, n, 0, -1, dp)"
   ]
  },
  {
   "cell_type": "code",
   "execution_count": 5,
   "id": "62849717-3f99-4ff6-b279-a29abf43d50a",
   "metadata": {},
   "outputs": [
    {
     "data": {
      "text/plain": [
       "[1, 1, 2, 1, 3, 2]"
      ]
     },
     "execution_count": 5,
     "metadata": {},
     "output_type": "execute_result"
    }
   ],
   "source": [
    "def LIS(nums):\n",
    "    n = len(nums)\n",
    "    dp = [1 for i in range(n)]\n",
    "    \n",
    "    for i in range(n):\n",
    "        for j in range(i):\n",
    "            if nums[j] < nums[i]:\n",
    "                dp[i] = max(dp[i], 1+dp[j])\n",
    "    return dp\n",
    "    \n",
    "nums = [5, 4, 11, 1, 16, 8]\n",
    "LIS(nums)"
   ]
  },
  {
   "cell_type": "code",
   "execution_count": null,
   "id": "f6e77e3c-fa0b-4f0a-905e-e60c80d0e34d",
   "metadata": {},
   "outputs": [],
   "source": []
  },
  {
   "cell_type": "markdown",
   "id": "1c779a97-8c97-4e46-b720-cb895ae18705",
   "metadata": {},
   "source": [
    "# Printing Longest Increasing Subsequence"
   ]
  },
  {
   "cell_type": "code",
   "execution_count": 23,
   "id": "8fde99e2-455a-4045-8840-707c8acaa70c",
   "metadata": {},
   "outputs": [
    {
     "data": {
      "text/plain": [
       "[5, 11, 16]"
      ]
     },
     "execution_count": 23,
     "metadata": {},
     "output_type": "execute_result"
    }
   ],
   "source": [
    "def LIS(nums):\n",
    "    n = len(nums)\n",
    "    dp = [1 for i in range(n)]\n",
    "    _hash = [i for i in range(n)]\n",
    "\n",
    "    lisIndex = 0\n",
    "    \n",
    "    for i in range(n):\n",
    "        _hash[i] = i\n",
    "        for j in range(i):\n",
    "            if nums[j] < nums[i] and dp[i] < 1+dp[j]:\n",
    "                dp[i] = 1+dp[j]\n",
    "                _hash[i] = j\n",
    "        if dp[lisIndex] < dp[i]:\n",
    "            lisIndex = i\n",
    "    \n",
    "    lis = []\n",
    "    lis.append(nums[lisIndex])\n",
    "    while lisIndex != _hash[lisIndex]:\n",
    "        lisIndex = _hash[lisIndex]\n",
    "        lis = [nums[lisIndex]] + lis \n",
    "    return lis\n",
    "    \n",
    "nums = [5, 4, 11, 1, 16, 8]\n",
    "LIS(nums)"
   ]
  },
  {
   "cell_type": "code",
   "execution_count": null,
   "id": "1c7bdcd5-bf04-4f2e-ae98-2ddfab9e4110",
   "metadata": {},
   "outputs": [],
   "source": []
  },
  {
   "cell_type": "markdown",
   "id": "7f075465-7f5a-49f6-86a2-8fef8fcd857e",
   "metadata": {},
   "source": [
    "# Largest Divisible Subset"
   ]
  },
  {
   "cell_type": "code",
   "execution_count": 2,
   "id": "d9540a33-b95d-49fe-a32f-c8eb7e3baa72",
   "metadata": {},
   "outputs": [
    {
     "data": {
      "text/plain": [
       "[9, 18, 90, 180, 360, 720]"
      ]
     },
     "execution_count": 2,
     "metadata": {},
     "output_type": "execute_result"
    }
   ],
   "source": [
    "def largestDivisibleSubset(nums):\n",
    "    nums.sort()\n",
    "    n = len(nums)\n",
    "    dp = [1 for i in range(n)]\n",
    "    hash = [i for i in range(n)]\n",
    "        \n",
    "    index = 0\n",
    "\n",
    "    for i in range(n):\n",
    "        for j in range(i):\n",
    "            if nums[i]%nums[j] == 0 and dp[i] < 1 + dp[j]:\n",
    "                dp[i] = 1 + dp[j]\n",
    "                hash[i] = j\n",
    "        if dp[index] < dp[i]:\n",
    "            index = i\n",
    "        \n",
    "    res = []\n",
    "    res.append(nums[index])\n",
    "    while index != hash[index]:\n",
    "        index = hash[index]\n",
    "        res  = [nums[index]] + res\n",
    "    return res\n",
    "\n",
    "nums = [9,18,54,108,540,90,180,360,720]\n",
    "largestDivisibleSubset(nums)"
   ]
  },
  {
   "cell_type": "code",
   "execution_count": null,
   "id": "07057039-f714-46f6-b49f-f74f7ea65d3d",
   "metadata": {},
   "outputs": [],
   "source": []
  },
  {
   "cell_type": "markdown",
   "id": "e4e9bc95-12a1-435f-b075-54029bf3b32a",
   "metadata": {},
   "source": [
    "# Longest String Chain"
   ]
  },
  {
   "cell_type": "code",
   "execution_count": 8,
   "id": "d3135398-128e-4111-979d-013ef17f96a2",
   "metadata": {},
   "outputs": [
    {
     "data": {
      "text/plain": [
       "5"
      ]
     },
     "execution_count": 8,
     "metadata": {},
     "output_type": "execute_result"
    }
   ],
   "source": [
    "def isPredecessor(word1, word2):\n",
    "    n = len(word1) \n",
    "    m = len(word2)\n",
    "\n",
    "    if n != m-1:\n",
    "        return False\n",
    "        \n",
    "    for i in range(m):\n",
    "        if word2[0:i]+word2[i+1:] == word1:\n",
    "            return True\n",
    "    return False\n",
    "\n",
    "\n",
    "def longestStrChain(words) -> int:\n",
    "    n = len(words)\n",
    "        \n",
    "    sortedWords = sorted(words, key=len)\n",
    "\n",
    "    dp = [1 for i in range(n)]\n",
    "\n",
    "    for i in range(1, n):\n",
    "        for j in range(i):\n",
    "            if 1+dp[j] > dp[i] and isPredecessor(sortedWords[j], sortedWords[i]):\n",
    "                dp[i] = 1 + dp[j]\n",
    "\n",
    "    return max(dp)\n",
    "\n",
    "words = [\"xbc\",\"pcxbcf\",\"xb\",\"cxbc\",\"pcxbc\"]\n",
    "longestStrChain(words)"
   ]
  },
  {
   "cell_type": "code",
   "execution_count": null,
   "id": "140f49ac-4a4b-4de3-8a3c-fdf50d46cd3e",
   "metadata": {},
   "outputs": [],
   "source": []
  },
  {
   "cell_type": "markdown",
   "id": "05f87d25-b6da-4c57-9435-23d2e92e4120",
   "metadata": {},
   "source": [
    "# Longest Bitonic Subsequence"
   ]
  },
  {
   "cell_type": "code",
   "execution_count": 10,
   "id": "8ec4b0f3-beaf-41be-b119-a5972786ceb9",
   "metadata": {},
   "outputs": [
    {
     "data": {
      "text/plain": [
       "6"
      ]
     },
     "execution_count": 10,
     "metadata": {},
     "output_type": "execute_result"
    }
   ],
   "source": [
    "def LIS(nums):\n",
    "    n = len(nums)\n",
    "        \n",
    "    dp = [1 for i in range(n)]\n",
    "        \n",
    "    for i in range(n):\n",
    "        for j in range(i):\n",
    "            if nums[j] < nums[i] and 1+dp[j] > dp[i]:\n",
    "                dp[i] = 1 + dp[j]\n",
    "                    \n",
    "    return dp\n",
    "        \n",
    "    \n",
    "def LongestBitonicSequence(nums) -> int:\n",
    "    n = len(nums)\n",
    "    dpFront = LIS(nums)\n",
    "    dpBack = LIS(nums[::-1])[::-1]\n",
    "        \n",
    "    bit = 0\n",
    "    for i in range(n):\n",
    "        if dpFront[i] != 1 and dpBack[i] != 1:\n",
    "            bit = max(bit, dpFront[i] + dpBack[i] - 1)\n",
    "    return bit\n",
    "\n",
    "nums = [1, 11, 2, 10, 4, 5, 2, 1]\n",
    "LongestBitonicSequence(nums)"
   ]
  },
  {
   "cell_type": "code",
   "execution_count": null,
   "id": "62cc9ccc-cc48-4180-95cc-9f3a4187013c",
   "metadata": {},
   "outputs": [],
   "source": []
  },
  {
   "cell_type": "markdown",
   "id": "39564738-5ce2-47f3-8529-ba53b6b9f356",
   "metadata": {},
   "source": [
    "# No of Longest Increasing subsequences"
   ]
  },
  {
   "cell_type": "code",
   "execution_count": 2,
   "id": "7723694c-1ef0-454d-9739-18bc50c13f99",
   "metadata": {},
   "outputs": [
    {
     "data": {
      "text/plain": [
       "3"
      ]
     },
     "execution_count": 2,
     "metadata": {},
     "output_type": "execute_result"
    }
   ],
   "source": [
    "def findNumberOfLIS(nums) -> int:\n",
    "    n = len(nums)\n",
    "\n",
    "    dp = [1 for i in range(n)]\n",
    "    count = [1 for i in range(n)]\n",
    "    lis = 0\n",
    "    for i in range(n):\n",
    "        for j in range(i):\n",
    "            if nums[j] < nums[i]:\n",
    "                if dp[j] + 1 > dp[i]:\n",
    "                    dp[i] = 1 + dp[j]\n",
    "                    count[i] = count[j]\n",
    "                elif dp[j] +1 == dp[i]:\n",
    "                    count[i] += count[j]\n",
    "        lis = max(lis, dp[i])\n",
    "\n",
    "    res = 0\n",
    "    for i in range(n):\n",
    "        if dp[i] == lis:\n",
    "            res += count[i]\n",
    "    return res\n",
    "\n",
    "\n",
    "nums = [1,2,4,3,5,4,7,2]\n",
    "findNumberOfLIS(nums)"
   ]
  },
  {
   "cell_type": "code",
   "execution_count": null,
   "id": "5d58166e-9876-4be0-865f-b9854528052d",
   "metadata": {},
   "outputs": [],
   "source": []
  }
 ],
 "metadata": {
  "kernelspec": {
   "display_name": "Python 3 (ipykernel)",
   "language": "python",
   "name": "python3"
  },
  "language_info": {
   "codemirror_mode": {
    "name": "ipython",
    "version": 3
   },
   "file_extension": ".py",
   "mimetype": "text/x-python",
   "name": "python",
   "nbconvert_exporter": "python",
   "pygments_lexer": "ipython3",
   "version": "3.12.7"
  }
 },
 "nbformat": 4,
 "nbformat_minor": 5
}
