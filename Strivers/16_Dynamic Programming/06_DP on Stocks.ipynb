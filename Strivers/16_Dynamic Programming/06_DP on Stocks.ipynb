{
 "cells": [
  {
   "cell_type": "markdown",
   "id": "c35a97c6-5d8b-44f3-8e52-87aba4223ace",
   "metadata": {},
   "source": [
    "# Best Time to Buy and Sell Stock"
   ]
  },
  {
   "cell_type": "code",
   "execution_count": 6,
   "id": "e88f46c8-b530-4d84-b43a-9833801c5459",
   "metadata": {},
   "outputs": [
    {
     "data": {
      "text/plain": [
       "5"
      ]
     },
     "execution_count": 6,
     "metadata": {},
     "output_type": "execute_result"
    }
   ],
   "source": [
    "def maxProfit(prices) -> int:\n",
    "    n = len(prices)\n",
    "\n",
    "    maxProfit = 0\n",
    "    _min = prices[0]\n",
    "    i = 1\n",
    "    while i < n: \n",
    "        maxProfit = max(maxProfit, prices[i]-_min)\n",
    "        _min = min(_min, prices[i])\n",
    "        i += 1\n",
    "\n",
    "    return maxProfit\n",
    "\n",
    "prices = [7,1,5,3,6,4]\n",
    "maxProfit(prices)"
   ]
  },
  {
   "cell_type": "code",
   "execution_count": null,
   "id": "2e36f781-e857-4f1f-9bde-eeeef791b0b2",
   "metadata": {},
   "outputs": [],
   "source": []
  },
  {
   "cell_type": "markdown",
   "id": "ffb8284a-11b9-4040-b3f6-d54cced92a8e",
   "metadata": {},
   "source": [
    "# Best Time to Buy and Sell Stock II"
   ]
  },
  {
   "cell_type": "code",
   "execution_count": 3,
   "id": "17f1bc68-1ddd-4946-ac5b-68a09b90d43e",
   "metadata": {},
   "outputs": [
    {
     "data": {
      "text/plain": [
       "6"
      ]
     },
     "execution_count": 3,
     "metadata": {},
     "output_type": "execute_result"
    }
   ],
   "source": [
    "def BuySell(prices, i, buy, n, dp):\n",
    "    if i == n:\n",
    "        return 0\n",
    "\n",
    "    if dp[i][buy] != -1:\n",
    "        return dp[i][buy]\n",
    "            \n",
    "    include = 0\n",
    "    if buy == 1:\n",
    "        include = -prices[i] + BuySell(prices, i+1, 0, n, dp)\n",
    "    else:\n",
    "        include = prices[i] + BuySell(prices, i+1, 1, n, dp)\n",
    "    notinclude = BuySell(prices, i+1, buy, n, dp)\n",
    "    dp[i][buy] = max(include, notinclude)\n",
    "    return dp[i][buy]\n",
    "        \n",
    "\n",
    "def maxProfit(prices) -> int:\n",
    "    n = len(prices)\n",
    "    dp = [[-1 for j in range(2)] for i in range(n)]\n",
    "    return BuySell(prices, 0, 1, n, dp)\n",
    "\n",
    "prices = [3, 3, 5, 0, 0, 3, 4]\n",
    "maxProfit(prices)"
   ]
  },
  {
   "cell_type": "code",
   "execution_count": 7,
   "id": "abff659f-b319-4e4f-935e-53cc31f69949",
   "metadata": {},
   "outputs": [
    {
     "data": {
      "text/plain": [
       "6"
      ]
     },
     "execution_count": 7,
     "metadata": {},
     "output_type": "execute_result"
    }
   ],
   "source": [
    "def maxProfit(prices) -> int:\n",
    "    n = len(prices)\n",
    "    dp = [[-1 for j in range(2)] for i in range(n+1)]\n",
    "    dp[n][0] = 0\n",
    "    dp[n][1] = 0\n",
    "\n",
    "    for i in range(n-1, -1, -1):\n",
    "        for buy in range(2):\n",
    "            if buy == 1:\n",
    "                include = -prices[i] + dp[i+1][0]\n",
    "            else:\n",
    "                include = prices[i] + dp[i+1][1]\n",
    "            notinclude = dp[i+1][buy]\n",
    "            dp[i][buy] = max(include, notinclude)\n",
    "    return dp[0][1]\n",
    "\n",
    "prices = [3, 3, 5, 0, 0, 3, 4]\n",
    "maxProfit(prices)"
   ]
  },
  {
   "cell_type": "code",
   "execution_count": null,
   "id": "d22d5970-fbef-4511-9c3c-e37d3e01a3a8",
   "metadata": {},
   "outputs": [],
   "source": []
  },
  {
   "cell_type": "markdown",
   "id": "65339783-4094-4b1d-b60e-e712b73804f7",
   "metadata": {},
   "source": [
    "# Best Time to Buy and Sell Stock III"
   ]
  },
  {
   "cell_type": "code",
   "execution_count": 6,
   "id": "8299445f-8796-41b2-abdf-b88ab9f65807",
   "metadata": {},
   "outputs": [
    {
     "data": {
      "text/plain": [
       "6"
      ]
     },
     "execution_count": 6,
     "metadata": {},
     "output_type": "execute_result"
    }
   ],
   "source": [
    "def BuySell(prices, i, buy, n, count, dp):\n",
    "\n",
    "    if i == n:\n",
    "        return 0\n",
    "\n",
    "    if count == 0:\n",
    "        return 0\n",
    "\n",
    "    if dp[i][buy][count] != -1:\n",
    "        return dp[i][buy][count]\n",
    "\n",
    "    if buy:\n",
    "        include = -prices[i] + BuySell(prices, i+1, 0, n, count, dp)\n",
    "    else:\n",
    "        include = prices[i] + BuySell(prices, i+1, 1, n, count-1, dp)\n",
    "    notinclude = BuySell(prices, i+1, buy, n, count, dp)\n",
    "    dp[i][buy][count] = max(include, notinclude)\n",
    "    return dp[i][buy][count]\n",
    "\n",
    "def maxProfit(prices) -> int:\n",
    "    n = len(prices)\n",
    "    dp = [[[-1 for c in range(3)] for b in range(2)] for i in range(n)]\n",
    "    return BuySell(prices, 0, 1, n, 2, dp)\n",
    "\n",
    "prices = [3, 3, 5, 0, 0, 3, 4]\n",
    "maxProfit(prices)"
   ]
  },
  {
   "cell_type": "code",
   "execution_count": null,
   "id": "79132ff9-3b5b-4a4f-8aae-ed6239660145",
   "metadata": {},
   "outputs": [],
   "source": []
  },
  {
   "cell_type": "markdown",
   "id": "5928730a-4113-43be-8f8a-8f50f1179db0",
   "metadata": {},
   "source": [
    "# Best Time to Buy and Sell Stock IV"
   ]
  },
  {
   "cell_type": "code",
   "execution_count": 7,
   "id": "1837e7eb-5d2d-47c9-8a7e-0458537ae039",
   "metadata": {},
   "outputs": [
    {
     "data": {
      "text/plain": [
       "6"
      ]
     },
     "execution_count": 7,
     "metadata": {},
     "output_type": "execute_result"
    }
   ],
   "source": [
    "def BuySell(prices, i, buy, n, count, dp):\n",
    "\n",
    "    if i == n:\n",
    "        return 0\n",
    "\n",
    "    if count == 0:\n",
    "        return 0\n",
    "\n",
    "    if dp[i][buy][count] != -1:\n",
    "        return dp[i][buy][count]\n",
    "\n",
    "    if buy:\n",
    "        include = -prices[i] + BuySell(prices, i+1, 0, n, count, dp)\n",
    "    else:\n",
    "        include = prices[i] + BuySell(prices, i+1, 1, n, count-1, dp)\n",
    "    notinclude = BuySell(prices, i+1, buy, n, count, dp)\n",
    "    dp[i][buy][count] = max(include, notinclude)\n",
    "    return dp[i][buy][count]\n",
    "\n",
    "def maxProfit(prices, k) -> int:\n",
    "    n = len(prices)\n",
    "    dp = [[[-1 for c in range(k+1)] for b in range(2)] for i in range(n)]\n",
    "    return BuySell(prices, 0, 1, n, k, dp)\n",
    "\n",
    "prices = [3, 3, 5, 0, 0, 3, 4]\n",
    "k = 2\n",
    "maxProfit(prices, k)"
   ]
  },
  {
   "cell_type": "code",
   "execution_count": null,
   "id": "52610d9a-305b-4eb1-8581-ee9e416afd1a",
   "metadata": {},
   "outputs": [],
   "source": []
  },
  {
   "cell_type": "markdown",
   "id": "03f1fd46-4916-4e94-b74b-d91dabb2724d",
   "metadata": {},
   "source": [
    "# Buy and Sell Stocks With Cooldown"
   ]
  },
  {
   "cell_type": "code",
   "execution_count": 1,
   "id": "9ff9cf72-5128-4161-a84d-657eb0d6911e",
   "metadata": {},
   "outputs": [
    {
     "data": {
      "text/plain": [
       "5"
      ]
     },
     "execution_count": 1,
     "metadata": {},
     "output_type": "execute_result"
    }
   ],
   "source": [
    "def BuySell(prices, i, buy, n, dp):\n",
    "    if i >= n:\n",
    "        return 0\n",
    "\n",
    "    if dp[i][buy] != -1:\n",
    "        return dp[i][buy]\n",
    "\n",
    "    if buy:\n",
    "        include = -prices[i] + BuySell(prices, i+1, 0, n, dp)\n",
    "        notinclude = BuySell(prices, i+1, 1, n, dp)\n",
    "    else:\n",
    "        include = prices[i] + BuySell(prices, i+2, 1, n, dp)\n",
    "        notinclude = BuySell(prices, i+1, 0, n, dp)\n",
    "        \n",
    "    dp[i][buy] = max(include, notinclude)\n",
    "    return dp[i][buy]\n",
    "\n",
    "def maxProfit(prices) -> int:\n",
    "    n = len(prices)\n",
    "    dp = [[-1 for s in range(2)] for i in range(n)]\n",
    "    return BuySell(prices, 0, 1, n, dp)\n",
    "\n",
    "prices = [7, 1, 5, 3, 6, 4]\n",
    "maxProfit(prices)"
   ]
  },
  {
   "cell_type": "code",
   "execution_count": null,
   "id": "b1558a9e-6cb9-44e6-8fe4-277934718640",
   "metadata": {},
   "outputs": [],
   "source": []
  },
  {
   "cell_type": "markdown",
   "id": "44ec8b3d-d168-41df-a860-3cf8347a1d6e",
   "metadata": {},
   "source": [
    "# Best Time to Buy and Sell Stock with Transaction Fee"
   ]
  },
  {
   "cell_type": "code",
   "execution_count": 2,
   "id": "e4105529-3ac0-44bd-9b3c-d1180d34b868",
   "metadata": {},
   "outputs": [
    {
     "data": {
      "text/plain": [
       "8"
      ]
     },
     "execution_count": 2,
     "metadata": {},
     "output_type": "execute_result"
    }
   ],
   "source": [
    "def BuySell(prices, i, buy, fee, n, dp):\n",
    "    if i == n:\n",
    "        return 0\n",
    "\n",
    "    if dp[i][buy] != -1:\n",
    "        return dp[i][buy]\n",
    "\n",
    "    if buy:\n",
    "        include = -prices[i] + BuySell(prices, i+1, 0, fee, n, dp)\n",
    "    else:\n",
    "        include = prices[i] - fee + BuySell(prices, i+1, 1, fee, n, dp)\n",
    "    notinclude = BuySell(prices, i+1, buy, fee, n, dp)\n",
    "\n",
    "    dp[i][buy] = max(include, notinclude)\n",
    "    return dp[i][buy]\n",
    "\n",
    "def maxProfit(prices, fee) -> int:\n",
    "    n = len(prices)\n",
    "    dp = [[-1 for b in range(2)] for i in range(n)]\n",
    "    return BuySell(prices, 0, 1, fee, n, dp)\n",
    "\n",
    "prices = [1,3,2,8,4,9]\n",
    "fee = 2\n",
    "maxProfit(prices, fee)"
   ]
  },
  {
   "cell_type": "code",
   "execution_count": 4,
   "id": "72c2a750-4f91-45d1-839a-2b74867d0567",
   "metadata": {},
   "outputs": [
    {
     "data": {
      "text/plain": [
       "8"
      ]
     },
     "execution_count": 4,
     "metadata": {},
     "output_type": "execute_result"
    }
   ],
   "source": [
    "def maxProfit(prices, fee) -> int:\n",
    "    n = len(prices)\n",
    "    dp = [[-1 for b in range(2)] for i in range(n+1)]\n",
    "    dp[n][0] = 0\n",
    "    dp[n][1] = 0\n",
    "\n",
    "    for i in range(n-1, -1, -1):\n",
    "        for buy in range(2):\n",
    "            if buy == 0:\n",
    "                include = -prices[i] + dp[i+1][1]\n",
    "            else:\n",
    "                include = prices[i] - fee + dp[i+1][0]\n",
    "            notinclude = dp[i+1][buy]\n",
    "            dp[i][buy] = max(include, notinclude)\n",
    "    return dp[0][0]\n",
    "\n",
    "prices = [1,3,2,8,4,9]\n",
    "fee = 2\n",
    "maxProfit(prices, fee)"
   ]
  },
  {
   "cell_type": "code",
   "execution_count": null,
   "id": "ec68ec9b-ea4b-48eb-a5fc-57a99cc78ac8",
   "metadata": {},
   "outputs": [],
   "source": []
  }
 ],
 "metadata": {
  "kernelspec": {
   "display_name": "Python 3 (ipykernel)",
   "language": "python",
   "name": "python3"
  },
  "language_info": {
   "codemirror_mode": {
    "name": "ipython",
    "version": 3
   },
   "file_extension": ".py",
   "mimetype": "text/x-python",
   "name": "python",
   "nbconvert_exporter": "python",
   "pygments_lexer": "ipython3",
   "version": "3.12.7"
  }
 },
 "nbformat": 4,
 "nbformat_minor": 5
}
