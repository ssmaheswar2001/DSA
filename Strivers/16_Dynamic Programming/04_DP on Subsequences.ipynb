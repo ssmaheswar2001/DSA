{
 "cells": [
  {
   "cell_type": "markdown",
   "id": "ed912313-eaac-4d33-ac97-1974d761def9",
   "metadata": {},
   "source": [
    "# Subset Sum Problem"
   ]
  },
  {
   "cell_type": "code",
   "execution_count": 7,
   "id": "0a7976c4-b798-4d37-bf56-d99af6631049",
   "metadata": {},
   "outputs": [
    {
     "data": {
      "text/plain": [
       "True"
      ]
     },
     "execution_count": 7,
     "metadata": {},
     "output_type": "execute_result"
    }
   ],
   "source": [
    "\n",
    "def isSubsetSum(arr, target, sum, i, n):\n",
    "    if sum == target:\n",
    "        return True\n",
    "    if sum > target or i == n:\n",
    "        return False\n",
    "    \n",
    "    include =  isSubsetSum(arr, target, sum+arr[i], i+1, n)\n",
    "    notInclude = isSubsetSum(arr, target, sum, i+1, n) \n",
    "    return include or notInclude\n",
    "\n",
    "arr = [3, 34, 4, 12, 5, 2]\n",
    "target = 9\n",
    "n = len(arr)\n",
    "isSubsetSum(arr, target, 0, 0, n)"
   ]
  },
  {
   "cell_type": "code",
   "execution_count": 10,
   "id": "4fae35f7-5e10-4a05-b59d-1c0519dfaeab",
   "metadata": {},
   "outputs": [
    {
     "data": {
      "text/plain": [
       "True"
      ]
     },
     "execution_count": 10,
     "metadata": {},
     "output_type": "execute_result"
    }
   ],
   "source": [
    "\n",
    "def isSubsetSum(arr, index, sum):\n",
    "    if sum == 0:\n",
    "        return True\n",
    "    if sum <0 or index < 0:\n",
    "        return False\n",
    "\n",
    "    return isSubsetSum(arr, index-1, sum-arr[index]) or isSubsetSum(arr, index-1, sum)\n",
    "    \n",
    "arr = [3, 34, 4, 12, 5, 2]\n",
    "target = 9\n",
    "n = len(arr)\n",
    "isSubsetSum(arr, n-1, target)"
   ]
  },
  {
   "cell_type": "code",
   "execution_count": 14,
   "id": "3005fc3d-4b26-49e8-85b1-e33b48e5d1fb",
   "metadata": {},
   "outputs": [
    {
     "data": {
      "text/plain": [
       "1"
      ]
     },
     "execution_count": 14,
     "metadata": {},
     "output_type": "execute_result"
    }
   ],
   "source": [
    "def isSubsetSum(arr, index, sum, dp):\n",
    "    if sum == 0:\n",
    "        return 1\n",
    "    if sum < 0 or index < 0:\n",
    "        return 0\n",
    "        \n",
    "    if dp[index][sum] != -1:\n",
    "        return dp[index][sum]\n",
    "        \n",
    "    dp[index][sum] = isSubsetSum(arr, index-1, sum-arr[index], dp) or isSubsetSum(arr, index-1, sum, dp)\n",
    "\n",
    "    return dp[index][sum]\n",
    "    \n",
    "arr = [3, 34, 4, 12, 5, 2]\n",
    "target = 9   \n",
    "n = len(arr)\n",
    "dp = [[-1 for j in range(target+1)] for i in range(n)]\n",
    "isSubsetSum(arr, n-1, target, dp)"
   ]
  },
  {
   "cell_type": "code",
   "execution_count": 21,
   "id": "aa68675a-7a60-4965-82d5-a399784746c4",
   "metadata": {},
   "outputs": [
    {
     "data": {
      "text/plain": [
       "1"
      ]
     },
     "execution_count": 21,
     "metadata": {},
     "output_type": "execute_result"
    }
   ],
   "source": [
    "def isSubsetSum (arr, target):\n",
    "    n = len(arr)\n",
    "    dp = [[0 for j in range(target+1)] for i in range(n)]\n",
    "        \n",
    "    for i in range(n):\n",
    "        dp[i][0] = 1\n",
    "        \n",
    "    if arr[0] <= target:\n",
    "        dp[0][arr[0]] = 1\n",
    "        \n",
    "    for i in range(1, n):\n",
    "        for j in range(1, target+1):\n",
    "            notTake = dp[i-1][j]\n",
    "            take = 0\n",
    "            if arr[i] <= j:\n",
    "                take = dp[i-1][j-arr[i]]\n",
    "            \n",
    "            dp[i][j] = notTake or take\n",
    "                \n",
    "    return dp[n-1][target]\n",
    "\n",
    "arr = [3, 34, 4, 12, 5, 2]\n",
    "target = 9   \n",
    "n = len(arr)\n",
    "isSubsetSum(arr,target)"
   ]
  },
  {
   "cell_type": "code",
   "execution_count": null,
   "id": "7bd81d1b-4763-4f6c-b566-64b05b857aef",
   "metadata": {},
   "outputs": [],
   "source": []
  },
  {
   "cell_type": "markdown",
   "id": "8c3071e9-4118-4976-b1e6-0b75c8e774ea",
   "metadata": {},
   "source": [
    "# Partition Equal Subset Sum"
   ]
  },
  {
   "cell_type": "code",
   "execution_count": 22,
   "id": "22c49f17-b07a-461d-b9c4-6e6213f64266",
   "metadata": {},
   "outputs": [
    {
     "data": {
      "text/plain": [
       "1"
      ]
     },
     "execution_count": 22,
     "metadata": {},
     "output_type": "execute_result"
    }
   ],
   "source": [
    "def canPartition(nums):\n",
    "    n = len(nums)\n",
    "\n",
    "    if sum(nums)%2 != 0:\n",
    "        return 0\n",
    "            \n",
    "    target = sum(nums)//2\n",
    "\n",
    "    dp = [[0 for j in range(target+1)] for i in range(n)]\n",
    "\n",
    "    if nums[0] <= target:\n",
    "        dp[0][nums[0]] = 1\n",
    "\n",
    "    for i in range(n):\n",
    "        dp[i][0] = 1\n",
    "        \n",
    "    for i in range(n):\n",
    "        for j in range(target+1):\n",
    "            notInclude = dp[i-1][j]\n",
    "            include = 0\n",
    "            if j-nums[i] >= 0:\n",
    "                include = dp[i-1][j-nums[i]]\n",
    "            dp[i][j] = include or notInclude\n",
    "\n",
    "    return dp[n-1][target]\n",
    "\n",
    "nums = [1,5,11,5]\n",
    "canPartition(nums)"
   ]
  },
  {
   "cell_type": "code",
   "execution_count": null,
   "id": "3a59d3e5-2311-415a-adfe-ca701255c5c5",
   "metadata": {},
   "outputs": [],
   "source": []
  },
  {
   "cell_type": "code",
   "execution_count": 24,
   "id": "175c8bf2-64de-4462-9e14-7c85821e2be4",
   "metadata": {},
   "outputs": [
    {
     "data": {
      "text/plain": [
       "3"
      ]
     },
     "execution_count": 24,
     "metadata": {},
     "output_type": "execute_result"
    }
   ],
   "source": [
    "def isSubsetSum (arr, target):\n",
    "    n = len(arr)\n",
    "    dp = [[0 for j in range(target+1)] for i in range(n)]\n",
    "        \n",
    "    # for i in range(n):\n",
    "    #     dp[i][0] = 1\n",
    "        \n",
    "    if arr[0] <= target:\n",
    "        dp[0][arr[0]] = 1\n",
    "        \n",
    "    for i in range(1, n):\n",
    "        for j in range(1, target+1):\n",
    "            notTake = dp[i-1][j]\n",
    "            take = 0\n",
    "            if arr[i] <= j:\n",
    "                take = 1+dp[i-1][j-arr[i]]\n",
    "            \n",
    "            dp[i][j] = max(take, notTake)\n",
    "                \n",
    "    return dp[n-1][target]\n",
    "\n",
    "arr = [3, 34, 4, 12, 5, 2]\n",
    "target = 9   \n",
    "n = len(arr)\n",
    "isSubsetSum(arr,target)"
   ]
  },
  {
   "cell_type": "code",
   "execution_count": null,
   "id": "9105dbcd-5d36-4b95-9fef-815d94c74cd0",
   "metadata": {},
   "outputs": [],
   "source": []
  },
  {
   "cell_type": "markdown",
   "id": "d57d332a-3b2a-435b-9d52-a1c898ba74c8",
   "metadata": {},
   "source": [
    "# Partition Set Into 2 Subsets With Min Absolute Sum Diff"
   ]
  },
  {
   "cell_type": "code",
   "execution_count": 14,
   "id": "f6f0c440-4347-4a93-98b2-03039766aa92",
   "metadata": {},
   "outputs": [
    {
     "data": {
      "text/plain": [
       "2"
      ]
     },
     "execution_count": 14,
     "metadata": {},
     "output_type": "execute_result"
    }
   ],
   "source": [
    "\n",
    "def minimumDifference(arr):\n",
    "    n = len(arr)\n",
    "    totalSum = sum(arr)\n",
    "\n",
    "    dp = [[0 for j in range(totalSum+1)] for i in range(n)]\n",
    "\n",
    "    if arr[0] <= totalSum:\n",
    "        dp[0][arr[0]] = 1\n",
    "\n",
    "    for i in range(n):\n",
    "        dp[i][0] = 1\n",
    "\n",
    "    for i in range(1, n):\n",
    "        for j in range(1, totalSum):\n",
    "            notInclude = dp[i-1][j]\n",
    "            include = 0\n",
    "            if j-arr[i] >= 0:\n",
    "                include = dp[i-1][j-arr[i]]\n",
    "            dp[i][j] = notInclude or include\n",
    "\n",
    "    _min = float('inf')\n",
    "    for j in range(totalSum+1):\n",
    "        if dp[n-1][j] == 1:\n",
    "            s1 = j\n",
    "            s2 = totalSum - s1\n",
    "            _min = min(_min, abs(s1-s2))\n",
    "    \n",
    "    return _min\n",
    "    \n",
    "\n",
    "arr = [9, 3, 3, 7]\n",
    "minimumDifference(arr)"
   ]
  },
  {
   "cell_type": "code",
   "execution_count": null,
   "id": "93935ffb-b9bb-4a42-9d78-e10af5d94b76",
   "metadata": {},
   "outputs": [],
   "source": []
  },
  {
   "cell_type": "markdown",
   "id": "8527cc86-d1f8-4cf6-97ae-a519b505036b",
   "metadata": {},
   "source": [
    "# Count Subsets with Sum K"
   ]
  },
  {
   "cell_type": "code",
   "execution_count": 34,
   "id": "1060b378-4022-4af9-b293-27ee79ad399b",
   "metadata": {},
   "outputs": [
    {
     "data": {
      "text/plain": [
       "2"
      ]
     },
     "execution_count": 34,
     "metadata": {},
     "output_type": "execute_result"
    }
   ],
   "source": [
    "def perfectSum(arr, index, target):\n",
    "    if index < 0:\n",
    "        return target == 0\n",
    "\n",
    "    include = 0\n",
    "    if arr[index] <= target:\n",
    "        include = perfectSum(arr, index-1, target-arr[index])\n",
    "    notInclude = perfectSum(arr, index-1, target)\n",
    "    return include + notInclude\n",
    "    \n",
    "\n",
    "arr = [28, 4, 3, 27,0, 24, 26]\n",
    "target = 24\n",
    "n = len(arr)\n",
    "perfectSum(arr, n-1,target)"
   ]
  },
  {
   "cell_type": "code",
   "execution_count": 38,
   "id": "a37920b7-d80a-4aa7-95b6-7bc8e081d57c",
   "metadata": {},
   "outputs": [
    {
     "data": {
      "text/plain": [
       "2"
      ]
     },
     "execution_count": 38,
     "metadata": {},
     "output_type": "execute_result"
    }
   ],
   "source": [
    "def perfectSum(arr, index, sum, dp):\n",
    "    if index < 0:\n",
    "        return sum == 0\n",
    "    \n",
    "    if dp[index][sum] != -1:\n",
    "        return dp[index][sum]\n",
    "    \n",
    "    include = 0\n",
    "    if arr[index] <= sum:\n",
    "        include = perfectSum(arr, index-1, sum-arr[index], dp)\n",
    "    notInclude = perfectSum(arr, index-1, sum, dp)\n",
    "    dp[index][sum] = include + notInclude\n",
    "    return dp[index][sum]\n",
    "\n",
    "arr = [28, 4, 3, 27,0, 24, 26]\n",
    "target = 24\n",
    "n = len(arr)\n",
    "dp = [[-1 for j in range(target+1)] for i in range(n)]\n",
    "perfectSum(arr, n-1,target, dp)"
   ]
  },
  {
   "cell_type": "code",
   "execution_count": 40,
   "id": "ed2d9d1b-03a9-496a-b256-0befeea5b435",
   "metadata": {},
   "outputs": [
    {
     "data": {
      "text/plain": [
       "2"
      ]
     },
     "execution_count": 40,
     "metadata": {},
     "output_type": "execute_result"
    }
   ],
   "source": [
    "def perfectSum(arr, target):\n",
    "    n = len(arr)\n",
    "    dp = [[0 for j in range(target+1)] for i in range(n+1)]\n",
    "\n",
    "    dp[0][0] = 1\n",
    "\n",
    "    for i in range(1, n+1):\n",
    "        for j in range(target+1):\n",
    "            notinclude = dp[i-1][j]\n",
    "            include = 0\n",
    "            if j-arr[i-1] >=0:\n",
    "                include = dp[i-1][j-arr[i-1]]\n",
    "            dp[i][j] = include + notinclude\n",
    "\n",
    "    return dp[n][target]\n",
    "\n",
    "arr = [28, 4, 3, 27,0, 24, 26]\n",
    "target = 24\n",
    "perfectSum(arr,target)"
   ]
  },
  {
   "cell_type": "code",
   "execution_count": null,
   "id": "fd998fd3-a809-4aca-aca3-0752430d290b",
   "metadata": {},
   "outputs": [],
   "source": []
  },
  {
   "cell_type": "markdown",
   "id": "ef017dda-3e7a-496f-8143-7307f934c8e4",
   "metadata": {},
   "source": [
    "# Count Partitions with Given Difference"
   ]
  },
  {
   "cell_type": "code",
   "execution_count": 2,
   "id": "cdd43586-afce-4356-a175-2957b6f17685",
   "metadata": {},
   "outputs": [
    {
     "data": {
      "text/plain": [
       "6"
      ]
     },
     "execution_count": 2,
     "metadata": {},
     "output_type": "execute_result"
    }
   ],
   "source": [
    "def countPartitions(arr, d):\n",
    "    n = len(arr)\n",
    "    totalSum = sum(arr)\n",
    "        \n",
    "    if (totalSum + d)%2 != 0:\n",
    "        return 0\n",
    "        \n",
    "    s = (totalSum + d)//2\n",
    "        \n",
    "    dp = [[0 for j in range(s+1)] for i in range(n+1)]\n",
    "        \n",
    "    dp[0][0] = 1\n",
    "        \n",
    "    for i in range(1, n+1):\n",
    "        for j in range(s+1):\n",
    "            notInclude = dp[i-1][j]\n",
    "            include = 0\n",
    "            if j-arr[i-1] >= 0:\n",
    "                include = dp[i-1][j-arr[i-1]]\n",
    "            dp[i][j] = include + notInclude\n",
    "                \n",
    "    return dp[n][s]\n",
    "\n",
    "arr = [1, 1, 1, 1]\n",
    "d = 0 \n",
    "countPartitions(arr, d)"
   ]
  },
  {
   "cell_type": "code",
   "execution_count": null,
   "id": "a2258f40-7420-4239-95cd-3635a08f54f3",
   "metadata": {},
   "outputs": [],
   "source": []
  },
  {
   "cell_type": "markdown",
   "id": "3e3003a2-6dfd-4293-84cc-d399922c20da",
   "metadata": {},
   "source": [
    "# Coin Change"
   ]
  },
  {
   "cell_type": "code",
   "execution_count": 4,
   "id": "aaa61ed5-7de9-4ec4-b7ca-7af1a407e470",
   "metadata": {},
   "outputs": [
    {
     "data": {
      "text/plain": [
       "3"
      ]
     },
     "execution_count": 4,
     "metadata": {},
     "output_type": "execute_result"
    }
   ],
   "source": [
    "def coinChange(coins, index, amount, dp):\n",
    "    if amount == 0:\n",
    "        return 0\n",
    "    if index  < 0:\n",
    "        return float('inf')\n",
    "\n",
    "    if dp[index][amount] != -1:\n",
    "        return dp[index][amount]\n",
    "        \n",
    "    include = float('inf')\n",
    "    if coins[index] <= amount:\n",
    "        include = 1 + coinChange(coins, index, amount-coins[index], dp)\n",
    "    notInclude = coinChange(coins, index-1, amount, dp)\n",
    "    dp[index][amount] = min(include, notInclude)\n",
    "    return dp[index][amount]\n",
    "\n",
    "\n",
    "coins = [1,2,5]\n",
    "amount = 11\n",
    "n = len(coins)\n",
    "dp = [[-1 for j in range(amount+1)] for i in range(n)]\n",
    "res = coinChange(coins, n-1, amount, dp)\n",
    "res"
   ]
  },
  {
   "cell_type": "code",
   "execution_count": 6,
   "id": "34d677a0-172f-4c55-859b-b3e37c18b496",
   "metadata": {},
   "outputs": [
    {
     "data": {
      "text/plain": [
       "3"
      ]
     },
     "execution_count": 6,
     "metadata": {},
     "output_type": "execute_result"
    }
   ],
   "source": [
    "def coinChange(coins, amount):\n",
    "    n = len(coins)\n",
    "    dp = [[float('inf') for j in range(amount+1)] for i in range(n)]\n",
    "        \n",
    "    dp[0][0] = 0\n",
    "    for j in range(amount+1):\n",
    "        if j%coins[0]== 0:\n",
    "            dp[0][j] = j // coins[0]\n",
    "\n",
    "    for i in range(1, n):\n",
    "        for j in range(amount+1):\n",
    "            notInclude = dp[i-1][j]\n",
    "            include = float('inf')\n",
    "            if j-coins[i] >= 0:\n",
    "                include = 1+dp[i][j-coins[i]]\n",
    "            dp[i][j] = min( include, notInclude )\n",
    "\n",
    "    if dp[n-1][amount] != float('inf'):\n",
    "        return dp[n-1][amount]\n",
    "    return -1\n",
    "\n",
    "coins = [1,2,5]\n",
    "amount = 11\n",
    "res = coinChange(coins, amount)\n",
    "res"
   ]
  },
  {
   "cell_type": "code",
   "execution_count": null,
   "id": "1dccbe14-069b-46c0-bc60-a8d4209be649",
   "metadata": {},
   "outputs": [],
   "source": []
  },
  {
   "cell_type": "markdown",
   "id": "97aa687b-2ebc-4f91-b8fe-d00cc4a5b88d",
   "metadata": {},
   "source": [
    "# Target Sum"
   ]
  },
  {
   "cell_type": "code",
   "execution_count": 29,
   "id": "c5a12d10-2a77-4f8f-8a48-6c4d8a1a277c",
   "metadata": {},
   "outputs": [
    {
     "data": {
      "text/plain": [
       "5"
      ]
     },
     "execution_count": 29,
     "metadata": {},
     "output_type": "execute_result"
    }
   ],
   "source": [
    "def findTargetSumWays(nums, target):\n",
    "    n = len(nums)\n",
    "    totalSum = sum(nums)\n",
    "        \n",
    "    if totalSum + target < 0:\n",
    "        return 0\n",
    "\n",
    "    if (totalSum+target)%2 != 0:\n",
    "        return 0\n",
    "        \n",
    "    s = (totalSum+target)//2\n",
    "\n",
    "    dp = [[0 for j in range(s+1)] for i in range(n+1)]\n",
    "    dp[0][0] = 1\n",
    "    for i in range(1, n+1):\n",
    "        for j in range(s+1):\n",
    "            notInclude = dp[i-1][j]\n",
    "            include = 0\n",
    "            if j-nums[i-1] >=0:\n",
    "                include = dp[i-1][j-nums[i-1]]\n",
    "            dp[i][j] = include + notInclude\n",
    "\n",
    "    return dp[n][s]\n",
    "\n",
    "nums = [1,1,1,1,1]\n",
    "target = 3\n",
    "findTargetSumWays(nums, target)"
   ]
  },
  {
   "cell_type": "code",
   "execution_count": null,
   "id": "499dd96f-8adc-41f4-8113-3e774bd858e1",
   "metadata": {},
   "outputs": [],
   "source": []
  },
  {
   "cell_type": "markdown",
   "id": "1d8ddf0c-3667-484b-b6b1-91a85ed32847",
   "metadata": {},
   "source": [
    "# Coin Change 2"
   ]
  },
  {
   "cell_type": "code",
   "execution_count": 9,
   "id": "63d8fa5c-ed0d-4a6a-a736-d0e000550b63",
   "metadata": {},
   "outputs": [
    {
     "data": {
      "text/plain": [
       "4"
      ]
     },
     "execution_count": 9,
     "metadata": {},
     "output_type": "execute_result"
    }
   ],
   "source": [
    "def coinChange(coins, index, amount, dp):\n",
    "    if amount == 0:\n",
    "        return 1\n",
    "    if index < 0:\n",
    "        return 0\n",
    "\n",
    "    if dp[index][amount] != -1:\n",
    "        return dp[index][amount]\n",
    "\n",
    "    include = 0\n",
    "    if coins[index] <= amount:\n",
    "        include = coinChange(coins, index, amount-coins[index], dp)\n",
    "    notInclude = coinChange(coins, index-1, amount, dp)\n",
    "\n",
    "    dp[index][amount] = include + notInclude\n",
    "    return dp[index][amount]\n",
    "\n",
    "amount = 5\n",
    "coins = [1,2,5]\n",
    "n = len(coins)\n",
    "dp = [[-1 for j in range(amount+1)] for i in range(n)]\n",
    "coinChange(coins, n-1, amount, dp)"
   ]
  },
  {
   "cell_type": "code",
   "execution_count": 10,
   "id": "0c2d2352-47ee-442e-afa7-85e58e675fd6",
   "metadata": {},
   "outputs": [
    {
     "data": {
      "text/plain": [
       "4"
      ]
     },
     "execution_count": 10,
     "metadata": {},
     "output_type": "execute_result"
    }
   ],
   "source": [
    "def coinChange(coins,amount):\n",
    "    n = len(coins)\n",
    "    dp = [[0 for j in range(amount+1)] for i in range(n)]\n",
    "        \n",
    "    for j in range(amount+1):\n",
    "        if j % coins[0] == 0:\n",
    "            dp[0][j] = 1\n",
    "\n",
    "    for i in range(1, n):\n",
    "        for j in range(amount+1):\n",
    "            notinclude = dp[i-1][j]\n",
    "            include = 0\n",
    "            if j-coins[i] >= 0:\n",
    "                include = dp[i][j-coins[i]]\n",
    "            dp[i][j] = include + notinclude\n",
    "\n",
    "    return dp[n-1][amount]\n",
    "\n",
    "\n",
    "amount = 5\n",
    "coins = [1,2,5]\n",
    "coinChange(coins,amount)"
   ]
  },
  {
   "cell_type": "code",
   "execution_count": null,
   "id": "6f1ad56d-6d34-4d99-aafd-273823c3b19b",
   "metadata": {},
   "outputs": [],
   "source": []
  },
  {
   "cell_type": "markdown",
   "id": "e56e87f5-ee41-4530-bd61-0eca80db22a8",
   "metadata": {},
   "source": [
    "# Unbounded Knapsack"
   ]
  },
  {
   "cell_type": "code",
   "execution_count": 16,
   "id": "75af2a24-693a-4ab3-8f2b-44dad05e0d5b",
   "metadata": {},
   "outputs": [
    {
     "data": {
      "text/plain": [
       "3"
      ]
     },
     "execution_count": 16,
     "metadata": {},
     "output_type": "execute_result"
    }
   ],
   "source": [
    "def knapSack(wt, val, index, capacity, dp):\n",
    "    if capacity == 0:\n",
    "        return 0\n",
    "    if index < 0:\n",
    "        return 0\n",
    "    \n",
    "    if dp[index][capacity] != -1:\n",
    "        return dp[index][capacity]\n",
    "        \n",
    "    include = 0\n",
    "    if wt[index] <= capacity:\n",
    "        include = val[index] + knapSack(wt, val, index, capacity-wt[index], dp)\n",
    "    notInclude = knapSack(wt, val, index-1, capacity, dp)\n",
    "    dp[index][capacity] = max(include, notInclude)\n",
    "    return dp[index][capacity]\n",
    "\n",
    "capacity = 3\n",
    "val = [1, 1]\n",
    "wt = [2, 1]\n",
    "n = len(wt)\n",
    "dp = [[-1 for j in range(capacity+1)] for i in range(n)]\n",
    "knapSack(wt, val, n-1, capacity, dp)"
   ]
  },
  {
   "cell_type": "code",
   "execution_count": 18,
   "id": "997ae0ed-6503-491f-851b-6225c2c22da6",
   "metadata": {},
   "outputs": [
    {
     "data": {
      "text/plain": [
       "48"
      ]
     },
     "execution_count": 18,
     "metadata": {},
     "output_type": "execute_result"
    }
   ],
   "source": [
    "def knapSack(val, wt,capacity):\n",
    "    n = len(wt)\n",
    "    dp = [[0 for j in range(capacity+1)] for i in range(n)]\n",
    "        \n",
    "    for j in range(capacity+1):\n",
    "        dp[0][j] = val[0]*(j//wt[0])\n",
    "                \n",
    "    for i in range(1, n):\n",
    "        for j in range(capacity+1):\n",
    "            notInclude = dp[i-1][j]\n",
    "            include = 0\n",
    "            if j-wt[i] >= 0:\n",
    "                include = val[i] + dp[i][j-wt[i]]\n",
    "                    \n",
    "            dp[i][j] = max(include, notInclude)\n",
    "       \n",
    "    return dp[n-1][capacity]\n",
    "\n",
    "val = [6, 1, 7, 7]\n",
    "wt = [1, 3, 4, 5]\n",
    "capacity = 8\n",
    "knapSack(val, wt, capacity)"
   ]
  },
  {
   "cell_type": "code",
   "execution_count": null,
   "id": "084cbb0a-0869-4bdc-94b7-28bf02d81863",
   "metadata": {},
   "outputs": [],
   "source": []
  },
  {
   "cell_type": "markdown",
   "id": "7d567af3-3d60-4ff9-80f3-102addada460",
   "metadata": {},
   "source": [
    "# Rod Cutting Problem"
   ]
  },
  {
   "cell_type": "code",
   "execution_count": 27,
   "id": "d4bf4b4b-f3e6-49f4-8093-c08ff693de28",
   "metadata": {},
   "outputs": [
    {
     "data": {
      "text/plain": [
       "22"
      ]
     },
     "execution_count": 27,
     "metadata": {},
     "output_type": "execute_result"
    }
   ],
   "source": [
    "def cutRod(price, index, length, dp):\n",
    "    if length == 0:\n",
    "        return 0\n",
    "    if index < 0:\n",
    "        return 0\n",
    "\n",
    "    if dp[index][length] != -1:\n",
    "        return dp[index][length]\n",
    "    \n",
    "    include = 0\n",
    "    if length-(index+1) >= 0:\n",
    "        include = price[index] + cutRod(price, index, length-(index+1), dp)\n",
    "    notInclude = cutRod(price, index-1, length, dp)\n",
    "    dp[index][length] = max(include, notInclude)\n",
    "    return dp[index][length]\n",
    "            \n",
    "price = [1, 5, 8, 9, 10, 17, 17, 20]\n",
    "n = len(price)\n",
    "dp = [[-1 for i in range(n+1)] for j in range(n)]\n",
    "cutRod(price, n-1, n, dp)"
   ]
  },
  {
   "cell_type": "code",
   "execution_count": 28,
   "id": "289f0c72-4381-4045-90b4-45a1918f51ef",
   "metadata": {},
   "outputs": [
    {
     "data": {
      "text/plain": [
       "22"
      ]
     },
     "execution_count": 28,
     "metadata": {},
     "output_type": "execute_result"
    }
   ],
   "source": [
    "def cutRod(price):\n",
    "    n = len(price)\n",
    "    dp = [[0 for i in range(n+1)] for j in range(n)]\n",
    "        \n",
    "    for j in range(n+1):\n",
    "        dp[0][j] = j*price[0]\n",
    "            \n",
    "    for i in range(1, n):\n",
    "        for j in range(n+1):\n",
    "            include = dp[i-1][j]\n",
    "            notInclude = 0\n",
    "            if j-(i+1) >= 0:\n",
    "                notInclude = price[i] + dp[i][j-(i+1)]\n",
    "            dp[i][j] = max(include, notInclude)\n",
    "    return dp[n-1][n]\n",
    "\n",
    "price = [1, 5, 8, 9, 10, 17, 17, 20]\n",
    "cutRod(price)"
   ]
  },
  {
   "cell_type": "code",
   "execution_count": null,
   "id": "5494de63-e338-414a-90bc-2f1d5f1c0c51",
   "metadata": {},
   "outputs": [],
   "source": []
  },
  {
   "cell_type": "markdown",
   "id": "a889cb1c-3f92-41d8-950e-c91a0685dc4a",
   "metadata": {},
   "source": [
    "# Job Scheduling"
   ]
  },
  {
   "cell_type": "code",
   "execution_count": 7,
   "id": "c0017280-0be1-4090-8f04-23ca2a4f467f",
   "metadata": {},
   "outputs": [
    {
     "data": {
      "text/plain": [
       "100"
      ]
     },
     "execution_count": 7,
     "metadata": {},
     "output_type": "execute_result"
    }
   ],
   "source": [
    "def scheduling(deadline, profit, index, time):\n",
    "    if index < 0:\n",
    "        return 0\n",
    "            \n",
    "    include = 0\n",
    "    if time <= deadline[index]:\n",
    "        include = profit[index] + scheduling(deadline, profit, index-1, time+1)\n",
    "    notinclude = scheduling(deadline, profit, index-1, time)\n",
    "    return max(include, notinclude)\n",
    "\n",
    "id = [1, 2, 3, 4]\n",
    "deadline = [4, 1, 1, 1]\n",
    "profit = [20, 1, 40, 30]\n",
    "id = [1, 2, 3, 4, 5]\n",
    "deadline = [2, 1, 2, 1, 1]\n",
    "profit = [100, 19, 27, 25, 15]\n",
    "id = [1, 2, 3, 4]\n",
    "deadline = [3, 1, 2, 2]\n",
    "profit = [50, 10, 20, 30]\n",
    "n = len(id)\n",
    "scheduling(deadline, profit, n-1, 1)"
   ]
  },
  {
   "cell_type": "code",
   "execution_count": null,
   "id": "f5588c60-0e9b-4339-8ae5-c536e6660daa",
   "metadata": {},
   "outputs": [],
   "source": []
  }
 ],
 "metadata": {
  "kernelspec": {
   "display_name": "Python 3 (ipykernel)",
   "language": "python",
   "name": "python3"
  },
  "language_info": {
   "codemirror_mode": {
    "name": "ipython",
    "version": 3
   },
   "file_extension": ".py",
   "mimetype": "text/x-python",
   "name": "python",
   "nbconvert_exporter": "python",
   "pygments_lexer": "ipython3",
   "version": "3.12.7"
  }
 },
 "nbformat": 4,
 "nbformat_minor": 5
}
