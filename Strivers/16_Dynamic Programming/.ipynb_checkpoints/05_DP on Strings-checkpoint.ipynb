{
 "cells": [
  {
   "cell_type": "markdown",
   "id": "a74ce2b3-60ec-47ea-b356-529179501e06",
   "metadata": {},
   "source": [
    "# Longest Common Subsequence"
   ]
  },
  {
   "cell_type": "code",
   "execution_count": 5,
   "id": "1c6283d9-e71c-48dd-9929-28b5fc3c4538",
   "metadata": {},
   "outputs": [
    {
     "data": {
      "text/plain": [
       "3"
      ]
     },
     "execution_count": 5,
     "metadata": {},
     "output_type": "execute_result"
    }
   ],
   "source": [
    "def longestCommonSubsequence(text1, text2, index1, index2):\n",
    "    if index1 < 0 or index2 < 0:\n",
    "        return 0\n",
    "        \n",
    "    include = 0\n",
    "    if text1[index1] == text2[index2]:\n",
    "        include = 1 + longestCommonSubsequence(text1, text2, index1-1, index2-1)\n",
    "    s1 = longestCommonSubsequence(text1, text2, index1-1, index2)\n",
    "    s2 = longestCommonSubsequence(text1, text2, index1, index2-1)\n",
    "\n",
    "    return max(include, s1, s2)\n",
    "    \n",
    "\n",
    "text1 = \"abcde\"\n",
    "text2 = \"ace\"\n",
    "n = len(text1)\n",
    "m = len(text2)\n",
    "longestCommonSubsequence(text1, text2, n-1, m-1)"
   ]
  },
  {
   "cell_type": "code",
   "execution_count": 3,
   "id": "4b739e93-bb88-4a79-9d24-35b7aca3ef48",
   "metadata": {},
   "outputs": [
    {
     "data": {
      "text/plain": [
       "3"
      ]
     },
     "execution_count": 3,
     "metadata": {},
     "output_type": "execute_result"
    }
   ],
   "source": [
    "def longestCommonSubsequence(text1, text2, index1, index2, dp):\n",
    "    if index1 < 0 or index2 < 0:\n",
    "        return 0\n",
    "\n",
    "    if dp[index1][index2] != -1:\n",
    "        return dp[index1][index2]\n",
    "\n",
    "    include = 0\n",
    "    if text1[index1] == text2[index2]:\n",
    "        include = 1 + longestCommonSubsequence(text1, text2, index1-1, index2-1, dp)\n",
    "    s1 = longestCommonSubsequence(text1, text2, index1-1, index2, dp)\n",
    "    s2 = longestCommonSubsequence(text1, text2, index1, index2-1, dp)\n",
    "\n",
    "    dp[index1][index2] = max(include, s1, s2)\n",
    "    return dp[index1][index2]\n",
    "    \n",
    "\n",
    "text1 = \"abcde\"\n",
    "text2 = \"ace\"\n",
    "n = len(text1)\n",
    "m = len(text2)\n",
    "dp = [[-1 for i in range(len(text2))] for j in range(len(text1))]\n",
    "longestCommonSubsequence(text1, text2, n-1, m-1, dp)"
   ]
  },
  {
   "cell_type": "code",
   "execution_count": 13,
   "id": "47475f94-b1a8-44d2-88b7-09de1e9eec80",
   "metadata": {},
   "outputs": [
    {
     "data": {
      "text/plain": [
       "4"
      ]
     },
     "execution_count": 13,
     "metadata": {},
     "output_type": "execute_result"
    }
   ],
   "source": [
    "def longestCommonSubsequence(text1, text2):\n",
    "    n1 = len(text1)\n",
    "    n2 = len(text2)\n",
    "\n",
    "    dp = [[0 for i in range(n2)] for j in range(n1)]\n",
    "        \n",
    "    for i in range(n1):\n",
    "        for j in range(n2):\n",
    "            include = 0\n",
    "            if text1[i] == text2[j]:\n",
    "                include += 1\n",
    "                if i-1 >= 0 and j-1>=0:\n",
    "                    include += dp[i-1][j-1]\n",
    "\n",
    "            notInclude1 = 0\n",
    "            if i-1 >= 0:\n",
    "                notInclude1 = dp[i-1][j]\n",
    "                \n",
    "            notInclude2 = 0\n",
    "            if j-1 >= 0:\n",
    "                notInclude2 = dp[i][j-1]\n",
    "\n",
    "            dp[i][j] = max(include, notInclude1, notInclude2)\n",
    "\n",
    "    return dp[n1-1][n2-1]\n",
    "\n",
    "text1 = \"abcde\"\n",
    "text2 = \"ace\" \n",
    "text1 = \"bbbab\"\n",
    "text2 = text1[::-1]\n",
    "longestCommonSubsequence(text1, text2)"
   ]
  },
  {
   "cell_type": "code",
   "execution_count": null,
   "id": "5c06263c-a026-4a97-a120-6c6324caa36f",
   "metadata": {},
   "outputs": [],
   "source": []
  },
  {
   "cell_type": "markdown",
   "id": "bff06c48-160f-4277-bf71-eed477143c9f",
   "metadata": {},
   "source": [
    "# Print all LCS sequences"
   ]
  },
  {
   "cell_type": "code",
   "execution_count": 10,
   "id": "2dc35c52-509c-477a-a34c-d41ef8975080",
   "metadata": {},
   "outputs": [
    {
     "data": {
      "text/plain": [
       "{'aaaa', 'abaa', 'baaa'}"
      ]
     },
     "execution_count": 10,
     "metadata": {},
     "output_type": "execute_result"
    }
   ],
   "source": [
    "def LCS(s, t):\n",
    "    n = len(s)\n",
    "    m = len(t)\n",
    "\n",
    "    dp = [[0 for i in range(m)] for j in range(n)]\n",
    "\n",
    "    for i in range(n):\n",
    "        for j in range(m):\n",
    "            include = 0\n",
    "            if s[i] == t[j]:\n",
    "                include += 1\n",
    "                if 0 <= i-1 and 0 <= j-1:\n",
    "                    include += dp[i-1][j-1]\n",
    "            notinclude1 = 0\n",
    "            if 0 <= i-1:\n",
    "                notinclude1 += dp[i-1][j]\n",
    "            notinclude2 = 0\n",
    "            if 0 <= j-1:\n",
    "                notinclude2 += dp[i][j-1]\n",
    "            dp[i][j] = max(include, notinclude1, notinclude2)\n",
    "    return dp\n",
    "\n",
    "\n",
    "def printAllLCS(s, t, index1, index2, dp, sub, res):\n",
    "\n",
    "    if index1 == 0 or index2 == 0:\n",
    "        if s[index1] == t[index2]:\n",
    "            res.add(s[index1]+sub)\n",
    "        return \n",
    "\n",
    "    if s[index1] == t[index2]:\n",
    "        printAllLCS(s, t, index1-1, index2-1, dp, s[index1]+sub, res)\n",
    "    if dp[index1][index2] == dp[index1-1][index2]:\n",
    "        printAllLCS(s, t, index1-1, index2, dp, sub, res)\n",
    "    if dp[index1][index2] == dp[index1][index2-1]:\n",
    "        printAllLCS(s, t, index1, index2-1, dp, sub, res)\n",
    "        \n",
    "    \n",
    "    \n",
    "s = 'abaaa'\n",
    "t = 'baabaca'\n",
    "dp = LCS(s, t)\n",
    "res = set()\n",
    "printAllLCS(s, t, len(s)-1, len(t)-1, dp, '', res)\n",
    "res"
   ]
  },
  {
   "cell_type": "code",
   "execution_count": null,
   "id": "6ae4abad-bca2-440a-98fc-26fd36968687",
   "metadata": {},
   "outputs": [],
   "source": []
  },
  {
   "cell_type": "markdown",
   "id": "a5fb89f4-adb9-42c9-b3c5-226fb7c02e62",
   "metadata": {},
   "source": [
    "# Longest Common Substring "
   ]
  },
  {
   "cell_type": "code",
   "execution_count": 12,
   "id": "430661b9-fc46-4cd2-bc91-5c12a018b89e",
   "metadata": {},
   "outputs": [
    {
     "data": {
      "text/plain": [
       "4"
      ]
     },
     "execution_count": 12,
     "metadata": {},
     "output_type": "execute_result"
    }
   ],
   "source": [
    "def longestCommonSubstr(s1, s2):\n",
    "    n = len(s1)\n",
    "    m = len(s2)\n",
    "        \n",
    "    dp = [[0 for i in range(m)] for j in range(n)]\n",
    "    lcs = 0\n",
    "        \n",
    "    for i in range(n):\n",
    "        for j in range(m):\n",
    "            if s1[i] == s2[j]:\n",
    "                dp[i][j] += 1\n",
    "                if 0 <= i-1 and 0 <= j-1:\n",
    "                    dp[i][j] += dp[i-1][j-1]\n",
    "            lcs = max(lcs, dp[i][j])\n",
    "            \n",
    "    return lcs\n",
    "\n",
    "s1 = \"ABCDGH\"\n",
    "s2 = \"ACDGHR\"\n",
    "longestCommonSubstr(s1, s2)"
   ]
  },
  {
   "cell_type": "code",
   "execution_count": null,
   "id": "7398b94a-d73d-4c35-98e0-8b1e46568866",
   "metadata": {},
   "outputs": [],
   "source": []
  },
  {
   "cell_type": "markdown",
   "id": "aeaff096-1c08-45ef-88d8-e2455460f5f4",
   "metadata": {},
   "source": [
    "# Longest Palindromic Subsequence"
   ]
  },
  {
   "cell_type": "code",
   "execution_count": 14,
   "id": "79ab25cc-63b7-455c-a124-f9d20c5cbec1",
   "metadata": {},
   "outputs": [
    {
     "data": {
      "text/plain": [
       "4"
      ]
     },
     "execution_count": 14,
     "metadata": {},
     "output_type": "execute_result"
    }
   ],
   "source": [
    "def lcs(s1, s2):\n",
    "    n = len(s1)\n",
    "    m = len(s2)\n",
    "\n",
    "    dp = [[0 for j in range(m)] for i in range(n)]\n",
    "\n",
    "    for i in range(n):\n",
    "        for j in range(m):\n",
    "            include = 0\n",
    "            if s1[i] == s2[j]:\n",
    "                include += 1\n",
    "                if 0 <= i-1 and 0 <= j-1:\n",
    "                    include += dp[i-1][j-1]\n",
    "                \n",
    "            notinclude1 = 0\n",
    "            if 0 <= i-1:\n",
    "                notinclude1 += dp[i-1][j]\n",
    "            notinclude2 = 0\n",
    "            if 0 <= j-1:\n",
    "                notinclude2 += dp[i][j-1]\n",
    "            dp[i][j] = max(include, notinclude1, notinclude2)\n",
    "    return dp[n-1][m-1]\n",
    "\n",
    "s = \"bbbab\"\n",
    "lcs(s, s[::-1])"
   ]
  },
  {
   "cell_type": "code",
   "execution_count": null,
   "id": "1f097105-7b23-4752-b43e-9fbbe481f195",
   "metadata": {},
   "outputs": [],
   "source": []
  },
  {
   "cell_type": "markdown",
   "id": "0fea450d-158f-4ca2-9cc6-2e93610eca0b",
   "metadata": {},
   "source": [
    "# Minimum insertions to make string palindrome"
   ]
  },
  {
   "cell_type": "code",
   "execution_count": 16,
   "id": "41872f57-bcd0-4917-8386-ac75769580ed",
   "metadata": {},
   "outputs": [
    {
     "data": {
      "text/plain": [
       "5"
      ]
     },
     "execution_count": 16,
     "metadata": {},
     "output_type": "execute_result"
    }
   ],
   "source": [
    "def lcs(s1, s2):\n",
    "    n = len(s1)\n",
    "    m = len(s2)\n",
    "\n",
    "    dp = [[0 for j in range(m)] for i in range(n)]\n",
    "\n",
    "    for i in range(n):\n",
    "        for j in range(m):\n",
    "            include = 0\n",
    "            if s1[i] == s2[j]:\n",
    "                include += 1\n",
    "                if 0 <= i-1 and 0 <= j-1:\n",
    "                    include += dp[i-1][j-1]\n",
    "                \n",
    "            notinclude1 = 0\n",
    "            if 0 <= i-1:\n",
    "                notinclude1 += dp[i-1][j]\n",
    "            notinclude2 = 0\n",
    "            if 0 <= j-1:\n",
    "                notinclude2 += dp[i][j-1]\n",
    "            dp[i][j] = max(include, notinclude1, notinclude2)\n",
    "    return dp[n-1][m-1]\n",
    "\n",
    "s = \"leetcode\"\n",
    "palindromeLen = lcs(s, s[::-1])\n",
    "len(s) - palindromeLen"
   ]
  },
  {
   "cell_type": "code",
   "execution_count": null,
   "id": "45e071ee-ed69-4342-93f0-b401a7e21ec0",
   "metadata": {},
   "outputs": [],
   "source": []
  },
  {
   "cell_type": "markdown",
   "id": "faae1596-3150-46a5-a039-01b0b147e4fc",
   "metadata": {},
   "source": [
    "# Shortest Common Supersequence "
   ]
  },
  {
   "cell_type": "code",
   "execution_count": 1,
   "id": "bc42f818-b179-4995-ada0-fe1070b736d7",
   "metadata": {},
   "outputs": [
    {
     "data": {
      "text/plain": [
       "'BGRUOOTE'"
      ]
     },
     "execution_count": 1,
     "metadata": {},
     "output_type": "execute_result"
    }
   ],
   "source": [
    "def shortestCommonSupersequence(str1: str, str2: str) -> str:\n",
    "    n = len(str1)\n",
    "    m = len(str2)\n",
    "\n",
    "    dp = [[0 for i in range(m+1)] for j in range(n+1)]\n",
    "\n",
    "    for i in range(1, n+1):\n",
    "        for j in range(1, m+1):\n",
    "            if str1[i-1] == str2[j-1]:\n",
    "                dp[i][j] = 1 + dp[i-1][j-1]\n",
    "            else:\n",
    "                dp[i][j] = max(dp[i-1][j], dp[i][j-1])\n",
    "    res = ''\n",
    "    i = n\n",
    "    j = m\n",
    "    while i >0 and j >0:\n",
    "        if str1[i-1] == str2[j-1]:\n",
    "            res += str1[i-1]\n",
    "            i -= 1\n",
    "            j -= 1\n",
    "        elif dp[i-1][j] > dp[i][j-1]:\n",
    "            res += str1[i-1]\n",
    "            i -= 1\n",
    "        else:\n",
    "            res += str2[j-1]\n",
    "            j -= 1\n",
    "    while i > 0:\n",
    "        res += str1[i-1]\n",
    "        i -= 1\n",
    "\n",
    "    while j > 0:\n",
    "        res += str2[j-1]\n",
    "        j -= 1\n",
    "    return res[::-1] \n",
    "\n",
    "str1 = \"BRUTE\"\n",
    "str2 = \"GROOT\"\n",
    "shortestCommonSupersequence(str1, str2)"
   ]
  },
  {
   "cell_type": "code",
   "execution_count": null,
   "id": "694a0adb-fb4e-4ee8-9307-dce21b27dead",
   "metadata": {},
   "outputs": [],
   "source": []
  },
  {
   "cell_type": "markdown",
   "id": "6ec67364-fa0c-46cc-a5b3-6873dc7b95e2",
   "metadata": {},
   "source": [
    "# Distinct Subsequences"
   ]
  },
  {
   "cell_type": "code",
   "execution_count": 10,
   "id": "fe18126b-8434-4eee-97c8-abecd78533a0",
   "metadata": {},
   "outputs": [
    {
     "data": {
      "text/plain": [
       "5"
      ]
     },
     "execution_count": 10,
     "metadata": {},
     "output_type": "execute_result"
    }
   ],
   "source": [
    "def lcs(s, t, index1, index2, l, dp):\n",
    "    if index2 < 0:\n",
    "        return 1\n",
    "    if index1 < 0:\n",
    "        return 0\n",
    "    \n",
    "    if dp[index1][index2] != -1:\n",
    "        return dp[index1][index2]\n",
    "        \n",
    "    include = 0\n",
    "    if s[index1] == t[index2]:\n",
    "        include = lcs(s, t, index1-1, index2-1, l+1, dp)\n",
    "    notinclude = lcs(s, t, index1-1, index2, l, dp)\n",
    "    \n",
    "    dp[index1][index2] =  include + notinclude\n",
    "    return include + notinclude\n",
    "\n",
    "s = \"babgbag\"\n",
    "t = \"bag\"\n",
    "n = len(s)\n",
    "m = len(t)\n",
    "dp = [[-1 for j in range(m)] for i in range(n)]\n",
    "lcs(s, t, len(s)-1, len(t)-1, 0, dp)"
   ]
  },
  {
   "cell_type": "code",
   "execution_count": 11,
   "id": "ef7c1c43-f32b-4efa-9a0f-837e68692e82",
   "metadata": {},
   "outputs": [
    {
     "data": {
      "text/plain": [
       "5"
      ]
     },
     "execution_count": 11,
     "metadata": {},
     "output_type": "execute_result"
    }
   ],
   "source": [
    "def numDistinct(s: str, t: str) -> int:\n",
    "    n = len(s)\n",
    "    m = len(t)\n",
    "\n",
    "    dp = [[0 for j in range(m+1)] for i in range(n+1)]\n",
    "\n",
    "    for i in range(n+1):\n",
    "        dp[i][0] = 1\n",
    "\n",
    "    for i in range(1, n+1):\n",
    "        for j in range(1, m+1):\n",
    "            include = 0\n",
    "            if s[i-1] == t[j-1]:\n",
    "                include = dp[i-1][j-1]\n",
    "            notinclude = dp[i-1][j]\n",
    "            dp[i][j] = include + notinclude\n",
    "    return dp[n][m]\n",
    "\n",
    "s = \"babgbag\"\n",
    "t = \"bag\"\n",
    "numDistinct(s, t)"
   ]
  },
  {
   "cell_type": "code",
   "execution_count": null,
   "id": "47be3a0f-d0ba-4aca-8010-4a9d0827adbd",
   "metadata": {},
   "outputs": [],
   "source": []
  },
  {
   "cell_type": "markdown",
   "id": "b95bf31d-bba6-421d-ad0b-800b87fdca64",
   "metadata": {},
   "source": [
    "# Edit Distance"
   ]
  },
  {
   "cell_type": "code",
   "execution_count": 14,
   "id": "724679e7-3e71-4467-9ab8-a6c286df3794",
   "metadata": {},
   "outputs": [
    {
     "data": {
      "text/plain": [
       "3"
      ]
     },
     "execution_count": 14,
     "metadata": {},
     "output_type": "execute_result"
    }
   ],
   "source": [
    "def lcs(word1, word2, index1, index2, dp):\n",
    "        \n",
    "    if index2 < 0:\n",
    "        return index1+1\n",
    "    if index1 < 0:\n",
    "        return index2+1\n",
    "\n",
    "    if dp[index1][index2] != -1:\n",
    "        return dp[index1][index2]\n",
    "\n",
    "    if word1[index1] == word2[index2]:\n",
    "        dp[index1][index2] = lcs(word1, word2, index1-1, index2-1, dp)\n",
    "        return dp[index1][index2]\n",
    "\n",
    "    replace = 1+lcs(word1, word2, index1-1, index2-1, dp)\n",
    "    delete = 1+lcs(word1, word2, index1-1, index2, dp)\n",
    "    insert = 1 + lcs(word1, word2, index1, index2-1, dp)\n",
    "    dp[index1][index2] = min(replace, delete, insert)\n",
    "    return dp[index1][index2]\n",
    "\n",
    "word1 = \"horse\"\n",
    "word2 = \"ros\"\n",
    "n = len(word1)\n",
    "m = len(word2)\n",
    "dp = [[-1 for j in range(m)] for i in range(n)]\n",
    "lcs(word1, word2, n-1, m-1, dp)"
   ]
  },
  {
   "cell_type": "code",
   "execution_count": 16,
   "id": "e34a553d-910e-4ca9-ba3d-d6fbf812dc0b",
   "metadata": {},
   "outputs": [
    {
     "data": {
      "text/plain": [
       "3"
      ]
     },
     "execution_count": 16,
     "metadata": {},
     "output_type": "execute_result"
    }
   ],
   "source": [
    "def lcs(word1, word2):\n",
    "    n = len(word1)\n",
    "    m = len(word2)\n",
    "    dp = [[0 for j in range(m+1)] for i in range(n+1)]\n",
    "\n",
    "    for i in range(n+1):\n",
    "        dp[i][0] = i\n",
    "    for j in range(m+1):\n",
    "        dp[0][j] = j\n",
    "\n",
    "    for i in range(1, n+1):\n",
    "        for j in range(1, m+1):\n",
    "            if word1[i-1] == word2[j-1]:\n",
    "                dp[i][j] = dp[i-1][j-1]\n",
    "            else:\n",
    "                dp[i][j] = min(1+dp[i-1][j-1], 1+dp[i-1][j], 1+dp[i][j-1])\n",
    "    return dp[n][m]\n",
    "        \n",
    "    \n",
    "\n",
    "word1 = \"horse\"\n",
    "word2 = \"ros\"\n",
    "lcs(word1, word2)"
   ]
  },
  {
   "cell_type": "code",
   "execution_count": null,
   "id": "852a02e4-857b-4378-bf2f-90dcb6d8a111",
   "metadata": {},
   "outputs": [],
   "source": []
  },
  {
   "cell_type": "markdown",
   "id": "f8b4562e-93bd-4db8-a3c6-11cb8ff5a8fe",
   "metadata": {},
   "source": [
    "# Wildcard Matching"
   ]
  },
  {
   "cell_type": "code",
   "execution_count": 1,
   "id": "d10a7dd6-96ad-4943-83f2-792038eeece1",
   "metadata": {},
   "outputs": [
    {
     "data": {
      "text/plain": [
       "0"
      ]
     },
     "execution_count": 1,
     "metadata": {},
     "output_type": "execute_result"
    }
   ],
   "source": [
    "def lcs(s, p, index1, index2, dp):\n",
    "    if index1 <0 and index2 <0:\n",
    "        return 1\n",
    "    if index2 < 0:\n",
    "        return 0\n",
    "    if index1 < 0:\n",
    "        while index2 >= 0 and p[index2] == '*':\n",
    "            index2 -= 1\n",
    "        return 1 if index2 < 0 else 0\n",
    "        \n",
    "    if dp[index1][index2] != -1 :\n",
    "        return dp[index1][index2]\n",
    "        \n",
    "    if s[index1] == p[index2] or p[index2] == '?':\n",
    "        dp[index1][index2] = lcs(s, p, index1-1, index2-1,dp)\n",
    "        return dp[index1][index2]\n",
    "    if p[index2] == '*':\n",
    "        dp[index1][index2] = lcs(s, p, index1-1, index2, dp) or lcs(s, p, index1, index2-1, dp)\n",
    "        return dp[index1][index2]\n",
    "    dp[index1][index2] = 0\n",
    "    return dp[index1][index2]\n",
    "\n",
    "s = 'acdcb'\n",
    "p = 'a*c?b'\n",
    "n = len(s)\n",
    "m = len(p)\n",
    "dp = [[-1 for i in range(m)] for j in range(n)]\n",
    "lcs(s, p, n-1, m-1, dp)"
   ]
  },
  {
   "cell_type": "code",
   "execution_count": 2,
   "id": "3a836475-aa59-44af-bba4-9a9590037df0",
   "metadata": {},
   "outputs": [
    {
     "data": {
      "text/plain": [
       "False"
      ]
     },
     "execution_count": 2,
     "metadata": {},
     "output_type": "execute_result"
    }
   ],
   "source": [
    "def isMatch(s: str, p: str) -> bool:\n",
    "    n = len(s)\n",
    "    m = len(p)\n",
    "    dp = [[False for j in range(m+1)] for i in range(n+1)]\n",
    "\n",
    "    dp[0][0] = True\n",
    "\n",
    "    for i in range(1, n+1):\n",
    "        dp[i][0] = False\n",
    "        \n",
    "    for j in range(1, m+1):\n",
    "        if p[j-1] == '*' and dp[0][j-1] == True:\n",
    "            dp[0][j] = True\n",
    "        \n",
    "    for i in range(1, n+1):\n",
    "        for j in range(1, m+1):\n",
    "            if s[i-1] == p[j-1] or p[j-1] == '?':\n",
    "                dp[i][j] = dp[i-1][j-1]\n",
    "            elif p[j-1] == '*':\n",
    "                dp[i][j] = dp[i-1][j] or dp[i][j-1]\n",
    "    return dp[n][m]\n",
    "\n",
    "s = 'acdcb'\n",
    "p = 'a*c?b'\n",
    "isMatch(s, p)"
   ]
  },
  {
   "cell_type": "code",
   "execution_count": null,
   "id": "079dbea5-f7a2-4f88-a1cd-a36a70adae89",
   "metadata": {},
   "outputs": [],
   "source": []
  }
 ],
 "metadata": {
  "kernelspec": {
   "display_name": "Python 3 (ipykernel)",
   "language": "python",
   "name": "python3"
  },
  "language_info": {
   "codemirror_mode": {
    "name": "ipython",
    "version": 3
   },
   "file_extension": ".py",
   "mimetype": "text/x-python",
   "name": "python",
   "nbconvert_exporter": "python",
   "pygments_lexer": "ipython3",
   "version": "3.12.7"
  }
 },
 "nbformat": 4,
 "nbformat_minor": 5
}
