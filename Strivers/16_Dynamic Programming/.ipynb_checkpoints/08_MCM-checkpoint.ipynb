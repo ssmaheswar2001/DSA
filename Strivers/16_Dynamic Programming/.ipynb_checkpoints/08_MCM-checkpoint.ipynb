{
 "cells": [
  {
   "cell_type": "markdown",
   "id": "f91f6f01-7e81-45c8-a001-791cc2da8c53",
   "metadata": {},
   "source": [
    "# MCM"
   ]
  },
  {
   "cell_type": "code",
   "execution_count": 4,
   "id": "f737ba84-4cc3-4870-ad8f-a92617d43ece",
   "metadata": {},
   "outputs": [
    {
     "data": {
      "text/plain": [
       "49"
      ]
     },
     "execution_count": 4,
     "metadata": {},
     "output_type": "execute_result"
    }
   ],
   "source": [
    "def MCM(arr, i, j, dp):\n",
    "    if i == j:\n",
    "        return 0\n",
    "            \n",
    "    if dp[i][j] != -1:\n",
    "        return dp[i][j]\n",
    "        \n",
    "    _min = float('inf')\n",
    "        \n",
    "    for k in range(i, j):\n",
    "        temp = arr[i]*arr[k+1]*arr[j+1] + MCM(arr, i, k, dp) + MCM(arr, k+1, j, dp)\n",
    "        _min = min(_min, temp)\n",
    "    dp[i][j] = _min\n",
    "    return dp[i][j]\n",
    "\n",
    "def matrixMultiplication(arr):\n",
    "    n = len(arr)\n",
    "    dp = [[-1 for j in range(n-1)] for i in range(n-1)]\n",
    "    return MCM(arr, 0, n-2, dp)\n",
    "\n",
    "arr = [1, 2, 3, 4, 3]\n",
    "arr = [1, 3, 1, 5, 8, 1]\n",
    "matrixMultiplication(arr)"
   ]
  },
  {
   "cell_type": "code",
   "execution_count": 13,
   "id": "47848e2c-cd6c-46e8-9a9f-f2f1f521828e",
   "metadata": {},
   "outputs": [
    {
     "data": {
      "text/plain": [
       "30"
      ]
     },
     "execution_count": 13,
     "metadata": {},
     "output_type": "execute_result"
    }
   ],
   "source": [
    "def MCM(arr):\n",
    "    n = len(arr)\n",
    "    dp = [[float('inf') for j in range(n-1)] for i in range(n-1)]\n",
    "        \n",
    "    for i in range(n-1):\n",
    "        dp[i][i] = 0\n",
    "        \n",
    "    for l in range(1, n-1):\n",
    "        for i in range(n-l-1):\n",
    "            j = i+l\n",
    "            for k in range(i, j):\n",
    "                cost = arr[i]*arr[k+1]*arr[j+1] + dp[i][k]+dp[k+1][j]\n",
    "                dp[i][j] = min(dp[i][j], cost)\n",
    "    return dp[0][n-2]\n",
    "\n",
    "arr = [1, 2, 3, 4, 3]\n",
    "MCM(arr)"
   ]
  },
  {
   "cell_type": "code",
   "execution_count": null,
   "id": "280cdd18-9235-499b-873f-44f4cd9a695c",
   "metadata": {},
   "outputs": [],
   "source": []
  },
  {
   "cell_type": "markdown",
   "id": "5cfb344c-80a1-4ab0-83ba-29dcafc8db52",
   "metadata": {},
   "source": [
    "# Minimum Cost to Cut a Stick"
   ]
  },
  {
   "cell_type": "code",
   "execution_count": 2,
   "id": "1f73adad-21a8-43ba-b569-2153d1e8ff5e",
   "metadata": {},
   "outputs": [
    {
     "data": {
      "text/plain": [
       "16"
      ]
     },
     "execution_count": 2,
     "metadata": {},
     "output_type": "execute_result"
    }
   ],
   "source": [
    "def MCM(cuts, i, j, dp):\n",
    "    if i > j:\n",
    "        return 0\n",
    "\n",
    "    if dp[i][j] != -1:\n",
    "        return dp[i][j]\n",
    "\n",
    "    minCost = float('inf')\n",
    "    for k in range(i, j+1):\n",
    "        cost = cuts[j+1]-cuts[i-1] + MCM(cuts, i, k-1, dp) + MCM(cuts, k+1, j, dp)\n",
    "        minCost = min(minCost, cost)\n",
    "    dp[i][j] = minCost\n",
    "    return minCost\n",
    "        \n",
    "def minCost(n, cuts):\n",
    "    cuts.sort()\n",
    "    cuts = [0] + cuts + [n]\n",
    "        \n",
    "    l = len(cuts)\n",
    "    dp = [[-1 for i in range(l)] for j in range(l)]\n",
    "    MCM(cuts, 1, l-2, dp)\n",
    "\n",
    "cuts = [1,3,4,5]\n",
    "n = 7\n",
    "minCost(n, cuts)"
   ]
  },
  {
   "cell_type": "code",
   "execution_count": 3,
   "id": "dbf23abf-d696-4184-a326-21678eba8646",
   "metadata": {},
   "outputs": [
    {
     "data": {
      "text/plain": [
       "16"
      ]
     },
     "execution_count": 3,
     "metadata": {},
     "output_type": "execute_result"
    }
   ],
   "source": [
    "def minCost(n, cuts):\n",
    "    cuts.sort()\n",
    "    cuts = [0] + cuts + [n]\n",
    "        \n",
    "    rodLen = len(cuts)\n",
    "\n",
    "    dp = [[0 for j in range(rodLen)] for i in range(rodLen)]\n",
    "\n",
    "    for i in range(1, rodLen-1):\n",
    "        dp[i][i] = cuts[i+1] - cuts[i-1]\n",
    "        \n",
    "    for l in range(2, rodLen-1):\n",
    "        for i in range(1, rodLen-l):\n",
    "            j = l+i-1\n",
    "            dp[i][j] = float('inf')\n",
    "            for k in range(i, j+1):\n",
    "                cost = (cuts[j+1]-cuts[i-1]) + dp[i][k-1] +  dp[k+1][j]\n",
    "                dp[i][j] = min(cost, dp[i][j])\n",
    "    return dp[1][rodLen-2]\n",
    "\n",
    "cuts = [1,3,4,5]\n",
    "n = 7\n",
    "minCost(n, cuts)"
   ]
  },
  {
   "cell_type": "code",
   "execution_count": null,
   "id": "23adff3d-91bd-4072-931b-eb203c71c076",
   "metadata": {},
   "outputs": [],
   "source": []
  },
  {
   "cell_type": "markdown",
   "id": "911e4012-682c-4007-852c-b19f24a85ea2",
   "metadata": {},
   "source": [
    "# Burst Balloons"
   ]
  },
  {
   "cell_type": "code",
   "execution_count": 6,
   "id": "dceb5613-bd4c-4912-b2e0-7af0ea594eb1",
   "metadata": {},
   "outputs": [
    {
     "data": {
      "text/plain": [
       "167"
      ]
     },
     "execution_count": 6,
     "metadata": {},
     "output_type": "execute_result"
    }
   ],
   "source": [
    "def MCM(nums, i, j, dp):\n",
    "        \n",
    "    if i == j:\n",
    "        return 0\n",
    "\n",
    "    if dp[i][j] != -1:\n",
    "        return dp[i][j]\n",
    "\n",
    "    maxCost = 0\n",
    "    for k in range(i, j):\n",
    "        cost = nums[i]*nums[k+1]*nums[j+1] + MCM(nums, i, k, dp) + MCM(nums, k+1, j, dp)\n",
    "        maxCost = max(maxCost, cost)\n",
    "    dp[i][j] = maxCost\n",
    "    return dp[i][j]\n",
    "\n",
    "def maxCoins(nums) -> int:\n",
    "    nums = [1] + nums + [1]\n",
    "    n = len(nums)\n",
    "    dp = [[-1 for j in range(n-1)] for i in range(n-1)]\n",
    "    return MCM(nums, 0, n-2, dp)\n",
    "\n",
    "nums = [3,1,5,8]\n",
    "maxCoins(nums)"
   ]
  },
  {
   "cell_type": "code",
   "execution_count": 8,
   "id": "79899e1b-c1cf-4211-a3c0-33653131cbcf",
   "metadata": {},
   "outputs": [
    {
     "data": {
      "text/plain": [
       "167"
      ]
     },
     "execution_count": 8,
     "metadata": {},
     "output_type": "execute_result"
    }
   ],
   "source": [
    "def maxCoins(nums):\n",
    "    nums = [1] + nums + [1]\n",
    "    n = len(nums)\n",
    "    dp = [[0 for j in range(n-1)] for i in range(n-1)]\n",
    "\n",
    "    for l in range(1, n):\n",
    "        for i in range(n-l-1):\n",
    "            j = l+i\n",
    "            for k in range(i, j):\n",
    "                cost = nums[i]*nums[k+1]*nums[j+1] + dp[i][k] + dp[k+1][j]\n",
    "                dp[i][j] = max(dp[i][j], cost)\n",
    "    return dp[0][n-2]\n",
    "\n",
    "nums = [3,1,5,8]\n",
    "maxCoins(nums)"
   ]
  },
  {
   "cell_type": "code",
   "execution_count": null,
   "id": "384d8eec-9201-424e-99b8-f97431726269",
   "metadata": {},
   "outputs": [],
   "source": []
  },
  {
   "cell_type": "markdown",
   "id": "3856d56a-18bc-4677-9428-c23a4fc9b4df",
   "metadata": {},
   "source": [
    "# Evaluate Boolean Expression to True"
   ]
  },
  {
   "cell_type": "code",
   "execution_count": 2,
   "id": "ed3fa2c5-493e-4347-9fb5-7f3cfa9e1465",
   "metadata": {},
   "outputs": [
    {
     "data": {
      "text/plain": [
       "4"
      ]
     },
     "execution_count": 2,
     "metadata": {},
     "output_type": "execute_result"
    }
   ],
   "source": [
    "def MCM(s, i, j, isTrue, dp):\n",
    "    if i == j:\n",
    "        if isTrue == 1:\n",
    "            return int(s[i] == 'T')\n",
    "        else:\n",
    "            return int(s[i] == 'F')\n",
    "                \n",
    "    if dp[i][j][isTrue] != -1:\n",
    "        return dp[i][j][isTrue]\n",
    "            \n",
    "    ways = 0\n",
    "    for k in range(i+1, j, 2):\n",
    "        lf = MCM(s, i, k-1, 0, dp)\n",
    "        lt = MCM(s, i, k-1, 1, dp)\n",
    "        rf = MCM(s, k+1, j, 0, dp)\n",
    "        rt = MCM(s, k+1, j, 1, dp)\n",
    "            \n",
    "        if s[k] == '&':\n",
    "            if isTrue:\n",
    "                ways += lt*rt\n",
    "            else:\n",
    "                ways += lt*rf + lf*rt + lf*rf\n",
    "        elif s[k] == '|':\n",
    "            if isTrue:\n",
    "                ways += lt*rt + lt*rf + lf*rt\n",
    "            else:\n",
    "                ways += lf*rf\n",
    "        else:\n",
    "            if isTrue:\n",
    "                ways += lt*rf + lf*rt\n",
    "            else:\n",
    "                ways += lt*rt + lf*rf\n",
    "    dp[i][j][isTrue] = ways\n",
    "    return ways\n",
    "    \n",
    "def countWays(s):\n",
    "    n = len(s)\n",
    "    dp = [[[-1 for k in range(2)] for i in range(n)] for j in range(n)]\n",
    "    return MCM(s, 0, n-1, 1, dp)\n",
    "\n",
    "s = \"T|T&F^T\"\n",
    "countWays(s)"
   ]
  },
  {
   "cell_type": "code",
   "execution_count": null,
   "id": "cf32e87f-3785-4496-a3f5-e99afd51dbe5",
   "metadata": {},
   "outputs": [],
   "source": []
  },
  {
   "cell_type": "markdown",
   "id": "e27167b6-47f4-45eb-a627-05eb35b16887",
   "metadata": {},
   "source": [
    "# Palindrome Partitioning"
   ]
  },
  {
   "cell_type": "code",
   "execution_count": 10,
   "id": "6803e97a-c5df-4b12-814d-0f942dfcb389",
   "metadata": {},
   "outputs": [
    {
     "data": {
      "text/plain": [
       "1"
      ]
     },
     "execution_count": 10,
     "metadata": {},
     "output_type": "execute_result"
    }
   ],
   "source": [
    "def isPalindrome(s, l, r):\n",
    "    while l < r:\n",
    "        if s[l] != s[r]:\n",
    "            return False\n",
    "        l += 1\n",
    "        r -= 1\n",
    "    return True\n",
    "\n",
    "def MCM(s, i, n, dp):\n",
    "\n",
    "    if i == n:\n",
    "        return 0\n",
    "\n",
    "    if dp[i] != -1:\n",
    "        return dp[i]\n",
    "\n",
    "    minCost = float('inf')\n",
    "    for k in range(i, n):\n",
    "        if isPalindrome(s, i, k):\n",
    "            steps = 1 + MCM(s,k+1, n, dp)\n",
    "            minCost = min(minCost, steps)\n",
    "    dp[i] = minCost\n",
    "    return minCost\n",
    "\n",
    "def minCut(s):\n",
    "    n = len(s)\n",
    "    dp = [-1 for i in range(n)]\n",
    "    return MCM(s, 0, n, dp)-1\n",
    "\n",
    "s = 'ababcb'\n",
    "minCut(s)"
   ]
  },
  {
   "cell_type": "code",
   "execution_count": 11,
   "id": "dd486d8f-d885-406f-9b2b-e0bf4dd28fd5",
   "metadata": {},
   "outputs": [
    {
     "data": {
      "text/plain": [
       "1"
      ]
     },
     "execution_count": 11,
     "metadata": {},
     "output_type": "execute_result"
    }
   ],
   "source": [
    "def isPalindrome(s, l, r):\n",
    "    while l < r:\n",
    "        if s[l] != s[r]:\n",
    "            return False\n",
    "        l += 1\n",
    "        r -= 1\n",
    "    return True\n",
    "\n",
    "def minCut(s):\n",
    "    n = len(s)\n",
    "    dp = [float('inf') for i in range(n+1)]\n",
    "    dp[n] = 0\n",
    "\n",
    "\n",
    "    for i in range(n-1, -1, -1):\n",
    "        for j in range(i, n):\n",
    "            if isPalindrome(s, i, j):\n",
    "                dp[i] = min(dp[i], 1+dp[j+1])\n",
    "    return dp[0]-1\n",
    "\n",
    "s = 'ababcb'\n",
    "minCut(s)"
   ]
  },
  {
   "cell_type": "code",
   "execution_count": 15,
   "id": "72f4f986-01ff-40c9-a470-f8fe559b6531",
   "metadata": {},
   "outputs": [
    {
     "data": {
      "text/plain": [
       "1"
      ]
     },
     "execution_count": 15,
     "metadata": {},
     "output_type": "execute_result"
    }
   ],
   "source": [
    "def generatePalindrome(s, isPali):\n",
    "    n = len(s)\n",
    "    for i in range(n):\n",
    "        isPali[i][i] = True\n",
    "        \n",
    "    for l in range(2, n+1):\n",
    "        for i in range(n-l+1):\n",
    "            j = i+l-1\n",
    "            if s[i] == s[j] and (l== 2 or isPali[i+1][j-1] == True):\n",
    "                isPali[i][j] = True\n",
    "\n",
    "def minCut(s) -> int:\n",
    "    n = len(s)\n",
    "    dp = [float('inf') for i in range(n+1)]\n",
    "    dp[n] = 0\n",
    "\n",
    "    isPali = [[False for j in range(n)] for i in range(n)]\n",
    "    generatePalindrome(s, isPali)\n",
    "\n",
    "    for i in range(n-1, -1, -1):\n",
    "        for j in range(i, n):\n",
    "            if isPali[i][j] == True:\n",
    "                dp[i] = min(dp[i], 1+dp[j+1])\n",
    "    return dp[0]-1\n",
    "\n",
    "s = 'ababcb'\n",
    "minCut(s)"
   ]
  },
  {
   "cell_type": "code",
   "execution_count": null,
   "id": "8952d8ce-0108-4fb2-9944-f29db2736673",
   "metadata": {},
   "outputs": [],
   "source": []
  },
  {
   "cell_type": "markdown",
   "id": "e666e062-68fe-41f2-9b27-1bad9257cfe0",
   "metadata": {},
   "source": [
    "# Partition Array for Maximum Sum"
   ]
  },
  {
   "cell_type": "code",
   "execution_count": 2,
   "id": "7d673adf-6d42-4343-939e-d1a85e459548",
   "metadata": {},
   "outputs": [
    {
     "data": {
      "text/plain": [
       "84"
      ]
     },
     "execution_count": 2,
     "metadata": {},
     "output_type": "execute_result"
    }
   ],
   "source": [
    "def MCM(arr, i, n, k, dp):\n",
    "\n",
    "    if i == n:\n",
    "        return 0\n",
    "\n",
    "    if dp[i] != -1:\n",
    "        return dp[i]\n",
    "\n",
    "    maxCost = 0\n",
    "    value = 0\n",
    "    j = 0\n",
    "    while j < k and i+j+1 <= n:\n",
    "        value = max(arr[i+j], value)\n",
    "        cost = value*(j+1) + MCM(arr, i+j+1, n, k, dp)\n",
    "        maxCost = max(maxCost, cost) \n",
    "        j += 1\n",
    "    dp[i] = maxCost\n",
    "    return dp[i]\n",
    "\n",
    "arr = [1,15,7,9,2,5,10]\n",
    "k = 3\n",
    "n = len(arr)\n",
    "dp = [-1 for i in range(n)]\n",
    "MCM(arr, 0, n, k, dp)"
   ]
  },
  {
   "cell_type": "code",
   "execution_count": 3,
   "id": "6e7bb55e-21d0-4f8a-aef7-38e836d81132",
   "metadata": {},
   "outputs": [
    {
     "data": {
      "text/plain": [
       "84"
      ]
     },
     "execution_count": 3,
     "metadata": {},
     "output_type": "execute_result"
    }
   ],
   "source": [
    "def maxSumAfterPartitioning(arr, k):\n",
    "    n = len(arr)\n",
    "    dp = [0 for i in range(n+1)]\n",
    "        \n",
    "    for i in range(n-1, -1, -1):\n",
    "        j = 0\n",
    "        value = 0\n",
    "        while j < k and  i+j < n:\n",
    "            value = max(value, arr[i+j])\n",
    "            cost = (j+1)*value + dp[i+j+1]\n",
    "            dp[i] = max(dp[i], cost)\n",
    "            j += 1\n",
    "    return dp[0]\n",
    "\n",
    "arr = [1,15,7,9,2,5,10]\n",
    "k = 3\n",
    "maxSumAfterPartitioning(arr, k)"
   ]
  },
  {
   "cell_type": "code",
   "execution_count": null,
   "id": "0f9d1021-f586-4dca-ac76-63bddb354a42",
   "metadata": {},
   "outputs": [],
   "source": []
  }
 ],
 "metadata": {
  "kernelspec": {
   "display_name": "Python 3 (ipykernel)",
   "language": "python",
   "name": "python3"
  },
  "language_info": {
   "codemirror_mode": {
    "name": "ipython",
    "version": 3
   },
   "file_extension": ".py",
   "mimetype": "text/x-python",
   "name": "python",
   "nbconvert_exporter": "python",
   "pygments_lexer": "ipython3",
   "version": "3.12.7"
  }
 },
 "nbformat": 4,
 "nbformat_minor": 5
}
