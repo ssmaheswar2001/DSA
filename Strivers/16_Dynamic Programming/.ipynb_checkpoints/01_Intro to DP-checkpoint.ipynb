{
 "cells": [
  {
   "cell_type": "markdown",
   "id": "fa180269-5eb7-4613-b41e-e0bcbde071e5",
   "metadata": {},
   "source": [
    "# DP Intro\n",
    "- Those who cannot remember the past are condemned to repeat it.\n",
    "1. Tabulation - Bottom up DP\n",
    "2. Memorization - Top Down DP"
   ]
  },
  {
   "cell_type": "markdown",
   "id": "619e6260-81a5-490a-ad43-e68a1694f60c",
   "metadata": {},
   "source": [
    "# Fibonacci"
   ]
  },
  {
   "cell_type": "code",
   "execution_count": 2,
   "id": "9cc201bc-edf8-451b-a51a-1bddc823a3c3",
   "metadata": {},
   "outputs": [
    {
     "data": {
      "text/plain": [
       "5"
      ]
     },
     "execution_count": 2,
     "metadata": {},
     "output_type": "execute_result"
    }
   ],
   "source": [
    "# Recurrsion\n",
    "# Time Complexity : O(NlogN)\n",
    "# Space Complexity : O(NlogN)\n",
    "\n",
    "def fib(n):\n",
    "    if n <= 1:\n",
    "        return n\n",
    "    return fib(n-1) + fib(n-2)\n",
    "\n",
    "fib(5)"
   ]
  },
  {
   "cell_type": "code",
   "execution_count": 6,
   "id": "456860b8-12e1-41e2-925e-57f34a5c49b3",
   "metadata": {},
   "outputs": [
    {
     "data": {
      "text/plain": [
       "5"
      ]
     },
     "execution_count": 6,
     "metadata": {},
     "output_type": "execute_result"
    }
   ],
   "source": [
    "# Memeorizations\n",
    "# Time Complexity : O(N)\n",
    "# Space Complexity : O(N)\n",
    "\n",
    "def fib(n, dp):\n",
    "    if n <= 1:\n",
    "        return n\n",
    "    if dp[n] != -1:\n",
    "        return dp[n]\n",
    "    dp[n] = fib(n-1, dp) + fib(n-2, dp)\n",
    "    return dp[n]\n",
    "\n",
    "n = 5\n",
    "dp = [-1 for i in range(n+1)]\n",
    "fib(n, dp)"
   ]
  },
  {
   "cell_type": "code",
   "execution_count": 8,
   "id": "4aac8b1c-f14d-4125-96e1-a502bb644058",
   "metadata": {},
   "outputs": [
    {
     "data": {
      "text/plain": [
       "5"
      ]
     },
     "execution_count": 8,
     "metadata": {},
     "output_type": "execute_result"
    }
   ],
   "source": [
    "# Tabulation\n",
    "# Time Complexity : O(N)\n",
    "# Space Complexity : O(N)\n",
    "\n",
    "def fib(n):\n",
    "    dp = [0 for i in range(n+1)]\n",
    "    dp[0] = 0 \n",
    "    dp[1] = 1\n",
    "    for i in range(2, n+1):\n",
    "        dp[i] = dp[i-1] + dp[i-2]\n",
    "    return dp[n]\n",
    "\n",
    "n = 5\n",
    "fib(n)"
   ]
  },
  {
   "cell_type": "code",
   "execution_count": 13,
   "id": "eae787e8-5565-4816-9deb-7f68be6d7ec5",
   "metadata": {},
   "outputs": [
    {
     "data": {
      "text/plain": [
       "5"
      ]
     },
     "execution_count": 13,
     "metadata": {},
     "output_type": "execute_result"
    }
   ],
   "source": [
    "# Time Complexity : O(N)\n",
    "# Space Complexity : O(1)\n",
    "\n",
    "def fib(n):\n",
    "    prev2 = 0\n",
    "    prev1 = 1\n",
    "    for i in range(2, n+1):\n",
    "        current = prev1 + prev2\n",
    "        prev2 = prev1\n",
    "        prev1 = current\n",
    "    return prev1\n",
    "\n",
    "n = 5\n",
    "fib(n)"
   ]
  },
  {
   "cell_type": "code",
   "execution_count": null,
   "id": "7797ff43-5ff6-49c0-bc04-5a26ad6dfc42",
   "metadata": {},
   "outputs": [],
   "source": []
  }
 ],
 "metadata": {
  "kernelspec": {
   "display_name": "Python 3 (ipykernel)",
   "language": "python",
   "name": "python3"
  },
  "language_info": {
   "codemirror_mode": {
    "name": "ipython",
    "version": 3
   },
   "file_extension": ".py",
   "mimetype": "text/x-python",
   "name": "python",
   "nbconvert_exporter": "python",
   "pygments_lexer": "ipython3",
   "version": "3.12.7"
  }
 },
 "nbformat": 4,
 "nbformat_minor": 5
}
