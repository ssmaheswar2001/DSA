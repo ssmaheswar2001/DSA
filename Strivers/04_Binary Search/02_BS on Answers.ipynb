{
 "cells": [
  {
   "cell_type": "markdown",
   "id": "ff27a9b4",
   "metadata": {},
   "source": [
    "# Find Square root of a number in log(n)"
   ]
  },
  {
   "cell_type": "code",
   "execution_count": 2,
   "id": "e73f0795",
   "metadata": {},
   "outputs": [
    {
     "data": {
      "text/plain": [
       "2"
      ]
     },
     "execution_count": 2,
     "metadata": {},
     "output_type": "execute_result"
    }
   ],
   "source": [
    "# Brute Force Appraoch - Linear Search\n",
    "# Time Complexity - O(N)\n",
    "# Space Complexity - O(1)\n",
    "\n",
    "def floorSqrt(n):\n",
    "    \n",
    "    for i in range(1, n+1):\n",
    "        if i*i <= n:\n",
    "            floor = i\n",
    "        else:\n",
    "            break\n",
    "    return floor \n",
    "    \n",
    "n = 5\n",
    "floorSqrt(n)"
   ]
  },
  {
   "cell_type": "code",
   "execution_count": 6,
   "id": "0e90e3c4",
   "metadata": {},
   "outputs": [
    {
     "data": {
      "text/plain": [
       "3"
      ]
     },
     "execution_count": 6,
     "metadata": {},
     "output_type": "execute_result"
    }
   ],
   "source": [
    "# Optimal Appraoch - Binary Search\n",
    "# Time Complexity - O(LogN)\n",
    "# Space Complexity - O(1)\n",
    "\n",
    "def floorSqrt(n):\n",
    "    \n",
    "    low = 1\n",
    "    high = n\n",
    "    \n",
    "    while low <= high:\n",
    "        mid = low + (high-low)//2\n",
    "        \n",
    "        if (mid*mid) <= n:\n",
    "            floorSqrt = mid\n",
    "            low = mid + 1\n",
    "        elif (mid*mid) > n:\n",
    "            high = mid - 1\n",
    "            \n",
    "    return floorSqrt\n",
    "\n",
    "n = 5\n",
    "n = 9\n",
    "n = 11\n",
    "floorSqrt(n)"
   ]
  },
  {
   "cell_type": "code",
   "execution_count": null,
   "id": "ea3306f6",
   "metadata": {},
   "outputs": [],
   "source": []
  },
  {
   "cell_type": "markdown",
   "id": "715dffac",
   "metadata": {},
   "source": [
    "# Find the Nth root of a number"
   ]
  },
  {
   "cell_type": "code",
   "execution_count": 8,
   "id": "87dca2b2",
   "metadata": {},
   "outputs": [
    {
     "data": {
      "text/plain": [
       "-1"
      ]
     },
     "execution_count": 8,
     "metadata": {},
     "output_type": "execute_result"
    }
   ],
   "source": [
    "# Brute Force Appraoch - Linear search\n",
    "# Time Complexity : O(M*N)\n",
    "# Space Complexity : O(1)\n",
    "\n",
    "def nRootM(n, m):\n",
    "    for i in range(1, m+1):\n",
    "        if i**n == m:\n",
    "            return i\n",
    "        if i**n > m:\n",
    "            return -1\n",
    "\n",
    "# nth root of m\n",
    "n, m = 3, 27\n",
    "n,m = 4, 9\n",
    "nRootM(n, m)"
   ]
  },
  {
   "cell_type": "code",
   "execution_count": 9,
   "id": "baf41fa6",
   "metadata": {},
   "outputs": [
    {
     "data": {
      "text/plain": [
       "3"
      ]
     },
     "execution_count": 9,
     "metadata": {},
     "output_type": "execute_result"
    }
   ],
   "source": [
    "# Optimal Appraoch - Binary Search\n",
    "# Time Complexity : O(N*LogM)\n",
    "# Space Complexity : O(1)\n",
    "\n",
    "def NthRoot(n, m):\n",
    "    low = 1\n",
    "    high = m\n",
    "    \n",
    "    while low <= high:\n",
    "        mid = low + (high-low)//2    \n",
    "        if (mid**n) == m:\n",
    "            return mid\n",
    "        if (mid**n) < m:\n",
    "            low = mid + 1\n",
    "        elif (mid**n) > m:\n",
    "            high = mid - 1    \n",
    "            \n",
    "    return -1\n",
    "\n",
    "n, m = 3, 27\n",
    "NthRoot(3, 27)"
   ]
  },
  {
   "cell_type": "code",
   "execution_count": null,
   "id": "bd1b305f",
   "metadata": {},
   "outputs": [],
   "source": []
  },
  {
   "cell_type": "markdown",
   "id": "d016e4a0",
   "metadata": {},
   "source": [
    "# Koko Eating Bananas"
   ]
  },
  {
   "cell_type": "code",
   "execution_count": 5,
   "id": "ae0a2289",
   "metadata": {},
   "outputs": [
    {
     "data": {
      "text/plain": [
       "30"
      ]
     },
     "execution_count": 5,
     "metadata": {},
     "output_type": "execute_result"
    }
   ],
   "source": [
    "# Brute Force : Iterating al possibilities\n",
    "# Time complexity : O(max(arr) x N)\n",
    "# Space Complexity : O(1)\n",
    "\n",
    "import math\n",
    "def minEatingSpeed(piles, time):\n",
    "    n = len(piles)\n",
    "    _max = max(piles)\n",
    "    for i in range(1, _max+1):\n",
    "        reqTime = 0\n",
    "        for j in range(n):\n",
    "            reqTime += math.ceil(piles[j]/i)\n",
    "        if reqTime <= time:\n",
    "            return i\n",
    "\n",
    "piles = [30, 11, 23, 4, 20]\n",
    "time = 5\n",
    "minEatingSpeed(piles, time)"
   ]
  },
  {
   "cell_type": "code",
   "execution_count": 1,
   "id": "1d68c399",
   "metadata": {},
   "outputs": [
    {
     "data": {
      "text/plain": [
       "23"
      ]
     },
     "execution_count": 1,
     "metadata": {},
     "output_type": "execute_result"
    }
   ],
   "source": [
    "# Optimal Appraoch : Binary Search\n",
    "# Time Complexity : O(NLog(max(arr)))\n",
    "# Space Complexity : O(1)\n",
    "\n",
    "import math\n",
    "\n",
    "def totalTime(piles, per):\n",
    "    totalTime = 0\n",
    "    for i in range(len(piles)):\n",
    "        totalTime += math.ceil(piles[i]/per)\n",
    "    return totalTime\n",
    "\n",
    "def minEatingSpeed(piles, time):\n",
    "    n = len(piles)\n",
    "    _max = max(piles)\n",
    "    \n",
    "    low = 1\n",
    "    high = _max\n",
    "    res = 0\n",
    "    while low <= high:\n",
    "        mid = low + (high-low)//2\n",
    "        timeReq = totalTime(piles, mid)\n",
    "        if timeReq <= time:\n",
    "            res = mid\n",
    "            high = mid - 1\n",
    "        else:\n",
    "            low = mid + 1\n",
    "    return res\n",
    "\n",
    "piles = [30, 11, 23, 4, 20]\n",
    "time = 5\n",
    "piles = [30,11,23,4,20]\n",
    "time = 6\n",
    "minEatingSpeed(piles, time)"
   ]
  },
  {
   "cell_type": "code",
   "execution_count": null,
   "id": "4bc8fd9a",
   "metadata": {},
   "outputs": [],
   "source": []
  },
  {
   "cell_type": "markdown",
   "id": "20959f93",
   "metadata": {},
   "source": [
    "# Min days to make M bouquets"
   ]
  },
  {
   "cell_type": "code",
   "execution_count": 3,
   "id": "b4fa5df7",
   "metadata": {},
   "outputs": [
    {
     "data": {
      "text/plain": [
       "3"
      ]
     },
     "execution_count": 3,
     "metadata": {},
     "output_type": "execute_result"
    }
   ],
   "source": [
    "# Brute Force Appraoch - Iterate all possibilities\n",
    "# Time Complexity : O((max(arr)-min(arr))xN)\n",
    "# Space Complexity\n",
    "\n",
    "def isPossible(bloomDay, day, m, k):\n",
    "    n = len(bloomDay)\n",
    "    count = 0\n",
    "    bouqet = 0\n",
    "    for i in range(n):\n",
    "        if bloomDay[i] <= day:\n",
    "            count += 1\n",
    "        else:\n",
    "            bouqet += (count//k)\n",
    "            count = 0\n",
    "            \n",
    "    bouqet += (count//k)\n",
    "    if bouqet >= m:\n",
    "        return True\n",
    "    return False\n",
    "            \n",
    "\n",
    "def minDays(bloomDay, m, k):\n",
    "    n = len(bloomDay)\n",
    "    low, high = min(bloomDay), max(bloomDay)\n",
    "    \n",
    "    for i in range(low, high+1):\n",
    "        if isPossible(bloomDay, i, m, k):\n",
    "            return i\n",
    "        \n",
    "    return -1\n",
    "    \n",
    "\n",
    "bloomDay = [7, 7, 7, 7, 13, 11, 12, 7]\n",
    "# No of bouquets\n",
    "m = 2\n",
    "# Adjacent flowers required\n",
    "k = 3\n",
    "bloomDay = [1,10,3,10,2]\n",
    "m = 3\n",
    "k = 1\n",
    "minDays(bloomDay, m, k)"
   ]
  },
  {
   "cell_type": "code",
   "execution_count": 5,
   "id": "d7321ce0",
   "metadata": {},
   "outputs": [
    {
     "data": {
      "text/plain": [
       "12"
      ]
     },
     "execution_count": 5,
     "metadata": {},
     "output_type": "execute_result"
    }
   ],
   "source": [
    "# Optimal Appraoch - Binary Search\n",
    "# Time Complexity : O(NxLog(max(arr)-min(arr)))\n",
    "# Space Complexity\n",
    "\n",
    "def isPossible(bloomDay, day, m, k):\n",
    "    n = len(bloomDay)\n",
    "    count = 0\n",
    "    bouqet = 0\n",
    "    for i in range(n):\n",
    "        if bloomDay[i] <= day:\n",
    "            count += 1\n",
    "        else:\n",
    "            bouqet += (count//k)\n",
    "            count = 0\n",
    "            \n",
    "    bouqet += (count//k)\n",
    "    if bouqet >= m:\n",
    "        return True\n",
    "    return False\n",
    "            \n",
    "\n",
    "def minDays(bloomDay, m, k):\n",
    "    n = len(bloomDay)\n",
    "    \n",
    "    res = -1\n",
    "    low, high = min(bloomDay), max(bloomDay)\n",
    "    while low <= high:\n",
    "        mid = low + (high-low)//2\n",
    "        if isPossible(bloomDay, mid, m, k):\n",
    "            res = mid\n",
    "            high = mid - 1\n",
    "        else:\n",
    "            low = mid + 1\n",
    "        \n",
    "    return res\n",
    "    \n",
    "\n",
    "bloomDay = [7, 7, 7, 7, 13, 11, 12, 7]\n",
    "# No of bouquets\n",
    "m = 2\n",
    "# Adjacent flowers required\n",
    "k = 3\n",
    "bloomDay = [1,10,3,10,2]\n",
    "m = 3\n",
    "k = 1\n",
    "minDays(bloomDay, m, k)"
   ]
  },
  {
   "cell_type": "code",
   "execution_count": null,
   "id": "aa8a19fc",
   "metadata": {},
   "outputs": [],
   "source": []
  },
  {
   "cell_type": "markdown",
   "id": "84af70c0",
   "metadata": {},
   "source": [
    "# Find the smallest Divisor giveb a threshold"
   ]
  },
  {
   "cell_type": "code",
   "execution_count": 7,
   "id": "a22c8b87",
   "metadata": {},
   "outputs": [
    {
     "data": {
      "text/plain": [
       "5"
      ]
     },
     "execution_count": 7,
     "metadata": {},
     "output_type": "execute_result"
    }
   ],
   "source": [
    "# BruteForce Appraoch \n",
    "# Time Compexity : O(max(arr)xN)\n",
    "# Space Complexity : O(1)\n",
    "\n",
    "import math\n",
    "\n",
    "def smallestDivisor(arr, threshold):\n",
    "    n = len(arr)\n",
    "    \n",
    "    for d in range(1, max(arr)):\n",
    "        sum = 0\n",
    "        for i in range(n):\n",
    "            sum += math.ceil(arr[i]/d)\n",
    "        if sum <= threshold:\n",
    "            return d\n",
    "        \n",
    "    return -1\n",
    "\n",
    "arr = [1, 2, 5, 9]\n",
    "threshold = 6\n",
    "smallestDivisor(arr, threshold)"
   ]
  },
  {
   "cell_type": "code",
   "execution_count": 9,
   "id": "eabbff06",
   "metadata": {},
   "outputs": [
    {
     "data": {
      "text/plain": [
       "5"
      ]
     },
     "execution_count": 9,
     "metadata": {},
     "output_type": "execute_result"
    }
   ],
   "source": [
    "# Optimal Appraoch : Binary Search\n",
    "# Time Complexity : O(Log(max(arr) x N))\n",
    "# Space Complexity : O(1)\n",
    "\n",
    "import math\n",
    "\n",
    "def divSum(arr, div):\n",
    "    n = len(arr)\n",
    "    sum = 0\n",
    "    for i in range(n):\n",
    "        sum += math.ceil(arr[i]/div)\n",
    "    return sum\n",
    "\n",
    "def smallestDivisor(arr, threshold):\n",
    "    n = len(arr)\n",
    "    \n",
    "    low = 1\n",
    "    high = max(arr)\n",
    "    res = high\n",
    "    while low <= high:\n",
    "        mid = low + (high-low)//2\n",
    "        if divSum(arr, mid) <= threshold:\n",
    "            res = mid\n",
    "            high = mid - 1\n",
    "        else:\n",
    "            low = mid + 1\n",
    "    return res     \n",
    "\n",
    "arr = [1, 2, 5, 9]\n",
    "threshold = 6\n",
    "smallestDivisor(arr, threshold)"
   ]
  },
  {
   "cell_type": "code",
   "execution_count": null,
   "id": "15de9205",
   "metadata": {},
   "outputs": [],
   "source": []
  },
  {
   "cell_type": "markdown",
   "id": "13ca06cb",
   "metadata": {},
   "source": [
    "# Least Capacity to ship packages within D days"
   ]
  },
  {
   "cell_type": "code",
   "execution_count": 2,
   "id": "b4132ac7",
   "metadata": {},
   "outputs": [
    {
     "data": {
      "text/plain": [
       "15"
      ]
     },
     "execution_count": 2,
     "metadata": {},
     "output_type": "execute_result"
    }
   ],
   "source": [
    "# Brute Force Approach \n",
    "# Time Complexity : O(sum-max+1)xO(N)\n",
    "\n",
    "def DaysRequired(weights, capacity):\n",
    "    n = len(weights)\n",
    "    days = 1\n",
    "    load = 0\n",
    "    for i in range(n):\n",
    "        if (load+weights[i]>capacity):\n",
    "            days += 1\n",
    "            load = weights[i]\n",
    "        else:\n",
    "            load += weights[i]\n",
    "    return days\n",
    "    \n",
    "\n",
    "def shipCapacity(weights, days):\n",
    "    n = len(weights)\n",
    "    low = max(weights)\n",
    "    high = sum(weights)\n",
    "    for i in range(low, high+1):\n",
    "        daysReq = DaysRequired(weights, i)\n",
    "        if daysReq <= days:\n",
    "            return i\n",
    "    \n",
    "weights = [1, 2, 3, 4, 5, 6, 7, 8, 9, 10]\n",
    "days = 5\n",
    "shipCapacity(weights, days)"
   ]
  },
  {
   "cell_type": "code",
   "execution_count": 3,
   "id": "0782a686",
   "metadata": {},
   "outputs": [
    {
     "data": {
      "text/plain": [
       "15"
      ]
     },
     "execution_count": 3,
     "metadata": {},
     "output_type": "execute_result"
    }
   ],
   "source": [
    "# Optimal Approach : Binary Search\n",
    "# Time Complexity : O(sum-max+1)xO(LogN)\n",
    "# Space Complexity : O(1)\n",
    "\n",
    "\n",
    "def DaysRequired(weights, capacity):\n",
    "    n = len(weights)\n",
    "    days = 1\n",
    "    load = 0\n",
    "    for i in range(n):\n",
    "        if (load+weights[i]>capacity):\n",
    "            days += 1\n",
    "            load = weights[i]\n",
    "        else:\n",
    "            load += weights[i]\n",
    "    return days\n",
    "    \n",
    "\n",
    "def shipCapacity(weights, days):\n",
    "    n = len(weights)\n",
    "    low = max(weights)\n",
    "    high = sum(weights)\n",
    "    res = low\n",
    "    \n",
    "    while low <= high:\n",
    "        mid = low + (high-low)//2\n",
    "        reqDays = DaysRequired(weights, mid)\n",
    "        if reqDays <= days:\n",
    "            res = mid\n",
    "            high = mid - 1\n",
    "        elif reqDays > days:\n",
    "            low = mid + 1\n",
    "    return res\n",
    "    \n",
    "weights = [1, 2, 3, 4, 5, 6, 7, 8, 9, 10]\n",
    "days = 5\n",
    "shipCapacity(weights, days)"
   ]
  },
  {
   "cell_type": "code",
   "execution_count": null,
   "id": "a7e25692",
   "metadata": {},
   "outputs": [],
   "source": []
  },
  {
   "cell_type": "markdown",
   "id": "74b1e2e2",
   "metadata": {},
   "source": [
    "# Kth Missing Positive Number"
   ]
  },
  {
   "cell_type": "code",
   "execution_count": 4,
   "id": "ad32b70e",
   "metadata": {},
   "outputs": [
    {
     "data": {
      "text/plain": [
       "9"
      ]
     },
     "execution_count": 4,
     "metadata": {},
     "output_type": "execute_result"
    }
   ],
   "source": [
    "# Brute Force Approach\n",
    "# Time Complexity : O(n)\n",
    "# Space Complexity : O(1)\n",
    "\n",
    "def findKth(arr, k):\n",
    "    n = len(arr)\n",
    "    \n",
    "    for i in range(n):\n",
    "        if arr[i] <= k:\n",
    "            k+=1\n",
    "        else:\n",
    "            break\n",
    "    return k\n",
    "\n",
    "arr = [2, 3, 4, 7, 11]\n",
    "k = 5\n",
    "findKth(arr, k)"
   ]
  },
  {
   "cell_type": "code",
   "execution_count": 1,
   "id": "3940cfa6",
   "metadata": {},
   "outputs": [
    {
     "data": {
      "text/plain": [
       "9"
      ]
     },
     "execution_count": 1,
     "metadata": {},
     "output_type": "execute_result"
    }
   ],
   "source": [
    "# Optimal Approach : Binary Search\n",
    "# Time Complexity : O(LogN)\n",
    "# Space Complexity : O(1)\n",
    "\n",
    "def findKth(arr, k):\n",
    "    n = len(arr)\n",
    "    \n",
    "    low = 0\n",
    "    high = n-1\n",
    "    while low <= high:\n",
    "        mid = low +(high-low)//2\n",
    "        missing = arr[mid] - (mid+1)\n",
    "        if missing < k:\n",
    "            low = mid + 1\n",
    "        else:\n",
    "            high = mid - 1\n",
    "    return high+1+k\n",
    "\n",
    "arr = [2, 3, 4, 7, 11]\n",
    "k = 5\n",
    "findKth(arr, k)"
   ]
  },
  {
   "cell_type": "code",
   "execution_count": null,
   "id": "c073f158",
   "metadata": {},
   "outputs": [],
   "source": []
  },
  {
   "cell_type": "markdown",
   "id": "659f47d5",
   "metadata": {},
   "source": [
    "# Aggressive Cows - (min distanace b/w cows) is max"
   ]
  },
  {
   "cell_type": "code",
   "execution_count": 24,
   "id": "1513462c",
   "metadata": {},
   "outputs": [
    {
     "data": {
      "text/plain": [
       "3"
      ]
     },
     "execution_count": 24,
     "metadata": {},
     "output_type": "execute_result"
    }
   ],
   "source": [
    "# Brute Force Approach \n",
    "# Time Complexity : O(N^2)\n",
    "# Space Complexity : O(1)\n",
    "\n",
    "def cowsPossible(stalls, k, distance):\n",
    "    n = len(stalls)\n",
    "    cows = 1\n",
    "    i = 0\n",
    "    j = 0\n",
    "    while j < n:\n",
    "        if (stalls[j]-stalls[i]) < distance:\n",
    "            j += 1\n",
    "        elif (stalls[j]-stalls[i]) >= distance:\n",
    "            i = j\n",
    "            j += 1\n",
    "            cows += 1\n",
    "        if cows == k:\n",
    "            return True\n",
    "    return False\n",
    "    \n",
    "\n",
    "def aggressiveCows(stalls, k):\n",
    "    n = len(stalls)\n",
    "    stalls.sort()\n",
    "    for i in range(1, max(stalls)-min(stalls)+1):\n",
    "        if cowsPossible(stalls, k, i) != True:\n",
    "            return i-1\n",
    "\n",
    "\n",
    "stalls = [10, 1, 2, 7, 5]\n",
    "stalls = [1, 2, 4, 8, 9]\n",
    "k = 3\n",
    "aggressiveCows(stalls, k)"
   ]
  },
  {
   "cell_type": "code",
   "execution_count": 28,
   "id": "67375728",
   "metadata": {},
   "outputs": [
    {
     "data": {
      "text/plain": [
       "4"
      ]
     },
     "execution_count": 28,
     "metadata": {},
     "output_type": "execute_result"
    }
   ],
   "source": [
    "# Optimal Approach : Binary Search\n",
    "# Time Complexity : O(LogN x N)\n",
    "# Space Complexity : O(1)\n",
    "\n",
    "def cowsPossible(stalls, k, distance):\n",
    "    n = len(stalls)\n",
    "    cows = 1\n",
    "    last = stalls[0]\n",
    "    \n",
    "    for j in range(1, n):\n",
    "        if stalls[j]-last >= distance:\n",
    "            cows += 1\n",
    "            last = stalls[j]\n",
    "            \n",
    "    if cows >= k:\n",
    "        return True\n",
    "    return False\n",
    "    \n",
    "\n",
    "def aggressiveCows(stalls, k):\n",
    "    n = len(stalls)\n",
    "    stalls.sort()\n",
    "    res = -1\n",
    "    low = 1\n",
    "    high = max(stalls)-min(stalls)\n",
    "    while low <= high:\n",
    "        mid = low + (high-low)//2\n",
    "        if cowsPossible(stalls, k, mid) == True:\n",
    "            res = mid\n",
    "            low = mid + 1\n",
    "        else:\n",
    "            high = mid - 1\n",
    "    return res\n",
    "\n",
    "\n",
    "stalls = [10, 1, 2, 7, 5]\n",
    "# stalls = [1, 2, 4, 8, 9]\n",
    "k = 3\n",
    "aggressiveCows(stalls, k)"
   ]
  },
  {
   "cell_type": "code",
   "execution_count": null,
   "id": "a31d1439",
   "metadata": {},
   "outputs": [],
   "source": []
  },
  {
   "cell_type": "markdown",
   "id": "82d026b3",
   "metadata": {},
   "source": [
    "# Book Allocation Problem / Split Array - Largest Sum / Painters's Partition"
   ]
  },
  {
   "cell_type": "code",
   "execution_count": 18,
   "id": "68445ee4",
   "metadata": {},
   "outputs": [
    {
     "data": {
      "text/plain": [
       "3"
      ]
     },
     "execution_count": 18,
     "metadata": {},
     "output_type": "execute_result"
    }
   ],
   "source": [
    "# Brute Force Appraoch : Linear Search\n",
    "# Time Complexity : O(sum(arr)-max(arr)) x O(N)\n",
    "# Space Complexity : O(1)\n",
    "\n",
    "\n",
    "def splitPossible(pages, k, maxCapacity):\n",
    "    n = len(pages)\n",
    "    count = 1\n",
    "    sum = 0\n",
    "    for i in range(n):\n",
    "        if sum + pages[i] > maxCapacity:\n",
    "            sum = pages[i]\n",
    "            count += 1\n",
    "        else:\n",
    "            sum += pages[i]\n",
    "    return count\n",
    "\n",
    "def splitArray(pages, k):\n",
    "    n = len(pages)\n",
    "    \n",
    "    for i in range(max(pages), sum(pages)+1):\n",
    "        if splitPossible(pages, k, i) <= k:\n",
    "            return i\n",
    "        print(i, splitPossible(pages, k, i))\n",
    "\n",
    "pages = [7,2,5,10,8]\n",
    "pages = [1,2,3,4,5]\n",
    "k = 2\n",
    "pages = [2,3,1,1,1,1,1]\n",
    "k = 5 \n",
    "splitArray(pages, k)"
   ]
  },
  {
   "cell_type": "code",
   "execution_count": 20,
   "id": "9dd61a46",
   "metadata": {},
   "outputs": [
    {
     "data": {
      "text/plain": [
       "3"
      ]
     },
     "execution_count": 20,
     "metadata": {},
     "output_type": "execute_result"
    }
   ],
   "source": [
    "# Optimal Appraoch : Binary Search\n",
    "# Time Complexity : O(Log(sum(arr)-max(arr))) x O(N)\n",
    "# Space Complexity : O(1)\n",
    "\n",
    "def splitPossible(pages, k, maxCapacity):\n",
    "    n = len(pages)\n",
    "    count = 1\n",
    "    sum = 0\n",
    "    for i in range(n):\n",
    "        if sum + pages[i] > maxCapacity:\n",
    "            sum = pages[i]\n",
    "            count += 1\n",
    "        else:\n",
    "            sum += pages[i]\n",
    "    return count\n",
    "\n",
    "def splitArray(pages, k):\n",
    "    n = len(pages)\n",
    "    if k > n:\n",
    "        return -1\n",
    "    \n",
    "    low = max(pages)\n",
    "    high = sum(pages)\n",
    "    res = max(pages)\n",
    "    \n",
    "    while low <= high:\n",
    "        mid = low + (high-low)//2\n",
    "        if splitPossible(pages, k, mid) <= k:\n",
    "            res = mid\n",
    "            high = mid - 1\n",
    "        else:\n",
    "            low = mid + 1\n",
    "    return res\n",
    "\n",
    "pages = [7,2,5,10,8]\n",
    "pages = [1,2,3,4,5]\n",
    "k = 2\n",
    "pages = [2,3,1,1,1,1,1]\n",
    "k = 5 \n",
    "splitArray(pages, k)"
   ]
  },
  {
   "cell_type": "code",
   "execution_count": null,
   "id": "fa0868f3",
   "metadata": {},
   "outputs": [],
   "source": []
  },
  {
   "cell_type": "markdown",
   "id": "65313f95",
   "metadata": {},
   "source": [
    "# Minimize Max Distance to Gas Station"
   ]
  },
  {
   "cell_type": "code",
   "execution_count": 12,
   "id": "f27fadd6",
   "metadata": {},
   "outputs": [
    {
     "data": {
      "text/plain": [
       "3.0"
      ]
     },
     "execution_count": 12,
     "metadata": {},
     "output_type": "execute_result"
    }
   ],
   "source": [
    "# Better Approach : Using Hash\n",
    "# Time Complexity : O(K x N)\n",
    "# Space Complexity : O(N-1)\n",
    "\n",
    "def smallestMaxDist(stations, k):\n",
    "    n = len(stations)\n",
    "    _hash = [0]*(n-1)\n",
    "    \n",
    "    for i in range(1, k+1):\n",
    "        _max = -1\n",
    "        index = -1\n",
    "        for i in range(n-1):\n",
    "            dist = stations[i+1]-stations[i]\n",
    "            sectionLength = dist/(_hash[i]+1)\n",
    "            if _max < sectionLength:\n",
    "                _max = sectionLength\n",
    "                index = i\n",
    "            \n",
    "        _hash[index] += 1\n",
    "    res = -1\n",
    "    for i in range(n-1):\n",
    "        sectionLength = (stations[i+1]-stations[i])/(_hash[i]+1)\n",
    "        if sectionLength > res:\n",
    "            res = sectionLength\n",
    "    return res\n",
    "    \n",
    "stations = [3,6,12,19,33,44,67,72,89,95] \n",
    "k = 2 \n",
    "stations = [1, 2, 3, 4, 5, 6, 7, 8, 9, 10]\n",
    "k = 9\n",
    "stations = [1, 13, 17, 23]\n",
    "k = 5\n",
    "smallestMaxDist(stations, k)"
   ]
  },
  {
   "cell_type": "code",
   "execution_count": 22,
   "id": "dc1257a6",
   "metadata": {},
   "outputs": [
    {
     "data": {
      "text/plain": [
       "14.000000089406967"
      ]
     },
     "execution_count": 22,
     "metadata": {},
     "output_type": "execute_result"
    }
   ],
   "source": [
    "# Optimal Approach : Using Binary Search\n",
    "# Time Complexity : O(N) + O(NLogN)\n",
    "# Space Complexity : O(1)\n",
    "\n",
    "def num_of_gasStations(stations, distance):\n",
    "    count = 0\n",
    "    n = len(stations)\n",
    "    for i in range(1, n):\n",
    "        number = (stations[i]-stations[i-1])//distance\n",
    "        if(stations[i-1] + (number*distance)) == stations[i]:\n",
    "            number -= 1\n",
    "        count += number\n",
    "    return count\n",
    "        \n",
    "\n",
    "def smallestMaxDist(stations, k):\n",
    "    n = len(stations)\n",
    "    \n",
    "    low = 0\n",
    "    high = 0\n",
    "    for i in range(n-1):\n",
    "        high = max(high, (stations[i+1]- stations[i]))\n",
    "    \n",
    "    diff = 1e-6\n",
    "    res = -1\n",
    "    while high-low > diff:\n",
    "        mid = (low+high)/2.0\n",
    "        count = num_of_gasStations(stations, mid)\n",
    "        if count > k:\n",
    "            low = mid\n",
    "        else:\n",
    "            res = mid\n",
    "            high = mid\n",
    "    return res\n",
    "\n",
    "stations = [1, 13, 17, 23]\n",
    "k = 5\n",
    "stations = [1, 2, 3, 4, 5, 6, 7, 8, 9, 10]\n",
    "k = 9\n",
    "stations = [3,6,12,19,33,44,67,72,89,95] \n",
    "k = 2 \n",
    "smallestMaxDist(stations, k)"
   ]
  },
  {
   "cell_type": "code",
   "execution_count": null,
   "id": "8617b227",
   "metadata": {},
   "outputs": [],
   "source": []
  },
  {
   "cell_type": "markdown",
   "id": "ec073c60",
   "metadata": {},
   "source": [
    "# Median of 2 sorted Arrays"
   ]
  },
  {
   "cell_type": "code",
   "execution_count": null,
   "id": "092a1a9b",
   "metadata": {},
   "outputs": [],
   "source": [
    "# Better Approach : Using merging\n",
    "# Time Complexity : O(N+M)\n",
    "# Space Complexity : O(N+M)"
   ]
  },
  {
   "cell_type": "code",
   "execution_count": 27,
   "id": "ca10cedf",
   "metadata": {},
   "outputs": [
    {
     "data": {
      "text/plain": [
       "2"
      ]
     },
     "execution_count": 27,
     "metadata": {},
     "output_type": "execute_result"
    }
   ],
   "source": [
    "# Optimal Approach : \n",
    "# Time Complexity : O(log(N)+log(M))\n",
    "# Space Complexity : O(1)\n",
    "\n",
    "def median(arr1, arr2):\n",
    "    n = len(arr1)\n",
    "    m = len(arr2)\n",
    "    l = n + m\n",
    "    \n",
    "    i = 0\n",
    "    j = 0\n",
    "    arr = []\n",
    "    index2 = l//2\n",
    "    index1 = index2-1\n",
    "    element1, element2 = -1, -1\n",
    "    count = 0\n",
    "    while i < n and j < m:\n",
    "        if arr1[i] < arr2[j]:\n",
    "            if count == index1:\n",
    "                element1 = arr1[i]\n",
    "            if count == index2:\n",
    "                element2 = arr1[i]\n",
    "            count += 1\n",
    "            i += 1\n",
    "        elif arr1[i] > arr2[j]:\n",
    "            if count == index1:\n",
    "                element1 = arr2[j]\n",
    "            if count == index2:\n",
    "                element2 = arr2[j]\n",
    "            count += 1\n",
    "            j += 1\n",
    "        else:\n",
    "            arr.append(arr1[i])\n",
    "            i += 1\n",
    "            j += 1\n",
    "   \n",
    "    while i < n:\n",
    "        if count == index1:\n",
    "                element1 = arr1[i]\n",
    "        if count == index2:\n",
    "            element2 = arr1[i]\n",
    "        i += 1\n",
    "    while j < m:\n",
    "        if count == index1:\n",
    "                element1 = arr2[j]\n",
    "        if count == index2:\n",
    "            element2 = arr2[j]\n",
    "        j += 1\n",
    "        \n",
    "    if (l)%2 == 0:\n",
    "        return (element1+element2)/2\n",
    "    else:\n",
    "        return (element2)\n",
    "      \n",
    "arr1 = [1, 3, 4, 7, 10, 12]\n",
    "arr2 = [2, 3, 6, 15]\n",
    "arr1 = [1,3]\n",
    "arr2 = [2]\n",
    "median(arr1, arr2)"
   ]
  },
  {
   "cell_type": "code",
   "execution_count": null,
   "id": "38cb81ee",
   "metadata": {},
   "outputs": [],
   "source": []
  },
  {
   "cell_type": "markdown",
   "id": "14ccd42e",
   "metadata": {},
   "source": [
    "# Kth element of 2 sorted arrays"
   ]
  },
  {
   "cell_type": "code",
   "execution_count": 28,
   "id": "9a52723c",
   "metadata": {},
   "outputs": [
    {
     "data": {
      "text/plain": [
       "6"
      ]
     },
     "execution_count": 28,
     "metadata": {},
     "output_type": "execute_result"
    }
   ],
   "source": [
    "# Optimal Approach : Using Merge\n",
    "# Time Complexity : O(Log(N)+Log(M))\n",
    "# Space Complexity : O(1)\n",
    "\n",
    "def kthElement(arr1, arr2,k):\n",
    "        \n",
    "    n = len(arr1)\n",
    "    m = len(arr2)\n",
    "    count = 0\n",
    "    i = 0\n",
    "    j = 0\n",
    "    while i < n and j < m:\n",
    "        if arr1[i] < arr2[j]:\n",
    "            count += 1\n",
    "            if count == k :\n",
    "                return arr1[i]\n",
    "            i += 1\n",
    "        else:\n",
    "            count += 1\n",
    "            if count == k:\n",
    "                return arr2[j]\n",
    "            j += 1\n",
    "    while i < n:\n",
    "        count += 1\n",
    "        if count == k:\n",
    "            return arr1[i]\n",
    "        i += 1\n",
    "    while j < m:\n",
    "        count += 1\n",
    "        if count == k:\n",
    "            return arr2[j]\n",
    "        j += 1\n",
    "    return -1\n",
    "\n",
    "arr1 = [2, 3, 6, 7, 9]\n",
    "arr2 = [1, 4, 8, 10]\n",
    "k = 5\n",
    "kthElement(arr1, arr2, k)"
   ]
  },
  {
   "cell_type": "code",
   "execution_count": null,
   "id": "9dfab7d2",
   "metadata": {},
   "outputs": [],
   "source": []
  }
 ],
 "metadata": {
  "kernelspec": {
   "display_name": "Python 3 (ipykernel)",
   "language": "python",
   "name": "python3"
  },
  "language_info": {
   "codemirror_mode": {
    "name": "ipython",
    "version": 3
   },
   "file_extension": ".py",
   "mimetype": "text/x-python",
   "name": "python",
   "nbconvert_exporter": "python",
   "pygments_lexer": "ipython3",
   "version": "3.12.7"
  }
 },
 "nbformat": 4,
 "nbformat_minor": 5
}
