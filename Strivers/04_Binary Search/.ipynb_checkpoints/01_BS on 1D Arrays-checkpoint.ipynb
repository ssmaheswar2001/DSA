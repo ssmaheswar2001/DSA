{
 "cells": [
  {
   "cell_type": "markdown",
   "id": "fb18819a",
   "metadata": {},
   "source": [
    "# Binary Search to find X in Sorted Array"
   ]
  },
  {
   "cell_type": "code",
   "execution_count": 7,
   "id": "c2e1941a",
   "metadata": {},
   "outputs": [
    {
     "data": {
      "text/plain": [
       "-1"
      ]
     },
     "execution_count": 7,
     "metadata": {},
     "output_type": "execute_result"
    }
   ],
   "source": [
    "# Iterative Appraoch\n",
    "# Time Complexity - O(LogN)\n",
    "# Space Complexity - O(1)\n",
    "\n",
    "def binarySearch(arr, target, low, high):\n",
    "    \n",
    "    while low<=high:\n",
    "        mid = low + (high-low)//2\n",
    "        if arr[mid] == target:\n",
    "            return mid\n",
    "        elif arr[mid] < target:\n",
    "            low = mid + 1\n",
    "        else:\n",
    "            high = mid - 1\n",
    "    return -1\n",
    "            \n",
    "arr = [3, 4, 6, 7, 9, 12, 16, 17]\n",
    "target = 3\n",
    "target = 2\n",
    "binarySearch(arr, target, 0, len(arr)-1)"
   ]
  },
  {
   "cell_type": "code",
   "execution_count": 1,
   "id": "1f618145",
   "metadata": {},
   "outputs": [
    {
     "data": {
      "text/plain": [
       "6"
      ]
     },
     "execution_count": 1,
     "metadata": {},
     "output_type": "execute_result"
    }
   ],
   "source": [
    "# Recursive Appraoch\n",
    "# Time Complexity - O(LogN)\n",
    "# Space Complexity - O(1)\n",
    "\n",
    "def binarySearch(arr, target, low, high):\n",
    "    if low > high:\n",
    "        return -1\n",
    "    mid = low + (high-low)//2\n",
    "    if arr[mid] == target:\n",
    "        return mid\n",
    "    elif arr[mid] < target:\n",
    "        return binarySearch(arr, target, mid+1, high)\n",
    "    else:\n",
    "        return binarySearch(arr, target, low, mid-1)\n",
    "\n",
    "arr = [3, 4, 6, 7, 9, 12, 16, 17]\n",
    "target = 16\n",
    "# target = 2\n",
    "binarySearch(arr, target, 0, len(arr)-1)"
   ]
  },
  {
   "cell_type": "code",
   "execution_count": null,
   "id": "e8851771",
   "metadata": {},
   "outputs": [],
   "source": []
  },
  {
   "cell_type": "markdown",
   "id": "31e16502",
   "metadata": {},
   "source": [
    "# Implement Lower Bound / Ceil"
   ]
  },
  {
   "cell_type": "code",
   "execution_count": 12,
   "id": "c017edcc",
   "metadata": {},
   "outputs": [
    {
     "data": {
      "text/plain": [
       "3"
      ]
     },
     "execution_count": 12,
     "metadata": {},
     "output_type": "execute_result"
    }
   ],
   "source": [
    "# Time Complexity : O(LogN)\n",
    "# Space Complexity : O(1)\n",
    "\n",
    "def ceilElemnt(arr, target):\n",
    "    low = 0\n",
    "    high = len(arr)-1\n",
    "    ceil = len(arr)\n",
    "    \n",
    "    while low <= high:\n",
    "        mid = low + (high-low)//2\n",
    "        if arr[mid] >= target:\n",
    "            ceil = mid\n",
    "            high = mid -1\n",
    "        else:\n",
    "            low = mid + 1\n",
    "    return ceil\n",
    "\n",
    "arr = [1, 3, 3, 5, 8, 8, 10, 10, 11]\n",
    "target = 3\n",
    "arr = [5,7,7,8,8,10]\n",
    "target = 8\n",
    "ceilElemnt(arr, target)"
   ]
  },
  {
   "cell_type": "code",
   "execution_count": 1,
   "id": "75d19aa8",
   "metadata": {},
   "outputs": [
    {
     "data": {
      "text/plain": [
       "59049"
      ]
     },
     "execution_count": 1,
     "metadata": {},
     "output_type": "execute_result"
    }
   ],
   "source": [
    "9**5"
   ]
  },
  {
   "cell_type": "markdown",
   "id": "96e6f2fb",
   "metadata": {},
   "source": [
    "# Implement Upper Bound / Floor"
   ]
  },
  {
   "cell_type": "code",
   "execution_count": 11,
   "id": "e0487f85",
   "metadata": {},
   "outputs": [
    {
     "data": {
      "text/plain": [
       "4"
      ]
     },
     "execution_count": 11,
     "metadata": {},
     "output_type": "execute_result"
    }
   ],
   "source": [
    "# Time Complexity : O(LogN)\n",
    "# Space complexity : O(1)\n",
    "\n",
    "def floorElemnt(arr, target):\n",
    "    low = 0\n",
    "    high = len(arr)-1\n",
    "    floor = -1\n",
    "    while low <= high:\n",
    "        mid = low + (high-low)//2\n",
    "        if arr[mid] <= target:\n",
    "            floor = mid\n",
    "            low = mid + 1\n",
    "        else:\n",
    "            high = mid -1\n",
    "            \n",
    "    return floor\n",
    "            \n",
    "\n",
    "arr = [1, 3, 3, 3, 3, 3, 10, 10, 11]\n",
    "arr = [5,7,7,8,8,10]\n",
    "target = 8\n",
    "floorElemnt(arr, target)"
   ]
  },
  {
   "cell_type": "code",
   "execution_count": null,
   "id": "1f6b83a9",
   "metadata": {},
   "outputs": [],
   "source": []
  },
  {
   "cell_type": "markdown",
   "id": "db0f3157",
   "metadata": {},
   "source": [
    "# Floor & Ceil in Sorted Array"
   ]
  },
  {
   "cell_type": "code",
   "execution_count": 28,
   "id": "00997bf6",
   "metadata": {},
   "outputs": [
    {
     "data": {
      "text/plain": [
       "(0, 1)"
      ]
     },
     "execution_count": 28,
     "metadata": {},
     "output_type": "execute_result"
    }
   ],
   "source": [
    "# Time Complexity : O(LogN)\n",
    "# Space Complexity : O(1)\n",
    "\n",
    "def floorCeilElements(arr,  target):\n",
    "    n = len(arr)\n",
    "    floor = -1\n",
    "    ceil = n\n",
    "    \n",
    "    low = 0\n",
    "    high = n-1\n",
    "    while low <= high:\n",
    "        mid = low + (high-low)//2\n",
    "        if arr[mid] == target:\n",
    "            return mid, mid\n",
    "        elif arr[mid] < target:\n",
    "            floor = mid\n",
    "            low = mid + 1\n",
    "        elif arr[mid] > target:\n",
    "            ceil = mid\n",
    "            high = mid - 1\n",
    "    \n",
    "    return floor, ceil\n",
    "\n",
    "arr = [1, 23]\n",
    "target = 2\n",
    "floorCeilElements(arr, target)"
   ]
  },
  {
   "cell_type": "code",
   "execution_count": null,
   "id": "297769a5",
   "metadata": {},
   "outputs": [],
   "source": []
  },
  {
   "cell_type": "markdown",
   "id": "41c72056",
   "metadata": {},
   "source": [
    "# First and Last occurence of X."
   ]
  },
  {
   "cell_type": "code",
   "execution_count": 27,
   "id": "4973724d",
   "metadata": {},
   "outputs": [
    {
     "data": {
      "text/plain": [
       "[3, 5]"
      ]
     },
     "execution_count": 27,
     "metadata": {},
     "output_type": "execute_result"
    }
   ],
   "source": [
    "# Brute Force Appraoch - Linear search\n",
    "# Time Complexity - O(N)\n",
    "# Space Complexity - O(1)\n",
    "\n",
    "def lastFirstIndex(arr, target):\n",
    "    first = -1\n",
    "    last = -1\n",
    "    n = len(arr)\n",
    "    for i in range(n):\n",
    "        if arr[i] == target:\n",
    "            if first == -1:\n",
    "                first = i\n",
    "            last = i\n",
    "    return [first, last]\n",
    "    \n",
    "arr = [2, 4, 6, 8, 8, 8, 11, 13]\n",
    "target = 8\n",
    "lastFirstIndex(arr, target)"
   ]
  },
  {
   "cell_type": "code",
   "execution_count": 28,
   "id": "9e41ee2c",
   "metadata": {},
   "outputs": [
    {
     "data": {
      "text/plain": [
       "[-1, -1]"
      ]
     },
     "execution_count": 28,
     "metadata": {},
     "output_type": "execute_result"
    }
   ],
   "source": [
    "# Optimal Approach - Using Binary Search\n",
    "# Time Complexity - O(2LogN)\n",
    "# Space Complexity - O(1)\n",
    "\n",
    "def LastFirstIndex(arr, target):\n",
    "    \n",
    "    n = len(arr)\n",
    "    first = n\n",
    "    last = -1\n",
    "    \n",
    "    low = 0\n",
    "    high = n-1\n",
    "    while low <= high:\n",
    "        mid = low + (high-low)//2\n",
    "        if arr[mid] >= target:\n",
    "            first = mid\n",
    "            high = mid - 1\n",
    "        else:\n",
    "            low = mid + 1\n",
    "            \n",
    "    low = 0\n",
    "    high = n-1\n",
    "    while low <= high:\n",
    "        mid = low + (high-low)//2\n",
    "        if arr[mid] <= target:  \n",
    "            last = mid\n",
    "            low = mid + 1\n",
    "        else:\n",
    "            high = mid - 1\n",
    "    \n",
    "    if first == n:\n",
    "        first = -1\n",
    "    if first != -1 and arr[first] != target:\n",
    "        first = -1\n",
    "    if arr[last] != target:\n",
    "        last = -1\n",
    "    \n",
    "    return [first, last]\n",
    "\n",
    "nums = [5,7,7,8,8,10]\n",
    "nums = [5,7,7,8,8,10]\n",
    "target = 6\n",
    "LastFirstIndex(nums, target)\n"
   ]
  },
  {
   "cell_type": "code",
   "execution_count": 29,
   "id": "ef04cd33",
   "metadata": {},
   "outputs": [
    {
     "data": {
      "text/plain": [
       "[2, 4]"
      ]
     },
     "execution_count": 29,
     "metadata": {},
     "output_type": "execute_result"
    }
   ],
   "source": [
    "# Optimal Appraoch - Binary Search\n",
    "# Time Complexity - O(2LogN)\n",
    "# Space complexity - O(1)\n",
    "\n",
    "def firstLastIndex(arr, target):\n",
    "    n = len(arr)\n",
    "    \n",
    "    first = -1\n",
    "    low = 0\n",
    "    high = n-1\n",
    "    while low <= high:\n",
    "        mid = low + (high-low)//2\n",
    "        if arr[mid] == target:\n",
    "            first = mid\n",
    "            high = mid -1\n",
    "        elif arr[mid] < target:\n",
    "            low = mid + 1\n",
    "        else:\n",
    "            high = mid - 1\n",
    "            \n",
    "    last = -1\n",
    "    low = 0\n",
    "    high = n-1\n",
    "    while low <= high:\n",
    "        mid = low + (high-low)//2\n",
    "        if arr[mid] == target:\n",
    "            last = mid\n",
    "            low = mid + 1\n",
    "        elif arr[mid] < target:\n",
    "            low = mid + 1\n",
    "        else:\n",
    "            high = mid - 1\n",
    "    \n",
    "    return [first, last]\n",
    "\n",
    "nums = [5,7,8,8,8,10]\n",
    "target = 8\n",
    "firstLastIndex(nums, target)"
   ]
  },
  {
   "cell_type": "code",
   "execution_count": null,
   "id": "f9a3d268",
   "metadata": {},
   "outputs": [],
   "source": []
  },
  {
   "cell_type": "markdown",
   "id": "6644a212",
   "metadata": {},
   "source": [
    "# Count occurences of a number in a sorted array with duplicates"
   ]
  },
  {
   "cell_type": "code",
   "execution_count": 1,
   "id": "8eb3d70b",
   "metadata": {},
   "outputs": [
    {
     "data": {
      "text/plain": [
       "3"
      ]
     },
     "execution_count": 1,
     "metadata": {},
     "output_type": "execute_result"
    }
   ],
   "source": [
    "# Brute Force Appraoch - Linear search\n",
    "# Time Complexity - O(N)\n",
    "# Space Complexity - O(1)\n",
    "\n",
    "def lastFirstIndex(arr, target):\n",
    "    first = -1\n",
    "    last = -1\n",
    "    n = len(arr)\n",
    "    for i in range(n):\n",
    "        if arr[i] == target:\n",
    "            if first == -1:\n",
    "                first = i\n",
    "            last = i\n",
    "            \n",
    "    if first == -1 and last == -1:\n",
    "        return 0\n",
    "    return (last-first+1)\n",
    "    \n",
    "arr = [2, 4, 6, 8, 8, 8, 11, 13]\n",
    "target = 8\n",
    "lastFirstIndex(arr, target)"
   ]
  },
  {
   "cell_type": "code",
   "execution_count": 2,
   "id": "14e75df1",
   "metadata": {},
   "outputs": [
    {
     "data": {
      "text/plain": [
       "3"
      ]
     },
     "execution_count": 2,
     "metadata": {},
     "output_type": "execute_result"
    }
   ],
   "source": [
    "# Optimal Appraoch - Binary Search\n",
    "# Time Complexity - O(2LogN)\n",
    "# Space complexity - O(1)\n",
    "\n",
    "def firstLastIndex(arr, target):\n",
    "    n = len(arr)\n",
    "    \n",
    "    first = -1\n",
    "    low = 0\n",
    "    high = n-1\n",
    "    while low <= high:\n",
    "        mid = low + (high-low)//2\n",
    "        if arr[mid] == target:\n",
    "            first = mid\n",
    "            high = mid -1\n",
    "        elif arr[mid] < target:\n",
    "            low = mid + 1\n",
    "        else:\n",
    "            high = mid - 1\n",
    "            \n",
    "    last = -1\n",
    "    low = 0\n",
    "    high = n-1\n",
    "    while low <= high:\n",
    "        mid = low + (high-low)//2\n",
    "        if arr[mid] == target:\n",
    "            last = mid\n",
    "            low = mid + 1\n",
    "        elif arr[mid] < target:\n",
    "            low = mid + 1\n",
    "        else:\n",
    "            high = mid - 1\n",
    "    \n",
    "    if first == -1 and last == -1:\n",
    "        return 0\n",
    "    return (last-first+1)\n",
    "\n",
    "nums = [5,7,8,8,8,10]\n",
    "target = 8\n",
    "firstLastIndex(nums, target)"
   ]
  },
  {
   "cell_type": "code",
   "execution_count": null,
   "id": "26dd61fd",
   "metadata": {},
   "outputs": [],
   "source": []
  },
  {
   "cell_type": "markdown",
   "id": "03166469",
   "metadata": {},
   "source": [
    "# Search in Rotated Sorted Array with unique elements"
   ]
  },
  {
   "cell_type": "code",
   "execution_count": 21,
   "id": "19025c73",
   "metadata": {},
   "outputs": [
    {
     "data": {
      "text/plain": [
       "3"
      ]
     },
     "execution_count": 21,
     "metadata": {},
     "output_type": "execute_result"
    }
   ],
   "source": [
    "# Brute Force - Linear Search\n",
    "# Time Complexity - O(N)\n",
    "# Space Complexity - O(1)\n",
    "\n",
    "def search(arr, target):\n",
    "    n = len(arr)\n",
    "    \n",
    "    for i in range(n):\n",
    "        if arr[i] == target:\n",
    "            return i\n",
    "    return -1\n",
    "\n",
    "arr = [7, 8, 9, 1, 2, 3, 4, 5, 6]\n",
    "target = 1\n",
    "search(arr, target)"
   ]
  },
  {
   "cell_type": "code",
   "execution_count": 22,
   "id": "7729b19e",
   "metadata": {},
   "outputs": [
    {
     "data": {
      "text/plain": [
       "5"
      ]
     },
     "execution_count": 22,
     "metadata": {},
     "output_type": "execute_result"
    }
   ],
   "source": [
    "# Optimal Approach - Binary Search\n",
    "# Time Complexity - O(LogN)\n",
    "# Space Complexity - O(1)\n",
    "\n",
    "def binarySearch(arr, target):\n",
    "    n = len(arr)\n",
    "    low = 0\n",
    "    high = n-1\n",
    "    \n",
    "    while low <= high:\n",
    "        mid = low + (high-low)//2\n",
    "        if arr[mid] == target:\n",
    "            return mid\n",
    "        elif arr[low] <= arr[mid]:\n",
    "            if arr[low] <= target <= arr[mid]:\n",
    "                high = mid - 1\n",
    "            else:\n",
    "                low = mid + 1\n",
    "        \n",
    "        elif arr[high] >= arr[mid]:\n",
    "            if arr[mid] <= target <= arr[high]:\n",
    "                low = mid + 1\n",
    "            else:\n",
    "                high = mid - 1\n",
    "\n",
    "arr = [7, 8, 9, 1, 2, 3, 4, 5, 6]\n",
    "target = 5\n",
    "arr = [1, 2, 3, 4, 5, 6]\n",
    "target = 6\n",
    "search(arr, target)"
   ]
  },
  {
   "cell_type": "code",
   "execution_count": null,
   "id": "150fbd91",
   "metadata": {},
   "outputs": [],
   "source": []
  },
  {
   "cell_type": "markdown",
   "id": "3c391806",
   "metadata": {},
   "source": [
    "# Search in Rotated Sorted Array with Duplicates"
   ]
  },
  {
   "cell_type": "code",
   "execution_count": 25,
   "id": "7cf24a54",
   "metadata": {},
   "outputs": [
    {
     "data": {
      "text/plain": [
       "True"
      ]
     },
     "execution_count": 25,
     "metadata": {},
     "output_type": "execute_result"
    }
   ],
   "source": [
    "# Optimal Appraoch - Binary Search\n",
    "# Time Complexity - O(N/2)\n",
    "# Space Complexity - O(1)\n",
    "\n",
    "def binarySearch(arr, target):\n",
    "    n = len(arr)\n",
    "    low = 0\n",
    "    high = n-1\n",
    "    \n",
    "    while low <= high:\n",
    "        mid = low + (high-low)//2\n",
    "        if arr[mid] == target:\n",
    "            return True\n",
    "        if arr[low] == arr[mid] and arr[mid] == arr[high]:\n",
    "            low += 1\n",
    "            high -= 1\n",
    "            continue\n",
    "        if arr[low] <= arr[mid]:\n",
    "            if arr[low] <= target <= arr[mid]:\n",
    "                high = mid - 1\n",
    "            else:\n",
    "                low = mid + 1\n",
    "        elif arr[mid] <= arr[high]:\n",
    "            if arr[mid] <= target <= arr[high]:\n",
    "                low = mid + 1\n",
    "            else:\n",
    "                high = mid - 1\n",
    "    return False\n",
    "\n",
    "arr = [2, 5, 6, 9, 9, 1, 2]\n",
    "target = 6\n",
    "arr = [1, 0, 1, 1, 1, 1, 1]\n",
    "target = 0\n",
    "arr = [1, 1, 1, 1, 1, 1, 2, 1, 1]\n",
    "target = 2\n",
    "binarySearch(arr, target)"
   ]
  },
  {
   "cell_type": "code",
   "execution_count": null,
   "id": "31220c3e",
   "metadata": {},
   "outputs": [],
   "source": []
  },
  {
   "cell_type": "markdown",
   "id": "0fd85f74",
   "metadata": {},
   "source": [
    "# Find the minimum in Rotated Sorted Array"
   ]
  },
  {
   "cell_type": "code",
   "execution_count": 2,
   "id": "73998d64",
   "metadata": {},
   "outputs": [
    {
     "data": {
      "text/plain": [
       "0"
      ]
     },
     "execution_count": 2,
     "metadata": {},
     "output_type": "execute_result"
    }
   ],
   "source": [
    "# Optimal Approach - Binary Search\n",
    "# Time Complexity - O(LogN)\n",
    "# Space Complexity - O(1)\n",
    "\n",
    "import sys\n",
    "def binarySearch(arr):\n",
    "    n = len(arr)\n",
    "    low = 0\n",
    "    high = n-1\n",
    "    minVal = sys.maxsize\n",
    "    \n",
    "    while low <= high:\n",
    "        mid = low + (high-low)//2\n",
    "        minVal = min(minVal, arr[mid])\n",
    "        \n",
    "        if arr[low] <= arr[mid] <= arr[high]:\n",
    "            high = mid-1\n",
    "        elif arr[low] <= arr[mid]:\n",
    "            low = mid + 1\n",
    "        elif arr[mid] <= arr[high]:\n",
    "            high = mid - 1\n",
    "    return minVal\n",
    "        \n",
    "\n",
    "arr = [4, 5, 6, 7, 0, 1, 2]\n",
    "binarySearch(arr)"
   ]
  },
  {
   "cell_type": "code",
   "execution_count": null,
   "id": "8cdf6a1e",
   "metadata": {},
   "outputs": [],
   "source": []
  },
  {
   "cell_type": "markdown",
   "id": "05bced79",
   "metadata": {},
   "source": [
    "# Find out how many time has an array been rotated"
   ]
  },
  {
   "cell_type": "code",
   "execution_count": 4,
   "id": "94e39e3c",
   "metadata": {},
   "outputs": [
    {
     "data": {
      "text/plain": [
       "2"
      ]
     },
     "execution_count": 4,
     "metadata": {},
     "output_type": "execute_result"
    }
   ],
   "source": [
    "import sys\n",
    "def findKRotation(arr):\n",
    "    n = len(arr)\n",
    "    index = 0\n",
    "    minVal = sys.maxsize\n",
    "     \n",
    "    low = 0\n",
    "    high = n-1\n",
    "    while low<= high:\n",
    "        mid = low +(high-low)//2\n",
    "        if minVal > arr[mid]:\n",
    "            minVal = arr[mid]\n",
    "            index = mid\n",
    "        if arr[low]<= arr[mid]<= arr[high]:\n",
    "            high = mid-1\n",
    "        elif arr[low] <= arr[mid]:\n",
    "            low = mid + 1\n",
    "        elif arr[mid] <= arr[high]:\n",
    "            high = mid - 1\n",
    "                \n",
    "    return index\n",
    "\n",
    "arr = [4, 5, 1, 2, 3, 4]\n",
    "findKRotation(arr)"
   ]
  },
  {
   "cell_type": "code",
   "execution_count": null,
   "id": "193c1841",
   "metadata": {},
   "outputs": [],
   "source": []
  },
  {
   "cell_type": "markdown",
   "id": "766d6954",
   "metadata": {},
   "source": [
    "# Single Element in a Sorted Array"
   ]
  },
  {
   "cell_type": "code",
   "execution_count": 5,
   "id": "e01d40db",
   "metadata": {},
   "outputs": [
    {
     "data": {
      "text/plain": [
       "2"
      ]
     },
     "execution_count": 5,
     "metadata": {},
     "output_type": "execute_result"
    }
   ],
   "source": [
    "# Brute Force Appraoch - Linear Search\n",
    "# Time Complexity - O(N)\n",
    "# Space Complexity\n",
    "\n",
    "def binarySearch(arr):\n",
    "    n = len(arr)\n",
    "    \n",
    "    if n == 1:\n",
    "        return arr[0]\n",
    "    \n",
    "    for i in range(n):\n",
    "        if i ==0:\n",
    "            if arr[i] != arr[i+1]:\n",
    "                return arr[0]\n",
    "        elif i == n-1:\n",
    "            if arr[i] != arr[i-1]:\n",
    "                return arr[n-1]\n",
    "        elif arr[i] != arr[i+1] and arr[i-1] != arr[i]:\n",
    "            return arr[i]\n",
    "\n",
    "arr = [1,1,2,3,3,4,4,8,8]\n",
    "binarySearch(arr)"
   ]
  },
  {
   "cell_type": "code",
   "execution_count": 4,
   "id": "6615c49b",
   "metadata": {},
   "outputs": [
    {
     "data": {
      "text/plain": [
       "2"
      ]
     },
     "execution_count": 4,
     "metadata": {},
     "output_type": "execute_result"
    }
   ],
   "source": [
    "# Optimal Appraoch - Binary Search\n",
    "# Time Complexity - O(LogN)\n",
    "# Space Complexity - O(1)\n",
    "\n",
    "def binarySearch(nums):\n",
    "    n = len(nums)\n",
    "    if n == 1:\n",
    "        return nums[0]\n",
    "    if nums[0] != nums[1]:\n",
    "            return nums[0]\n",
    "    if nums[n-1] != nums[n-2]:\n",
    "        return nums[n-1]\n",
    "    \n",
    "    low = 1\n",
    "    high = n-2\n",
    "    while low <= high:\n",
    "        mid = low + (high-low)//2\n",
    "            \n",
    "        if nums[mid-1] != nums[mid] != nums[mid+1]:\n",
    "            return nums[mid]\n",
    "\n",
    "        if nums[mid-1] == nums[mid]:\n",
    "            if mid%2 == 0:\n",
    "                high = mid - 1\n",
    "            else:\n",
    "                low = mid + 1\n",
    "        elif nums[mid] == nums[mid+1]:\n",
    "            if mid%2 == 0:\n",
    "                low = mid + 1\n",
    "            else:\n",
    "                high = mid - 1\n",
    "                \n",
    "\n",
    "nums = [1,1,2,3,3,4,4,8,8]\n",
    "binarySearch(nums)"
   ]
  },
  {
   "cell_type": "code",
   "execution_count": null,
   "id": "7b514522",
   "metadata": {},
   "outputs": [],
   "source": []
  },
  {
   "cell_type": "markdown",
   "id": "ae250683",
   "metadata": {},
   "source": [
    "# Find Peak Element"
   ]
  },
  {
   "cell_type": "code",
   "execution_count": 8,
   "id": "c2803006",
   "metadata": {},
   "outputs": [
    {
     "data": {
      "text/plain": [
       "-1"
      ]
     },
     "execution_count": 8,
     "metadata": {},
     "output_type": "execute_result"
    }
   ],
   "source": [
    "# Brute Force Approach - linear iteration\n",
    "# Time Complexity - O(N)\n",
    "# Space Complexity - O(1)\n",
    "\n",
    "def peakElement(arr):\n",
    "    n = len(arr)\n",
    "    \n",
    "    if n == 1:\n",
    "        return 0\n",
    "    \n",
    "    for i in range(n):\n",
    "        if i == 0 and arr[i] > arr[i+1]:\n",
    "            return i\n",
    "        if i == n-1 and arr[n-1] > arr[n-2]:\n",
    "            return n-1\n",
    "        if arr[i-1] < arr[i] > arr[i+1]:\n",
    "            return i\n",
    "    return -1\n",
    "    \n",
    "arr = [1, 2, 3, 4, 5, 6, 7, 8, 5, 1]\n",
    "arr = [1]\n",
    "arr = [2, 1]\n",
    "arr = [2, 3]\n",
    "arr = [2,2]\n",
    "peakElement(arr)"
   ]
  },
  {
   "cell_type": "code",
   "execution_count": 2,
   "id": "2e51a67a",
   "metadata": {},
   "outputs": [
    {
     "data": {
      "text/plain": [
       "9"
      ]
     },
     "execution_count": 2,
     "metadata": {},
     "output_type": "execute_result"
    }
   ],
   "source": [
    "# Optimal Appraoch - Binary Search\n",
    "# Time Complexity - O(LogN)\n",
    "# Space Complexity - O(1)\n",
    "\n",
    "def peakElement(arr):\n",
    "    n = len(arr)\n",
    "    \n",
    "    if n == 1:\n",
    "        return 0\n",
    "    if arr[0] > arr[1]:\n",
    "         return 0\n",
    "    if arr[n-1] > arr[n-2]:          \n",
    "        return n-1\n",
    "    \n",
    "    low = 1\n",
    "    high = n-2\n",
    "    \n",
    "    while low <= high:\n",
    "        mid = low + (high-low)//2\n",
    "        if arr[mid-1] < arr[mid] > arr[mid+1]:\n",
    "            return mid\n",
    "        if arr[mid-1] > arr[mid]:\n",
    "            high = mid - 1\n",
    "        elif arr[mid] < arr[mid+1]:\n",
    "            low = mid + 1\n",
    "    return -1\n",
    "\n",
    "arr = [1, 2, 3, 4, 5, 6, 7, 7, 5, 8]\n",
    "peakElement(arr)"
   ]
  },
  {
   "cell_type": "code",
   "execution_count": null,
   "id": "4d5ecee0",
   "metadata": {},
   "outputs": [],
   "source": []
  }
 ],
 "metadata": {
  "kernelspec": {
   "display_name": "Python 3 (ipykernel)",
   "language": "python",
   "name": "python3"
  },
  "language_info": {
   "codemirror_mode": {
    "name": "ipython",
    "version": 3
   },
   "file_extension": ".py",
   "mimetype": "text/x-python",
   "name": "python",
   "nbconvert_exporter": "python",
   "pygments_lexer": "ipython3",
   "version": "3.12.7"
  }
 },
 "nbformat": 4,
 "nbformat_minor": 5
}
