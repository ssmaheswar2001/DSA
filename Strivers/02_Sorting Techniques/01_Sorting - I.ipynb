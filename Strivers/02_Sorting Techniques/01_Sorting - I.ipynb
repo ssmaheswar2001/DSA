{
 "cells": [
  {
   "cell_type": "markdown",
   "id": "e6b971b1",
   "metadata": {},
   "source": [
    "# Selection Sort\n",
    "- The algorithm repeatedly selects the smallest or largest element from the unsorted portion of the list and swaps it with the first element of the unsorted part. This process is repeated for the remaining unsorted portion until the entire list is sorted.\n",
    "\n",
    "### Disadvantages \n",
    "- Time complextiy O(n^2)\n",
    "- Doesnot work well on large datasets.\n"
   ]
  },
  {
   "cell_type": "code",
   "execution_count": 5,
   "id": "2c598731",
   "metadata": {},
   "outputs": [
    {
     "data": {
      "text/plain": [
       "[11, 12, 22, 25, 64]"
      ]
     },
     "execution_count": 5,
     "metadata": {},
     "output_type": "execute_result"
    }
   ],
   "source": [
    "# Selection Sort\n",
    "# https://www.geeksforgeeks.org/problems/selection-sort/1?utm_source=youtube&utm_medium=collab_striver_ytdescription&utm_campaign=selection-sort\n",
    "\n",
    "def selectionSort(a):\n",
    "    \n",
    "    for i in range(len(a)-1):\n",
    "        _min = i\n",
    "        for j in range(i+1, len(a)):\n",
    "            if a[_min] > a[j]:\n",
    "                _min = j\n",
    "        a[i], a[_min] = a[_min], a[i]\n",
    "        \n",
    "    return a\n",
    "    \n",
    "a = [64, 25, 12, 22, 11]\n",
    "selectionSort(a)"
   ]
  },
  {
   "cell_type": "code",
   "execution_count": null,
   "id": "85ba3b6c",
   "metadata": {},
   "outputs": [],
   "source": [
    " "
   ]
  },
  {
   "cell_type": "markdown",
   "id": "b86116b7",
   "metadata": {},
   "source": [
    "# Bubble sort\n",
    "- Sorting algorithm that works by repeatedly swapping the adjacent elements if they are in the wrong order. Pushes the maximum to the last by adjacent swaps.\n",
    "- Traverse from left and compare adjacent elements and the higher one is placed at right side. In this way, the largest element is moved to the rightmost end at first. This process is then continued to find the 2nd largest and place it and so on until the data is stored.\n",
    "## Advantages\n",
    "- Is easy to understand and implement\n",
    "- It is a stable algorithm, meaning that elements with the same key value maintain their relative order in the sorted output.\n",
    "## Disadvantages\n",
    "- Time complexity : O(N^2)\n",
    "- Comparison based sorting algorithm, which means that it requires a comparison operator to determine the relative order of elements in the input data set. "
   ]
  },
  {
   "cell_type": "code",
   "execution_count": 10,
   "id": "8917a3e9",
   "metadata": {},
   "outputs": [
    {
     "data": {
      "text/plain": [
       "[11, 12, 22, 25, 34, 64, 90]"
      ]
     },
     "execution_count": 10,
     "metadata": {},
     "output_type": "execute_result"
    }
   ],
   "source": [
    "# Bubble sort\n",
    "# https://bit.ly/3w6yQx8\n",
    "\n",
    "def bubbleSort(a):\n",
    "    \n",
    "    for i in range(len(a)):\n",
    "        swapped = False\n",
    "        for j in range(0,len(a)-1-i):\n",
    "            if a[j] > a[j+1]:\n",
    "                a[j], a[j+1] = a[j+1], a[j]\n",
    "                swapped = True\n",
    "        if swapped == False:\n",
    "            break\n",
    "\n",
    "    return a\n",
    "a = [34, 64, 25, 12, 22, 90, 11]\n",
    "bubbleSort(a)"
   ]
  },
  {
   "cell_type": "code",
   "execution_count": 11,
   "id": "86e3b7c3",
   "metadata": {},
   "outputs": [
    {
     "name": "stdout",
     "output_type": "stream",
     "text": [
      "Runs\n"
     ]
    },
    {
     "data": {
      "text/plain": [
       "[1, 5, 6, 8, 9]"
      ]
     },
     "execution_count": 11,
     "metadata": {},
     "output_type": "execute_result"
    }
   ],
   "source": [
    "def bubbleSort(a):\n",
    "    \n",
    "    for i in range(len(a)-1, 0, -1):\n",
    "        swapped = False\n",
    "        for j in range(i):\n",
    "            if a[j] > a[j+1]:\n",
    "                a[j], a[j+1] = a[j+1], a[j]\n",
    "                swapped = True\n",
    "        print(\"Runs\")\n",
    "        if swapped == False:\n",
    "            break\n",
    "    return a\n",
    "\n",
    "a = [34, 64, 25, 12, 22, 90, 11]\n",
    "a = [1, 5, 6, 8, 9]\n",
    "bubbleSort(a)"
   ]
  },
  {
   "cell_type": "code",
   "execution_count": null,
   "id": "d7c2b9b6",
   "metadata": {},
   "outputs": [],
   "source": []
  },
  {
   "cell_type": "markdown",
   "id": "0f24a11d",
   "metadata": {},
   "source": [
    "# Insertion Sort\n",
    "- Takes an element and places it in its current order.\n",
    "- Works by iteratively inserting each element of an unsorted list into its correct position in a sorted portion of the list.\n",
    "- It is a stable algorithm, meaning that elements with equal values maintain their relative order in the sorted output.\n",
    "- Insertion sort is like sorting playing cards in our hands. We split the cards into 2 groups : The sorted cards and the unsorted cards. Then, we pick a card from the unsorted group and put it in the right place in the sorted group.\n",
    "- Steps : \n",
    "    1. We have to start with 2nd element of the array as first element in the array is assumed to be sorted.\n",
    "    2. Compare 2nd with the 1st element and check if the 2nd element is smaller then swap them.\n",
    "    3. Move to the 3rd element and compare it with the 2nd element, then the 1st element and swap as necessary to put it in the correct position among the 1st three elements\n",
    "    4. Continue this process, comparing each element with the ones before it and swapping as needed to place it in the correct position among the sorted elements.\n",
    "    5. Repeat unitl the entire array is sorted."
   ]
  },
  {
   "cell_type": "code",
   "execution_count": 4,
   "id": "d8e900e4",
   "metadata": {},
   "outputs": [
    {
     "data": {
      "text/plain": [
       "[6, 8, 9, 12, 13, 14, 15]"
      ]
     },
     "execution_count": 4,
     "metadata": {},
     "output_type": "execute_result"
    }
   ],
   "source": [
    "# Insertion Sort\n",
    "# https://www.geeksforgeeks.org/problems/insertion-sort/0?category%5B%5D=Algorithms&page=1&query=category%5B%5DAlgorithmspage1&utm_source=youtube&utm_medium=collab_striver_ytdescription&utm_campaign=insertion-sort\n",
    "\n",
    "def insertionSort(arr):\n",
    "\n",
    "    for i in range(1, len(arr)):\n",
    "        key = arr[i]\n",
    "        j = i-1\n",
    "        while j>=0 and key < arr[j]:\n",
    "            arr[j+1] = arr[j]\n",
    "            j -= 1\n",
    "        arr[j+1] = key\n",
    "        \n",
    "    return arr\n",
    "    \n",
    "arr = [23, 1, 10, 5, 2]\n",
    "arr = [9, 14, 15, 12, 6, 8, 13]\n",
    "insertionSort(arr)"
   ]
  },
  {
   "cell_type": "code",
   "execution_count": null,
   "id": "954a31bb",
   "metadata": {},
   "outputs": [],
   "source": []
  }
 ],
 "metadata": {
  "kernelspec": {
   "display_name": "Python 3 (ipykernel)",
   "language": "python",
   "name": "python3"
  },
  "language_info": {
   "codemirror_mode": {
    "name": "ipython",
    "version": 3
   },
   "file_extension": ".py",
   "mimetype": "text/x-python",
   "name": "python",
   "nbconvert_exporter": "python",
   "pygments_lexer": "ipython3",
   "version": "3.12.7"
  }
 },
 "nbformat": 4,
 "nbformat_minor": 5
}
