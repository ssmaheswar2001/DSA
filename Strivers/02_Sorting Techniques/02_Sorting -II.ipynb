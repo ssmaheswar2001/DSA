{
 "cells": [
  {
   "cell_type": "markdown",
   "id": "34dffc49",
   "metadata": {},
   "source": [
    "# Merge Sort\n",
    "- Merge sort is a sorting algorithm that follows the divide-and-merge approach.\n",
    "- It works by recursively dividing the input array into smaller subarrays and sorting those subarrays then merging them back together to obtain the sorted array.\n",
    "- The process of merge sort is to divide the array into 2 halves, sort each half, and then merge the sorted halves back together. This process is repeated until the entire array is sorted.\n",
    "### Advantages\n",
    "- It is a stable sorting algorithm, which means it maintains the relative order of equal elements in the input array.\n",
    "- Time complexity of O(N logN)\n",
    "### Disadvantages\n",
    "- Requires additional memory to sore the merged sub-arrays during sorting process."
   ]
  },
  {
   "cell_type": "code",
   "execution_count": 13,
   "id": "ea44ef80",
   "metadata": {},
   "outputs": [
    {
     "data": {
      "text/plain": [
       "[1, 1, 2, 2, 3, 4, 4, 5, 6]"
      ]
     },
     "execution_count": 13,
     "metadata": {},
     "output_type": "execute_result"
    }
   ],
   "source": [
    "# Merge sort\n",
    "# https://bit.ly/3A30Anw\n",
    "\n",
    "def merge(arr, low, mid, high):\n",
    "    i = low\n",
    "    j = mid + 1\n",
    "    temp = []\n",
    "    \n",
    "    while i <= mid and j <= high:\n",
    "        if arr[i] <= arr[j]:\n",
    "            temp.append(arr[i])\n",
    "            i += 1\n",
    "        else:\n",
    "            temp.append(arr[j])\n",
    "            j += 1\n",
    "            \n",
    "    while i <= mid:\n",
    "        temp.append(arr[i])\n",
    "        i += 1\n",
    "    while j <= high:\n",
    "        temp.append(arr[j])\n",
    "        j += 1\n",
    "    \n",
    "    for i in range(low, high+1):\n",
    "        arr[i] = temp[i-low]\n",
    "    \n",
    "\n",
    "def mergeSort(arr, low, high):\n",
    "    if low >= high:\n",
    "        return\n",
    "    mid = low + (high-low)//2\n",
    "    mergeSort(arr, low, mid)\n",
    "    mergeSort(arr, mid+1, high)\n",
    "    merge(arr, low, mid, high)\n",
    "    \n",
    "arr = [3, 1, 2, 4, 1, 5, 6, 2, 4]\n",
    "mergeSort(arr, 0, len(arr)-1)\n",
    "arr"
   ]
  },
  {
   "cell_type": "code",
   "execution_count": null,
   "id": "bbcb516a",
   "metadata": {},
   "outputs": [],
   "source": []
  },
  {
   "cell_type": "markdown",
   "id": "26e32fc5",
   "metadata": {},
   "source": [
    "# Quick Sort\n",
    "- Sorting algorithm based on the Divide and Conquer algorithm that picks an element as pivot and partitions the given array around the picked pivot by placing the pivot in its correct position in the sorted array.\n",
    "- The key process of quickSort() is a partition(). The target of partitions is to place the pivot (any element can be chosen to be a pivot) at its correct position in the sorted array and put all smaller elements to the left of the pivot, and all greater elements to the right of the pivot.\n",
    "- Partition Algorithm () : We start from the leftmost element and keep track of the index of smaller (or equal) elements as i. While traversing, if we find a smaller element, we swap the curretn element with arr[i]. Otherwise, we ignore the current element.\n",
    "- As the partition process is done recursively, it keeps on putting the pivot in its actual position in the sorted array. Repeatedly putting pivots in their acutal position makes the array sorted.\n",
    "- Worst Case Time Complexity : O(N^2)\n",
    "- It is not stable sort, meaning that if 2 elements have the same key, their relative order will not be preserved in the sorted output in case of quick sort, because here we are swapping elements according to the pivot's position (without considering their original positions).\n",
    "- Merge Sort uses a temporary array while quick sort doesn't uses any temporary array. So merge sort space complexity is O(N) while quick sort is O(1)."
   ]
  },
  {
   "cell_type": "code",
   "execution_count": 9,
   "id": "1294ce29",
   "metadata": {},
   "outputs": [
    {
     "data": {
      "text/plain": [
       "[1, 2, 3, 4, 5, 6, 7, 9]"
      ]
     },
     "execution_count": 9,
     "metadata": {},
     "output_type": "execute_result"
    }
   ],
   "source": [
    "# Quick Sort\n",
    "# https://bit.ly/3dsEbIK\n",
    "\n",
    "def Partition(arr, low, high):\n",
    "    pivot = low\n",
    "    i = low\n",
    "    j = high\n",
    "    while i < j:\n",
    "        while (arr[i] <= arr[pivot] and i< high):\n",
    "            i += 1\n",
    "        while (arr[j] > arr[pivot] and j > low):\n",
    "            j -= 1\n",
    "        if i< j:\n",
    "            arr[i], arr[j] = arr[j], arr[i]\n",
    "    \n",
    "    partitionIndex = j\n",
    "    arr[pivot], arr[j] = arr[j], arr[pivot]\n",
    "    return partitionIndex\n",
    "    \n",
    "\n",
    "def quickSort(arr, low, high):\n",
    "    if low < high:\n",
    "        partitionIndex = Partition(arr, low, hi   gh)\n",
    "        quickSort(arr, low, partitionIndex-1)\n",
    "        quickSort(arr, partitionIndex + 1, high)\n",
    "\n",
    "arr = [4, 6, 2, 5, 7, 9, 1, 3]\n",
    "# arr = [4, 1, 3, 9, 7]\n",
    "quickSort(arr, 0, len(arr)-1)\n",
    "arr"
   ]
  },
  {
   "cell_type": "code",
   "execution_count": 1,
   "id": "cb1a1380",
   "metadata": {},
   "outputs": [
    {
     "data": {
      "text/plain": [
       "[1, 2, 3, 4, 5, 6, 7, 9]"
      ]
     },
     "execution_count": 1,
     "metadata": {},
     "output_type": "execute_result"
    }
   ],
   "source": [
    "# Quick Sort\n",
    "\n",
    "def Partition(arr, low, high):\n",
    "    pivot = arr[high]\n",
    "    \n",
    "    i = low\n",
    "    for j in range(low, high):\n",
    "        if arr[j] <= pivot:\n",
    "            arr[i], arr[j] = arr[j], arr[i]\n",
    "            i += 1\n",
    "    arr[i], arr[high] = arr[high], arr[i]\n",
    "    return i\n",
    "    \n",
    "    \n",
    "\n",
    "def quickSort(arr, low, high):\n",
    "    if low < high:\n",
    "        partitionIndex = Partition(arr, low, high)\n",
    "        quickSort(arr, low, partitionIndex-1)\n",
    "        quickSort(arr, partitionIndex + 1, high)\n",
    "\n",
    "\n",
    "arr = [4, 6, 2, 5, 7, 9, 1, 3]\n",
    "# arr = [4, 1, 3, 9, 7]\n",
    "quickSort(arr, 0, len(arr)-1)\n",
    "arr"
   ]
  },
  {
   "cell_type": "code",
   "execution_count": 11,
   "id": "42dd32ed",
   "metadata": {},
   "outputs": [
    {
     "data": {
      "text/plain": [
       "[9, 7, 4, 3, 1]"
      ]
     },
     "execution_count": 11,
     "metadata": {},
     "output_type": "execute_result"
    }
   ],
   "source": [
    "# Descending order Quick Sort  \n",
    "# https://bit.ly/3dsEbIK\n",
    "\n",
    "def Partition(arr, low, high):\n",
    "    pivot = low\n",
    "    i = low\n",
    "    j = high\n",
    "    while i < j:\n",
    "        while (arr[i] > arr[pivot] and i< high):\n",
    "            i += 1\n",
    "        while (arr[j] <= arr[pivot] and j > low):\n",
    "            j -= 1\n",
    "        if i< j:\n",
    "            arr[i], arr[j] = arr[j], arr[i]\n",
    "    \n",
    "    partitionIndex = i\n",
    "    arr[pivot], arr[i] = arr[i], arr[pivot]\n",
    "    return partitionIndex\n",
    "    \n",
    "\n",
    "def quickSort(arr, low, high):\n",
    "    if low < high:\n",
    "        partitionIndex = Partition(arr, low, high)\n",
    "        quickSort(arr, low, partitionIndex-1)\n",
    "        quickSort(arr, partitionIndex + 1, high)\n",
    "\n",
    "arr = [4, 6, 2, 5, 7, 9, 1, 3]\n",
    "arr = [4, 1, 3, 9, 7]\n",
    "quickSort(arr, 0, len(arr)-1)\n",
    "arr"
   ]
  },
  {
   "cell_type": "code",
   "execution_count": 3,
   "id": "b0f443e0",
   "metadata": {},
   "outputs": [
    {
     "data": {
      "text/plain": [
       "[9, 7, 6, 5, 4, 3, 2, 1]"
      ]
     },
     "execution_count": 3,
     "metadata": {},
     "output_type": "execute_result"
    }
   ],
   "source": [
    "# Quick Sort\n",
    "\n",
    "def Partition(arr, low, high):\n",
    "    pivot = arr[high]\n",
    "    \n",
    "    i = low\n",
    "    for j in range(low, high):\n",
    "        if arr[j] >= pivot:\n",
    "            arr[i], arr[j] = arr[j], arr[i]\n",
    "            i += 1\n",
    "    arr[i], arr[high] = arr[high], arr[i]\n",
    "    return i\n",
    "\n",
    "def quickSort(arr, low, high):\n",
    "    if low < high:\n",
    "        partitionIndex = Partition(arr, low, high)\n",
    "        quickSort(arr, low, partitionIndex-1)\n",
    "        quickSort(arr, partitionIndex + 1, high)\n",
    "\n",
    "\n",
    "arr = [4, 6, 2, 5, 7, 9, 1, 3]\n",
    "# arr = [4, 1, 3, 9, 7]\n",
    "quickSort(arr, 0, len(arr)-1)\n",
    "arr"
   ]
  },
  {
   "cell_type": "code",
   "execution_count": null,
   "id": "5d807f9b",
   "metadata": {},
   "outputs": [],
   "source": []
  },
  {
   "cell_type": "code",
   "execution_count": 5,
   "id": "840c2d25",
   "metadata": {},
   "outputs": [
    {
     "data": {
      "text/plain": [
       "[1, 3, 4, 7, 9]"
      ]
     },
     "execution_count": 5,
     "metadata": {},
     "output_type": "execute_result"
    }
   ],
   "source": [
    "def partition(A, low, high):\n",
    "    pivot = high\n",
    "    i = low-1\n",
    "    for j in range(low, high):\n",
    "        if A[j] <= A[pivot]:\n",
    "            i += 1\n",
    "            A[i], A[j] = A[j], A[i]\n",
    "    A[i+1], A[pivot] = A[pivot], A[i+1]\n",
    "    return i+1\n",
    "    \n",
    "\n",
    "def quickSort(A, low, high):\n",
    "    if low >= high:\n",
    "        return\n",
    "    partitionIndex = partition(A, low, high)\n",
    "    quickSort(A, low, partitionIndex-1)\n",
    "    quickSort(A, partitionIndex+1, high)\n",
    "    \n",
    "A = [4, 6, 2, 5, 7, 9, 1, 3]\n",
    "A = [4, 1, 3, 9, 7]\n",
    "quickSort(A, 0, len(A)-1)\n",
    "A"
   ]
  },
  {
   "cell_type": "code",
   "execution_count": 7,
   "id": "46ccc928",
   "metadata": {},
   "outputs": [
    {
     "data": {
      "text/plain": [
       "[9, 7, 6, 5, 4, 3, 2, 1, 1]"
      ]
     },
     "execution_count": 7,
     "metadata": {},
     "output_type": "execute_result"
    }
   ],
   "source": [
    "def partition(A, low, high):\n",
    "    pivot = high\n",
    "    i = low-1\n",
    "    for j in range(low, high):\n",
    "        if A[j] >= A[pivot]:\n",
    "            i += 1\n",
    "            A[i], A[j] = A[j], A[i]\n",
    "    A[i+1], A[pivot] = A[pivot], A[i+1]\n",
    "    return i+1\n",
    "    \n",
    "\n",
    "def quickSort(A, low, high):\n",
    "    if low >= high:\n",
    "        return\n",
    "    partitionIndex = partition(A, low, high)\n",
    "    quickSort(A, low, partitionIndex-1)\n",
    "    quickSort(A, partitionIndex+1, high)\n",
    "    \n",
    "A = [4, 6, 1, 2, 5, 7, 9, 1, 3]\n",
    "# A = [4, 1, 3, 9, 7]\n",
    "quickSort(A, 0, len(A)-1)\n",
    "A"
   ]
  },
  {
   "cell_type": "code",
   "execution_count": null,
   "id": "17ad89d7",
   "metadata": {},
   "outputs": [],
   "source": []
  },
  {
   "cell_type": "markdown",
   "id": "7c1ca42d",
   "metadata": {},
   "source": [
    "# Recursive Bubble Sort\n",
    "1. Base Case : If array size is 1, return\n",
    "2. Do one pass of normal Bubble Sort. This pass fixes last element of current subarray.\n",
    "3. Recur for all elements except last of current subarray."
   ]
  },
  {
   "cell_type": "code",
   "execution_count": 14,
   "id": "9e5430cc",
   "metadata": {},
   "outputs": [
    {
     "data": {
      "text/plain": [
       "[4, 2, 5, 6, 7, 1, 3, 9]"
      ]
     },
     "execution_count": 14,
     "metadata": {},
     "output_type": "execute_result"
    }
   ],
   "source": [
    "def recursiveBubblesort(arr, n):\n",
    "    if n == 1:\n",
    "        return\n",
    "    swapped = True\n",
    "    for i in range(n-1):\n",
    "        if arr[i] > arr[i+1]:\n",
    "            arr[i], arr[i+1] = arr[i+1], arr[i]\n",
    "            swapped = False\n",
    "    if swapped == True:\n",
    "        return\n",
    "    n += 1\n",
    "\n",
    "arr = [4, 1, 3, 9, 7]\n",
    "arr = [4, 6, 2, 5, 7, 9, 1, 3]\n",
    "recursiveBubblesort(arr, len(arr))\n",
    "arr"
   ]
  },
  {
   "cell_type": "code",
   "execution_count": null,
   "id": "bb0f8be5",
   "metadata": {},
   "outputs": [],
   "source": []
  },
  {
   "cell_type": "markdown",
   "id": "dcb528fb",
   "metadata": {},
   "source": [
    "# Recursive Insertion Sort\n",
    "- Call the recursive function with the given array, the size of the array, and the index of the selected element.\n",
    "- Inside that recursive function, take the element at index i from the unsorted array.\n",
    "- Then, place the element in its corresponding position in the sorted part using swapping\n",
    "- After that, shift the remanining elements accordingly.\n",
    "- finally, call the recursion increasing the index i by 1."
   ]
  },
  {
   "cell_type": "code",
   "execution_count": 22,
   "id": "8ff0dc65",
   "metadata": {},
   "outputs": [
    {
     "data": {
      "text/plain": [
       "[1, 3, 4, 7, 9]"
      ]
     },
     "execution_count": 22,
     "metadata": {},
     "output_type": "execute_result"
    }
   ],
   "source": [
    "def recursiveInsertionSort(arr, i, n):\n",
    "    if i == n:\n",
    "        return\n",
    "    key = arr[i]\n",
    "    j = i-1\n",
    "    while j >= 0 and key < arr[j] :\n",
    "        arr[j+1] = arr[j]\n",
    "        j -= 1\n",
    "    arr[j+1] = key\n",
    "    recursiveInsertionSort(arr, i+1, n)\n",
    "\n",
    "arr = [4, 1, 3, 9, 7]\n",
    "recursiveInsertionSort(arr, 1, len(arr))\n",
    "arr"
   ]
  },
  {
   "cell_type": "code",
   "execution_count": null,
   "id": "16d8f471",
   "metadata": {},
   "outputs": [],
   "source": []
  }
 ],
 "metadata": {
  "kernelspec": {
   "display_name": "Python 3 (ipykernel)",
   "language": "python",
   "name": "python3"
  },
  "language_info": {
   "codemirror_mode": {
    "name": "ipython",
    "version": 3
   },
   "file_extension": ".py",
   "mimetype": "text/x-python",
   "name": "python",
   "nbconvert_exporter": "python",
   "pygments_lexer": "ipython3",
   "version": "3.12.7"
  }
 },
 "nbformat": 4,
 "nbformat_minor": 5
}
