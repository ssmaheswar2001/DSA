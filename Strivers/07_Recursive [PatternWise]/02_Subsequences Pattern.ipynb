{
 "cells": [
  {
   "cell_type": "markdown",
   "id": "01bb62be",
   "metadata": {},
   "source": [
    "# Generate all Binary Strings"
   ]
  },
  {
   "cell_type": "code",
   "execution_count": 5,
   "id": "3508c4f1",
   "metadata": {},
   "outputs": [
    {
     "data": {
      "text/plain": [
       "['0000', '0001', '0010', '0100', '0101', '1000', '1001', '1010']"
      ]
     },
     "execution_count": 5,
     "metadata": {},
     "output_type": "execute_result"
    }
   ],
   "source": [
    "def generate(n, b, i):\n",
    "    if n == i:\n",
    "#         res.append(b)\n",
    "        return [b]\n",
    "    temp = generate(n,b+'0', i+1)\n",
    "    if b == '' or b[i-1] == '0':\n",
    "        temp += generate(n,b+'1', i+1)\n",
    "    return temp\n",
    "\n",
    "def generateBinaryString(n):\n",
    "    if n <=0 :\n",
    "        return\n",
    "    return generate(n, '', 0)\n",
    "n = 4\n",
    "generateBinaryString(n)"
   ]
  },
  {
   "cell_type": "code",
   "execution_count": null,
   "id": "a1a34bdf",
   "metadata": {},
   "outputs": [],
   "source": []
  },
  {
   "cell_type": "markdown",
   "id": "e4d1d1c1",
   "metadata": {},
   "source": [
    "# Generate Parenthesis"
   ]
  },
  {
   "cell_type": "code",
   "execution_count": 13,
   "id": "605e254a",
   "metadata": {},
   "outputs": [
    {
     "data": {
      "text/plain": [
       "['((()))', '(()())', '(())()', '()(())', '()()()']"
      ]
     },
     "execution_count": 13,
     "metadata": {},
     "output_type": "execute_result"
    }
   ],
   "source": [
    "# Better Approach\n",
    "# Time Complexity : O(2^N)\n",
    "# Space Complexity : O(N)\n",
    "\n",
    "def generate(n, p, open, close, res):\n",
    "    if n == close:\n",
    "        res.append(p)\n",
    "        return\n",
    "    if open < n:\n",
    "        generate(n, p+'(', open+1, close, res)\n",
    "    if open > close:\n",
    "        generate(n, p+')', open, close+1, res)\n",
    "    \n",
    "def generateParenthesis(n):\n",
    "    if n <= 0:\n",
    "        return\n",
    "    res = []\n",
    "    generate(n, '', 0, 0, res)\n",
    "    return res\n",
    "    \n",
    "    \n",
    "n = 3\n",
    "generateParenthesis(n)"
   ]
  },
  {
   "cell_type": "code",
   "execution_count": 1,
   "id": "1ca11b8b",
   "metadata": {},
   "outputs": [
    {
     "data": {
      "text/plain": [
       "['((()))', '(()())', '(())()', '()(())', '()()()']"
      ]
     },
     "execution_count": 1,
     "metadata": {},
     "output_type": "execute_result"
    }
   ],
   "source": [
    "# Better Approach : DFS\n",
    "# Time Complexity : O(2^N)\n",
    "# Space Complexity : O(N)\n",
    "\n",
    "def generate(n, p, open, close, res):\n",
    "    if open == 0 and close == 0:\n",
    "        res.append(p)\n",
    "        return \n",
    "    if open > close or open < 0 or close < 0:\n",
    "        return\n",
    "    generate(n, p+'(', open-1, close, res)\n",
    "    generate(n, p+')', open, close-1, res)\n",
    "        \n",
    "    \n",
    "def generateParenthesis(n):\n",
    "    if n <= 0:\n",
    "        return\n",
    "    res = []\n",
    "    generate(n, '', 3, 3, res)\n",
    "    return res\n",
    "    \n",
    "    \n",
    "n = 3\n",
    "generateParenthesis(n)"
   ]
  },
  {
   "cell_type": "code",
   "execution_count": null,
   "id": "a8015df1",
   "metadata": {},
   "outputs": [],
   "source": []
  },
  {
   "cell_type": "markdown",
   "id": "52eddec2",
   "metadata": {},
   "source": [
    "# Print all subsequences/Power Set"
   ]
  },
  {
   "cell_type": "code",
   "execution_count": 30,
   "id": "2d77bfb5",
   "metadata": {},
   "outputs": [
    {
     "data": {
      "text/plain": [
       "[[1, 2, 3], [1, 2], [1, 3], [1], [2, 3], [2], [3], []]"
      ]
     },
     "execution_count": 30,
     "metadata": {},
     "output_type": "execute_result"
    }
   ],
   "source": [
    "# Better Approach : \n",
    "# Time Complexity : O(2^N)\n",
    "# Space Complexity : O(N)\n",
    "\n",
    "def generate(arr, subset, index, res):\n",
    "    if len(arr) == index:\n",
    "        res.append(subset)\n",
    "        return\n",
    "    generate(arr, subset+[arr[index]], index+1, res)\n",
    "    generate(arr, subset, index+1, res)\n",
    "    \n",
    "arr = [1, 2, 3]\n",
    "res = []\n",
    "generate(arr, [], 0, res)\n",
    "res"
   ]
  },
  {
   "cell_type": "code",
   "execution_count": 29,
   "id": "9ae3cc39",
   "metadata": {},
   "outputs": [
    {
     "data": {
      "text/plain": [
       "[[], ['g'], ['f'], ['g', 'f'], ['g'], ['g', 'g'], ['f', 'g'], ['g', 'f', 'g']]"
      ]
     },
     "execution_count": 29,
     "metadata": {},
     "output_type": "execute_result"
    }
   ],
   "source": [
    "def powerSet(arr, n):\n",
    "    pow_set_size = 2**n\n",
    "    subset = []\n",
    "    for counter in range(pow_set_size):\n",
    "        temp = []\n",
    "        for j in range(n):\n",
    "            if (counter & (1<<j) > 0):\n",
    "                temp.append(arr[j])\n",
    "        subset.append(temp)\n",
    "    return subset\n",
    "\n",
    "arr = [1, 2, 3]\n",
    "arr = 'gfg'\n",
    "powerSet(arr, len(arr))"
   ]
  },
  {
   "cell_type": "code",
   "execution_count": null,
   "id": "1388bed4",
   "metadata": {},
   "outputs": [],
   "source": []
  },
  {
   "cell_type": "markdown",
   "id": "4153ac82",
   "metadata": {},
   "source": [
    "# Better String"
   ]
  },
  {
   "cell_type": "code",
   "execution_count": 17,
   "id": "dea356e0",
   "metadata": {},
   "outputs": [
    {
     "name": "stdout",
     "output_type": "stream",
     "text": [
      "[1, 2, 4, 7]\n",
      "[1, 2, 3, 4]\n"
     ]
    },
    {
     "data": {
      "text/plain": [
       "'gfg'"
      ]
     },
     "execution_count": 17,
     "metadata": {},
     "output_type": "execute_result"
    }
   ],
   "source": [
    "# Optimal Approach : Using DP\n",
    "# Time Complexity : O(NLogN)\n",
    "# Space Complexity : O(N)\n",
    "\n",
    "def countSubString(str):\n",
    "    dp = [0 for i in range(len(str)+1)]\n",
    "    \n",
    "    _hash = {}\n",
    "    dp[0] = 1\n",
    "    for i in range(1, len(str)+1):\n",
    "        dp[i] = 2*dp[i-1]\n",
    "        if str[i-1] in _hash:\n",
    "            dp[i] = dp[i] - dp[_hash[str[i-1]]]\n",
    "        _hash[str[i-1]] = i-1\n",
    "        \n",
    "#     print(dp)\n",
    "    return dp[len(str)]\n",
    "\n",
    "def betterString(str1, str2):\n",
    "    c1 = countSubString(str1) \n",
    "    c2 = countSubString(str2)\n",
    "    \n",
    "    if c1 >= c2:\n",
    "        return str1\n",
    "    return str2\n",
    "    \n",
    "str1 = 'gfg'\n",
    "str2 = 'ggg'\n",
    "betterString(str1, str2)"
   ]
  },
  {
   "cell_type": "code",
   "execution_count": null,
   "id": "3aebb628",
   "metadata": {},
   "outputs": [],
   "source": []
  },
  {
   "cell_type": "markdown",
   "id": "0f425a11",
   "metadata": {},
   "source": [
    "# Count all subsequences with sum k"
   ]
  },
  {
   "cell_type": "code",
   "execution_count": 3,
   "id": "4313ae25",
   "metadata": {},
   "outputs": [
    {
     "data": {
      "text/plain": [
       "40"
      ]
     },
     "execution_count": 3,
     "metadata": {},
     "output_type": "execute_result"
    }
   ],
   "source": [
    "# Brute Force Approach : \n",
    "# Time Complexity : O(2^N)\n",
    "# Space Complexity : O(1)\n",
    "\n",
    "def generate(arr, index, sum, subsetSum):\n",
    "    if subsetSum > sum:\n",
    "            return 0\n",
    "    if len(arr) == index:\n",
    "        if sum == subsetSum:\n",
    "            return 1\n",
    "        return 0\n",
    "        \n",
    "    return generate(arr, index+1, sum, subsetSum+arr[index]) + generate(arr, index+1, sum, subsetSum)\n",
    "    \n",
    "arr = [2, 5, 1, 4, 3]\n",
    "sum = 10\n",
    "arr = [9, 7, 0, 3, 9, 8, 6, 5, 7, 6]\n",
    "sum = 31\n",
    "generate(arr, 0, sum, 0)"
   ]
  },
  {
   "cell_type": "code",
   "execution_count": 6,
   "id": "384a3fa8",
   "metadata": {},
   "outputs": [
    {
     "data": {
      "text/plain": [
       "40"
      ]
     },
     "execution_count": 6,
     "metadata": {},
     "output_type": "execute_result"
    }
   ],
   "source": [
    "def generate(arr, sum, index):\n",
    "    if index == len(arr) and sum == 0:\n",
    "        return 1\n",
    "    if index == len(arr):\n",
    "        return 0\n",
    "    \n",
    "    if arr[index] > sum:\n",
    "        return generate(arr, sum, index+1)\n",
    "    return generate(arr, sum-arr[index], index+1) + generate(arr, sum, index+1)\n",
    "    \n",
    "arr = [2, 5, 1, 4, 3]\n",
    "sum = 10\n",
    "arr = [9, 7, 0, 3, 9, 8, 6, 5, 7, 6]\n",
    "sum = 31\n",
    "generate(arr, sum, 0)"
   ]
  },
  {
   "cell_type": "code",
   "execution_count": 32,
   "id": "2b6b14fd",
   "metadata": {},
   "outputs": [
    {
     "name": "stdout",
     "output_type": "stream",
     "text": [
      "[2, 5, 7]\n"
     ]
    },
    {
     "data": {
      "text/plain": [
       "1"
      ]
     },
     "execution_count": 32,
     "metadata": {},
     "output_type": "execute_result"
    }
   ],
   "source": [
    "# Optimal Approach : \n",
    "# Time Complexity : O(2^N)\n",
    "# Space Complexity : O(1)\n",
    "\n",
    "def generate(arr, n, sum, subset):\n",
    "    if sum == 0 and n == 0:\n",
    "        print(subset)\n",
    "        return 1\n",
    "    if n == 0:\n",
    "        return 0\n",
    "    \n",
    "    if arr[n-1] > sum:\n",
    "        return generate(arr, n-1, sum, subset)\n",
    "    return generate(arr, n-1, sum-arr[n-1], [arr[n-1]]+subset) + generate(arr, n-1, sum, subset)\n",
    "    \n",
    "arr = [2, 5, 1, 4, 3]\n",
    "sum = 10\n",
    "# arr = [9, 7, 0, 3, 9, 8, 6, 5, 7, 6]\n",
    "# sum = 31\n",
    "arr = [4, 2, 5, 6, 7]\n",
    "sum = 14\n",
    "generate(arr, len(arr), sum, [])"
   ]
  },
  {
   "cell_type": "code",
   "execution_count": 26,
   "id": "451f93fc",
   "metadata": {},
   "outputs": [
    {
     "data": {
      "text/plain": [
       "3"
      ]
     },
     "execution_count": 26,
     "metadata": {},
     "output_type": "execute_result"
    }
   ],
   "source": [
    "import math;\n",
    "\n",
    "def PowerSet(arr,n, sum):\n",
    "    powerSetSize = 2**n\n",
    "    count = 0\n",
    "    for counter in range(powerSetSize):\n",
    "        subsetSum = 0\n",
    "        for j in range(n):\n",
    "            if (counter & (1<<j) > 0):\n",
    "                subsetSum += arr[j]\n",
    "            if subsetSum > sum:\n",
    "                break\n",
    "        if sum == subsetSum:\n",
    "            count += 1\n",
    "    return count         \n",
    "\n",
    "arr = [2, 5, 1, 4, 3]\n",
    "sum = 10\n",
    "# arr = [9, 7, 0, 3, 9, 8, 6, 5, 7, 6]\n",
    "# sum = 31\n",
    "PowerSet(arr, len(arr), sum)"
   ]
  },
  {
   "cell_type": "code",
   "execution_count": null,
   "id": "2a4fdbd7",
   "metadata": {},
   "outputs": [],
   "source": []
  },
  {
   "cell_type": "markdown",
   "id": "03ee5e31",
   "metadata": {},
   "source": [
    "# Check if there exists a subsequence with sum K"
   ]
  },
  {
   "cell_type": "code",
   "execution_count": 12,
   "id": "469bc176",
   "metadata": {},
   "outputs": [
    {
     "data": {
      "text/plain": [
       "1"
      ]
     },
     "execution_count": 12,
     "metadata": {},
     "output_type": "execute_result"
    }
   ],
   "source": [
    "def isSubset(arr, n, sum):\n",
    "    if n == 0 and sum == 0:\n",
    "        return 1\n",
    "    if n == 0:\n",
    "        return 0\n",
    "    \n",
    "    if arr[n-1] > sum:\n",
    "        if(isSubset(arr, n-1, sum)):\n",
    "            return 1\n",
    "        return 0\n",
    "    if(isSubset(arr, n-1, sum-arr[n-1])):\n",
    "        return 1\n",
    "    if(isSubset(arr, n-1, sum)):\n",
    "        return 1\n",
    "    return 0\n",
    "\n",
    "arr = [2, 5, 1, 4, 3]\n",
    "sum = 10\n",
    "arr = [9, 7, 0, 3, 9, 8, 6, 5, 7, 6]\n",
    "sum = 31\n",
    "# arr = [4, 3, 5, 2]\n",
    "# sum = 13\n",
    "isSubset(arr, len(arr), sum)"
   ]
  },
  {
   "cell_type": "code",
   "execution_count": null,
   "id": "249826bb",
   "metadata": {},
   "outputs": [],
   "source": []
  },
  {
   "cell_type": "markdown",
   "id": "70d405dc",
   "metadata": {},
   "source": [
    "# Combination Sum"
   ]
  },
  {
   "cell_type": "code",
   "execution_count": 13,
   "id": "34fb10e4",
   "metadata": {},
   "outputs": [
    {
     "data": {
      "text/plain": [
       "[[3, 5], [2, 3, 3], [2, 2, 2, 2]]"
      ]
     },
     "execution_count": 13,
     "metadata": {},
     "output_type": "execute_result"
    }
   ],
   "source": [
    "# Brute Force Approach : Using Recursion\n",
    "# Time Complexity : O((2^k)xk)\n",
    "# Space Comlexity : Depends on number of combinations\n",
    "\n",
    "def combinationSum(arr, n, target, subset, res):\n",
    "    if n == 0 and target == 0:\n",
    "#         print(subset)\n",
    "        res.append(subset)\n",
    "        return\n",
    "    if n == 0:  \n",
    "        return\n",
    "    \n",
    "    if arr[n-1] <= target:\n",
    "        combinationSum(arr,n, target-arr[n-1], [arr[n-1]]+subset, res)  \n",
    "    combinationSum(arr, n-1, target, subset, res)\n",
    "    \n",
    "arr = [2, 3, 6, 7]\n",
    "target = 7\n",
    "arr = [2, 3, 5]\n",
    "target = 8\n",
    "res = []\n",
    "combinationSum(arr, len(arr), target, [], res)\n",
    "res"
   ]
  },
  {
   "cell_type": "code",
   "execution_count": null,
   "id": "7955df25",
   "metadata": {},
   "outputs": [],
   "source": []
  },
  {
   "cell_type": "markdown",
   "id": "c1af2778",
   "metadata": {},
   "source": [
    "# Combination Sum - II"
   ]
  },
  {
   "cell_type": "code",
   "execution_count": 21,
   "id": "5871a3d1",
   "metadata": {},
   "outputs": [
    {
     "data": {
      "text/plain": [
       "[[1, 7], [2, 6], [1, 1, 6], [1, 2, 5]]"
      ]
     },
     "execution_count": 21,
     "metadata": {},
     "output_type": "execute_result"
    }
   ],
   "source": [
    "# Brute Force Approach : Using Recursion\n",
    "# Time Complexity : O((2^k)xkxlogN)\n",
    "# Space Comlexity : Depends on number of combinations\n",
    "\n",
    "def combinationSum(arr, n, target, subset, res):\n",
    "    if n == 0 and target == 0:\n",
    "        if subset not in res:\n",
    "            res.append(subset)\n",
    "        return\n",
    "    if n == 0:\n",
    "        return\n",
    "    \n",
    "    if arr[n-1] <= target:\n",
    "        combinationSum(arr, n-1, target-arr[n-1], [arr[n-1]]+subset, res)\n",
    "    combinationSum(arr, n-1, target,subset, res)\n",
    "\n",
    "\n",
    "candidates = [2,5,2,1,2]\n",
    "target = 5\n",
    "candidates = [10,1,2,7,6,1,5]\n",
    "target = 8\n",
    "res = []\n",
    "candidates.sort()\n",
    "combinationSum(candidates, len(candidates), target, [], res)\n",
    "res"
   ]
  },
  {
   "cell_type": "code",
   "execution_count": 25,
   "id": "89396944",
   "metadata": {},
   "outputs": [
    {
     "data": {
      "text/plain": [
       "[[1, 1, 6], [1, 2, 5], [1, 7], [2, 6]]"
      ]
     },
     "execution_count": 25,
     "metadata": {},
     "output_type": "execute_result"
    }
   ],
   "source": [
    "# Better Appraoch : Using Recursion\n",
    "# Time Complexity : O((2^n)xk)\n",
    "# Space Comlexity : Depends on number of combinations\n",
    "\n",
    "\n",
    "def combinationSum(arr, index, target, subset, res):\n",
    "    if target == 0:\n",
    "        res.append(subset)\n",
    "        return\n",
    "    for i in range(index, len(arr)):\n",
    "        if (i > index) and (arr[i] == arr[i-1]):\n",
    "            continue\n",
    "        if arr[i]>target:\n",
    "            break\n",
    "        combinationSum(arr, i+1, target-arr[i], subset+[arr[i]], res)\n",
    "    \n",
    "candidates = [2,5,2,1,2]\n",
    "target = 5\n",
    "candidates = [10,1,2,7,6,1,5]\n",
    "target = 8\n",
    "res = []\n",
    "candidates.sort()\n",
    "combinationSum(candidates, 0, target, [], res)\n",
    "res"
   ]
  },
  {
   "cell_type": "code",
   "execution_count": null,
   "id": "65c0ad64",
   "metadata": {},
   "outputs": [],
   "source": []
  },
  {
   "cell_type": "markdown",
   "id": "3e2f9cb5",
   "metadata": {},
   "source": [
    "# Subset Sum"
   ]
  },
  {
   "cell_type": "code",
   "execution_count": 8,
   "id": "0f972259",
   "metadata": {},
   "outputs": [
    {
     "name": "stdout",
     "output_type": "stream",
     "text": [
      "4 3 2 1 3 2 1 0 "
     ]
    }
   ],
   "source": [
    "# Brute Force Appraoch : Using Recursion\n",
    "# Time Complexity : O(2^N)\n",
    "# Space Complexity : O(N) + O(k)\n",
    "\n",
    "def subsetSum(arr, n, subset):\n",
    "    if n == 0:\n",
    "#         print(subset)\n",
    "        print(sum(subset), end=\" \")\n",
    "        return\n",
    "    subsetSum(arr, n-1, [arr[n-1]]+subset)\n",
    "    subsetSum(arr, n-1, subset)\n",
    "    \n",
    "\n",
    "arr = [1, 2, 3]\n",
    "arr = [1, 2, 1]\n",
    "subsetSum(arr, len(arr), [])\n"
   ]
  },
  {
   "cell_type": "code",
   "execution_count": 12,
   "id": "d26e667b",
   "metadata": {},
   "outputs": [
    {
     "name": "stdout",
     "output_type": "stream",
     "text": [
      "4 3 2 1 3 2 1 0 "
     ]
    }
   ],
   "source": [
    "# Brute Force Appraoch : Using Recursion\n",
    "# Time Complexity : O(2^N)\n",
    "# Space Complexity : O(N)\n",
    "\n",
    "def subsetSum(arr, n, setSum):\n",
    "    if n == 0:\n",
    "#         print(subset)\n",
    "#         print(sum(subset), end=\" \")\n",
    "        print(setSum, end= \" \")\n",
    "        return\n",
    "    subsetSum(arr, n-1, setSum+arr[n-1])\n",
    "    subsetSum(arr, n-1, setSum)\n",
    "    \n",
    "\n",
    "arr = [1, 2, 3]\n",
    "arr = [1, 2, 1]\n",
    "subsetSum(arr, len(arr), 0)"
   ]
  },
  {
   "cell_type": "code",
   "execution_count": null,
   "id": "6688e8b0",
   "metadata": {},
   "outputs": [],
   "source": []
  },
  {
   "cell_type": "markdown",
   "id": "5d69743c",
   "metadata": {},
   "source": [
    "# Subset Sum - II"
   ]
  },
  {
   "cell_type": "code",
   "execution_count": 20,
   "id": "134211f2",
   "metadata": {},
   "outputs": [
    {
     "data": {
      "text/plain": [
       "[[], [1], [1, 2], [1, 2, 2], [2], [2, 2]]"
      ]
     },
     "execution_count": 20,
     "metadata": {},
     "output_type": "execute_result"
    }
   ],
   "source": [
    "# Better Appraoch : Using Recursion\n",
    "# Time Complexity : O(2^N)\n",
    "# Space Complexity : O(k)\n",
    "\n",
    "def subsetsDup(arr, index, subset):\n",
    "    if index == len(arr):\n",
    "#         print(subset)\n",
    "        return [subset]\n",
    "#     print(subset)\n",
    "    temp = [subset]\n",
    "    for i in range(index, len(arr)):\n",
    "        if i > index and arr[i] == arr[i-1]:\n",
    "            continue\n",
    "        temp += subsetsDup(arr, i+1, subset+[arr[i]])\n",
    "    return temp\n",
    "    \n",
    "arr = [1, 2, 2]\n",
    "subsetsDup(arr, 0, [])"
   ]
  },
  {
   "cell_type": "code",
   "execution_count": null,
   "id": "ddc7381e",
   "metadata": {},
   "outputs": [],
   "source": []
  },
  {
   "cell_type": "markdown",
   "id": "c5ff70d0",
   "metadata": {},
   "source": [
    "# Combination Sum III\n"
   ]
  },
  {
   "cell_type": "code",
   "execution_count": 18,
   "id": "c6f6c073",
   "metadata": {},
   "outputs": [
    {
     "data": {
      "text/plain": [
       "[]"
      ]
     },
     "execution_count": 18,
     "metadata": {},
     "output_type": "execute_result"
    }
   ],
   "source": [
    "\n",
    "def combinationSum(k, index, sum, subset, res):\n",
    "    if len(subset) == k:\n",
    "        if sum == 0:\n",
    "#             print(subset)\n",
    "            res.append(subset)\n",
    "        return\n",
    "#     print(subset)\n",
    "    for i in range(index, sum):\n",
    "        if i+1 > sum or i+1 > 9:\n",
    "            break\n",
    "        combinationSum(k, i+1, sum-(i+1), subset+[i+1], res)\n",
    "        \n",
    "k = 3\n",
    "sum = 9\n",
    "k = 2\n",
    "sum = 18\n",
    "res = []\n",
    "combinationSum(k, 0, sum, [], res)\n",
    "res"
   ]
  },
  {
   "cell_type": "raw",
   "id": "c67b2b47",
   "metadata": {},
   "source": []
  },
  {
   "cell_type": "markdown",
   "id": "9bfcbaeb",
   "metadata": {},
   "source": [
    "# Letter Combinations of a Phone number"
   ]
  },
  {
   "cell_type": "code",
   "execution_count": 37,
   "id": "47f9cf01",
   "metadata": {},
   "outputs": [
    {
     "data": {
      "text/plain": [
       "['ad', 'ae', 'af', 'bd', 'be', 'bf', 'cd', 'ce', 'cf']"
      ]
     },
     "execution_count": 37,
     "metadata": {},
     "output_type": "execute_result"
    }
   ],
   "source": [
    "\n",
    "def letterCombinations(digits, phone, index, subset, res):\n",
    "    if index == len(digits):\n",
    "        res.append(subset)\n",
    "#         print(subset)\n",
    "        return\n",
    "    l = len(phone[digits[index]])\n",
    "    for i in range(0, l):\n",
    "        letterCombinations(digits, phone, index+1,subset+phone[digits[index]][i], res)\n",
    "\n",
    "phone = {'2':'abc', '3' : 'def', '4': 'ghi',\n",
    "        '5' : 'jkl', '6' : 'mno', '7':'pqrs', \n",
    "        '8':'tuv', '9':'wxyz'}\n",
    "# digits = '234'\n",
    "digits = '23'\n",
    "# digits = ''\n",
    "res = []\n",
    "letterCombinations(digits, phone, 0, '', res)\n",
    "res"
   ]
  },
  {
   "cell_type": "code",
   "execution_count": null,
   "id": "4385a352",
   "metadata": {},
   "outputs": [],
   "source": []
  }
 ],
 "metadata": {
  "kernelspec": {
   "display_name": "Python 3 (ipykernel)",
   "language": "python",
   "name": "python3"
  },
  "language_info": {
   "codemirror_mode": {
    "name": "ipython",
    "version": 3
   },
   "file_extension": ".py",
   "mimetype": "text/x-python",
   "name": "python",
   "nbconvert_exporter": "python",
   "pygments_lexer": "ipython3",
   "version": "3.12.7"
  }
 },
 "nbformat": 4,
 "nbformat_minor": 5
}
