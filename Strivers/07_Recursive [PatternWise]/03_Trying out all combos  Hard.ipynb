{
 "cells": [
  {
   "cell_type": "markdown",
   "id": "95f07b3b",
   "metadata": {},
   "source": [
    "# Palindrome Partitioning"
   ]
  },
  {
   "cell_type": "code",
   "execution_count": 9,
   "id": "48f8e6a6",
   "metadata": {},
   "outputs": [
    {
     "data": {
      "text/plain": [
       "[['a', 'a', 'b', 'b'], ['a', 'a', 'bb'], ['aa', 'b', 'b'], ['aa', 'bb']]"
      ]
     },
     "execution_count": 9,
     "metadata": {},
     "output_type": "execute_result"
    }
   ],
   "source": [
    "# Brute Force Approach : Using Recursion\n",
    "# Time Complexity : \n",
    "# Space Complexity : \n",
    "\n",
    "def ispalindrome(s):\n",
    "    i = 0\n",
    "    j = len(s)-1\n",
    "    while i < j:\n",
    "        if s[i] != s[j]:\n",
    "            return 0\n",
    "        i += 1\n",
    "        j -= 1\n",
    "    return 1\n",
    "\n",
    "def palindromePartition(s, index, subset, res):\n",
    "    if index == len(s):\n",
    "#         print(subset)\n",
    "        res.append(subset)\n",
    "        return\n",
    "    \n",
    "    for i in range(index, len(s)):\n",
    "        pString = s[index:i+1]\n",
    "        if ispalindrome(pString):\n",
    "            palindromePartition(s, i+1, subset+[pString], res)\n",
    "        \n",
    "s = 'aabb'\n",
    "# s = 'aab'\n",
    "# s = 'a'\n",
    "res = []\n",
    "palindromePartition(s, 0, [], res)\n",
    "res"
   ]
  },
  {
   "cell_type": "code",
   "execution_count": null,
   "id": "025856c2",
   "metadata": {},
   "outputs": [],
   "source": []
  },
  {
   "cell_type": "markdown",
   "id": "2ea3b38c-3d02-4018-93bc-2f2ef2c5f4ae",
   "metadata": {},
   "source": [
    "# Word Search"
   ]
  },
  {
   "cell_type": "code",
   "execution_count": 37,
   "id": "64957510-7ecb-4e81-8040-d019dd9c6f55",
   "metadata": {},
   "outputs": [
    {
     "data": {
      "text/plain": [
       "False"
      ]
     },
     "execution_count": 37,
     "metadata": {},
     "output_type": "execute_result"
    }
   ],
   "source": [
    "# Better Force Approach : Using Recursion\n",
    "# Time Complexity : \n",
    "# Space Complexity : \n",
    "\n",
    "def wordExists(board, word, index, i, j):\n",
    "    if index == len(word):\n",
    "        return True\n",
    "\n",
    "    if i < 0 or i >= len(board) or j < 0 or j >= len(board[0]) or board[i][j] != word[index]:\n",
    "        return False\n",
    "    temp = board[i][j]\n",
    "    board[i][j] = ''\n",
    "    if wordExists(board, word, index+1, i-1, j) or wordExists(board, word, index+1, i+1, j) or wordExists(board, word, index+1, i, j-1) or wordExists(board, word, index+1, i, j+1):\n",
    "        return True\n",
    "    board[i][j] = temp\n",
    "    return False\n",
    "    \n",
    "def exist(board, word):\n",
    "    n = len(board)\n",
    "    m = len(board[0])\n",
    "    \n",
    "    for i in range(n):\n",
    "        for j in range(m):\n",
    "            if wordExists(board, word, 0, i, j):\n",
    "                return True\n",
    "    return False\n",
    "                \n",
    "board = [[\"A\",\"B\",\"C\",\"E\"],[\"S\",\"F\",\"C\",\"S\"],[\"A\",\"D\",\"E\",\"E\"]]\n",
    "word = \"ABCCED\"\n",
    "# board = [[\"A\",\"B\",\"C\",\"E\"],[\"S\",\"F\",\"C\",\"S\"],[\"A\",\"D\",\"E\",\"E\"]]\n",
    "# word = \"SEE\"\n",
    "board = [[\"A\",\"B\",\"C\",\"E\"],[\"S\",\"F\",\"C\",\"S\"],[\"A\",\"D\",\"E\",\"E\"]]\n",
    "word = \"ABCB\"\n",
    "exist(board, word)"
   ]
  },
  {
   "cell_type": "code",
   "execution_count": null,
   "id": "35ac1c83-8e2f-4225-8c00-0cbc49dbfb82",
   "metadata": {},
   "outputs": [],
   "source": []
  },
  {
   "cell_type": "markdown",
   "id": "6910e7e3-10c8-4040-9ee7-936e8ac21765",
   "metadata": {},
   "source": [
    "# N Queen"
   ]
  },
  {
   "cell_type": "code",
   "execution_count": 182,
   "id": "7e4c5b65-e93b-4288-b51e-ed6bce4f7caf",
   "metadata": {},
   "outputs": [
    {
     "name": "stdout",
     "output_type": "stream",
     "text": [
      "[['.', '.', 'Q', '.'], ['Q', '.', '.', '.'], ['.', '.', '.', 'Q'], ['.', 'Q', '.', '.']]\n",
      "[['.', 'Q', '.', '.'], ['.', '.', '.', 'Q'], ['Q', '.', '.', '.'], ['.', '.', 'Q', '.']]\n"
     ]
    }
   ],
   "source": [
    "\n",
    "\n",
    "def isvalidQ(board, row, column):\n",
    "    # Check the same row\n",
    "    for c in range(column):\n",
    "        if board[row][c] == 'Q':\n",
    "            return False\n",
    "\n",
    "    ur, uc = row, column\n",
    "    lr, lc = row, column\n",
    "    # Upper diagonal\n",
    "    while ur >= 0 and uc >= 0:\n",
    "        if board[ur][uc] == 'Q':\n",
    "            return False\n",
    "        ur -= 1\n",
    "        uc -= 1\n",
    "        \n",
    "    # Lower Diagonal\n",
    "    while lr < len(board) and lc >= 0:\n",
    "        if board[lr][lc] == 'Q':\n",
    "            return False\n",
    "        lr += 1\n",
    "        lc -= 1\n",
    "\n",
    "    return True\n",
    "\n",
    "def NQueens(board, n, column):\n",
    "    if column == n:\n",
    "        print(board)\n",
    "        return\n",
    "    \n",
    "    for r in range(n):\n",
    "        if isvalidQ(board, r, column):\n",
    "            board[r][column] = 'Q'\n",
    "            NQueens(board, n, column+1)\n",
    "            board[r][column] = '.'\n",
    "    \n",
    "\n",
    "n = 4\n",
    "board = [['.' for c in range(n)] for r in range(n)]\n",
    "NQueens(board, n, 0)"
   ]
  },
  {
   "cell_type": "code",
   "execution_count": 212,
   "id": "28680447-dbb1-4e70-933e-3eb8e215f3c2",
   "metadata": {},
   "outputs": [
    {
     "data": {
      "text/plain": [
       "[['..Q.', 'Q...', '...Q', '.Q..'], ['.Q..', '...Q', 'Q...', '..Q.']]"
      ]
     },
     "execution_count": 212,
     "metadata": {},
     "output_type": "execute_result"
    }
   ],
   "source": [
    "\n",
    "\n",
    "def isvalidQ(board, row, column):\n",
    "    # Check the same row\n",
    "    for c in range(column):\n",
    "        if board[row][c] == 'Q':\n",
    "            return False\n",
    "\n",
    "    ur, uc = row, column\n",
    "    lr, lc = row, column\n",
    "    # Upper diagonal\n",
    "    while ur >= 0 and uc >= 0:\n",
    "        if board[ur][uc] == 'Q':\n",
    "            return False\n",
    "        ur -= 1\n",
    "        uc -= 1\n",
    "        \n",
    "    # Lower Diagonal\n",
    "    while lr < len(board) and lc >= 0:\n",
    "        if board[lr][lc] == 'Q':\n",
    "            return False\n",
    "        lr += 1\n",
    "        lc -= 1\n",
    "\n",
    "    return True\n",
    "\n",
    "def NQueens(board, n, column, res):\n",
    "    if column == n:\n",
    "        # print(board)\n",
    "        res.append(list(board))\n",
    "        return\n",
    "    \n",
    "    for r in range(n):\n",
    "        if isvalidQ(board, r, column):\n",
    "            board[r] = board[r][:column] + 'Q' + board[r][column+1:]\n",
    "            NQueens(board, n, column+1, res)\n",
    "            board[r] = board[r][:column] + '.' + board[r][column+1:]\n",
    "    \n",
    "\n",
    "n = 4\n",
    "# board = ['.' for i in range(n)]\n",
    "board = ['.'*n for _ in range(n)]\n",
    "res = []\n",
    "NQueens(board, n, 0, res)\n",
    "res"
   ]
  },
  {
   "cell_type": "code",
   "execution_count": 240,
   "id": "72e912d7-af29-43a0-82ec-03302b806b63",
   "metadata": {},
   "outputs": [
    {
     "name": "stdout",
     "output_type": "stream",
     "text": [
      "['..Q.', 'Q...', '...Q', '.Q..']\n",
      "['.Q..', '...Q', 'Q...', '..Q.']\n"
     ]
    },
    {
     "data": {
      "text/plain": [
       "[['..Q.', 'Q...', '...Q', '.Q..'], ['.Q..', '...Q', 'Q...', '..Q.']]"
      ]
     },
     "execution_count": 240,
     "metadata": {},
     "output_type": "execute_result"
    }
   ],
   "source": [
    "\n",
    "\n",
    "def NQueens(board, n, column, leftRow, lowerDiagonal, upperDiagonal, res):\n",
    "    if column == n:\n",
    "        res.append(list(board))\n",
    "        print(board)\n",
    "        return\n",
    "    \n",
    "    for r in range(n):\n",
    "        if (leftRow[r] == 0 and lowerDiagonal[(r+column)] == 0 and upperDiagonal[(n-1+column-r)] == 0):\n",
    "            leftRow[r] = 1\n",
    "            lowerDiagonal[(r+column)] = 1\n",
    "            upperDiagonal[(n-1+column-r)] = 1\n",
    "            board[r] = board[r][:column] + 'Q' + board[r][column+1:]\n",
    "            NQueens(board, n, column+1,leftRow, lowerDiagonal, upperDiagonal, res)\n",
    "            board[r] = board[r][:column] + '.' + board[r][column+1:]\n",
    "            leftRow[r] = 0\n",
    "            lowerDiagonal[(r+column)] = 0\n",
    "            upperDiagonal[(n-1+column-r)] = 0\n",
    "    \n",
    "\n",
    "n = 4\n",
    "board = ['.'*n for c in range(n)]\n",
    "res = []\n",
    "leftRow = [0 for i in range(n)]\n",
    "lowerDiagonal = [0 for i in range(2*n-1)]\n",
    "upperDiagonal = [0 for i in range(2*n -1)]\n",
    "NQueens(board, n, 0, leftRow, lowerDiagonal, upperDiagonal, res)\n",
    "res"
   ]
  },
  {
   "cell_type": "code",
   "execution_count": 230,
   "id": "45711c8a-f5ce-4dfd-bbdd-607154615c25",
   "metadata": {},
   "outputs": [
    {
     "name": "stdout",
     "output_type": "stream",
     "text": [
      "[['.', '.', 'Q', '.'], ['Q', '.', '.', '.'], ['.', '.', '.', 'Q'], ['.', 'Q', '.', '.']]\n",
      "[['.', 'Q', '.', '.'], ['.', '.', '.', 'Q'], ['Q', '.', '.', '.'], ['.', '.', 'Q', '.']]\n"
     ]
    }
   ],
   "source": [
    "\n",
    "\n",
    "def NQueens(board, n, column, leftRow, lowerDiagonal, upperDiagonal):\n",
    "    if column == n:\n",
    "        print(board)\n",
    "        return\n",
    "    \n",
    "    for r in range(n):\n",
    "        if (leftRow[r] == 0 and lowerDiagonal[(r+column)] == 0 and upperDiagonal[(n-1+column-r)] == 0):\n",
    "            leftRow[r] = 1\n",
    "            lowerDiagonal[(r+column)] = 1\n",
    "            upperDiagonal[(n-1+column-r)] = 1\n",
    "            board[r][column] = 'Q'\n",
    "            NQueens(board, n, column+1, leftRow, lowerDiagonal, upperDiagonal)\n",
    "            board[r][column] = '.'\n",
    "            leftRow[r] = 0\n",
    "            lowerDiagonal[(r+column)] = 0\n",
    "            upperDiagonal[(n-1+column-r)] = 0\n",
    "    \n",
    "\n",
    "n = 4\n",
    "board = [['.' for c in range(n)] for r in range(n)]\n",
    "res = []\n",
    "leftRow = [0 for i in range(n)]\n",
    "lowerDiagonal = [0 for i in range(2*n-1)]\n",
    "upperDiagonal = [0 for i in range(2*n -1)]\n",
    "NQueens(board, n, 0, leftRow, lowerDiagonal, upperDiagonal)"
   ]
  },
  {
   "cell_type": "code",
   "execution_count": null,
   "id": "b933a9e9-82c8-461f-b1aa-adff0cc6494c",
   "metadata": {},
   "outputs": [],
   "source": []
  },
  {
   "cell_type": "code",
   "execution_count": 17,
   "id": "8b11cd0b-c2a5-47f1-b715-a9c46d310b8b",
   "metadata": {},
   "outputs": [
    {
     "data": {
      "text/plain": [
       "'Q...'"
      ]
     },
     "execution_count": 17,
     "metadata": {},
     "output_type": "execute_result"
    }
   ],
   "source": [
    "s = '....'\n",
    "s = s[:0]+'Q' + s[1:]\n",
    "s"
   ]
  },
  {
   "cell_type": "code",
   "execution_count": 16,
   "id": "e8ee2851-0e6f-4259-ab28-5ae0bd752af5",
   "metadata": {},
   "outputs": [
    {
     "data": {
      "text/plain": [
       "'.Q..'"
      ]
     },
     "execution_count": 16,
     "metadata": {},
     "output_type": "execute_result"
    }
   ],
   "source": [
    "s = '....'\n",
    "s = s[:1] + 'Q' + s[2:]\n",
    "s"
   ]
  },
  {
   "cell_type": "markdown",
   "id": "12624beb-4fb4-4bd8-b31b-e964e89e7bd3",
   "metadata": {},
   "source": [
    "# Rat in a Maze Problem"
   ]
  },
  {
   "cell_type": "code",
   "execution_count": 22,
   "id": "2d69d5b0-caca-4ae3-9641-262baad72ef7",
   "metadata": {},
   "outputs": [
    {
     "data": {
      "text/plain": [
       "[]"
      ]
     },
     "execution_count": 22,
     "metadata": {},
     "output_type": "execute_result"
    }
   ],
   "source": [
    "def paths(arr, i, j, path, res):\n",
    "    if i < 0 or i >= len(arr) or j < 0 or j >= len(arr) or arr[i][j] == 0:\n",
    "        return\n",
    "    if i == len(arr)-1 and j == len(arr)-1:\n",
    "        # print(path)\n",
    "        res.append(path)\n",
    "        return \n",
    "    temp = arr[i][j]\n",
    "    arr[i][j] = 0\n",
    "    paths(arr, i-1, j, path+'U', res)\n",
    "    paths(arr, i+1, j, path+'D', res)\n",
    "    paths(arr, i, j-1, path+'L', res)\n",
    "    paths(arr, i, j+1, path+'R', res)\n",
    "    arr[i][j] = temp\n",
    "\n",
    "\n",
    "arr = [[1, 0, 0, 0],\n",
    "        [1, 1, 0, 1], \n",
    "        [1, 1, 0, 0],\n",
    "        [0, 1, 1, 1]]\n",
    "arr = [[1, 0],\n",
    "      [1, 0]]\n",
    "res = []\n",
    "paths(arr, 0, 0, '', res)\n",
    "res"
   ]
  },
  {
   "cell_type": "code",
   "execution_count": null,
   "id": "65ef2986-df8c-4f6e-9c42-f018156a7476",
   "metadata": {},
   "outputs": [],
   "source": []
  },
  {
   "cell_type": "markdown",
   "id": "6e711c04-83b0-43d6-a582-139c6909cc92",
   "metadata": {},
   "source": [
    "# Word Break"
   ]
  },
  {
   "cell_type": "code",
   "execution_count": 49,
   "id": "272e823a-5753-49fb-bf7f-f0de01770f51",
   "metadata": {},
   "outputs": [
    {
     "data": {
      "text/plain": [
       "False"
      ]
     },
     "execution_count": 49,
     "metadata": {},
     "output_type": "execute_result"
    }
   ],
   "source": [
    "# Brute Force Approach : Using Recursion\n",
    "# Time Complexity : O(N2^N)\n",
    "# Space Complexity : O(1)\n",
    "\n",
    "def wordBreak(s, index, wordDict):\n",
    "    if index == len(s):\n",
    "        return True\n",
    "    # print(s, index)\n",
    "    for i in range(index, len(s)):\n",
    "        if s[index:i+1] in wordDict and wordBreak(s, i+1, wordDict):\n",
    "            return True\n",
    "    return False\n",
    "s = 'leetcode'\n",
    "wordDict = [\"leet\",\"code\", \"word\"]\n",
    "s = \"applepenapple\"\n",
    "wordDict = [\"apple\",\"pen\"]\n",
    "s = \"catsandog\"\n",
    "wordDict = [\"cats\",\"dog\",\"sand\",\"and\",\"cat\"]\n",
    "# s = 'aaaaaaa'\n",
    "# wordDict = [\"aaaa\",\"aaa\"]\n",
    "wordBreak(s, 0, wordDict)"
   ]
  },
  {
   "cell_type": "code",
   "execution_count": 7,
   "id": "0a4bf41d-b6ef-49e6-b93d-bba6b75edb8e",
   "metadata": {},
   "outputs": [
    {
     "data": {
      "text/plain": [
       "1"
      ]
     },
     "execution_count": 7,
     "metadata": {},
     "output_type": "execute_result"
    }
   ],
   "source": [
    "# Brute Force Approach : Using DP\n",
    "# Time Complexity : O(2^N)\n",
    "# Space Complexity : O(N)\n",
    "\n",
    "def wordBreak(s, index, wordDict):\n",
    "    if index == len(s):\n",
    "        return 1\n",
    "    # print(s, index)\n",
    "    if dp[index] != -1:\n",
    "        return dp[index]\n",
    "    for i in range(index, len(s)):\n",
    "        if s[index:i+1] in wordDict and wordBreak(s, i+1, wordDict):\n",
    "            dp[index] = 1\n",
    "            return 1\n",
    "    dp[index] = 0\n",
    "    return 0\n",
    "    \n",
    "s = 'leetcode'\n",
    "wordDict = [\"leet\",\"code\", \"word\"]\n",
    "s = \"applepenapple\"\n",
    "wordDict = [\"apple\",\"pen\"]\n",
    "# s = \"catsandog\"\n",
    "# wordDict = [\"cats\",\"dog\",\"sand\",\"and\",\"cat\"]\n",
    "# s = 'aaaaaaa'\n",
    "# wordDict = [\"aaaa\",\"aaa\"]\n",
    "dp = [-1 for i in range(len(s))]\n",
    "wordBreak(s, 0, wordDict)"
   ]
  },
  {
   "cell_type": "code",
   "execution_count": null,
   "id": "f8a67883-e764-4dde-b55b-9ef5d023d9a6",
   "metadata": {},
   "outputs": [],
   "source": []
  },
  {
   "cell_type": "markdown",
   "id": "b9e88cdf-f61f-456a-bae6-d14823d841c4",
   "metadata": {},
   "source": [
    "# Word Break 2"
   ]
  },
  {
   "cell_type": "code",
   "execution_count": 12,
   "id": "d3933aa7-a3d7-47ef-bcf2-34840b23993b",
   "metadata": {},
   "outputs": [
    {
     "data": {
      "text/plain": [
       "['god is no where no where ',\n",
       " 'god is no where now here ',\n",
       " 'god is now here no where ',\n",
       " 'god is now here now here ']"
      ]
     },
     "execution_count": 12,
     "metadata": {},
     "output_type": "execute_result"
    }
   ],
   "source": [
    "def sentence(s, dictionary, index, word, res):\n",
    "\n",
    "    if len(s) == index:\n",
    "        res.append(word)\n",
    "        return\n",
    "\n",
    "    for i in range(index, len(s)):\n",
    "        if s[index:i+1] in dictionary:\n",
    "            sentence(s, dictionary, i+1, word+s[index:i+1]+' ', res)\n",
    "\n",
    "\n",
    "s = 'godisnowherenowhere'\n",
    "dictionary = ['god', 'is', 'now', 'no', 'where', 'here']\n",
    "res = []\n",
    "sentence(s, dictionary, 0, '', res)\n",
    "res"
   ]
  },
  {
   "cell_type": "code",
   "execution_count": null,
   "id": "8dae2560-a1ee-439e-aaf5-cabaa375b0d3",
   "metadata": {},
   "outputs": [],
   "source": []
  },
  {
   "cell_type": "markdown",
   "id": "05e71afa-e475-4b33-b7c2-27a751f6ccd7",
   "metadata": {},
   "source": [
    "# M-Coloring Problem"
   ]
  },
  {
   "cell_type": "code",
   "execution_count": null,
   "id": "e7d1d648-d3a0-420c-ae73-0c296cec4d47",
   "metadata": {},
   "outputs": [],
   "source": []
  },
  {
   "cell_type": "code",
   "execution_count": null,
   "id": "fc92651b-2f2e-4114-b155-93bcfae58460",
   "metadata": {},
   "outputs": [],
   "source": []
  },
  {
   "cell_type": "markdown",
   "id": "90bfca40-8b72-411a-9f54-a51264a4a04d",
   "metadata": {},
   "source": [
    "# Sudoku Solver"
   ]
  },
  {
   "cell_type": "code",
   "execution_count": 27,
   "id": "3b788023-5243-40c9-a51a-e9d3386c7272",
   "metadata": {},
   "outputs": [
    {
     "data": {
      "text/plain": [
       "[['5', '3', '4', '6', '7', '8', '9', '1', '2'],\n",
       " ['6', '7', '2', '1', '9', '5', '3', '4', '8'],\n",
       " ['1', '9', '8', '3', '4', '2', '5', '6', '7'],\n",
       " ['8', '5', '9', '7', '6', '1', '4', '2', '3'],\n",
       " ['4', '2', '6', '8', '5', '3', '7', '9', '1'],\n",
       " ['7', '1', '3', '9', '2', '4', '8', '5', '6'],\n",
       " ['9', '6', '1', '5', '3', '7', '2', '8', '4'],\n",
       " ['2', '8', '7', '4', '1', '9', '6', '3', '5'],\n",
       " ['3', '4', '5', '2', '8', '6', '1', '7', '9']]"
      ]
     },
     "execution_count": 27,
     "metadata": {},
     "output_type": "execute_result"
    }
   ],
   "source": [
    "def isPossible(board, row, column, digit):\n",
    "    for i in range(len(board)):\n",
    "        if board[row][i] == digit:\n",
    "            return False\n",
    "        if board[i][column] == digit:\n",
    "            return False\n",
    "\n",
    "        if board[3*(row//3)+i//3][3*(column//3)+i%3] == digit:\n",
    "            return False\n",
    "    return True\n",
    "\n",
    "def solveSudoku(board):\n",
    "    \n",
    "    for r in range(len(board)):\n",
    "        for c in range(len(board)):\n",
    "            if board[r][c] == '.':\n",
    "                for i in range(1, 10):\n",
    "                    if isPossible(board, r, c, str(i)):\n",
    "                        board[r][c] = str(i)\n",
    "                        if solveSudoku(board):\n",
    "                            return board\n",
    "                        else:\n",
    "                            board[r][c] = '.'\n",
    "                return False\n",
    "    return True\n",
    "    \n",
    "            \n",
    "board = [[\"5\",\"3\",\".\",\".\",\"7\",\".\",\".\",\".\",\".\"],\n",
    "         [\"6\",\".\",\".\",\"1\",\"9\",\"5\",\".\",\".\",\".\"],\n",
    "         [\".\",\"9\",\"8\",\".\",\".\",\".\",\".\",\"6\",\".\"],\n",
    "         [\"8\",\".\",\".\",\".\",\"6\",\".\",\".\",\".\",\"3\"],\n",
    "         [\"4\",\".\",\".\",\"8\",\".\",\"3\",\".\",\".\",\"1\"],\n",
    "         [\"7\",\".\",\".\",\".\",\"2\",\".\",\".\",\".\",\"6\"],\n",
    "         [\".\",\"6\",\".\",\".\",\".\",\".\",\"2\",\"8\",\".\"],\n",
    "         [\".\",\".\",\".\",\"4\",\"1\",\"9\",\".\",\".\",\"5\"],\n",
    "         [\".\",\".\",\".\",\".\",\"8\",\".\",\".\",\"7\",\"9\"]]\n",
    "solveSudoku(board)"
   ]
  },
  {
   "cell_type": "code",
   "execution_count": null,
   "id": "9fb66c07-d58f-4edf-91e7-f94f9ad5ec4a",
   "metadata": {},
   "outputs": [],
   "source": []
  },
  {
   "cell_type": "markdown",
   "id": "d7a20955-5d21-4369-bfe8-d82a18fde3db",
   "metadata": {},
   "source": [
    "# Expression Add Operators"
   ]
  },
  {
   "cell_type": "code",
   "execution_count": 81,
   "id": "a0ed6c7e-86f3-4f05-b705-a660312b427b",
   "metadata": {},
   "outputs": [
    {
     "data": {
      "text/plain": [
       "['1*0+5', '10-5']"
      ]
     },
     "execution_count": 81,
     "metadata": {},
     "output_type": "execute_result"
    }
   ],
   "source": [
    "def addOperators(num, target, index, prev_operand, valuation, expression, res):\n",
    "    if index == len(num):\n",
    "        if valuation == target:\n",
    "            res.append(expression)\n",
    "        return\n",
    "\n",
    "    for i in range(index, len(num)):\n",
    "        if i!= index and num[index] == '0':\n",
    "            break\n",
    "        current_operand = int(num[index:i+1])\n",
    "        if index == 0:\n",
    "            addOperators(num, target, i+1, current_operand, current_operand, num[index:i+1], res)\n",
    "        else:\n",
    "            addOperators(num, target, i+1, current_operand, valuation + current_operand, expression+'+'+num[index:i+1], res)\n",
    "            addOperators(num, target, i+1, -current_operand, valuation-current_operand, expression+'-'+num[index:i+1], res)\n",
    "            addOperators(num, target, i+1, prev_operand*current_operand, valuation-prev_operand+(prev_operand*current_operand), expression+'*'+num[index:i+1], res)\n",
    "\n",
    "num = '123'\n",
    "# num = '232'\n",
    "target = 6\n",
    "num = \"3456237490\"\n",
    "target = 9191\n",
    "num = \"105\"\n",
    "target = 5\n",
    "res = []\n",
    "addOperators(num, target, 0, 0, 0, '', res)\n",
    "res"
   ]
  },
  {
   "cell_type": "code",
   "execution_count": null,
   "id": "859b1f7b-0f70-453d-af66-702e7e317bd2",
   "metadata": {},
   "outputs": [],
   "source": []
  },
  {
   "cell_type": "code",
   "execution_count": null,
   "id": "5ab8b577-1c10-4e95-9ecb-70b81859f849",
   "metadata": {},
   "outputs": [],
   "source": []
  }
 ],
 "metadata": {
  "kernelspec": {
   "display_name": "Python 3 (ipykernel)",
   "language": "python",
   "name": "python3"
  },
  "language_info": {
   "codemirror_mode": {
    "name": "ipython",
    "version": 3
   },
   "file_extension": ".py",
   "mimetype": "text/x-python",
   "name": "python",
   "nbconvert_exporter": "python",
   "pygments_lexer": "ipython3",
   "version": "3.12.7"
  }
 },
 "nbformat": 4,
 "nbformat_minor": 5
}
